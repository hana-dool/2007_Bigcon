{
 "cells": [
  {
   "cell_type": "markdown",
   "metadata": {},
   "source": [
    "# import modules"
   ]
  },
  {
   "cell_type": "code",
   "execution_count": 1,
   "metadata": {},
   "outputs": [],
   "source": [
    "import pandas as pd \n",
    "import numpy as np \n",
    "import matplotlib.pyplot as plt\n",
    "from sklearn.pipeline import Pipeline"
   ]
  },
  {
   "cell_type": "markdown",
   "metadata": {},
   "source": [
    "# Dataset 불러오기"
   ]
  },
  {
   "cell_type": "code",
   "execution_count": 3,
   "metadata": {},
   "outputs": [],
   "source": [
    "X_df=pd.read_excel('C:/Users/Rstudio/Desktop/ESC/데이터 분석 세션/2020빅콘테스트 문제데이터(데이터분석분야-챔피언리그)/01_제공데이터/2020 빅콘테스트 데이터분석분야-챔피언리그_2019년 실적데이터.xlsx',header = 1)"
   ]
  },
  {
   "cell_type": "code",
   "execution_count": 4,
   "metadata": {},
   "outputs": [],
   "source": [
    "X = X_df.copy()"
   ]
  },
  {
   "cell_type": "code",
   "execution_count": 5,
   "metadata": {},
   "outputs": [
    {
     "data": {
      "text/html": [
       "<div>\n",
       "<style scoped>\n",
       "    .dataframe tbody tr th:only-of-type {\n",
       "        vertical-align: middle;\n",
       "    }\n",
       "\n",
       "    .dataframe tbody tr th {\n",
       "        vertical-align: top;\n",
       "    }\n",
       "\n",
       "    .dataframe thead th {\n",
       "        text-align: right;\n",
       "    }\n",
       "</style>\n",
       "<table border=\"1\" class=\"dataframe\">\n",
       "  <thead>\n",
       "    <tr style=\"text-align: right;\">\n",
       "      <th></th>\n",
       "      <th>방송일시</th>\n",
       "      <th>노출(분)</th>\n",
       "      <th>마더코드</th>\n",
       "      <th>상품코드</th>\n",
       "      <th>상품명</th>\n",
       "      <th>상품군</th>\n",
       "      <th>판매단가</th>\n",
       "      <th>취급액</th>\n",
       "    </tr>\n",
       "  </thead>\n",
       "  <tbody>\n",
       "    <tr>\n",
       "      <td>0</td>\n",
       "      <td>2019-01-01 06:00:00</td>\n",
       "      <td>20.0</td>\n",
       "      <td>100346</td>\n",
       "      <td>201072</td>\n",
       "      <td>테이트 남성 셀린니트3종</td>\n",
       "      <td>의류</td>\n",
       "      <td>39900</td>\n",
       "      <td>2099000.0</td>\n",
       "    </tr>\n",
       "    <tr>\n",
       "      <td>1</td>\n",
       "      <td>2019-01-01 06:00:00</td>\n",
       "      <td>NaN</td>\n",
       "      <td>100346</td>\n",
       "      <td>201079</td>\n",
       "      <td>테이트 여성 셀린니트3종</td>\n",
       "      <td>의류</td>\n",
       "      <td>39900</td>\n",
       "      <td>4371000.0</td>\n",
       "    </tr>\n",
       "    <tr>\n",
       "      <td>2</td>\n",
       "      <td>2019-01-01 06:20:00</td>\n",
       "      <td>20.0</td>\n",
       "      <td>100346</td>\n",
       "      <td>201072</td>\n",
       "      <td>테이트 남성 셀린니트3종</td>\n",
       "      <td>의류</td>\n",
       "      <td>39900</td>\n",
       "      <td>3262000.0</td>\n",
       "    </tr>\n",
       "    <tr>\n",
       "      <td>3</td>\n",
       "      <td>2019-01-01 06:20:00</td>\n",
       "      <td>NaN</td>\n",
       "      <td>100346</td>\n",
       "      <td>201079</td>\n",
       "      <td>테이트 여성 셀린니트3종</td>\n",
       "      <td>의류</td>\n",
       "      <td>39900</td>\n",
       "      <td>6955000.0</td>\n",
       "    </tr>\n",
       "    <tr>\n",
       "      <td>4</td>\n",
       "      <td>2019-01-01 06:40:00</td>\n",
       "      <td>20.0</td>\n",
       "      <td>100346</td>\n",
       "      <td>201072</td>\n",
       "      <td>테이트 남성 셀린니트3종</td>\n",
       "      <td>의류</td>\n",
       "      <td>39900</td>\n",
       "      <td>6672000.0</td>\n",
       "    </tr>\n",
       "  </tbody>\n",
       "</table>\n",
       "</div>"
      ],
      "text/plain": [
       "                 방송일시  노출(분)    마더코드    상품코드            상품명 상품군   판매단가  \\\n",
       "0 2019-01-01 06:00:00   20.0  100346  201072  테이트 남성 셀린니트3종  의류  39900   \n",
       "1 2019-01-01 06:00:00    NaN  100346  201079  테이트 여성 셀린니트3종  의류  39900   \n",
       "2 2019-01-01 06:20:00   20.0  100346  201072  테이트 남성 셀린니트3종  의류  39900   \n",
       "3 2019-01-01 06:20:00    NaN  100346  201079  테이트 여성 셀린니트3종  의류  39900   \n",
       "4 2019-01-01 06:40:00   20.0  100346  201072  테이트 남성 셀린니트3종  의류  39900   \n",
       "\n",
       "         취급액  \n",
       "0  2099000.0  \n",
       "1  4371000.0  \n",
       "2  3262000.0  \n",
       "3  6955000.0  \n",
       "4  6672000.0  "
      ]
     },
     "execution_count": 5,
     "metadata": {},
     "output_type": "execute_result"
    }
   ],
   "source": [
    "X.head()"
   ]
  },
  {
   "cell_type": "markdown",
   "metadata": {},
   "source": [
    "# 20200805 결측치 처리 과정"
   ]
  },
  {
   "cell_type": "markdown",
   "metadata": {},
   "source": [
    "판매단가가 0인 상품 = 무형 상품군 제외"
   ]
  },
  {
   "cell_type": "code",
   "execution_count": 6,
   "metadata": {},
   "outputs": [],
   "source": [
    "def NA_goods(df=X):\n",
    "    df=df.loc[df['판매단가'] != 0,:]\n",
    "    df = df.reset_index(drop=True)\n",
    "    return df"
   ]
  },
  {
   "cell_type": "markdown",
   "metadata": {},
   "source": [
    "# 20200807 UPDATE 결측치 처리 과정"
   ]
  },
  {
   "cell_type": "markdown",
   "metadata": {},
   "source": [
    "매주 토요일  18:00~18:20은 정보방송시간으로 추정 제외(당사사정에 따라 ±20 편성 변경 있음)"
   ]
  },
  {
   "cell_type": "code",
   "execution_count": 7,
   "metadata": {},
   "outputs": [
    {
     "data": {
      "text/plain": [
       "datetime.datetime(2020, 8, 7, 16, 23, 6, 962550)"
      ]
     },
     "execution_count": 7,
     "metadata": {},
     "output_type": "execute_result"
    }
   ],
   "source": [
    "t = ['월','화','수','목','금','토','일']\n",
    "import datetime\n",
    "r = datetime.datetime.today()\n",
    "r"
   ]
  },
  {
   "cell_type": "code",
   "execution_count": 8,
   "metadata": {},
   "outputs": [],
   "source": [
    "def printDayOfTheWeek(year, month, day):\n",
    "    dayOfTheWeek = ['월','화','수','목','금','토','일']\n",
    "    return dayOfTheWeek[datetime.datetime(year,month,day).weekday()]"
   ]
  },
  {
   "cell_type": "code",
   "execution_count": 9,
   "metadata": {},
   "outputs": [],
   "source": [
    "import time\n",
    "day_list = []\n",
    "for date in X.iloc[:,0]:\n",
    "    date = str(date)\n",
    "    year = int(date[:4])\n",
    "    month = int(date[5:7])\n",
    "    day = int(date[8:10])\n",
    "    first = printDayOfTheWeek(year,month,day)\n",
    "    second = date[11:16]\n",
    "    day_list.append(first+second)"
   ]
  },
  {
   "cell_type": "code",
   "execution_count": 10,
   "metadata": {},
   "outputs": [],
   "source": [
    "X[\"요일/시간\"] = day_list"
   ]
  },
  {
   "cell_type": "code",
   "execution_count": 11,
   "metadata": {},
   "outputs": [
    {
     "data": {
      "text/html": [
       "<div>\n",
       "<style scoped>\n",
       "    .dataframe tbody tr th:only-of-type {\n",
       "        vertical-align: middle;\n",
       "    }\n",
       "\n",
       "    .dataframe tbody tr th {\n",
       "        vertical-align: top;\n",
       "    }\n",
       "\n",
       "    .dataframe thead th {\n",
       "        text-align: right;\n",
       "    }\n",
       "</style>\n",
       "<table border=\"1\" class=\"dataframe\">\n",
       "  <thead>\n",
       "    <tr style=\"text-align: right;\">\n",
       "      <th></th>\n",
       "      <th>방송일시</th>\n",
       "      <th>노출(분)</th>\n",
       "      <th>마더코드</th>\n",
       "      <th>상품코드</th>\n",
       "      <th>상품명</th>\n",
       "      <th>상품군</th>\n",
       "      <th>판매단가</th>\n",
       "      <th>취급액</th>\n",
       "      <th>요일/시간</th>\n",
       "    </tr>\n",
       "  </thead>\n",
       "  <tbody>\n",
       "    <tr>\n",
       "      <td>0</td>\n",
       "      <td>2019-01-01 06:00:00</td>\n",
       "      <td>20.0</td>\n",
       "      <td>100346</td>\n",
       "      <td>201072</td>\n",
       "      <td>테이트 남성 셀린니트3종</td>\n",
       "      <td>의류</td>\n",
       "      <td>39900</td>\n",
       "      <td>2099000.0</td>\n",
       "      <td>화06:00</td>\n",
       "    </tr>\n",
       "    <tr>\n",
       "      <td>1</td>\n",
       "      <td>2019-01-01 06:00:00</td>\n",
       "      <td>NaN</td>\n",
       "      <td>100346</td>\n",
       "      <td>201079</td>\n",
       "      <td>테이트 여성 셀린니트3종</td>\n",
       "      <td>의류</td>\n",
       "      <td>39900</td>\n",
       "      <td>4371000.0</td>\n",
       "      <td>화06:00</td>\n",
       "    </tr>\n",
       "    <tr>\n",
       "      <td>2</td>\n",
       "      <td>2019-01-01 06:20:00</td>\n",
       "      <td>20.0</td>\n",
       "      <td>100346</td>\n",
       "      <td>201072</td>\n",
       "      <td>테이트 남성 셀린니트3종</td>\n",
       "      <td>의류</td>\n",
       "      <td>39900</td>\n",
       "      <td>3262000.0</td>\n",
       "      <td>화06:20</td>\n",
       "    </tr>\n",
       "    <tr>\n",
       "      <td>3</td>\n",
       "      <td>2019-01-01 06:20:00</td>\n",
       "      <td>NaN</td>\n",
       "      <td>100346</td>\n",
       "      <td>201079</td>\n",
       "      <td>테이트 여성 셀린니트3종</td>\n",
       "      <td>의류</td>\n",
       "      <td>39900</td>\n",
       "      <td>6955000.0</td>\n",
       "      <td>화06:20</td>\n",
       "    </tr>\n",
       "    <tr>\n",
       "      <td>4</td>\n",
       "      <td>2019-01-01 06:40:00</td>\n",
       "      <td>20.0</td>\n",
       "      <td>100346</td>\n",
       "      <td>201072</td>\n",
       "      <td>테이트 남성 셀린니트3종</td>\n",
       "      <td>의류</td>\n",
       "      <td>39900</td>\n",
       "      <td>6672000.0</td>\n",
       "      <td>화06:40</td>\n",
       "    </tr>\n",
       "  </tbody>\n",
       "</table>\n",
       "</div>"
      ],
      "text/plain": [
       "                 방송일시  노출(분)    마더코드    상품코드            상품명 상품군   판매단가  \\\n",
       "0 2019-01-01 06:00:00   20.0  100346  201072  테이트 남성 셀린니트3종  의류  39900   \n",
       "1 2019-01-01 06:00:00    NaN  100346  201079  테이트 여성 셀린니트3종  의류  39900   \n",
       "2 2019-01-01 06:20:00   20.0  100346  201072  테이트 남성 셀린니트3종  의류  39900   \n",
       "3 2019-01-01 06:20:00    NaN  100346  201079  테이트 여성 셀린니트3종  의류  39900   \n",
       "4 2019-01-01 06:40:00   20.0  100346  201072  테이트 남성 셀린니트3종  의류  39900   \n",
       "\n",
       "         취급액   요일/시간  \n",
       "0  2099000.0  화06:00  \n",
       "1  4371000.0  화06:00  \n",
       "2  3262000.0  화06:20  \n",
       "3  6955000.0  화06:20  \n",
       "4  6672000.0  화06:40  "
      ]
     },
     "execution_count": 11,
     "metadata": {},
     "output_type": "execute_result"
    }
   ],
   "source": [
    "X.head()"
   ]
  },
  {
   "cell_type": "code",
   "execution_count": 12,
   "metadata": {},
   "outputs": [],
   "source": [
    "for i in range(len(X)):\n",
    "    time = X.iloc[i,8]\n",
    "    if (time[0:3]==\"토18\" and int(time[4:])<20):\n",
    "        X = X.drop(i)"
   ]
  },
  {
   "cell_type": "code",
   "execution_count": 13,
   "metadata": {},
   "outputs": [
    {
     "data": {
      "text/plain": [
       "38309"
      ]
     },
     "execution_count": 13,
     "metadata": {},
     "output_type": "execute_result"
    }
   ],
   "source": [
    "len(X)"
   ]
  },
  {
   "cell_type": "code",
   "execution_count": 15,
   "metadata": {},
   "outputs": [
    {
     "name": "stdout",
     "output_type": "stream",
     "text": [
      "토18:20\n",
      "토18:40\n",
      "토18:20\n",
      "토18:40\n",
      "토18:20\n",
      "토18:40\n",
      "토18:20\n",
      "토18:40\n",
      "토18:20\n",
      "토18:40\n",
      "토18:20\n",
      "토18:40\n",
      "토18:20\n",
      "토18:40\n",
      "토18:20\n",
      "토18:40\n",
      "토18:20\n",
      "토18:40\n",
      "토18:20\n",
      "토18:40\n",
      "토18:20\n",
      "토18:40\n",
      "토18:20\n",
      "토18:40\n",
      "토18:20\n",
      "토18:50\n",
      "토18:20\n",
      "토18:40\n",
      "토18:20\n",
      "토18:50\n",
      "토18:20\n",
      "토18:40\n",
      "토18:20\n",
      "토18:50\n",
      "토18:20\n",
      "토18:40\n",
      "토18:20\n",
      "토18:40\n",
      "토18:20\n",
      "토18:50\n",
      "토18:20\n",
      "토18:40\n",
      "토18:20\n",
      "토18:40\n",
      "토18:20\n",
      "토18:30\n",
      "토18:40\n",
      "토18:50\n",
      "토18:20\n",
      "토18:50\n",
      "토18:20\n",
      "토18:30\n",
      "토18:40\n",
      "토18:50\n",
      "토18:20\n",
      "토18:40\n",
      "토18:20\n",
      "토18:40\n",
      "토18:20\n",
      "토18:20\n",
      "토18:40\n",
      "토18:20\n",
      "토18:40\n",
      "토18:20\n",
      "토18:40\n",
      "토18:20\n",
      "토18:40\n",
      "토18:20\n",
      "토18:40\n",
      "토18:20\n",
      "토18:40\n",
      "토18:20\n",
      "토18:20\n",
      "토18:40\n",
      "토18:20\n",
      "토18:40\n",
      "토18:20\n",
      "토18:40\n",
      "토18:20\n",
      "토18:40\n",
      "토18:20\n",
      "토18:40\n",
      "토18:20\n",
      "토18:40\n",
      "토18:20\n",
      "토18:40\n",
      "토18:20\n",
      "토18:40\n",
      "토18:20\n",
      "토18:40\n",
      "토18:20\n",
      "토18:40\n",
      "토18:20\n",
      "토18:50\n",
      "토18:20\n",
      "토18:40\n",
      "토18:20\n",
      "토18:20\n",
      "토18:20\n",
      "토18:20\n",
      "토18:20\n",
      "토18:20\n",
      "토18:40\n",
      "토18:40\n",
      "토18:40\n",
      "토18:40\n",
      "토18:40\n",
      "토18:40\n",
      "토18:20\n",
      "토18:40\n",
      "토18:20\n",
      "토18:40\n",
      "토18:20\n",
      "토18:40\n",
      "토18:20\n",
      "토18:40\n"
     ]
    }
   ],
   "source": [
    "for i in range(len(X)):\n",
    "    time = X.iloc[i,8]\n",
    "    if time[0:3]==\"토18\":\n",
    "        print(time)"
   ]
  },
  {
   "cell_type": "markdown",
   "metadata": {},
   "source": [
    "힘들게 코드를 짰으나 토요일 18:00~18:20에 해당하는 방송은 없었다............................."
   ]
  }
 ],
 "metadata": {
  "kernelspec": {
   "display_name": "Python 3",
   "language": "python",
   "name": "python3"
  },
  "language_info": {
   "codemirror_mode": {
    "name": "ipython",
    "version": 3
   },
   "file_extension": ".py",
   "mimetype": "text/x-python",
   "name": "python",
   "nbconvert_exporter": "python",
   "pygments_lexer": "ipython3",
   "version": "3.7.4"
  }
 },
 "nbformat": 4,
 "nbformat_minor": 2
}
