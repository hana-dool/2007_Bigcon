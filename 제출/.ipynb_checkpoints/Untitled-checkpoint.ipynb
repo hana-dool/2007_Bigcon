{
 "cells": [
  {
   "cell_type": "markdown",
   "metadata": {},
   "source": [
    "X_pred = pd.read_excel('X_for_predict.xlsx')\n",
    "\n",
    "# 예측에 쓰지 않는 열 제거\n",
    "X_pred.drop(columns = ['Unnamed: 0','방송일시','마더코드','상품코드','상품명','년','일','시분','월일','시간열','정수노출(분)','요일/시간','날짜','시각'],inplace = True)\n",
    "\n",
    "X_pred_features = X_pred.columns\n",
    "\n",
    "X_pred.shape\n",
    "\n",
    "X.shape\n",
    "\n",
    "Xll = scaler.transform(X_pred)\n",
    "\n",
    "y_pred = 0.35*model1.predict(Xll)+ 0.35*model2.predict(Xll)+ 0.3*model3.predict(Xll)\n",
    "\n",
    "y_pred"
   ]
  },
  {
   "cell_type": "code",
   "execution_count": null,
   "metadata": {},
   "outputs": [],
   "source": []
  }
 ],
 "metadata": {
  "kernelspec": {
   "display_name": "Python 3",
   "language": "python",
   "name": "python3"
  },
  "language_info": {
   "codemirror_mode": {
    "name": "ipython",
    "version": 3
   },
   "file_extension": ".py",
   "mimetype": "text/x-python",
   "name": "python",
   "nbconvert_exporter": "python",
   "pygments_lexer": "ipython3",
   "version": "3.7.4"
  },
  "toc": {
   "base_numbering": 1,
   "nav_menu": {},
   "number_sections": true,
   "sideBar": true,
   "skip_h1_title": false,
   "title_cell": "Table of Contents",
   "title_sidebar": "Contents",
   "toc_cell": false,
   "toc_position": {},
   "toc_section_display": true,
   "toc_window_display": false
  }
 },
 "nbformat": 4,
 "nbformat_minor": 4
}
