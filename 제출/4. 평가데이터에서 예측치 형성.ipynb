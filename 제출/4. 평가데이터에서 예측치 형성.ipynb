{
 "cells": [
  {
   "cell_type": "markdown",
   "metadata": {
    "colab_type": "text",
    "id": "ojVKajZ4SjCl"
   },
   "source": [
    "# 모듈"
   ]
  },
  {
   "cell_type": "code",
   "execution_count": 1,
   "metadata": {
    "colab": {},
    "colab_type": "code",
    "executionInfo": {
     "elapsed": 455,
     "status": "ok",
     "timestamp": 1598500974334,
     "user": {
      "displayName": "rany go",
      "photoUrl": "https://lh3.googleusercontent.com/a-/AOh14GiRLztt21gJ3vDfYCggLsxHzcHwHcCZvYUXpjI5=s64",
      "userId": "15846384859939162308"
     },
     "user_tz": -540
    },
    "id": "qEdeA8IhSjCp"
   },
   "outputs": [],
   "source": [
    "import numpy as np\n",
    "import pandas as pd\n",
    "import matplotlib\n",
    "import matplotlib.pyplot as plt\n",
    "import sklearn\n",
    "from sklearn import metrics\n",
    "from sklearn.model_selection import train_test_split\n",
    "from platform import python_version\n",
    "\n",
    "# random 고정시 필요한 모듈\n",
    "import os\n",
    "import random\n",
    "\n",
    "# 모델 형성시 필요한 모듈\n",
    "import tensorflow as tf\n",
    "from tensorflow import keras\n",
    "from tensorflow.keras.models import Sequential\n",
    "from tensorflow.keras.layers import Dense, Dropout, Activation,BatchNormalization\n",
    "from tensorflow.keras.optimizers import SGD, Adam\n",
    "from tensorflow.keras import metrics\n",
    "\n",
    "# local적인 모델 해석 \n",
    "import lime\n",
    "import lime.lime_tabular\n",
    "\n",
    "# random 고정\n",
    "os.environ['PYTHONHASHSEED'] = str(42)\n",
    "np.random.seed(42)\n",
    "random.seed(42)"
   ]
  },
  {
   "cell_type": "code",
   "execution_count": 2,
   "metadata": {
    "scrolled": true
   },
   "outputs": [
    {
     "name": "stdout",
     "output_type": "stream",
     "text": [
      "python version: 3.7.4\n",
      "numpy version : 1.18.5\n",
      "pandas version : 1.1.1\n",
      "matplotlib version : 3.3.1\n",
      "sklearn version : 0.23.2\n",
      "tensorflow version : 2.3.0\n"
     ]
    }
   ],
   "source": [
    "print(f'python version: {python_version()}')\n",
    "print(f'numpy version : {np.__version__}')\n",
    "print(f'pandas version : {pd.__version__}')\n",
    "print(f'matplotlib version : {matplotlib.__version__}')\n",
    "print(f'sklearn version : {sklearn.__version__}')\n",
    "print(f'tensorflow version : {tf.__version__}')"
   ]
  },
  {
   "cell_type": "markdown",
   "metadata": {},
   "source": [
    "# train 데이터 가공"
   ]
  },
  {
   "cell_type": "code",
   "execution_count": 3,
   "metadata": {
    "colab": {},
    "colab_type": "code",
    "id": "Gb-JDaCISjCs"
   },
   "outputs": [],
   "source": [
    "# 파일을 저장한 위치를 써 주세요.\n",
    "directory = os.getcwd()"
   ]
  },
  {
   "cell_type": "code",
   "execution_count": 4,
   "metadata": {
    "colab": {},
    "colab_type": "code",
    "executionInfo": {
     "elapsed": 15657,
     "status": "ok",
     "timestamp": 1598506047946,
     "user": {
      "displayName": "rany go",
      "photoUrl": "https://lh3.googleusercontent.com/a-/AOh14GiRLztt21gJ3vDfYCggLsxHzcHwHcCZvYUXpjI5=s64",
      "userId": "15846384859939162308"
     },
     "user_tz": -540
    },
    "id": "Nvo5_FnYSjCv"
   },
   "outputs": [],
   "source": [
    "# training 에 필요한 데이터를 불러옵니다.\n",
    "X_df=pd.read_excel(directory+'/X_for_train.xlsx') "
   ]
  },
  {
   "cell_type": "code",
   "execution_count": 5,
   "metadata": {
    "colab": {
     "base_uri": "https://localhost:8080/",
     "height": 1000
    },
    "colab_type": "code",
    "executionInfo": {
     "elapsed": 15320,
     "status": "ok",
     "timestamp": 1598506047952,
     "user": {
      "displayName": "rany go",
      "photoUrl": "https://lh3.googleusercontent.com/a-/AOh14GiRLztt21gJ3vDfYCggLsxHzcHwHcCZvYUXpjI5=s64",
      "userId": "15846384859939162308"
     },
     "user_tz": -540
    },
    "id": "YYKBuU8aSjCx",
    "outputId": "b7499be7-a268-4e0c-8da8-c522daa9ce00",
    "scrolled": false
   },
   "outputs": [
    {
     "data": {
      "text/html": [
       "<div>\n",
       "<style scoped>\n",
       "    .dataframe tbody tr th:only-of-type {\n",
       "        vertical-align: middle;\n",
       "    }\n",
       "\n",
       "    .dataframe tbody tr th {\n",
       "        vertical-align: top;\n",
       "    }\n",
       "\n",
       "    .dataframe thead th {\n",
       "        text-align: right;\n",
       "    }\n",
       "</style>\n",
       "<table border=\"1\" class=\"dataframe\">\n",
       "  <thead>\n",
       "    <tr style=\"text-align: right;\">\n",
       "      <th></th>\n",
       "      <th>Unnamed: 0</th>\n",
       "      <th>방송일시</th>\n",
       "      <th>노출(분)</th>\n",
       "      <th>마더코드</th>\n",
       "      <th>상품코드</th>\n",
       "      <th>상품명</th>\n",
       "      <th>상품군</th>\n",
       "      <th>판매단가</th>\n",
       "      <th>취급액</th>\n",
       "      <th>평균방송분</th>\n",
       "      <th>...</th>\n",
       "      <th>PrimeTime</th>\n",
       "      <th>남성상품</th>\n",
       "      <th>여성상품</th>\n",
       "      <th>무이자</th>\n",
       "      <th>일시불</th>\n",
       "      <th>유명기업/브랜드</th>\n",
       "      <th>타 채널 시청자 수 평균</th>\n",
       "      <th>가전제품</th>\n",
       "      <th>농수축소분류</th>\n",
       "      <th>어류손질여부</th>\n",
       "    </tr>\n",
       "  </thead>\n",
       "  <tbody>\n",
       "    <tr>\n",
       "      <th>0</th>\n",
       "      <td>0</td>\n",
       "      <td>2019-01-01 06:00:00</td>\n",
       "      <td>20.0</td>\n",
       "      <td>100346</td>\n",
       "      <td>201072</td>\n",
       "      <td>테이트 남성 셀린니트3종</td>\n",
       "      <td>의류</td>\n",
       "      <td>39900</td>\n",
       "      <td>2099000</td>\n",
       "      <td>10.0</td>\n",
       "      <td>...</td>\n",
       "      <td>프라임아님</td>\n",
       "      <td>1</td>\n",
       "      <td>0</td>\n",
       "      <td>0</td>\n",
       "      <td>0</td>\n",
       "      <td>0</td>\n",
       "      <td>1520.0</td>\n",
       "      <td>가전제품 아님</td>\n",
       "      <td>분류에없음</td>\n",
       "      <td>해당없음</td>\n",
       "    </tr>\n",
       "    <tr>\n",
       "      <th>1</th>\n",
       "      <td>1</td>\n",
       "      <td>2019-01-01 06:00:00</td>\n",
       "      <td>20.0</td>\n",
       "      <td>100346</td>\n",
       "      <td>201079</td>\n",
       "      <td>테이트 여성 셀린니트3종</td>\n",
       "      <td>의류</td>\n",
       "      <td>39900</td>\n",
       "      <td>4371000</td>\n",
       "      <td>10.0</td>\n",
       "      <td>...</td>\n",
       "      <td>프라임아님</td>\n",
       "      <td>0</td>\n",
       "      <td>1</td>\n",
       "      <td>0</td>\n",
       "      <td>0</td>\n",
       "      <td>0</td>\n",
       "      <td>1520.0</td>\n",
       "      <td>가전제품 아님</td>\n",
       "      <td>분류에없음</td>\n",
       "      <td>해당없음</td>\n",
       "    </tr>\n",
       "    <tr>\n",
       "      <th>2</th>\n",
       "      <td>2</td>\n",
       "      <td>2019-01-01 06:20:00</td>\n",
       "      <td>20.0</td>\n",
       "      <td>100346</td>\n",
       "      <td>201072</td>\n",
       "      <td>테이트 남성 셀린니트3종</td>\n",
       "      <td>의류</td>\n",
       "      <td>39900</td>\n",
       "      <td>3262000</td>\n",
       "      <td>10.0</td>\n",
       "      <td>...</td>\n",
       "      <td>프라임아님</td>\n",
       "      <td>1</td>\n",
       "      <td>0</td>\n",
       "      <td>0</td>\n",
       "      <td>0</td>\n",
       "      <td>0</td>\n",
       "      <td>1520.0</td>\n",
       "      <td>가전제품 아님</td>\n",
       "      <td>분류에없음</td>\n",
       "      <td>해당없음</td>\n",
       "    </tr>\n",
       "    <tr>\n",
       "      <th>3</th>\n",
       "      <td>3</td>\n",
       "      <td>2019-01-01 06:20:00</td>\n",
       "      <td>20.0</td>\n",
       "      <td>100346</td>\n",
       "      <td>201079</td>\n",
       "      <td>테이트 여성 셀린니트3종</td>\n",
       "      <td>의류</td>\n",
       "      <td>39900</td>\n",
       "      <td>6955000</td>\n",
       "      <td>10.0</td>\n",
       "      <td>...</td>\n",
       "      <td>프라임아님</td>\n",
       "      <td>0</td>\n",
       "      <td>1</td>\n",
       "      <td>0</td>\n",
       "      <td>0</td>\n",
       "      <td>0</td>\n",
       "      <td>1520.0</td>\n",
       "      <td>가전제품 아님</td>\n",
       "      <td>분류에없음</td>\n",
       "      <td>해당없음</td>\n",
       "    </tr>\n",
       "    <tr>\n",
       "      <th>4</th>\n",
       "      <td>4</td>\n",
       "      <td>2019-01-01 06:40:00</td>\n",
       "      <td>20.0</td>\n",
       "      <td>100346</td>\n",
       "      <td>201072</td>\n",
       "      <td>테이트 남성 셀린니트3종</td>\n",
       "      <td>의류</td>\n",
       "      <td>39900</td>\n",
       "      <td>6672000</td>\n",
       "      <td>10.0</td>\n",
       "      <td>...</td>\n",
       "      <td>프라임아님</td>\n",
       "      <td>1</td>\n",
       "      <td>0</td>\n",
       "      <td>0</td>\n",
       "      <td>0</td>\n",
       "      <td>0</td>\n",
       "      <td>1520.0</td>\n",
       "      <td>가전제품 아님</td>\n",
       "      <td>분류에없음</td>\n",
       "      <td>해당없음</td>\n",
       "    </tr>\n",
       "    <tr>\n",
       "      <th>...</th>\n",
       "      <td>...</td>\n",
       "      <td>...</td>\n",
       "      <td>...</td>\n",
       "      <td>...</td>\n",
       "      <td>...</td>\n",
       "      <td>...</td>\n",
       "      <td>...</td>\n",
       "      <td>...</td>\n",
       "      <td>...</td>\n",
       "      <td>...</td>\n",
       "      <td>...</td>\n",
       "      <td>...</td>\n",
       "      <td>...</td>\n",
       "      <td>...</td>\n",
       "      <td>...</td>\n",
       "      <td>...</td>\n",
       "      <td>...</td>\n",
       "      <td>...</td>\n",
       "      <td>...</td>\n",
       "      <td>...</td>\n",
       "      <td>...</td>\n",
       "    </tr>\n",
       "    <tr>\n",
       "      <th>35374</th>\n",
       "      <td>35374</td>\n",
       "      <td>2019-12-31 23:40:00</td>\n",
       "      <td>20.0</td>\n",
       "      <td>100448</td>\n",
       "      <td>201391</td>\n",
       "      <td>일시불쿠첸압력밥솥 6인용</td>\n",
       "      <td>주방</td>\n",
       "      <td>148000</td>\n",
       "      <td>10157000</td>\n",
       "      <td>5.0</td>\n",
       "      <td>...</td>\n",
       "      <td>프라임아님</td>\n",
       "      <td>0</td>\n",
       "      <td>0</td>\n",
       "      <td>0</td>\n",
       "      <td>1</td>\n",
       "      <td>1</td>\n",
       "      <td>1335.9</td>\n",
       "      <td>가전제품 아님</td>\n",
       "      <td>분류에없음</td>\n",
       "      <td>해당없음</td>\n",
       "    </tr>\n",
       "    <tr>\n",
       "      <th>35375</th>\n",
       "      <td>35375</td>\n",
       "      <td>2020-01-01 00:00:00</td>\n",
       "      <td>20.0</td>\n",
       "      <td>100448</td>\n",
       "      <td>201383</td>\n",
       "      <td>무이자쿠첸압력밥솥 10인용</td>\n",
       "      <td>주방</td>\n",
       "      <td>178000</td>\n",
       "      <td>50929000</td>\n",
       "      <td>5.0</td>\n",
       "      <td>...</td>\n",
       "      <td>프라임아님</td>\n",
       "      <td>0</td>\n",
       "      <td>0</td>\n",
       "      <td>1</td>\n",
       "      <td>0</td>\n",
       "      <td>1</td>\n",
       "      <td>1520.0</td>\n",
       "      <td>가전제품 아님</td>\n",
       "      <td>분류에없음</td>\n",
       "      <td>해당없음</td>\n",
       "    </tr>\n",
       "    <tr>\n",
       "      <th>35376</th>\n",
       "      <td>35376</td>\n",
       "      <td>2020-01-01 00:00:00</td>\n",
       "      <td>20.0</td>\n",
       "      <td>100448</td>\n",
       "      <td>201390</td>\n",
       "      <td>일시불쿠첸압력밥솥 10인용</td>\n",
       "      <td>주방</td>\n",
       "      <td>168000</td>\n",
       "      <td>104392000</td>\n",
       "      <td>5.0</td>\n",
       "      <td>...</td>\n",
       "      <td>프라임아님</td>\n",
       "      <td>0</td>\n",
       "      <td>0</td>\n",
       "      <td>0</td>\n",
       "      <td>1</td>\n",
       "      <td>1</td>\n",
       "      <td>1520.0</td>\n",
       "      <td>가전제품 아님</td>\n",
       "      <td>분류에없음</td>\n",
       "      <td>해당없음</td>\n",
       "    </tr>\n",
       "    <tr>\n",
       "      <th>35377</th>\n",
       "      <td>35377</td>\n",
       "      <td>2020-01-01 00:00:00</td>\n",
       "      <td>20.0</td>\n",
       "      <td>100448</td>\n",
       "      <td>201384</td>\n",
       "      <td>무이자쿠첸압력밥솥 6인용</td>\n",
       "      <td>주방</td>\n",
       "      <td>158000</td>\n",
       "      <td>13765000</td>\n",
       "      <td>5.0</td>\n",
       "      <td>...</td>\n",
       "      <td>프라임아님</td>\n",
       "      <td>0</td>\n",
       "      <td>0</td>\n",
       "      <td>1</td>\n",
       "      <td>0</td>\n",
       "      <td>1</td>\n",
       "      <td>1520.0</td>\n",
       "      <td>가전제품 아님</td>\n",
       "      <td>분류에없음</td>\n",
       "      <td>해당없음</td>\n",
       "    </tr>\n",
       "    <tr>\n",
       "      <th>35378</th>\n",
       "      <td>35378</td>\n",
       "      <td>2020-01-01 00:00:00</td>\n",
       "      <td>20.0</td>\n",
       "      <td>100448</td>\n",
       "      <td>201391</td>\n",
       "      <td>일시불쿠첸압력밥솥 6인용</td>\n",
       "      <td>주방</td>\n",
       "      <td>148000</td>\n",
       "      <td>46608000</td>\n",
       "      <td>5.0</td>\n",
       "      <td>...</td>\n",
       "      <td>프라임아님</td>\n",
       "      <td>0</td>\n",
       "      <td>0</td>\n",
       "      <td>0</td>\n",
       "      <td>1</td>\n",
       "      <td>1</td>\n",
       "      <td>1520.0</td>\n",
       "      <td>가전제품 아님</td>\n",
       "      <td>분류에없음</td>\n",
       "      <td>해당없음</td>\n",
       "    </tr>\n",
       "  </tbody>\n",
       "</table>\n",
       "<p>35379 rows × 55 columns</p>\n",
       "</div>"
      ],
      "text/plain": [
       "       Unnamed: 0                 방송일시  노출(분)    마더코드    상품코드             상품명  \\\n",
       "0               0  2019-01-01 06:00:00   20.0  100346  201072   테이트 남성 셀린니트3종   \n",
       "1               1  2019-01-01 06:00:00   20.0  100346  201079   테이트 여성 셀린니트3종   \n",
       "2               2  2019-01-01 06:20:00   20.0  100346  201072   테이트 남성 셀린니트3종   \n",
       "3               3  2019-01-01 06:20:00   20.0  100346  201079   테이트 여성 셀린니트3종   \n",
       "4               4  2019-01-01 06:40:00   20.0  100346  201072   테이트 남성 셀린니트3종   \n",
       "...           ...                  ...    ...     ...     ...             ...   \n",
       "35374       35374  2019-12-31 23:40:00   20.0  100448  201391   일시불쿠첸압력밥솥 6인용   \n",
       "35375       35375  2020-01-01 00:00:00   20.0  100448  201383  무이자쿠첸압력밥솥 10인용   \n",
       "35376       35376  2020-01-01 00:00:00   20.0  100448  201390  일시불쿠첸압력밥솥 10인용   \n",
       "35377       35377  2020-01-01 00:00:00   20.0  100448  201384   무이자쿠첸압력밥솥 6인용   \n",
       "35378       35378  2020-01-01 00:00:00   20.0  100448  201391   일시불쿠첸압력밥솥 6인용   \n",
       "\n",
       "      상품군    판매단가        취급액  평균방송분  ...  PrimeTime 남성상품  여성상품  무이자  일시불  \\\n",
       "0      의류   39900    2099000   10.0  ...      프라임아님    1     0    0    0   \n",
       "1      의류   39900    4371000   10.0  ...      프라임아님    0     1    0    0   \n",
       "2      의류   39900    3262000   10.0  ...      프라임아님    1     0    0    0   \n",
       "3      의류   39900    6955000   10.0  ...      프라임아님    0     1    0    0   \n",
       "4      의류   39900    6672000   10.0  ...      프라임아님    1     0    0    0   \n",
       "...    ..     ...        ...    ...  ...        ...  ...   ...  ...  ...   \n",
       "35374  주방  148000   10157000    5.0  ...      프라임아님    0     0    0    1   \n",
       "35375  주방  178000   50929000    5.0  ...      프라임아님    0     0    1    0   \n",
       "35376  주방  168000  104392000    5.0  ...      프라임아님    0     0    0    1   \n",
       "35377  주방  158000   13765000    5.0  ...      프라임아님    0     0    1    0   \n",
       "35378  주방  148000   46608000    5.0  ...      프라임아님    0     0    0    1   \n",
       "\n",
       "       유명기업/브랜드 타 채널 시청자 수 평균     가전제품  농수축소분류  어류손질여부  \n",
       "0             0        1520.0  가전제품 아님   분류에없음    해당없음  \n",
       "1             0        1520.0  가전제품 아님   분류에없음    해당없음  \n",
       "2             0        1520.0  가전제품 아님   분류에없음    해당없음  \n",
       "3             0        1520.0  가전제품 아님   분류에없음    해당없음  \n",
       "4             0        1520.0  가전제품 아님   분류에없음    해당없음  \n",
       "...         ...           ...      ...     ...     ...  \n",
       "35374         1        1335.9  가전제품 아님   분류에없음    해당없음  \n",
       "35375         1        1520.0  가전제품 아님   분류에없음    해당없음  \n",
       "35376         1        1520.0  가전제품 아님   분류에없음    해당없음  \n",
       "35377         1        1520.0  가전제품 아님   분류에없음    해당없음  \n",
       "35378         1        1520.0  가전제품 아님   분류에없음    해당없음  \n",
       "\n",
       "[35379 rows x 55 columns]"
      ]
     },
     "execution_count": 5,
     "metadata": {},
     "output_type": "execute_result"
    }
   ],
   "source": [
    "X = X_df.copy() ; X"
   ]
  },
  {
   "cell_type": "code",
   "execution_count": 6,
   "metadata": {},
   "outputs": [],
   "source": [
    "# target data 를 빼냅니다.\n",
    "y=X['취급액']"
   ]
  },
  {
   "cell_type": "code",
   "execution_count": 7,
   "metadata": {
    "colab": {},
    "colab_type": "code",
    "executionInfo": {
     "elapsed": 9981,
     "status": "ok",
     "timestamp": 1598506047956,
     "user": {
      "displayName": "rany go",
      "photoUrl": "https://lh3.googleusercontent.com/a-/AOh14GiRLztt21gJ3vDfYCggLsxHzcHwHcCZvYUXpjI5=s64",
      "userId": "15846384859939162308"
     },
     "user_tz": -540
    },
    "id": "_FRK1wnXSjC9"
   },
   "outputs": [],
   "source": [
    "# 예측에 쓰지 않는 열 제거\n",
    "X.drop(columns = ['Unnamed: 0','취급액','방송일시','마더코드','상품코드','상품명','년','일','시분','월일','시간열','정수노출(분)','요일/시간','날짜','시각'],inplace = True)"
   ]
  },
  {
   "cell_type": "code",
   "execution_count": 8,
   "metadata": {
    "colab": {},
    "colab_type": "code",
    "executionInfo": {
     "elapsed": 571,
     "status": "ok",
     "timestamp": 1598506052648,
     "user": {
      "displayName": "rany go",
      "photoUrl": "https://lh3.googleusercontent.com/a-/AOh14GiRLztt21gJ3vDfYCggLsxHzcHwHcCZvYUXpjI5=s64",
      "userId": "15846384859939162308"
     },
     "user_tz": -540
    },
    "id": "c5HOi8iySjDF"
   },
   "outputs": [],
   "source": [
    "# 더미화\n",
    "X = pd.get_dummies(X,columns=['월','요일','분기','상품군','PrimeTime','어류손질여부','가전제품','농수축소분류'])"
   ]
  },
  {
   "cell_type": "code",
   "execution_count": 9,
   "metadata": {
    "colab": {},
    "colab_type": "code",
    "executionInfo": {
     "elapsed": 675,
     "status": "ok",
     "timestamp": 1598506073148,
     "user": {
      "displayName": "rany go",
      "photoUrl": "https://lh3.googleusercontent.com/a-/AOh14GiRLztt21gJ3vDfYCggLsxHzcHwHcCZvYUXpjI5=s64",
      "userId": "15846384859939162308"
     },
     "user_tz": -540
    },
    "id": "qCAuwTZ6Yr--"
   },
   "outputs": [],
   "source": [
    "# X_col 의 이름 저장\n",
    "X_features=X.columns"
   ]
  },
  {
   "cell_type": "code",
   "execution_count": 10,
   "metadata": {
    "colab": {},
    "colab_type": "code",
    "executionInfo": {
     "elapsed": 6652,
     "status": "ok",
     "timestamp": 1598500996513,
     "user": {
      "displayName": "rany go",
      "photoUrl": "https://lh3.googleusercontent.com/a-/AOh14GiRLztt21gJ3vDfYCggLsxHzcHwHcCZvYUXpjI5=s64",
      "userId": "15846384859939162308"
     },
     "user_tz": -540
    },
    "id": "InxVyYLCSjDJ"
   },
   "outputs": [
    {
     "data": {
      "text/plain": [
       "array([[-0.10967928, -0.55549003, -0.20858117, ..., -0.06437268,\n",
       "        -0.05297285, -0.08298992],\n",
       "       [-0.10967928, -0.55549003, -0.20858117, ..., -0.06437268,\n",
       "        -0.05297285, -0.08298992],\n",
       "       [-0.10967928, -0.55549003, -0.20858117, ..., -0.06437268,\n",
       "        -0.05297285, -0.08298992],\n",
       "       ...,\n",
       "       [-0.10967928, -0.35098812, -0.92228108, ..., -0.06437268,\n",
       "        -0.05297285, -0.08298992],\n",
       "       [-0.10967928, -0.36695236, -0.92228108, ..., -0.06437268,\n",
       "        -0.05297285, -0.08298992],\n",
       "       [-0.10967928, -0.3829166 , -0.92228108, ..., -0.06437268,\n",
       "        -0.05297285, -0.08298992]])"
      ]
     },
     "execution_count": 10,
     "metadata": {},
     "output_type": "execute_result"
    }
   ],
   "source": [
    "# scaling 과정\n",
    "# 큰 skewness 를 가지는 값들은 대부분 애초에 분포가 너무 틀어져있어 (노출 분은 20/10분이 거의다.) log/squre 등의 변환을 해도 똑같을거라 판단\n",
    "# scaling 을 하는것으로 타협을 보았다.\n",
    "# 그리고, 더미값을 가지는 경우에도 scaling 을 해 주어서 평균 0 / 분산 1 을 맞추어주는게 나중에 DNN 이 학습을 더 잘할 거라 판단하였다.(SELU 의 경우 모든 특성이 0,1 이여야한다.)\n",
    "from sklearn.preprocessing import StandardScaler\n",
    "scaler = StandardScaler()\n",
    "X = scaler.fit_transform(X)\n",
    "X"
   ]
  },
  {
   "cell_type": "code",
   "execution_count": 11,
   "metadata": {
    "ExecuteTime": {
     "end_time": "2020-08-02T09:25:37.637397Z",
     "start_time": "2020-08-02T09:25:37.607478Z"
    },
    "colab": {},
    "colab_type": "code",
    "executionInfo": {
     "elapsed": 4154,
     "status": "ok",
     "timestamp": 1598500996786,
     "user": {
      "displayName": "rany go",
      "photoUrl": "https://lh3.googleusercontent.com/a-/AOh14GiRLztt21gJ3vDfYCggLsxHzcHwHcCZvYUXpjI5=s64",
      "userId": "15846384859939162308"
     },
     "user_tz": -540
    },
    "id": "emZ1Hh6ISjDR"
   },
   "outputs": [],
   "source": [
    "# dataset train/test set 으로 나누기\n",
    "X_train, X_test, y_train, y_test = train_test_split(X, y, test_size=0.20, random_state=0)"
   ]
  },
  {
   "cell_type": "code",
   "execution_count": 12,
   "metadata": {
    "colab": {},
    "colab_type": "code",
    "executionInfo": {
     "elapsed": 3568,
     "status": "ok",
     "timestamp": 1598500996787,
     "user": {
      "displayName": "rany go",
      "photoUrl": "https://lh3.googleusercontent.com/a-/AOh14GiRLztt21gJ3vDfYCggLsxHzcHwHcCZvYUXpjI5=s64",
      "userId": "15846384859939162308"
     },
     "user_tz": -540
    },
    "id": "jf1r445TSjDT"
   },
   "outputs": [],
   "source": [
    "# MAPE 정의\n",
    "def MAPE(y_true, y_pred): \n",
    "    return np.mean(np.abs((y_true - y_pred) / y_true)) * 100"
   ]
  },
  {
   "cell_type": "markdown",
   "metadata": {
    "colab_type": "text",
    "id": "RBcn3TteSjDU"
   },
   "source": [
    "# DNN 모델 training"
   ]
  },
  {
   "cell_type": "code",
   "execution_count": null,
   "metadata": {
    "colab": {
     "base_uri": "https://localhost:8080/",
     "height": 1000
    },
    "colab_type": "code",
    "executionInfo": {
     "elapsed": 137902,
     "status": "ok",
     "timestamp": 1598465732490,
     "user": {
      "displayName": "rany go",
      "photoUrl": "https://lh3.googleusercontent.com/a-/AOh14GiRLztt21gJ3vDfYCggLsxHzcHwHcCZvYUXpjI5=s64",
      "userId": "15846384859939162308"
     },
     "user_tz": -540
    },
    "id": "hUPJG_KeSjDf",
    "outputId": "b7f6aa34-ec35-4c95-e824-dc50a554c1d7",
    "scrolled": false
   },
   "outputs": [
    {
     "name": "stdout",
     "output_type": "stream",
     "text": [
      "Epoch 1/160\n",
      "885/885 [==============================] - 9s 11ms/step - loss: 64.0785 - val_loss: 48.4956\n",
      "Epoch 2/160\n",
      "885/885 [==============================] - 9s 10ms/step - loss: 47.7901 - val_loss: 47.3003\n",
      "Epoch 3/160\n",
      "885/885 [==============================] - 10s 11ms/step - loss: 46.2321 - val_loss: 45.0442\n",
      "Epoch 4/160\n",
      "885/885 [==============================] - 11s 12ms/step - loss: 44.7950 - val_loss: 44.0305\n",
      "Epoch 5/160\n",
      "885/885 [==============================] - 10s 11ms/step - loss: 43.7266 - val_loss: 44.4475\n",
      "Epoch 6/160\n",
      "  1/885 [..............................] - ETA: 0s - loss: 35.8103"
     ]
    }
   ],
   "source": [
    "# random 고정\n",
    "tf.random.set_seed(42)\n",
    "os.environ['PYTHONHASHSEED'] = str(42)\n",
    "np.random.seed(42)\n",
    "random.seed(42)\n",
    "\n",
    "session_conf = tf.compat.v1.ConfigProto(\n",
    "    intra_op_parallelism_threads=1, \n",
    "    inter_op_parallelism_threads=1)\n",
    "\n",
    "sess = tf.compat.v1.Session(\n",
    "    graph=tf.compat.v1.get_default_graph(), \n",
    "    config=session_conf)\n",
    "\n",
    "tf.compat.v1.keras.backend.set_session(sess)\n",
    "\n",
    "# 모델 훈련\n",
    "model1 = keras.models.Sequential()\n",
    "model1 = Sequential([\n",
    "    Dense(128, kernel_initializer='normal', activation = \"relu\", input_shape=X_train.shape[1:]), \n",
    "    Dropout(0.2),\n",
    "    Dense(256, kernel_initializer='normal', activation = \"relu\"),\n",
    "    Dropout(0.2),\n",
    "    Dense(512, kernel_initializer='normal', activation = \"relu\"),\n",
    "    Dropout(0.2),\n",
    "    Dense(1024, kernel_initializer='normal', activation = \"relu\"),\n",
    "    Dropout(0.2),\n",
    "    Dense(512, kernel_initializer='normal', activation = \"relu\"),\n",
    "    Dropout(0.2),\n",
    "    Dense(256, kernel_initializer='normal', activation = \"relu\"),\n",
    "    Dropout(0.2),\n",
    "    Dense(32, kernel_initializer='normal', activation = \"relu\"),\n",
    "    Dense(1, kernel_initializer='normal'), ])\n",
    "\n",
    "model1.compile(loss=\"mape\",  # 평가기준이 mape 이니까 이걸로 하자.\n",
    "              optimizer=keras.optimizers.Adam())\n",
    "checkpoint = keras.callbacks.ModelCheckpoint(filepath=\"predict_model1.h5\", #저장할 모델 이름\n",
    "                                             monitor = 'val_loss', #monitoring 할 기준\n",
    "                                             save_best_only=True ) #\n",
    "early_stopping = keras.callbacks.EarlyStopping(patience=16, \n",
    "                                             restore_best_weights=True)\n",
    "history1 = model1.fit(X_train, y_train, \n",
    "                        epochs=160,\n",
    "                        validation_data=(X_test, y_test),\n",
    "                        callbacks=[checkpoint,early_stopping])\n",
    "model1 = keras.models.load_model(filepath = \"predict_model1.h5\")\n",
    "evaluation1 = model1.evaluate(X_test, y_test)\n",
    "# 39.7790 의 값이 나왔다."
   ]
  },
  {
   "cell_type": "code",
   "execution_count": null,
   "metadata": {
    "colab": {
     "base_uri": "https://localhost:8080/",
     "height": 1000
    },
    "colab_type": "code",
    "executionInfo": {
     "elapsed": 104976,
     "status": "ok",
     "timestamp": 1598466003147,
     "user": {
      "displayName": "rany go",
      "photoUrl": "https://lh3.googleusercontent.com/a-/AOh14GiRLztt21gJ3vDfYCggLsxHzcHwHcCZvYUXpjI5=s64",
      "userId": "15846384859939162308"
     },
     "user_tz": -540
    },
    "id": "sk7JdzcKSjDh",
    "outputId": "6d989a71-b5a8-4cc2-b5bf-09df0d54345b",
    "scrolled": true
   },
   "outputs": [],
   "source": [
    "# random 고정\n",
    "tf.random.set_seed(42)\n",
    "os.environ['PYTHONHASHSEED'] = str(42)\n",
    "np.random.seed(42)\n",
    "random.seed(42)\n",
    "\n",
    "session_conf = tf.compat.v1.ConfigProto(\n",
    "    intra_op_parallelism_threads=1, \n",
    "    inter_op_parallelism_threads=1)\n",
    "\n",
    "sess = tf.compat.v1.Session(\n",
    "    graph=tf.compat.v1.get_default_graph(), \n",
    "    config=session_conf)\n",
    "\n",
    "tf.compat.v1.keras.backend.set_session(sess)\n",
    "\n",
    "# 모델 훈련\n",
    "model2 = keras.models.Sequential()\n",
    "model2.add(keras.layers.Dense(200, activation=\"selu\",kernel_initializer=\"lecun_normal\",input_shape=X_train.shape[1:]))\n",
    "model2.add(Dropout(0.2))\n",
    "for layer in range(5):\n",
    "    model2.add(keras.layers.Dense(200, activation=\"selu\",kernel_initializer=\"lecun_normal\"))\n",
    "    model2.add(Dropout(0.2))\n",
    "model2.add(keras.layers.Dense(100, activation=\"selu\",kernel_initializer=\"lecun_normal\"))\n",
    "model2.add(Dropout(0.2))\n",
    "model2.add(keras.layers.Dense(10))\n",
    "model2.add(keras.layers.Dense(1))\n",
    "model2.compile(loss=\"mape\",  # 평가기준이 mape 이니까 이걸로 하자.\n",
    "              optimizer=keras.optimizers.Adam())\n",
    "checkpoint = keras.callbacks.ModelCheckpoint(filepath=\"predict_model2.h5\", # 모델을 저장합니다.\n",
    "                                             monitor = 'val_loss', #monitoring 할 기준\n",
    "                                             save_best_only=True ) # \n",
    "early_stopping = keras.callbacks.EarlyStopping(patience=24, #2 만 줘보자.\n",
    "                                             restore_best_weights=True)\n",
    "\n",
    "history2 = model2.fit(X_train, y_train, \n",
    "                        epochs=160,\n",
    "                        validation_data=(X_test, y_test),\n",
    "                        callbacks=[checkpoint,early_stopping])\n",
    "model2 = keras.models.load_model(filepath = \"predict_model2.h5\") # 위에서 학습한 모델을 불러옵니다.\n",
    "evaluation2 = model2.evaluate(X_test, y_test) \n",
    "# 39.4675 의 값이 나왔다."
   ]
  },
  {
   "cell_type": "code",
   "execution_count": null,
   "metadata": {
    "colab": {
     "base_uri": "https://localhost:8080/",
     "height": 1000
    },
    "colab_type": "code",
    "executionInfo": {
     "elapsed": 1502634,
     "status": "ok",
     "timestamp": 1598504698825,
     "user": {
      "displayName": "rany go",
      "photoUrl": "https://lh3.googleusercontent.com/a-/AOh14GiRLztt21gJ3vDfYCggLsxHzcHwHcCZvYUXpjI5=s64",
      "userId": "15846384859939162308"
     },
     "user_tz": -540
    },
    "id": "lcAABSovFeeb",
    "outputId": "22245092-169b-4069-c69d-a6db8047c6ed"
   },
   "outputs": [],
   "source": [
    "# random 고정\n",
    "tf.random.set_seed(42)\n",
    "os.environ['PYTHONHASHSEED'] = str(42)\n",
    "np.random.seed(42)\n",
    "random.seed(42)\n",
    "\n",
    "session_conf = tf.compat.v1.ConfigProto(\n",
    "    intra_op_parallelism_threads=1, \n",
    "    inter_op_parallelism_threads=1)\n",
    "\n",
    "sess = tf.compat.v1.Session(\n",
    "    graph=tf.compat.v1.get_default_graph(), \n",
    "    config=session_conf)\n",
    "\n",
    "tf.compat.v1.keras.backend.set_session(sess)\n",
    "\n",
    "model3 = keras.models.Sequential()\n",
    "model3 = Sequential([\n",
    "    Dense(128, kernel_initializer='he_normal', activation = \"elu\", input_shape=X_train.shape[1:]),\n",
    "    Dropout(0.2),\n",
    "    Dense(256, kernel_initializer='he_normal', activation = \"elu\"),\n",
    "    Dropout(0.2),\n",
    "    Dense(512, kernel_initializer='he_normal', activation = \"elu\"),\n",
    "    Dropout(0.2),\n",
    "    Dense(512, kernel_initializer='he_normal', activation = \"elu\"),\n",
    "    Dropout(0.2),\n",
    "    Dense(512, kernel_initializer='he_normal', activation = \"elu\"),\n",
    "    Dropout(0.2),\n",
    "    Dense(512, kernel_initializer='he_normal', activation = \"elu\"),\n",
    "    Dropout(0.2),\n",
    "    Dense(512, kernel_initializer='he_normal', activation = \"elu\"),\n",
    "    Dropout(0.2),\n",
    "    Dense(256, kernel_initializer='he_normal', activation = \"elu\"),\n",
    "    Dropout(0.2),\n",
    "    Dense(32, kernel_initializer='he_normal', activation = \"elu\"),\n",
    "    Dropout(0.2),\n",
    "    Dense(1, kernel_initializer='he_normal'), \n",
    "])\n",
    "\n",
    "model3.compile(loss=\"mape\",  # 평가기준이 mape 이니까 이걸로 하자.\n",
    "              optimizer=keras.optimizers.Adam())\n",
    "checkpoint = keras.callbacks.ModelCheckpoint(filepath=\"predict_model3.h5\", #저장할 모델 이름\n",
    "                                             monitor = 'val_loss', #monitoring 할 기준\n",
    "                                             save_best_only=True ) # \n",
    "early_stopping = keras.callbacks.EarlyStopping(patience=16, #2 만 줘보자.\n",
    "                                             restore_best_weights=True)\n",
    "\n",
    "history3 = model3.fit(X_train, y_train, \n",
    "                        epochs=160,\n",
    "                        validation_data=(X_test, y_test),\n",
    "                        callbacks=[checkpoint,early_stopping])\n",
    "model3 = keras.models.load_model(filepath = \"predict_model3.h5\")\n",
    "evaluation3 = model3.evaluate(X_test, y_test) \n",
    "\n",
    "# 39.3965의 값이 나왔다."
   ]
  },
  {
   "cell_type": "code",
   "execution_count": null,
   "metadata": {
    "colab": {},
    "colab_type": "code",
    "id": "4uWY4aybSjDp"
   },
   "outputs": [],
   "source": [
    "# 다른 모델들을 합쳐 하나의 모델로 앙상블한다.\n",
    "# test 를 통해 어느정도의 성능이 나오는지 체크\n",
    "y_pred = 0.3 * model1.predict(X_test) + 0.35 * model2.predict(X_test) + 0.35 * model3.predict(X_test)\n",
    "MAPE(y_test,y_pred.reshape(-1))\n",
    "# 38.68 의 값이 나왔다."
   ]
  },
  {
   "cell_type": "markdown",
   "metadata": {},
   "source": [
    "# 예측 데이터 가공"
   ]
  },
  {
   "cell_type": "code",
   "execution_count": null,
   "metadata": {},
   "outputs": [],
   "source": [
    "# 처리된 X 예측 데이터. 더미화까지 진행되어있는 상태이다.\n",
    "X_pred = pd.read_excel('X_for_predict.xlsx')"
   ]
  },
  {
   "cell_type": "code",
   "execution_count": null,
   "metadata": {},
   "outputs": [],
   "source": [
    "# 예측에 쓰지 않는 열 제거\n",
    "X_pred.drop(columns = ['Unnamed: 0','방송일시','마더코드','상품코드','상품명','년','일','시분','월일','시간열','정수노출(분)','요일/시간','날짜','시각'],inplace = True)"
   ]
  },
  {
   "cell_type": "code",
   "execution_count": null,
   "metadata": {},
   "outputs": [],
   "source": [
    "# 열 이름 저장\n",
    "X_pred_features = X_pred.columns"
   ]
  },
  {
   "cell_type": "code",
   "execution_count": null,
   "metadata": {},
   "outputs": [],
   "source": [
    "# scaling 은 앞에서 train 의 scailing 을 따른다.\n",
    "X_pred_scaled = scaler.transform(X_pred)"
   ]
  },
  {
   "cell_type": "code",
   "execution_count": null,
   "metadata": {},
   "outputs": [],
   "source": [
    "# 예측값 형성\n",
    "y_pred_ = 0.3 * model1.predict(X_pred_scaled) + 0.35 * model2.predict(X_pred_scaled) + 0.35*model3.predict(X_pred_scaled)"
   ]
  },
  {
   "cell_type": "code",
   "execution_count": null,
   "metadata": {},
   "outputs": [],
   "source": [
    "# 코로나에 의한 가중치\n",
    "constant = 66832554962.686/66337499000"
   ]
  },
  {
   "cell_type": "code",
   "execution_count": null,
   "metadata": {},
   "outputs": [],
   "source": [
    "y_pred_ = constant * y_pred_"
   ]
  },
  {
   "cell_type": "markdown",
   "metadata": {},
   "source": [
    "# 데이터 해석을 위한 xlsx 내보내기"
   ]
  },
  {
   "cell_type": "code",
   "execution_count": null,
   "metadata": {},
   "outputs": [],
   "source": [
    "# predict 를 했던 x 데이터에 예측값을 붙인 뒤, 각 요일/ 각 카테고리 등 에 대한 상위/하위 데이터들을 조사해 어떤 특징이 있는지 살펴보았다."
   ]
  },
  {
   "cell_type": "code",
   "execution_count": null,
   "metadata": {},
   "outputs": [],
   "source": [
    "X_predict_data = pd.read_excel('X_for_predict.xlsx')"
   ]
  },
  {
   "cell_type": "code",
   "execution_count": null,
   "metadata": {},
   "outputs": [],
   "source": [
    "X_predict_data['판애액예측'] = pd.DataFrame(y_pred_)"
   ]
  },
  {
   "cell_type": "code",
   "execution_count": null,
   "metadata": {},
   "outputs": [],
   "source": [
    "X_predict_data.to_excel('데이터 해석.xlsx')"
   ]
  },
  {
   "cell_type": "markdown",
   "metadata": {},
   "source": [
    "# 예측값 ecxel 로 형성하기"
   ]
  },
  {
   "cell_type": "code",
   "execution_count": null,
   "metadata": {},
   "outputs": [],
   "source": [
    "# 이제 평가데이터 엑셀 파일에 예측값을 붙여주어야 한다.\n",
    "y_pred_excel=pd.read_excel('2020 빅콘테스트 데이터분석분야-챔피언리그_2020년 6월 판매실적예측데이터(평가데이터).xlsx',header=1)"
   ]
  },
  {
   "cell_type": "code",
   "execution_count": null,
   "metadata": {},
   "outputs": [],
   "source": [
    "y_pred_excel.drop(columns = ['취급액'],inplace=True)"
   ]
  },
  {
   "cell_type": "code",
   "execution_count": null,
   "metadata": {},
   "outputs": [],
   "source": [
    "# 앞서 제품군이 무형/ 토요일 1800 ~ 1820 에 시작하는 데이터는 예측에 쓰지 않기 때문에, index 를 새로 불러온다.\n",
    "y_pred_index = pd.read_csv('predict_index.csv')"
   ]
  },
  {
   "cell_type": "code",
   "execution_count": null,
   "metadata": {},
   "outputs": [],
   "source": [
    "# 새 index 레 우리의 예측값을 붙여준다.\n",
    "y_pred_index['취급액'] = pd.DataFrame(y_pred_)\n",
    "y_pred_index.index = y_pred_index['index']\n",
    "y_pred_index.drop(columns=['Unnamed: 0','index'],inplace=True)"
   ]
  },
  {
   "cell_type": "code",
   "execution_count": null,
   "metadata": {
    "scrolled": true
   },
   "outputs": [],
   "source": [
    "# 그리고, 그 index 에 맞추어 merge 해 주어서 엑셀을 형성한다.\n",
    "pred_final=pd.merge(y_pred_excel, y_pred_index, how='outer', left_index=True, right_index=True) \n",
    "pred_final"
   ]
  },
  {
   "cell_type": "code",
   "execution_count": null,
   "metadata": {},
   "outputs": [],
   "source": [
    "pred_final.to_excel('6월 판매실적 예측.xlsx')"
   ]
  },
  {
   "cell_type": "markdown",
   "metadata": {},
   "source": [
    "# Lime 을 통한 해석"
   ]
  },
  {
   "cell_type": "code",
   "execution_count": null,
   "metadata": {},
   "outputs": [],
   "source": [
    "def predict(x):\n",
    "    pred = 0.3*model1.predict(x)+ 0.35*model2.predict(x)+ 0.35*model3.predict(x)\n",
    "    return pred.flatten()"
   ]
  },
  {
   "cell_type": "code",
   "execution_count": null,
   "metadata": {},
   "outputs": [],
   "source": [
    "X_features"
   ]
  },
  {
   "cell_type": "code",
   "execution_count": null,
   "metadata": {},
   "outputs": [],
   "source": [
    "# 위 한글이름의 값을 영어로 바꾸어주어야 lime 에서 출력이 제대로 되기 떄문에 바꾸어주었다.\n",
    "X_features_ENG=['expsr(min)', 'unit_price', 'avg_cast_min', 'overlap_num', 'avg_ratings', '06:00~08:00', '08:00~10:00',\n",
    "       '10:00~12:00', '12:00~14:00', '14:00~16:00', '16:00~18:00',\n",
    "       '18:00~20:00', '20:00~22:00', '22:00~00:00', '00:00~02:00',\n",
    "       '02:00~04:00', 'rainfall(mm)', 'avg_temp(℃)', 'min_temp(℃)', 'max_temp(℃)', 'celebrity', 'income',\n",
    "       'holiday', 'type_power', 'CPI', 'RS', 'male', 'female', 'no_int', 'lump_sum_pay', 'brand',\n",
    "       'avgviewer_othr_chnnls', 'Jan', 'Feb', 'March', 'April', 'May', 'June', 'July', 'Aug',\n",
    "       'Sep', 'Oct', 'Nov', 'Dec', 'Fri', 'Thurs', 'Wed', 'Mon', 'Sun',\n",
    "       'Sat', 'Tue', '1Q', '2Q', '3Q', '4Q', 'type_furn',\n",
    "       'type_home_elec', 'type_health', 'type_agri_fish_lvstck', 'type_daily_gds', 'type_underclth', 'type_clth',\n",
    "       'type_beauty', 'type_miscll', 'type_kitch', 'type_bed', 'PrimeTime_other',\n",
    "       'PrimeTime_food', 'PrimeTime_morning', 'not_PrimeTime', 'fishtrim_0',\n",
    "       'fishtrim_1', 'fishtrim_NA', 'home_elec_TV', 'not_home_elec ', 'home_elec_drier',\n",
    "       'home_elec_airclean', 'home_elec_fridge', 'home_elec_notebk', 'home_elec_wrlss_vcmclnr', 'home_elec_washmch',\n",
    "       'home_elec_aircon', 'home_elec_clothmch', 'agro_driedfish', 'agro_fruit', 'agro_kimchi',\n",
    "       'agro_not_cat', 'agro_rice', 'agro_fish', 'agro_meat', 'agro_drink',\n",
    "       'agro_sauce/spice', 'agro_snacks']"
   ]
  },
  {
   "cell_type": "code",
   "execution_count": null,
   "metadata": {
    "colab": {},
    "colab_type": "code",
    "executionInfo": {
     "elapsed": 706,
     "status": "ok",
     "timestamp": 1598506086758,
     "user": {
      "displayName": "rany go",
      "photoUrl": "https://lh3.googleusercontent.com/a-/AOh14GiRLztt21gJ3vDfYCggLsxHzcHwHcCZvYUXpjI5=s64",
      "userId": "15846384859939162308"
     },
     "user_tz": -540
    },
    "id": "lC4mnF6BUzDX"
   },
   "outputs": [],
   "source": [
    "# set up the LIME explainer\n",
    "np.random.seed(42)\n",
    "explainer = lime.lime_tabular.LimeTabularExplainer(X_train,\n",
    "                                                  training_labels = y_train,\n",
    "                                                  feature_names = X_features_ENG,\n",
    "                                                  mode = 'regression',\n",
    "                                                  discretize_continuous = False)"
   ]
  },
  {
   "cell_type": "code",
   "execution_count": null,
   "metadata": {
    "colab": {
     "base_uri": "https://localhost:8080/",
     "height": 349
    },
    "colab_type": "code",
    "executionInfo": {
     "elapsed": 1602,
     "status": "ok",
     "timestamp": 1598506301613,
     "user": {
      "displayName": "rany go",
      "photoUrl": "https://lh3.googleusercontent.com/a-/AOh14GiRLztt21gJ3vDfYCggLsxHzcHwHcCZvYUXpjI5=s64",
      "userId": "15846384859939162308"
     },
     "user_tz": -540
    },
    "id": "Q90F7PWyVFb4",
    "outputId": "01fe734f-2e6e-4266-ceb2-09a13b4aff2d",
    "scrolled": true
   },
   "outputs": [],
   "source": [
    "# lime 은 아래와 같이 , local 한 데이터가 긍정/ 부정 영향인지, 얼마나 예측에 영향을 끼치는지 말해준다.\n",
    "np.random.seed(42)\n",
    "exp = explainer.explain_instance(X_pred_scaled[0],\n",
    "                                 predict,\n",
    "                                 num_features=20,\n",
    "                                 distance_metric='euclidean',\n",
    "                                 num_samples=1000)\n",
    "\n",
    "plt.figure(figsize=(40,5))\n",
    "exp.show_in_notebook(show_table=True, predict_proba=True, show_predicted_value=True)"
   ]
  },
  {
   "cell_type": "code",
   "execution_count": null,
   "metadata": {
    "scrolled": true
   },
   "outputs": [],
   "source": [
    "# 각 20개의 상위 영향을 가진 값을 표출한다.\n",
    "def expl(x):\n",
    "    np.random.seed(42)\n",
    "    exp = explainer.explain_instance(X_pred_scaled[x],\n",
    "                                 predict,\n",
    "                                 num_features=20,\n",
    "                                 distance_metric='euclidean',\n",
    "                                 num_samples=1000)\n",
    "    print(exp.predicted_value)\n",
    "    exp.as_pyplot_figure() ;"
   ]
  },
  {
   "cell_type": "code",
   "execution_count": null,
   "metadata": {},
   "outputs": [],
   "source": [
    "# 6시~8시 상위 \n",
    "expl(1246)\n",
    "expl(73)\n",
    "expl(1245)"
   ]
  },
  {
   "cell_type": "code",
   "execution_count": null,
   "metadata": {},
   "outputs": [],
   "source": [
    "# 8:00 ~ 10:00 상위\n",
    "expl(1787)\n",
    "expl(1249)\n",
    "expl(2396)"
   ]
  },
  {
   "cell_type": "code",
   "execution_count": null,
   "metadata": {},
   "outputs": [],
   "source": [
    "# 10:00 ~ 12:00 상위\n",
    "expl(579)\n",
    "expl(2399)\n",
    "expl(973)"
   ]
  },
  {
   "cell_type": "code",
   "execution_count": null,
   "metadata": {},
   "outputs": [],
   "source": [
    "# 12:00 ~ 14:00 상위\n",
    "expl(1177)\n",
    "expl(2581)\n",
    "expl(594)"
   ]
  },
  {
   "cell_type": "code",
   "execution_count": null,
   "metadata": {},
   "outputs": [],
   "source": [
    "# 14:00 ~ 16:00 상위\n",
    "expl(1195)\n",
    "expl(1305)\n",
    "expl(1285)"
   ]
  },
  {
   "cell_type": "code",
   "execution_count": null,
   "metadata": {},
   "outputs": [],
   "source": [
    "# 16:00 ~ 18:00 상위\n",
    "expl(1306)\n",
    "expl(1933)\n",
    "expl(1201)"
   ]
  },
  {
   "cell_type": "code",
   "execution_count": null,
   "metadata": {},
   "outputs": [],
   "source": [
    "# 18:00 ~ 20:00 상위\n",
    "expl(1321)\n",
    "expl(2601)\n",
    "expl(103)"
   ]
  },
  {
   "cell_type": "code",
   "execution_count": null,
   "metadata": {},
   "outputs": [],
   "source": [
    "# 20:00 ~ 22:00 상위\n",
    "expl(493)\n",
    "expl(2543)\n",
    "expl(1502)"
   ]
  },
  {
   "cell_type": "code",
   "execution_count": null,
   "metadata": {},
   "outputs": [],
   "source": [
    "# 22:00 ~ 00:00 상위\n",
    "expl(1863)\n",
    "expl(2288)\n",
    "expl(929)"
   ]
  },
  {
   "cell_type": "code",
   "execution_count": null,
   "metadata": {},
   "outputs": [],
   "source": [
    "# 00:00 ~ 02:00 상위\n",
    "expl(2478)\n",
    "expl(1060)\n",
    "expl(160)"
   ]
  },
  {
   "cell_type": "code",
   "execution_count": null,
   "metadata": {},
   "outputs": [],
   "source": [
    "# 02:00 ~ 04:00 상위\n",
    "expl(1604)\n",
    "expl(547)\n",
    "expl(2144)"
   ]
  },
  {
   "cell_type": "code",
   "execution_count": null,
   "metadata": {},
   "outputs": [],
   "source": [
    "# 의류 상위\n",
    "expl(1891)\n",
    "expl(1156)\n",
    "expl(1784)"
   ]
  },
  {
   "cell_type": "code",
   "execution_count": null,
   "metadata": {},
   "outputs": [],
   "source": [
    "# 이미용 상위\n",
    "expl(2189)\n",
    "expl(1754)\n",
    "expl(741)"
   ]
  },
  {
   "cell_type": "code",
   "execution_count": null,
   "metadata": {},
   "outputs": [],
   "source": [
    "# 잡화 상위\n",
    "expl(1813)\n",
    "expl(248)\n",
    "expl(1448)"
   ]
  },
  {
   "cell_type": "code",
   "execution_count": null,
   "metadata": {},
   "outputs": [],
   "source": [
    "# 가구 상위\n",
    "expl(644)\n",
    "expl(645)\n",
    "expl(646)"
   ]
  },
  {
   "cell_type": "code",
   "execution_count": null,
   "metadata": {},
   "outputs": [],
   "source": [
    "# 가전 상위\n",
    "expl(493)\n",
    "expl(579)\n",
    "expl(1321)"
   ]
  },
  {
   "cell_type": "code",
   "execution_count": null,
   "metadata": {},
   "outputs": [],
   "source": [
    "# 건강기능 상위\n",
    "expl(2116)\n",
    "expl(2138)\n",
    "expl(2114)"
   ]
  },
  {
   "cell_type": "code",
   "execution_count": null,
   "metadata": {},
   "outputs": [],
   "source": [
    "# 농수축 상위\n",
    "expl(1306)\n",
    "expl(2543)\n",
    "expl(1933)"
   ]
  },
  {
   "cell_type": "code",
   "execution_count": null,
   "metadata": {},
   "outputs": [],
   "source": [
    "# 생활용품 상위\n",
    "expl(1285)\n",
    "expl(1364)\n",
    "expl(634)"
   ]
  },
  {
   "cell_type": "code",
   "execution_count": null,
   "metadata": {},
   "outputs": [],
   "source": [
    "# 속옷 상위\n",
    "expl(2192)\n",
    "expl(1664)\n",
    "expl(1165)"
   ]
  },
  {
   "cell_type": "code",
   "execution_count": null,
   "metadata": {},
   "outputs": [],
   "source": [
    "# 주방 상위\n",
    "expl(1195)\n",
    "expl(1787)\n",
    "expl(2399)"
   ]
  },
  {
   "cell_type": "code",
   "execution_count": null,
   "metadata": {
    "scrolled": true
   },
   "outputs": [],
   "source": [
    "# 침구 상위\n",
    "expl(809)\n",
    "expl(808)\n",
    "expl(807)"
   ]
  },
  {
   "cell_type": "code",
   "execution_count": null,
   "metadata": {},
   "outputs": [],
   "source": [
    "# 월요일 상위\n",
    "expl(2601)\n",
    "expl(2598)\n",
    "expl(2604)"
   ]
  },
  {
   "cell_type": "code",
   "execution_count": null,
   "metadata": {},
   "outputs": [],
   "source": [
    "# 화요일 상위\n",
    "expl(1502)\n",
    "expl(2685)\n",
    "expl(103)"
   ]
  },
  {
   "cell_type": "code",
   "execution_count": null,
   "metadata": {},
   "outputs": [],
   "source": [
    "# 수요일 상위\n",
    "expl(223)\n",
    "expl(929)\n",
    "expl(2189)"
   ]
  },
  {
   "cell_type": "code",
   "execution_count": null,
   "metadata": {},
   "outputs": [],
   "source": [
    "# 목요일 상위\n",
    "expl(2288)\n",
    "expl(973)\n",
    "expl(2261)"
   ]
  },
  {
   "cell_type": "code",
   "execution_count": null,
   "metadata": {},
   "outputs": [],
   "source": [
    "# 금요일 상위\n",
    "expl(2366)\n",
    "expl(1754)\n",
    "expl(1751)"
   ]
  },
  {
   "cell_type": "code",
   "execution_count": null,
   "metadata": {},
   "outputs": [],
   "source": [
    "# 토요일 상위\n",
    "expl(493)\n",
    "expl(1195)\n",
    "expl(1787)"
   ]
  },
  {
   "cell_type": "code",
   "execution_count": null,
   "metadata": {},
   "outputs": [],
   "source": [
    "# 일요일 상위\n",
    "expl(1306)\n",
    "expl(2543)\n",
    "expl(579)"
   ]
  },
  {
   "cell_type": "code",
   "execution_count": null,
   "metadata": {},
   "outputs": [],
   "source": []
  }
 ],
 "metadata": {
  "colab": {
   "collapsed_sections": [],
   "name": "케라스 모델링.ipynb",
   "provenance": [],
   "toc_visible": true
  },
  "kernelspec": {
   "display_name": "Python 3",
   "language": "python",
   "name": "python3"
  },
  "language_info": {
   "codemirror_mode": {
    "name": "ipython",
    "version": 3
   },
   "file_extension": ".py",
   "mimetype": "text/x-python",
   "name": "python",
   "nbconvert_exporter": "python",
   "pygments_lexer": "ipython3",
   "version": "3.7.4"
  },
  "toc": {
   "base_numbering": 1,
   "nav_menu": {},
   "number_sections": true,
   "sideBar": true,
   "skip_h1_title": false,
   "title_cell": "Table of Contents",
   "title_sidebar": "Contents",
   "toc_cell": false,
   "toc_position": {
    "height": "calc(100% - 180px)",
    "left": "10px",
    "top": "150px",
    "width": "243.056px"
   },
   "toc_section_display": true,
   "toc_window_display": true
  },
  "varInspector": {
   "cols": {
    "lenName": 16,
    "lenType": 16,
    "lenVar": 40
   },
   "kernels_config": {
    "python": {
     "delete_cmd_postfix": "",
     "delete_cmd_prefix": "del ",
     "library": "var_list.py",
     "varRefreshCmd": "print(var_dic_list())"
    },
    "r": {
     "delete_cmd_postfix": ") ",
     "delete_cmd_prefix": "rm(",
     "library": "var_list.r",
     "varRefreshCmd": "cat(var_dic_list()) "
    }
   },
   "types_to_exclude": [
    "module",
    "function",
    "builtin_function_or_method",
    "instance",
    "_Feature"
   ],
   "window_display": false
  }
 },
 "nbformat": 4,
 "nbformat_minor": 1
}
