{
 "cells": [
  {
   "cell_type": "markdown",
   "metadata": {},
   "source": [
    "# import modules"
   ]
  },
  {
   "cell_type": "code",
   "execution_count": 1,
   "metadata": {
    "ExecuteTime": {
     "end_time": "2020-08-08T06:31:35.727361Z",
     "start_time": "2020-08-08T06:31:33.114272Z"
    }
   },
   "outputs": [],
   "source": [
    "import pandas as pd \n",
    "import numpy as np \n",
    "import matplotlib.pyplot as plt\n",
    "from sklearn.pipeline import Pipeline\n",
    "import datetime\n",
    "import time"
   ]
  },
  {
   "cell_type": "markdown",
   "metadata": {},
   "source": [
    "# Data set 불러오기"
   ]
  },
  {
   "cell_type": "code",
   "execution_count": 2,
   "metadata": {},
   "outputs": [],
   "source": [
    "# 여러분의 폴더가 저장되어있는 위치 경로를 써 주세요\n",
    "# 그리고 데이터파일(주최측에서 제공한) 의 이름을 Train set 으로 변셩해 주세요\n",
    "# 한인욱 directory = 'C:/Users/goran/Desktop/Git_Hub/Project/20S_Bigcon'\n",
    "# 김정현 directory = 'C:/Users/Coby/Desktop/20S_Bigcon/20S_Bigcon'\n",
    "# 신예진 directory = 'C:/Users/Rstudio/Desktop/Bigcon2020/20S_Bigcon'\n",
    "directory = 'C:/Users/Coby/Desktop/20S_Bigcon/20S_Bigcon'"
   ]
  },
  {
   "cell_type": "code",
   "execution_count": 3,
   "metadata": {
    "ExecuteTime": {
     "end_time": "2020-08-08T06:31:44.343208Z",
     "start_time": "2020-08-08T06:31:35.727361Z"
    }
   },
   "outputs": [
    {
     "ename": "FileNotFoundError",
     "evalue": "[Errno 2] No such file or directory: 'C:/Users/Coby/Desktop/20S_Bigcon/20S_Bigcon/Train set.xlsx'",
     "output_type": "error",
     "traceback": [
      "\u001b[1;31m---------------------------------------------------------------------------\u001b[0m",
      "\u001b[1;31mFileNotFoundError\u001b[0m                         Traceback (most recent call last)",
      "\u001b[1;32m<ipython-input-3-df13c889b4cb>\u001b[0m in \u001b[0;36m<module>\u001b[1;34m\u001b[0m\n\u001b[0;32m      1\u001b[0m \u001b[1;31m# 그러면 이렇게 그 폴더 안의 Train set.xlsx 을 잘 읽어옵니다!\u001b[0m\u001b[1;33m\u001b[0m\u001b[1;33m\u001b[0m\u001b[1;33m\u001b[0m\u001b[0m\n\u001b[1;32m----> 2\u001b[1;33m \u001b[0mX_df\u001b[0m\u001b[1;33m=\u001b[0m\u001b[0mpd\u001b[0m\u001b[1;33m.\u001b[0m\u001b[0mread_excel\u001b[0m\u001b[1;33m(\u001b[0m\u001b[0mdirectory\u001b[0m\u001b[1;33m+\u001b[0m\u001b[1;34m'/Train set.xlsx'\u001b[0m\u001b[1;33m,\u001b[0m\u001b[0mheader\u001b[0m \u001b[1;33m=\u001b[0m \u001b[1;36m1\u001b[0m\u001b[1;33m)\u001b[0m\u001b[1;33m\u001b[0m\u001b[1;33m\u001b[0m\u001b[0m\n\u001b[0m",
      "\u001b[1;32mC:\\anaconda\\lib\\site-packages\\pandas\\io\\excel\\_base.py\u001b[0m in \u001b[0;36mread_excel\u001b[1;34m(io, sheet_name, header, names, index_col, usecols, squeeze, dtype, engine, converters, true_values, false_values, skiprows, nrows, na_values, keep_default_na, verbose, parse_dates, date_parser, thousands, comment, skipfooter, convert_float, mangle_dupe_cols, **kwds)\u001b[0m\n\u001b[0;32m    302\u001b[0m \u001b[1;33m\u001b[0m\u001b[0m\n\u001b[0;32m    303\u001b[0m     \u001b[1;32mif\u001b[0m \u001b[1;32mnot\u001b[0m \u001b[0misinstance\u001b[0m\u001b[1;33m(\u001b[0m\u001b[0mio\u001b[0m\u001b[1;33m,\u001b[0m \u001b[0mExcelFile\u001b[0m\u001b[1;33m)\u001b[0m\u001b[1;33m:\u001b[0m\u001b[1;33m\u001b[0m\u001b[1;33m\u001b[0m\u001b[0m\n\u001b[1;32m--> 304\u001b[1;33m         \u001b[0mio\u001b[0m \u001b[1;33m=\u001b[0m \u001b[0mExcelFile\u001b[0m\u001b[1;33m(\u001b[0m\u001b[0mio\u001b[0m\u001b[1;33m,\u001b[0m \u001b[0mengine\u001b[0m\u001b[1;33m=\u001b[0m\u001b[0mengine\u001b[0m\u001b[1;33m)\u001b[0m\u001b[1;33m\u001b[0m\u001b[1;33m\u001b[0m\u001b[0m\n\u001b[0m\u001b[0;32m    305\u001b[0m     \u001b[1;32melif\u001b[0m \u001b[0mengine\u001b[0m \u001b[1;32mand\u001b[0m \u001b[0mengine\u001b[0m \u001b[1;33m!=\u001b[0m \u001b[0mio\u001b[0m\u001b[1;33m.\u001b[0m\u001b[0mengine\u001b[0m\u001b[1;33m:\u001b[0m\u001b[1;33m\u001b[0m\u001b[1;33m\u001b[0m\u001b[0m\n\u001b[0;32m    306\u001b[0m         raise ValueError(\n",
      "\u001b[1;32mC:\\anaconda\\lib\\site-packages\\pandas\\io\\excel\\_base.py\u001b[0m in \u001b[0;36m__init__\u001b[1;34m(self, io, engine)\u001b[0m\n\u001b[0;32m    819\u001b[0m         \u001b[0mself\u001b[0m\u001b[1;33m.\u001b[0m\u001b[0m_io\u001b[0m \u001b[1;33m=\u001b[0m \u001b[0mstringify_path\u001b[0m\u001b[1;33m(\u001b[0m\u001b[0mio\u001b[0m\u001b[1;33m)\u001b[0m\u001b[1;33m\u001b[0m\u001b[1;33m\u001b[0m\u001b[0m\n\u001b[0;32m    820\u001b[0m \u001b[1;33m\u001b[0m\u001b[0m\n\u001b[1;32m--> 821\u001b[1;33m         \u001b[0mself\u001b[0m\u001b[1;33m.\u001b[0m\u001b[0m_reader\u001b[0m \u001b[1;33m=\u001b[0m \u001b[0mself\u001b[0m\u001b[1;33m.\u001b[0m\u001b[0m_engines\u001b[0m\u001b[1;33m[\u001b[0m\u001b[0mengine\u001b[0m\u001b[1;33m]\u001b[0m\u001b[1;33m(\u001b[0m\u001b[0mself\u001b[0m\u001b[1;33m.\u001b[0m\u001b[0m_io\u001b[0m\u001b[1;33m)\u001b[0m\u001b[1;33m\u001b[0m\u001b[1;33m\u001b[0m\u001b[0m\n\u001b[0m\u001b[0;32m    822\u001b[0m \u001b[1;33m\u001b[0m\u001b[0m\n\u001b[0;32m    823\u001b[0m     \u001b[1;32mdef\u001b[0m \u001b[0m__fspath__\u001b[0m\u001b[1;33m(\u001b[0m\u001b[0mself\u001b[0m\u001b[1;33m)\u001b[0m\u001b[1;33m:\u001b[0m\u001b[1;33m\u001b[0m\u001b[1;33m\u001b[0m\u001b[0m\n",
      "\u001b[1;32mC:\\anaconda\\lib\\site-packages\\pandas\\io\\excel\\_xlrd.py\u001b[0m in \u001b[0;36m__init__\u001b[1;34m(self, filepath_or_buffer)\u001b[0m\n\u001b[0;32m     19\u001b[0m         \u001b[0merr_msg\u001b[0m \u001b[1;33m=\u001b[0m \u001b[1;34m\"Install xlrd >= 1.0.0 for Excel support\"\u001b[0m\u001b[1;33m\u001b[0m\u001b[1;33m\u001b[0m\u001b[0m\n\u001b[0;32m     20\u001b[0m         \u001b[0mimport_optional_dependency\u001b[0m\u001b[1;33m(\u001b[0m\u001b[1;34m\"xlrd\"\u001b[0m\u001b[1;33m,\u001b[0m \u001b[0mextra\u001b[0m\u001b[1;33m=\u001b[0m\u001b[0merr_msg\u001b[0m\u001b[1;33m)\u001b[0m\u001b[1;33m\u001b[0m\u001b[1;33m\u001b[0m\u001b[0m\n\u001b[1;32m---> 21\u001b[1;33m         \u001b[0msuper\u001b[0m\u001b[1;33m(\u001b[0m\u001b[1;33m)\u001b[0m\u001b[1;33m.\u001b[0m\u001b[0m__init__\u001b[0m\u001b[1;33m(\u001b[0m\u001b[0mfilepath_or_buffer\u001b[0m\u001b[1;33m)\u001b[0m\u001b[1;33m\u001b[0m\u001b[1;33m\u001b[0m\u001b[0m\n\u001b[0m\u001b[0;32m     22\u001b[0m \u001b[1;33m\u001b[0m\u001b[0m\n\u001b[0;32m     23\u001b[0m     \u001b[1;33m@\u001b[0m\u001b[0mproperty\u001b[0m\u001b[1;33m\u001b[0m\u001b[1;33m\u001b[0m\u001b[0m\n",
      "\u001b[1;32mC:\\anaconda\\lib\\site-packages\\pandas\\io\\excel\\_base.py\u001b[0m in \u001b[0;36m__init__\u001b[1;34m(self, filepath_or_buffer)\u001b[0m\n\u001b[0;32m    351\u001b[0m             \u001b[0mself\u001b[0m\u001b[1;33m.\u001b[0m\u001b[0mbook\u001b[0m \u001b[1;33m=\u001b[0m \u001b[0mself\u001b[0m\u001b[1;33m.\u001b[0m\u001b[0mload_workbook\u001b[0m\u001b[1;33m(\u001b[0m\u001b[0mfilepath_or_buffer\u001b[0m\u001b[1;33m)\u001b[0m\u001b[1;33m\u001b[0m\u001b[1;33m\u001b[0m\u001b[0m\n\u001b[0;32m    352\u001b[0m         \u001b[1;32melif\u001b[0m \u001b[0misinstance\u001b[0m\u001b[1;33m(\u001b[0m\u001b[0mfilepath_or_buffer\u001b[0m\u001b[1;33m,\u001b[0m \u001b[0mstr\u001b[0m\u001b[1;33m)\u001b[0m\u001b[1;33m:\u001b[0m\u001b[1;33m\u001b[0m\u001b[1;33m\u001b[0m\u001b[0m\n\u001b[1;32m--> 353\u001b[1;33m             \u001b[0mself\u001b[0m\u001b[1;33m.\u001b[0m\u001b[0mbook\u001b[0m \u001b[1;33m=\u001b[0m \u001b[0mself\u001b[0m\u001b[1;33m.\u001b[0m\u001b[0mload_workbook\u001b[0m\u001b[1;33m(\u001b[0m\u001b[0mfilepath_or_buffer\u001b[0m\u001b[1;33m)\u001b[0m\u001b[1;33m\u001b[0m\u001b[1;33m\u001b[0m\u001b[0m\n\u001b[0m\u001b[0;32m    354\u001b[0m         \u001b[1;32melif\u001b[0m \u001b[0misinstance\u001b[0m\u001b[1;33m(\u001b[0m\u001b[0mfilepath_or_buffer\u001b[0m\u001b[1;33m,\u001b[0m \u001b[0mbytes\u001b[0m\u001b[1;33m)\u001b[0m\u001b[1;33m:\u001b[0m\u001b[1;33m\u001b[0m\u001b[1;33m\u001b[0m\u001b[0m\n\u001b[0;32m    355\u001b[0m             \u001b[0mself\u001b[0m\u001b[1;33m.\u001b[0m\u001b[0mbook\u001b[0m \u001b[1;33m=\u001b[0m \u001b[0mself\u001b[0m\u001b[1;33m.\u001b[0m\u001b[0mload_workbook\u001b[0m\u001b[1;33m(\u001b[0m\u001b[0mBytesIO\u001b[0m\u001b[1;33m(\u001b[0m\u001b[0mfilepath_or_buffer\u001b[0m\u001b[1;33m)\u001b[0m\u001b[1;33m)\u001b[0m\u001b[1;33m\u001b[0m\u001b[1;33m\u001b[0m\u001b[0m\n",
      "\u001b[1;32mC:\\anaconda\\lib\\site-packages\\pandas\\io\\excel\\_xlrd.py\u001b[0m in \u001b[0;36mload_workbook\u001b[1;34m(self, filepath_or_buffer)\u001b[0m\n\u001b[0;32m     34\u001b[0m             \u001b[1;32mreturn\u001b[0m \u001b[0mopen_workbook\u001b[0m\u001b[1;33m(\u001b[0m\u001b[0mfile_contents\u001b[0m\u001b[1;33m=\u001b[0m\u001b[0mdata\u001b[0m\u001b[1;33m)\u001b[0m\u001b[1;33m\u001b[0m\u001b[1;33m\u001b[0m\u001b[0m\n\u001b[0;32m     35\u001b[0m         \u001b[1;32melse\u001b[0m\u001b[1;33m:\u001b[0m\u001b[1;33m\u001b[0m\u001b[1;33m\u001b[0m\u001b[0m\n\u001b[1;32m---> 36\u001b[1;33m             \u001b[1;32mreturn\u001b[0m \u001b[0mopen_workbook\u001b[0m\u001b[1;33m(\u001b[0m\u001b[0mfilepath_or_buffer\u001b[0m\u001b[1;33m)\u001b[0m\u001b[1;33m\u001b[0m\u001b[1;33m\u001b[0m\u001b[0m\n\u001b[0m\u001b[0;32m     37\u001b[0m \u001b[1;33m\u001b[0m\u001b[0m\n\u001b[0;32m     38\u001b[0m     \u001b[1;33m@\u001b[0m\u001b[0mproperty\u001b[0m\u001b[1;33m\u001b[0m\u001b[1;33m\u001b[0m\u001b[0m\n",
      "\u001b[1;32mC:\\anaconda\\lib\\site-packages\\xlrd\\__init__.py\u001b[0m in \u001b[0;36mopen_workbook\u001b[1;34m(filename, logfile, verbosity, use_mmap, file_contents, encoding_override, formatting_info, on_demand, ragged_rows)\u001b[0m\n\u001b[0;32m    109\u001b[0m     \u001b[1;32melse\u001b[0m\u001b[1;33m:\u001b[0m\u001b[1;33m\u001b[0m\u001b[1;33m\u001b[0m\u001b[0m\n\u001b[0;32m    110\u001b[0m         \u001b[0mfilename\u001b[0m \u001b[1;33m=\u001b[0m \u001b[0mos\u001b[0m\u001b[1;33m.\u001b[0m\u001b[0mpath\u001b[0m\u001b[1;33m.\u001b[0m\u001b[0mexpanduser\u001b[0m\u001b[1;33m(\u001b[0m\u001b[0mfilename\u001b[0m\u001b[1;33m)\u001b[0m\u001b[1;33m\u001b[0m\u001b[1;33m\u001b[0m\u001b[0m\n\u001b[1;32m--> 111\u001b[1;33m         \u001b[1;32mwith\u001b[0m \u001b[0mopen\u001b[0m\u001b[1;33m(\u001b[0m\u001b[0mfilename\u001b[0m\u001b[1;33m,\u001b[0m \u001b[1;34m\"rb\"\u001b[0m\u001b[1;33m)\u001b[0m \u001b[1;32mas\u001b[0m \u001b[0mf\u001b[0m\u001b[1;33m:\u001b[0m\u001b[1;33m\u001b[0m\u001b[1;33m\u001b[0m\u001b[0m\n\u001b[0m\u001b[0;32m    112\u001b[0m             \u001b[0mpeek\u001b[0m \u001b[1;33m=\u001b[0m \u001b[0mf\u001b[0m\u001b[1;33m.\u001b[0m\u001b[0mread\u001b[0m\u001b[1;33m(\u001b[0m\u001b[0mpeeksz\u001b[0m\u001b[1;33m)\u001b[0m\u001b[1;33m\u001b[0m\u001b[1;33m\u001b[0m\u001b[0m\n\u001b[0;32m    113\u001b[0m     \u001b[1;32mif\u001b[0m \u001b[0mpeek\u001b[0m \u001b[1;33m==\u001b[0m \u001b[1;34mb\"PK\\x03\\x04\"\u001b[0m\u001b[1;33m:\u001b[0m \u001b[1;31m# a ZIP file\u001b[0m\u001b[1;33m\u001b[0m\u001b[1;33m\u001b[0m\u001b[0m\n",
      "\u001b[1;31mFileNotFoundError\u001b[0m: [Errno 2] No such file or directory: 'C:/Users/Coby/Desktop/20S_Bigcon/20S_Bigcon/Train set.xlsx'"
     ]
    }
   ],
   "source": [
    "# 그러면 이렇게 그 폴더 안의 Train set.xlsx 을 잘 읽어옵니다! \n",
    "X_df=pd.read_excel(directory+'/Train set.xlsx',header = 1) "
   ]
  },
  {
   "cell_type": "code",
   "execution_count": null,
   "metadata": {
    "ExecuteTime": {
     "end_time": "2020-08-08T06:31:44.360609Z",
     "start_time": "2020-08-08T06:31:44.347247Z"
    }
   },
   "outputs": [],
   "source": [
    "# 데이터 reset 하고싶으면 위의 셀 말고 이거 돌려가면서 reset 하세요! 그게 제일 빨라요\n",
    "X = X_df.copy()"
   ]
  },
  {
   "cell_type": "code",
   "execution_count": null,
   "metadata": {
    "ExecuteTime": {
     "end_time": "2020-08-08T06:31:44.415598Z",
     "start_time": "2020-08-08T06:31:44.366600Z"
    },
    "scrolled": false
   },
   "outputs": [],
   "source": [
    "X.head() "
   ]
  },
  {
   "cell_type": "markdown",
   "metadata": {},
   "source": [
    "# 20200805 결측치 처리 과정"
   ]
  },
  {
   "cell_type": "code",
   "execution_count": null,
   "metadata": {
    "ExecuteTime": {
     "end_time": "2020-08-08T06:31:44.486024Z",
     "start_time": "2020-08-08T06:31:44.454557Z"
    },
    "scrolled": true
   },
   "outputs": [],
   "source": [
    "X.isnull().sum()"
   ]
  },
  {
   "cell_type": "markdown",
   "metadata": {},
   "source": [
    "#### 상품군 곁측치 처리"
   ]
  },
  {
   "cell_type": "markdown",
   "metadata": {},
   "source": [
    " 판매단가가 0 인 상품은 예측에서 제외"
   ]
  },
  {
   "cell_type": "code",
   "execution_count": null,
   "metadata": {
    "ExecuteTime": {
     "end_time": "2020-08-08T06:31:44.503164Z",
     "start_time": "2020-08-08T06:31:44.489014Z"
    }
   },
   "outputs": [],
   "source": [
    "def NA_goods(df=X):\n",
    "    df=df.loc[df['판매단가'] != 0,:]\n",
    "    df = df.reset_index(drop=True)\n",
    "    return df"
   ]
  },
  {
   "cell_type": "code",
   "execution_count": null,
   "metadata": {
    "ExecuteTime": {
     "end_time": "2020-08-08T06:31:44.539084Z",
     "start_time": "2020-08-08T06:31:44.506324Z"
    }
   },
   "outputs": [],
   "source": [
    "NA_goods(X)"
   ]
  },
  {
   "cell_type": "markdown",
   "metadata": {},
   "source": [
    "#### 노출(분) 곁측치 처리"
   ]
  },
  {
   "cell_type": "markdown",
   "metadata": {},
   "source": [
    "노출분은 같은 시간에 같이 방송되어서 NaN 으로 뜨는것이다. <br>\n",
    "아마 같은 시간에 방송되어진 값을 평균해서 채우면 될듯?"
   ]
  },
  {
   "cell_type": "code",
   "execution_count": null,
   "metadata": {
    "ExecuteTime": {
     "end_time": "2020-08-08T06:31:44.556323Z",
     "start_time": "2020-08-08T06:31:44.541077Z"
    }
   },
   "outputs": [],
   "source": [
    "# 0 노출시간이 0 인 데이터가 없다.\n",
    "# 즉 Na 처리할떄 0으로 대채한 후에 평균떄려도 아무 상관 없다는 이야기!\n",
    "(X.loc[:,'노출(분)']==0).sum()"
   ]
  },
  {
   "cell_type": "code",
   "execution_count": null,
   "metadata": {
    "ExecuteTime": {
     "end_time": "2020-08-08T06:31:44.575985Z",
     "start_time": "2020-08-08T06:31:44.559381Z"
    }
   },
   "outputs": [],
   "source": [
    "# 노출(분) 을 제일 먼저 시작한 시간의 값으로 만드는 FUNCTION 정의\n",
    "# 아직 맞는지는 잘 몰라서 안맞는 경우 수정해주세요.\n",
    "def NA_minute(df=X):\n",
    "    # 곁측치를 0으로 대체\n",
    "    df['노출(분)'] = df['노출(분)'].fillna(0)\n",
    "    \n",
    "    count_0 = [] \n",
    "    count_not0 = [] # 0이 아닌 수의 index\n",
    "    for idx in df.index :\n",
    "        if df.loc[idx,'노출(분)'] == 0 :\n",
    "            count_0.append(idx)\n",
    "        else :\n",
    "            count_not0.append(idx)\n",
    "    count_not0.append(len(df)) # 맨 마지막 열에 0 인 경우를 대비하여\n",
    "\n",
    "    for idx,x in enumerate(count_not0):\n",
    "        if idx != len(count_not0)-1: \n",
    "            if (count_not0[idx+1] - count_not0[idx] - 1) != 0:\n",
    "                start = count_not0[idx] \n",
    "                end = count_not0[idx+1]\n",
    "                num = end - start \n",
    "                df.loc[start:(end-1),'노출(분)'] = df.loc[start,'노출(분)'] # / num 을 붙여주면 평균으로 만들게 됩니다.\n",
    "    return df"
   ]
  },
  {
   "cell_type": "code",
   "execution_count": null,
   "metadata": {
    "ExecuteTime": {
     "end_time": "2020-08-08T06:31:52.715885Z",
     "start_time": "2020-08-08T06:31:44.578569Z"
    },
    "scrolled": false
   },
   "outputs": [],
   "source": [
    "NA_minute(X)"
   ]
  },
  {
   "cell_type": "markdown",
   "metadata": {},
   "source": [
    "####  토요일 곁측치 처리"
   ]
  },
  {
   "cell_type": "markdown",
   "metadata": {},
   "source": [
    "매주 토요일 18:00~18:20은 정보방송시간으로 추정 제외(당사사정에 따라 ±20 편성 변경 있음)"
   ]
  },
  {
   "cell_type": "code",
   "execution_count": null,
   "metadata": {
    "ExecuteTime": {
     "end_time": "2020-08-08T06:31:52.741810Z",
     "start_time": "2020-08-08T06:31:52.720537Z"
    }
   },
   "outputs": [],
   "source": [
    "def NA_Saturday(df = X):\n",
    "    t = ['월','화','수','목','금','토','일']\n",
    "    r = datetime.datetime.today()\n",
    "    def printDayOfTheWeek(year, month, day):\n",
    "        dayOfTheWeek = ['월','화','수','목','금','토','일']\n",
    "        return dayOfTheWeek[datetime.datetime(year,month,day).weekday()]\n",
    "    day_list = []\n",
    "    for date in X.iloc[:,0]:\n",
    "        date = str(date)\n",
    "        year = int(date[:4])\n",
    "        month = int(date[5:7])\n",
    "        day = int(date[8:10])\n",
    "        first = printDayOfTheWeek(year,month,day)\n",
    "        second = date[11:16]\n",
    "        day_list.append(first+second)\n",
    "    X[\"요일/시간\"] = day_list\n",
    "    for i in range(len(df)):\n",
    "        time = df.iloc[i,8]\n",
    "        if (time[0:3]==\"토18\" and int(time[4:])<20):\n",
    "            df = df.drop(i)\n",
    "    return df"
   ]
  },
  {
   "cell_type": "code",
   "execution_count": null,
   "metadata": {
    "ExecuteTime": {
     "end_time": "2020-08-08T06:31:54.883195Z",
     "start_time": "2020-08-08T06:31:52.746203Z"
    }
   },
   "outputs": [],
   "source": [
    "#check 하는 용도라 뺴놨습니다!\n",
    "for i in range(len(NA_Saturday(X))):\n",
    "    time = X.iloc[i,8]\n",
    "    if time[0:3]==\"토18\":\n",
    "        print(time)"
   ]
  },
  {
   "cell_type": "markdown",
   "metadata": {},
   "source": [
    "힘들게 코드를 짰으나 토요일 18:00~18:20에 해당하는 방송은 없었다............................."
   ]
  },
  {
   "cell_type": "markdown",
   "metadata": {},
   "source": [
    "#### 취급액 50000-> 0 처리"
   ]
  },
  {
   "cell_type": "code",
   "execution_count": null,
   "metadata": {
    "scrolled": true
   },
   "outputs": [],
   "source": [
    "(X.loc[:,'취급액'] <= 50000).sum()"
   ]
  },
  {
   "cell_type": "code",
   "execution_count": null,
   "metadata": {},
   "outputs": [],
   "source": [
    "def NA_50000(df=X):\n",
    "    df.loc[df.loc[:,'취급액'] <= 50000 ,'취급액'] = 0\n",
    "    return df"
   ]
  },
  {
   "cell_type": "code",
   "execution_count": null,
   "metadata": {},
   "outputs": [],
   "source": [
    "NA_50000(X) "
   ]
  },
  {
   "cell_type": "markdown",
   "metadata": {},
   "source": [
    "#### 곁측치 처리 pipeline"
   ]
  },
  {
   "cell_type": "code",
   "execution_count": null,
   "metadata": {
    "ExecuteTime": {
     "end_time": "2020-08-08T06:31:54.893995Z",
     "start_time": "2020-08-08T06:31:54.885899Z"
    }
   },
   "outputs": [],
   "source": [
    "def Na_pipeline(df = X):\n",
    "    df = NA_goods(df)\n",
    "    df = NA_minute(df)\n",
    "    df = NA_Saturday(df)\n",
    "    df = NA_50000(df)\n",
    "    return(df)"
   ]
  },
  {
   "cell_type": "code",
   "execution_count": null,
   "metadata": {
    "ExecuteTime": {
     "end_time": "2020-08-08T06:31:57.094127Z",
     "start_time": "2020-08-08T06:31:54.896175Z"
    },
    "scrolled": true
   },
   "outputs": [],
   "source": [
    "X = Na_pipeline(X) ; X"
   ]
  },
  {
   "cell_type": "code",
   "execution_count": null,
   "metadata": {
    "ExecuteTime": {
     "end_time": "2020-08-08T06:31:57.126089Z",
     "start_time": "2020-08-08T06:31:57.097897Z"
    }
   },
   "outputs": [],
   "source": [
    "# na 없다\n",
    "X.isnull().sum().sum()"
   ]
  },
  {
   "cell_type": "markdown",
   "metadata": {},
   "source": [
    "# 데이터 살펴보기"
   ]
  },
  {
   "cell_type": "markdown",
   "metadata": {},
   "source": [
    "노출 분은 대부분 10 분 내외인듯."
   ]
  },
  {
   "cell_type": "code",
   "execution_count": null,
   "metadata": {
    "ExecuteTime": {
     "end_time": "2020-08-08T06:31:57.178791Z",
     "start_time": "2020-08-08T06:31:57.131263Z"
    },
    "scrolled": true
   },
   "outputs": [],
   "source": [
    "pd.DataFrame(pd.Series(X['노출(분)']).value_counts(normalize=True))"
   ]
  },
  {
   "cell_type": "markdown",
   "metadata": {},
   "source": [
    "# 변수 늘리기"
   ]
  },
  {
   "cell_type": "markdown",
   "metadata": {},
   "source": [
    "#### 시간 데이터 늘리기"
   ]
  },
  {
   "cell_type": "code",
   "execution_count": null,
   "metadata": {
    "ExecuteTime": {
     "end_time": "2020-08-08T06:31:57.212702Z",
     "start_time": "2020-08-08T06:31:57.184720Z"
    }
   },
   "outputs": [],
   "source": [
    "# 시각은 우선 시,분을 합쳐서 하나의 값으로 만들었습니다.\n",
    "def time_feature(df = X):\n",
    "    df['방송일시']=df['방송일시'].astype('str')\n",
    "    df['날짜']=df['방송일시'].str.split(' ').str[0]\n",
    "    df['시간']=df['방송일시'].str.split(' ').str[1]\n",
    "    df['년']=df['날짜'].str.split('-').str[0]\n",
    "    df['월']=df['날짜'].str.split('-').str[1]\n",
    "    df['일']=df['날짜'].str.split('-').str[2]\n",
    "    df['시']=df['시간'].str.split(':').str[0]\n",
    "    df['분']=df['시간'].str.split(':').str[1]\n",
    "    df['초']=df['시간'].str.split(':').str[2]\n",
    "    df['시각'] = df['시'].astype('float32') + df['분'].astype('float32')*(1/60)\n",
    "    df.drop(['시','분','초','시간'],axis=1,inplace = True)\n",
    "    return(df)"
   ]
  },
  {
   "cell_type": "code",
   "execution_count": null,
   "metadata": {
    "ExecuteTime": {
     "end_time": "2020-08-08T06:31:58.813250Z",
     "start_time": "2020-08-08T06:31:57.215961Z"
    },
    "scrolled": true
   },
   "outputs": [],
   "source": [
    "X = time_feature(X) ; X"
   ]
  },
  {
   "cell_type": "markdown",
   "metadata": {},
   "source": [
    "#### 식사 시간과 관련된 변수"
   ]
  },
  {
   "cell_type": "markdown",
   "metadata": {},
   "source": [
    "식사시간의 경우 유의미한 데이터가 있을 수 있다. 그 시간대를 잡아서 변수를 늘리면 효과가 있을거같다. <br>\n",
    "하지만 아침 식사시간의 경우 거르는 인구가 33%(통계청) 이나 되는 이유로, 오히려 혼란을 가중시킬 수 있기떄문에 그냥 점심과 저녁만 고려하자"
   ]
  },
  {
   "cell_type": "code",
   "execution_count": null,
   "metadata": {
    "ExecuteTime": {
     "end_time": "2020-08-08T06:31:58.841331Z",
     "start_time": "2020-08-08T06:31:58.814120Z"
    }
   },
   "outputs": [],
   "source": [
    "def eat_feature(df = X):\n",
    "    df['점심'] = 0\n",
    "    df.loc[ (11.5<df['시각']) & (df['시각'] < 13),'점심']  = 1\n",
    "    df['저녁'] = 0\n",
    "    df.loc[ (17.5<df['시각'])&(df['시각']<19.5) , '저녁'] = 1\n",
    "    return(df)"
   ]
  },
  {
   "cell_type": "code",
   "execution_count": null,
   "metadata": {
    "ExecuteTime": {
     "end_time": "2020-08-08T06:31:58.921508Z",
     "start_time": "2020-08-08T06:31:58.842326Z"
    }
   },
   "outputs": [],
   "source": [
    "X = eat_feature(X) ; X"
   ]
  },
  {
   "cell_type": "code",
   "execution_count": null,
   "metadata": {
    "ExecuteTime": {
     "end_time": "2020-08-08T06:31:58.943716Z",
     "start_time": "2020-08-08T06:31:58.923165Z"
    },
    "scrolled": true
   },
   "outputs": [],
   "source": [
    "pd.Series(X['점심']).value_counts() # 좀 sparse 하긴 한데 의미는 있을거라고 믿는다..."
   ]
  },
  {
   "cell_type": "markdown",
   "metadata": {},
   "source": [
    "#### 강수량 변수"
   ]
  },
  {
   "cell_type": "markdown",
   "metadata": {},
   "source": [
    "날씨 데이터의 경우 기상청의 공공데이터를 사용했다.\n",
    "일별 기온(평균기온, 최고기온, 최저기온), 일별 강수량, 월별 기상정보(폭염일수, 열대야일수)를 고려했다."
   ]
  },
  {
   "cell_type": "code",
   "execution_count": null,
   "metadata": {
    "ExecuteTime": {
     "end_time": "2020-08-08T06:31:58.959536Z",
     "start_time": "2020-08-08T06:31:58.945565Z"
    }
   },
   "outputs": [],
   "source": [
    "rain_df=pd.read_csv(directory+'/19rain.csv',header = 7, encoding='CP949')\n",
    "rain = rain_df.copy()"
   ]
  },
  {
   "cell_type": "code",
   "execution_count": null,
   "metadata": {
    "ExecuteTime": {
     "end_time": "2020-08-08T06:31:58.973187Z",
     "start_time": "2020-08-08T06:31:58.960535Z"
    },
    "scrolled": true
   },
   "outputs": [],
   "source": [
    "rain.head()"
   ]
  },
  {
   "cell_type": "code",
   "execution_count": null,
   "metadata": {
    "ExecuteTime": {
     "end_time": "2020-08-08T06:31:59.142935Z",
     "start_time": "2020-08-08T06:31:58.975684Z"
    },
    "scrolled": true
   },
   "outputs": [],
   "source": [
    "def rain_feature(df = X):\n",
    "       \n",
    "    df = pd.merge(df, rain, on=\"날짜\", how= \"inner\")\n",
    "    df.drop(['지점'],axis=1,inplace = True)\n",
    "    return(df)\n",
    "\n",
    "X = rain_feature(X) ; X"
   ]
  },
  {
   "cell_type": "markdown",
   "metadata": {},
   "source": [
    "#### 온도 변수"
   ]
  },
  {
   "cell_type": "code",
   "execution_count": null,
   "metadata": {
    "ExecuteTime": {
     "end_time": "2020-08-08T06:39:47.093532Z",
     "start_time": "2020-08-08T06:39:47.070171Z"
    }
   },
   "outputs": [],
   "source": [
    "temp_df=pd.read_csv(directory+'/19temp.csv',header = 7, encoding='CP949')\n",
    "temp = temp_df.copy()"
   ]
  },
  {
   "cell_type": "code",
   "execution_count": null,
   "metadata": {
    "ExecuteTime": {
     "end_time": "2020-08-08T06:39:47.495166Z",
     "start_time": "2020-08-08T06:39:47.471546Z"
    }
   },
   "outputs": [],
   "source": [
    "temp.head()"
   ]
  },
  {
   "cell_type": "code",
   "execution_count": null,
   "metadata": {
    "ExecuteTime": {
     "end_time": "2020-08-08T06:39:48.199977Z",
     "start_time": "2020-08-08T06:39:48.003759Z"
    },
    "scrolled": true
   },
   "outputs": [],
   "source": [
    "def temp_feature(df = X):\n",
    "    df = pd.merge(df, temp, on=\"날짜\", how= \"inner\")\n",
    "    df.drop(['지점'],axis=1,inplace = True)\n",
    "    return(df)\n",
    "X = temp_feature(X) ; X"
   ]
  },
  {
   "cell_type": "markdown",
   "metadata": {},
   "source": [
    "#### 폭염 변수"
   ]
  },
  {
   "cell_type": "code",
   "execution_count": null,
   "metadata": {},
   "outputs": [],
   "source": [
    "hot_df=pd.read_csv(directory+'/19hot.csv',header = 4, encoding='CP949')\n",
    "hot = hot_df.copy()"
   ]
  },
  {
   "cell_type": "code",
   "execution_count": null,
   "metadata": {},
   "outputs": [],
   "source": [
    "hot"
   ]
  },
  {
   "cell_type": "code",
   "execution_count": null,
   "metadata": {},
   "outputs": [],
   "source": [
    "hot['월']=hot['월'].str.split('-').str[2]"
   ]
  },
  {
   "cell_type": "code",
   "execution_count": null,
   "metadata": {},
   "outputs": [],
   "source": [
    "hot.head()"
   ]
  },
  {
   "cell_type": "code",
   "execution_count": null,
   "metadata": {
    "scrolled": false
   },
   "outputs": [],
   "source": [
    "def hot_feature(df = X):   \n",
    "    df = pd.merge(df, hot, on=\"월\", how= \"inner\", right_index=True)\n",
    "    return(df)\n",
    "X = hot_feature(X) ; X"
   ]
  },
  {
   "cell_type": "markdown",
   "metadata": {},
   "source": [
    "#### 연예인 변수 "
   ]
  },
  {
   "cell_type": "markdown",
   "metadata": {},
   "source": [
    "## Feature 늘리기 Pipeline"
   ]
  },
  {
   "cell_type": "code",
   "execution_count": null,
   "metadata": {},
   "outputs": [],
   "source": [
    "def celebrity(df=X):\n",
    "    df['연예인']=0\n",
    "    list_celebrity=[\"전지현\", \"팽현숙\", \"전철우\", \"강레오\", \"김선영\", \"김정배\", \"김규흔\", \"이봉원\", \"오세득\", \"유귀열\", \"이경제\", \"이만기\", \"이보은\", \"임성근\", \"전철우\", \"최인선\", \"김병만\", \"김병지\", \"이동수\", \"그렉노먼\", \"서장훈\", \"송도순\", \"효재\", \"천수봉\"]\n",
    "    for i in list_celebrity:\n",
    "        df.loc[df.상품명.str.contains(i),'연예인']=1\n",
    "    return df"
   ]
  },
  {
   "cell_type": "code",
   "execution_count": null,
   "metadata": {},
   "outputs": [],
   "source": [
    "X=celebrity(X); X"
   ]
  },
  {
   "cell_type": "code",
   "execution_count": null,
   "metadata": {},
   "outputs": [],
   "source": [
    "X.loc[X.상품명.str.contains(\"팽현숙\"),'연예인']\n",
    "print(X.sum().연예인) #연예인 이름을 사용한 총 데이터 수"
   ]
  },
  {
   "cell_type": "markdown",
   "metadata": {},
   "source": [
    "## 월급날"
   ]
  },
  {
   "cell_type": "code",
   "execution_count": null,
   "metadata": {},
   "outputs": [],
   "source": [
    "#직업별로 월급날이 달라 10일~25일을 월급날로 지정\n",
    "#https://news.sbs.co.kr/news/endPage.do?news_id=N1005505452\n",
    "#https://m.blog.naver.com/youngkbblog/221714986107"
   ]
  },
  {
   "cell_type": "code",
   "execution_count": null,
   "metadata": {},
   "outputs": [],
   "source": [
    "def income(df = X):\n",
    "    df['월급날'] = 0\n",
    "    df.loc[ (10<=df['일'].astype('float32')) & (df['일'].astype('float32') <= 25),'월급날']  = 1\n",
    "    return(df)"
   ]
  },
  {
   "cell_type": "code",
   "execution_count": null,
   "metadata": {},
   "outputs": [],
   "source": [
    "X=income(X);X"
   ]
  },
  {
   "cell_type": "code",
   "execution_count": null,
   "metadata": {},
   "outputs": [],
   "source": [
    "X.loc[X[\"일\"]==\"10\", [\"월급날\"]] #잘 들어갔는지 확인\n",
    "print(X.sum().월급날) #총 월급날"
   ]
  },
  {
   "cell_type": "markdown",
   "metadata": {},
   "source": [
    "## 공휴일"
   ]
  },
  {
   "cell_type": "code",
   "execution_count": null,
   "metadata": {},
   "outputs": [],
   "source": [
    "#https://0muwon.com/entry/2019%EB%85%84-%ED%9C%B4%EC%9D%BC-%EA%B3%B5%ED%9C%B4%EC%9D%BC-%EB%8C%80%EC%B2%B4%ED%9C%B4%EC%9D%BC-%ED%99%A9%EA%B8%88%EC%97%B0%ED%9C%B4-%EC%9B%94%EB%B3%84-%EC%99%84%EB%B2%BD%EC%A0%95%EB%A6%AC"
   ]
  },
  {
   "cell_type": "code",
   "execution_count": null,
   "metadata": {},
   "outputs": [],
   "source": [
    "def holiday(df = X):\n",
    "    df[\"공휴일\"] = 0\n",
    "    holiday_list=[[1,6,13,20,27],[3,4,5,6,10,17,24],[1,3,10,17,24],[7,14,21,28],[5,6,12,19,26],[2,6,9,16,23],[7,14,21,28],[4,11,15,18,25],[1,8,12,13,14,15,22,29],[3,6,9,13,20,27],[3,10,17,24],[1,8,15,22,25,29]]\n",
    "    for i, holiday in enumerate(holiday_list):\n",
    "        for j in holiday:\n",
    "            df.loc[ (df[\"월\"].astype(\"float32\")==i+1) & (df[\"일\"].astype(\"float32\")==j),'공휴일'] = 1\n",
    "    return(df)"
   ]
  },
  {
   "cell_type": "code",
   "execution_count": null,
   "metadata": {},
   "outputs": [],
   "source": [
    "X=holiday(X);X"
   ]
  },
  {
   "cell_type": "code",
   "execution_count": null,
   "metadata": {},
   "outputs": [],
   "source": [
    "X.loc[(X[\"월\"].astype(\"float32\")==3) & (X[\"일\"].astype(\"float32\")==1),[\"공휴일\"]] #잘 들어갔는지 확인\n",
    "print(X.sum().공휴일) #총 공휴일"
   ]
  },
  {
   "cell_type": "markdown",
   "metadata": {},
   "source": [
    "### 상품군 기준 상품 power"
   ]
  },
  {
   "cell_type": "code",
   "execution_count": null,
   "metadata": {},
   "outputs": [],
   "source": [
    "def goods_power(df = X):\n",
    "    df[\"평균\"] = 0\n",
    "    df[\"상품별power\"] = 0\n",
    "    for name in ('가구','가전','건강기능','농수축','생활용품','속옷','의류','이미용','잡화','주방','침구'):\n",
    "        revenue = 0\n",
    "        runtime = 0\n",
    "        for i in range(len(df)):\n",
    "            if df.loc[i,'상품군'] == name:\n",
    "                revenue += round(df.loc[i,'취급액']/df.loc[i,'판매단가'])\n",
    "                runtime += df.loc[i,'노출(분)']\n",
    "            else:\n",
    "                pass\n",
    "        for i in range(len(df)):\n",
    "            if df.loc[i,'상품군'] == name:\n",
    "                df.loc[i,'평균'] = revenue/runtime\n",
    "    \n",
    "    for i in range(len(df)):\n",
    "        df.loc[i,'상품별power'] = round(df.loc[i,'취급액']/df.loc[i,'판매단가']/df.loc[i,'노출(분)'] - df.loc[i,'평균'],2)\n",
    "        \n",
    "    return(df)"
   ]
  },
  {
   "cell_type": "code",
   "execution_count": null,
   "metadata": {},
   "outputs": [],
   "source": [
    "X = goods_power(X) ; X"
   ]
  },
  {
   "cell_type": "markdown",
   "metadata": {},
   "source": [
    "### 소비자물가지수"
   ]
  },
  {
   "cell_type": "code",
   "execution_count": null,
   "metadata": {},
   "outputs": [],
   "source": [
    "def CPI(df = X):\n",
    "    df['CPI'] = 0\n",
    "    day_list = []\n",
    "    for date in df.loc[:,'방송일시']:\n",
    "        year = date[2:4]\n",
    "        month = date[5:7]\n",
    "        day_list.append(year+month)\n",
    "    df['연월'] = day_list\n",
    "    cpi1,cpi2,cpi3,cpi4,cpi5,cpi6,cpi7,cpi8,cpi9,cpi10,cpi11,cpi12,cpi13 = 0.8, 0.5, 0.4, 0.6, 0.7, 0.7, 0.6, 0.0, -0.4, 0.0, 0.2, 0.7, 1.5\n",
    "    df.loc[df['연월']== '1901','CPI'] = cpi1\n",
    "    df.loc[df['연월']== '1902','CPI'] = cpi2\n",
    "    df.loc[df['연월']== '1903','CPI'] = cpi3\n",
    "    df.loc[df['연월']== '1904','CPI'] = cpi4\n",
    "    df.loc[df['연월']== '1905','CPI'] = cpi5\n",
    "    df.loc[df['연월']== '1906','CPI'] = cpi6\n",
    "    df.loc[df['연월']== '1907','CPI'] = cpi7\n",
    "    df.loc[df['연월']== '1908','CPI'] = cpi8\n",
    "    df.loc[df['연월']== '1909','CPI'] = cpi9\n",
    "    df.loc[df['연월']== '1910','CPI'] = cpi10\n",
    "    df.loc[df['연월']== '1911','CPI'] = cpi11\n",
    "    df.loc[df['연월']== '1912','CPI'] = cpi12\n",
    "    df.loc[df['연월']== '2001','CPI'] = cpi13\n",
    "    del df['연월']\n",
    "    \n",
    "    return(df)"
   ]
  },
  {
   "cell_type": "code",
   "execution_count": null,
   "metadata": {},
   "outputs": [],
   "source": [
    "X = CPI(X); X"
   ]
  },
  {
   "cell_type": "markdown",
   "metadata": {},
   "source": [
    "### 소비자동향지수"
   ]
  },
  {
   "cell_type": "code",
   "execution_count": null,
   "metadata": {},
   "outputs": [],
   "source": [
    "def CSI(df = X):\n",
    "    df['CSI'] = 0\n",
    "    day_list = []\n",
    "    for date in df.loc[:,'방송일시']:\n",
    "        year = date[2:4]\n",
    "        month = date[5:7]\n",
    "        day_list.append(year+month)\n",
    "    df['연월'] = day_list\n",
    "    csi1,csi2,csi3,csi4,csi5,csi6,csi7,csi8,csi9,csi10,csi11,csi12,csi13 = 97.5, 99.5, 99.8, 101.6, 97.9, 97.5, 95.9, 92.5, 96.9, 98.6, 101.0, 100.5, 104.2\n",
    "    df.loc[df['연월']== '1901','CSI'] = csi1\n",
    "    df.loc[df['연월']== '1902','CSI'] = csi2\n",
    "    df.loc[df['연월']== '1903','CSI'] = csi3\n",
    "    df.loc[df['연월']== '1904','CSI'] = csi4\n",
    "    df.loc[df['연월']== '1905','CSI'] = csi5\n",
    "    df.loc[df['연월']== '1906','CSI'] = csi6\n",
    "    df.loc[df['연월']== '1907','CSI'] = csi7\n",
    "    df.loc[df['연월']== '1908','CSI'] = csi8\n",
    "    df.loc[df['연월']== '1909','CSI'] = csi9\n",
    "    df.loc[df['연월']== '1910','CSI'] = csi10\n",
    "    df.loc[df['연월']== '1911','CSI'] = csi11\n",
    "    df.loc[df['연월']== '1912','CSI'] = csi12\n",
    "    df.loc[df['연월']== '2001','CSI'] = csi13\n",
    "    del df['연월']\n",
    "    \n",
    "    return(df)"
   ]
  },
  {
   "cell_type": "code",
   "execution_count": null,
   "metadata": {},
   "outputs": [],
   "source": [
    "X = CSI(X); X"
   ]
  },
  {
   "cell_type": "markdown",
   "metadata": {},
   "source": [
    "### 소매업태별(홈쇼핑) 판매액지수(불변지수)"
   ]
  },
  {
   "cell_type": "code",
   "execution_count": null,
   "metadata": {},
   "outputs": [],
   "source": [
    "def RS(df = X):\n",
    "    df['RS'] = 0\n",
    "    day_list = []\n",
    "    for date in df.loc[:,'방송일시']:\n",
    "        year = date[2:4]\n",
    "        month = date[5:7]\n",
    "        day_list.append(year+month)\n",
    "    df['연월'] = day_list\n",
    "    x1,x2,x3,x4,x5,x6,x7,x8,x9,x10,x11,x12,x13 = 139.3, 113.3, 134.0, 130.1, 133.8, 123.4, 124.7, 120.3, 124.3, 139.0, 138.8, 138.0, 131.7\n",
    "    df.loc[df['연월']== '1901','RS'] = x1\n",
    "    df.loc[df['연월']== '1902','RS'] = x2\n",
    "    df.loc[df['연월']== '1903','RS'] = x3\n",
    "    df.loc[df['연월']== '1904','RS'] = x4\n",
    "    df.loc[df['연월']== '1905','RS'] = x5\n",
    "    df.loc[df['연월']== '1906','RS'] = x6\n",
    "    df.loc[df['연월']== '1907','RS'] = x7\n",
    "    df.loc[df['연월']== '1908','RS'] = x8\n",
    "    df.loc[df['연월']== '1909','RS'] = x9\n",
    "    df.loc[df['연월']== '1910','RS'] = x10\n",
    "    df.loc[df['연월']== '1911','RS'] = x11\n",
    "    df.loc[df['연월']== '1912','RS'] = x12\n",
    "    df.loc[df['연월']== '2001','RS'] = x13\n",
    "    del df['연월']\n",
    "    \n",
    "    return(df)"
   ]
  },
  {
   "cell_type": "code",
   "execution_count": null,
   "metadata": {},
   "outputs": [],
   "source": [
    "X = RS(X); X"
   ]
  }
 ],
 "metadata": {
  "kernelspec": {
   "display_name": "Python 3",
   "language": "python",
   "name": "python3"
  },
  "language_info": {
   "codemirror_mode": {
    "name": "ipython",
    "version": 3
   },
   "file_extension": ".py",
   "mimetype": "text/x-python",
   "name": "python",
   "nbconvert_exporter": "python",
   "pygments_lexer": "ipython3",
   "version": "3.7.6"
  },
  "toc": {
   "base_numbering": 1,
   "nav_menu": {},
   "number_sections": true,
   "sideBar": true,
   "skip_h1_title": false,
   "title_cell": "Table of Contents",
   "title_sidebar": "Contents",
   "toc_cell": false,
   "toc_position": {
    "height": "calc(100% - 180px)",
    "left": "10px",
    "top": "150px",
    "width": "304.566px"
   },
   "toc_section_display": true,
   "toc_window_display": true
  }
 },
 "nbformat": 4,
 "nbformat_minor": 4
}
