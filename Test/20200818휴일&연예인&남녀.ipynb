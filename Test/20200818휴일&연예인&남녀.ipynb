{
 "cells": [
  {
   "cell_type": "markdown",
   "metadata": {},
   "source": [
    "## 연예인"
   ]
  },
  {
   "cell_type": "code",
   "execution_count": null,
   "metadata": {},
   "outputs": [],
   "source": [
    "def celebrity(df=X):\n",
    "    df['연예인']=0\n",
    "    list_celebrity=[\"유귀열\",\"팽현숙\",\"오세득\",\"톰포드\"]\n",
    "    for i in list_celebrity:\n",
    "        df.loc[df.상품명.str.contains(i),'연예인']=1\n",
    "    return df"
   ]
  },
  {
   "cell_type": "markdown",
   "metadata": {},
   "source": [
    "## 금,토 및 공휴일"
   ]
  },
  {
   "cell_type": "code",
   "execution_count": 1,
   "metadata": {},
   "outputs": [
    {
     "ename": "NameError",
     "evalue": "name 'X' is not defined",
     "output_type": "error",
     "traceback": [
      "\u001b[1;31m---------------------------------------------------------------------------\u001b[0m",
      "\u001b[1;31mNameError\u001b[0m                                 Traceback (most recent call last)",
      "\u001b[1;32m<ipython-input-1-b7e7a407a93f>\u001b[0m in \u001b[0;36m<module>\u001b[1;34m\u001b[0m\n\u001b[0;32m      1\u001b[0m \u001b[1;31m#'월' column뺐다고 가정\u001b[0m\u001b[1;33m\u001b[0m\u001b[1;33m\u001b[0m\u001b[1;33m\u001b[0m\u001b[0m\n\u001b[0;32m      2\u001b[0m \u001b[1;33m\u001b[0m\u001b[0m\n\u001b[1;32m----> 3\u001b[1;33m \u001b[1;32mdef\u001b[0m \u001b[0mholiday\u001b[0m\u001b[1;33m(\u001b[0m\u001b[0mdf\u001b[0m \u001b[1;33m=\u001b[0m \u001b[0mX\u001b[0m\u001b[1;33m)\u001b[0m\u001b[1;33m:\u001b[0m\u001b[1;33m\u001b[0m\u001b[1;33m\u001b[0m\u001b[0m\n\u001b[0m\u001b[0;32m      4\u001b[0m     \u001b[0mdf\u001b[0m\u001b[1;33m[\u001b[0m\u001b[1;34m\"휴일\"\u001b[0m\u001b[1;33m]\u001b[0m \u001b[1;33m=\u001b[0m \u001b[1;36m0\u001b[0m\u001b[1;33m\u001b[0m\u001b[1;33m\u001b[0m\u001b[0m\n\u001b[0;32m      5\u001b[0m     \u001b[0mholiday_list\u001b[0m\u001b[1;33m=\u001b[0m\u001b[1;33m[\u001b[0m\u001b[1;36m5\u001b[0m\u001b[1;33m,\u001b[0m\u001b[1;36m6\u001b[0m\u001b[1;33m,\u001b[0m\u001b[1;36m7\u001b[0m\u001b[1;33m,\u001b[0m\u001b[1;36m12\u001b[0m\u001b[1;33m,\u001b[0m\u001b[1;36m13\u001b[0m\u001b[1;33m,\u001b[0m\u001b[1;36m14\u001b[0m\u001b[1;33m,\u001b[0m\u001b[1;36m19\u001b[0m\u001b[1;33m,\u001b[0m\u001b[1;36m20\u001b[0m\u001b[1;33m,\u001b[0m\u001b[1;36m21\u001b[0m\u001b[1;33m,\u001b[0m\u001b[1;36m26\u001b[0m\u001b[1;33m,\u001b[0m\u001b[1;36m27\u001b[0m\u001b[1;33m,\u001b[0m\u001b[1;36m28\u001b[0m\u001b[1;33m]\u001b[0m\u001b[1;33m\u001b[0m\u001b[1;33m\u001b[0m\u001b[0m\n",
      "\u001b[1;31mNameError\u001b[0m: name 'X' is not defined"
     ]
    }
   ],
   "source": [
    "#'월' column뺐다고 가정\n",
    "\n",
    "def holiday(df = X):\n",
    "    df[\"휴일\"] = 0\n",
    "    holiday_list=[5,6,7,12,13,14,19,20,21,26,27,28]\n",
    "    for holiday in holiday_list:\n",
    "        df.loc[(df[\"일\"].astype(\"float32\")==holiday),'휴일'] = 1\n",
    "    return(df)"
   ]
  },
  {
   "cell_type": "markdown",
   "metadata": {},
   "source": [
    "## 남성, 여성 상품"
   ]
  },
  {
   "cell_type": "code",
   "execution_count": null,
   "metadata": {},
   "outputs": [],
   "source": [
    "def gender(df=X):\n",
    "    df[\"남성상품\"]=0\n",
    "    df[\"여성상품\"]=0\n",
    "    list_male=[\"남성\",\"드로즈\",\"런닝\",\"언더셔츠\",\"트렁크\"]\n",
    "    list_female=[\"여성\",\"브라\",\"스타일러\",\"팬티\",\"레깅스\",\"란쥬\",\"앙상블\",\"엔셀라두스 밴딩밴츠\",\"레이스\",\"버킷백\",\"숄더\",\"속눈썹\",\"토트백\",\"마르엘라로사티 린넨\",\"원피스\",\"틴트\",\"카메라백\",\"투웨이백\",\"크로스백\",\"버버리 엘모어 체크 장지갑\",\"마르엘라로사티SS와이드팬츠\",\"아가타 토오픈 부티 샌들 + 웨지 뮬\",\"페리엘리스 2020 YOUTH 컬렉션 선글라스 3종\",\"페라가모 간치니 쥬얼리 선글라스\",\"클러치백\",\"엘르 로라 샌들 + 투웨이 뮬\"]\n",
    "    for i in [\"의류\",\"속옷\",\"잡화\",\"이미용\"]:\n",
    "        for j in list_male:\n",
    "            df.loc[(df[\"상품군\"]==j)&(df.상품명.str.contains(j)),\"남성상품\"]=1\n",
    "        for k in list_female:\n",
    "            df.loc[(df[\"상품군\"]==k)&(df.상품명.str.contains(k)),\"여성상품\"]=1\n",
    "    return df\n",
    "\n",
    "#오렐리안 런닝\n",
    "#푸마 런닝형 브라탑\n",
    "#프로펙스, 카파 런닝"
   ]
  }
 ],
 "metadata": {
  "kernelspec": {
   "display_name": "Python 3",
   "language": "python",
   "name": "python3"
  },
  "language_info": {
   "codemirror_mode": {
    "name": "ipython",
    "version": 3
   },
   "file_extension": ".py",
   "mimetype": "text/x-python",
   "name": "python",
   "nbconvert_exporter": "python",
   "pygments_lexer": "ipython3",
   "version": "3.7.6"
  }
 },
 "nbformat": 4,
 "nbformat_minor": 4
}
