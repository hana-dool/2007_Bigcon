{
 "cells": [
  {
   "cell_type": "markdown",
   "metadata": {},
   "source": [
    "### 한글폰트 깨짐 방지"
   ]
  },
  {
   "cell_type": "code",
   "execution_count": 1,
   "metadata": {},
   "outputs": [],
   "source": [
    "%matplotlib inline\n",
    "import matplotlib as mpl\n",
    "import matplotlib.pyplot as plt\n",
    "import matplotlib.font_manager as fm\n",
    "mpl.rcParams['axes.unicode_minus'] = False"
   ]
  },
  {
   "cell_type": "code",
   "execution_count": 51,
   "metadata": {},
   "outputs": [
    {
     "name": "stdout",
     "output_type": "stream",
     "text": [
      "버전:  3.1.1\n",
      "설치 위치:  C:\\Users\\Rstudio\\Anaconda3\\lib\\site-packages\\matplotlib\\__init__.py\n",
      "설정 위치:  C:\\Users\\Rstudio\\.matplotlib\n",
      "캐시 위치:  C:\\Users\\Rstudio\\.matplotlib\n"
     ]
    }
   ],
   "source": [
    "print ('버전: ', mpl.__version__)\n",
    "print ('설치 위치: ', mpl.__file__)\n",
    "print ('설정 위치: ', mpl.get_configdir())\n",
    "print ('캐시 위치: ', mpl.get_cachedir())"
   ]
  },
  {
   "cell_type": "code",
   "execution_count": 52,
   "metadata": {},
   "outputs": [
    {
     "name": "stdout",
     "output_type": "stream",
     "text": [
      "설정파일 위치:  C:\\Users\\Rstudio\\Anaconda3\\lib\\site-packages\\matplotlib\\mpl-data\\matplotlibrc\n"
     ]
    }
   ],
   "source": [
    "print ('설정파일 위치: ', mpl.matplotlib_fname())"
   ]
  },
  {
   "cell_type": "code",
   "execution_count": 2,
   "metadata": {},
   "outputs": [],
   "source": [
    "import matplotlib\n",
    "from matplotlib import font_manager, rc\n",
    "import platform\n",
    "\n",
    "if platform.system() == 'Windows':\n",
    "# 윈도우인 경우\n",
    "    font_name = font_manager.FontProperties(fname=\"c:/Windows/Fonts/malgun.ttf\").get_name()\n",
    "    rc('font', family=font_name)\n",
    "else:    \n",
    "# Mac 인 경우\n",
    "    rc('font', family='AppleGothic')"
   ]
  },
  {
   "cell_type": "markdown",
   "metadata": {},
   "source": [
    "# 시작"
   ]
  },
  {
   "cell_type": "code",
   "execution_count": 3,
   "metadata": {},
   "outputs": [],
   "source": [
    "import pandas as pd\n",
    "import numpy as np\n",
    "import seaborn as sns\n",
    "import matplotlib.pyplot as plt\n",
    "import math"
   ]
  },
  {
   "cell_type": "code",
   "execution_count": 4,
   "metadata": {},
   "outputs": [],
   "source": [
    "directory = 'C:/Users/Rstudio/Desktop/Bigcon2020/20S_Bigcon/Visualization'"
   ]
  },
  {
   "cell_type": "code",
   "execution_count": 5,
   "metadata": {},
   "outputs": [],
   "source": [
    "X_df=pd.read_excel(directory+'/농수축소분류.xlsx') "
   ]
  },
  {
   "cell_type": "code",
   "execution_count": 10,
   "metadata": {},
   "outputs": [
    {
     "data": {
      "text/html": [
       "<div>\n",
       "<style scoped>\n",
       "    .dataframe tbody tr th:only-of-type {\n",
       "        vertical-align: middle;\n",
       "    }\n",
       "\n",
       "    .dataframe tbody tr th {\n",
       "        vertical-align: top;\n",
       "    }\n",
       "\n",
       "    .dataframe thead th {\n",
       "        text-align: right;\n",
       "    }\n",
       "</style>\n",
       "<table border=\"1\" class=\"dataframe\">\n",
       "  <thead>\n",
       "    <tr style=\"text-align: right;\">\n",
       "      <th></th>\n",
       "      <th>상품명</th>\n",
       "      <th>식품군</th>\n",
       "      <th>판매단가</th>\n",
       "      <th>취급액</th>\n",
       "      <th>노출(분)</th>\n",
       "      <th>판매개수</th>\n",
       "      <th>분당판매개수</th>\n",
       "      <th>분당취급액</th>\n",
       "    </tr>\n",
       "  </thead>\n",
       "  <tbody>\n",
       "    <tr>\n",
       "      <td>0</td>\n",
       "      <td>뽕셰프 이봉원 특갈비탕 12팩</td>\n",
       "      <td>육류</td>\n",
       "      <td>60900</td>\n",
       "      <td>14113000</td>\n",
       "      <td>20.0</td>\n",
       "      <td>231.740558</td>\n",
       "      <td>11.587028</td>\n",
       "      <td>705650.0</td>\n",
       "    </tr>\n",
       "    <tr>\n",
       "      <td>1</td>\n",
       "      <td>뽕셰프 이봉원 특갈비탕 12팩</td>\n",
       "      <td>육류</td>\n",
       "      <td>60900</td>\n",
       "      <td>32395000</td>\n",
       "      <td>20.0</td>\n",
       "      <td>531.937603</td>\n",
       "      <td>26.596880</td>\n",
       "      <td>1619750.0</td>\n",
       "    </tr>\n",
       "    <tr>\n",
       "      <td>2</td>\n",
       "      <td>뽕셰프 이봉원 특갈비탕 12팩</td>\n",
       "      <td>육류</td>\n",
       "      <td>60900</td>\n",
       "      <td>39669000</td>\n",
       "      <td>20.0</td>\n",
       "      <td>651.379310</td>\n",
       "      <td>32.568966</td>\n",
       "      <td>1983450.0</td>\n",
       "    </tr>\n",
       "    <tr>\n",
       "      <td>3</td>\n",
       "      <td>국내산 손질갑오징어 8팩</td>\n",
       "      <td>어류</td>\n",
       "      <td>49900</td>\n",
       "      <td>60787000</td>\n",
       "      <td>20.0</td>\n",
       "      <td>1218.176353</td>\n",
       "      <td>60.908818</td>\n",
       "      <td>3039350.0</td>\n",
       "    </tr>\n",
       "    <tr>\n",
       "      <td>4</td>\n",
       "      <td>국내산 손질갑오징어 8팩</td>\n",
       "      <td>어류</td>\n",
       "      <td>49900</td>\n",
       "      <td>115457000</td>\n",
       "      <td>20.0</td>\n",
       "      <td>2313.767535</td>\n",
       "      <td>115.688377</td>\n",
       "      <td>5772850.0</td>\n",
       "    </tr>\n",
       "    <tr>\n",
       "      <td>...</td>\n",
       "      <td>...</td>\n",
       "      <td>...</td>\n",
       "      <td>...</td>\n",
       "      <td>...</td>\n",
       "      <td>...</td>\n",
       "      <td>...</td>\n",
       "      <td>...</td>\n",
       "      <td>...</td>\n",
       "    </tr>\n",
       "    <tr>\n",
       "      <td>3879</td>\n",
       "      <td>안동간고등어 20팩</td>\n",
       "      <td>어류</td>\n",
       "      <td>30900</td>\n",
       "      <td>54879000</td>\n",
       "      <td>20.0</td>\n",
       "      <td>1776.019417</td>\n",
       "      <td>88.800971</td>\n",
       "      <td>2743950.0</td>\n",
       "    </tr>\n",
       "    <tr>\n",
       "      <td>3880</td>\n",
       "      <td>안동간고등어 20팩</td>\n",
       "      <td>어류</td>\n",
       "      <td>30900</td>\n",
       "      <td>63460000</td>\n",
       "      <td>20.0</td>\n",
       "      <td>2053.721683</td>\n",
       "      <td>102.686084</td>\n",
       "      <td>3173000.0</td>\n",
       "    </tr>\n",
       "    <tr>\n",
       "      <td>3881</td>\n",
       "      <td>제주갈치+참조기세트</td>\n",
       "      <td>어류</td>\n",
       "      <td>49900</td>\n",
       "      <td>34001000</td>\n",
       "      <td>20.0</td>\n",
       "      <td>681.382766</td>\n",
       "      <td>34.069138</td>\n",
       "      <td>1700050.0</td>\n",
       "    </tr>\n",
       "    <tr>\n",
       "      <td>3882</td>\n",
       "      <td>제주갈치+참조기세트</td>\n",
       "      <td>어류</td>\n",
       "      <td>49900</td>\n",
       "      <td>54234000</td>\n",
       "      <td>20.0</td>\n",
       "      <td>1086.853707</td>\n",
       "      <td>54.342685</td>\n",
       "      <td>2711700.0</td>\n",
       "    </tr>\n",
       "    <tr>\n",
       "      <td>3883</td>\n",
       "      <td>제주갈치+참조기세트</td>\n",
       "      <td>어류</td>\n",
       "      <td>49900</td>\n",
       "      <td>52313000</td>\n",
       "      <td>20.0</td>\n",
       "      <td>1048.356713</td>\n",
       "      <td>52.417836</td>\n",
       "      <td>2615650.0</td>\n",
       "    </tr>\n",
       "  </tbody>\n",
       "</table>\n",
       "<p>3884 rows × 8 columns</p>\n",
       "</div>"
      ],
      "text/plain": [
       "                   상품명 식품군   판매단가        취급액  노출(분)         판매개수      분당판매개수  \\\n",
       "0     뽕셰프 이봉원 특갈비탕 12팩  육류  60900   14113000   20.0   231.740558   11.587028   \n",
       "1     뽕셰프 이봉원 특갈비탕 12팩  육류  60900   32395000   20.0   531.937603   26.596880   \n",
       "2     뽕셰프 이봉원 특갈비탕 12팩  육류  60900   39669000   20.0   651.379310   32.568966   \n",
       "3        국내산 손질갑오징어 8팩  어류  49900   60787000   20.0  1218.176353   60.908818   \n",
       "4        국내산 손질갑오징어 8팩  어류  49900  115457000   20.0  2313.767535  115.688377   \n",
       "...                ...  ..    ...        ...    ...          ...         ...   \n",
       "3879        안동간고등어 20팩  어류  30900   54879000   20.0  1776.019417   88.800971   \n",
       "3880        안동간고등어 20팩  어류  30900   63460000   20.0  2053.721683  102.686084   \n",
       "3881        제주갈치+참조기세트  어류  49900   34001000   20.0   681.382766   34.069138   \n",
       "3882        제주갈치+참조기세트  어류  49900   54234000   20.0  1086.853707   54.342685   \n",
       "3883        제주갈치+참조기세트  어류  49900   52313000   20.0  1048.356713   52.417836   \n",
       "\n",
       "          분당취급액  \n",
       "0      705650.0  \n",
       "1     1619750.0  \n",
       "2     1983450.0  \n",
       "3     3039350.0  \n",
       "4     5772850.0  \n",
       "...         ...  \n",
       "3879  2743950.0  \n",
       "3880  3173000.0  \n",
       "3881  1700050.0  \n",
       "3882  2711700.0  \n",
       "3883  2615650.0  \n",
       "\n",
       "[3884 rows x 8 columns]"
      ]
     },
     "execution_count": 10,
     "metadata": {},
     "output_type": "execute_result"
    }
   ],
   "source": [
    "Z = X_df.copy() ; Z"
   ]
  },
  {
   "cell_type": "markdown",
   "metadata": {},
   "source": [
    "#### 소분류별 빈도"
   ]
  },
  {
   "cell_type": "code",
   "execution_count": 11,
   "metadata": {},
   "outputs": [
    {
     "data": {
      "text/plain": [
       "802"
      ]
     },
     "execution_count": 11,
     "metadata": {},
     "output_type": "execute_result"
    }
   ],
   "source": [
    "lst = list(Z[\"식품군\"])\n",
    "lst.count('육류')"
   ]
  },
  {
   "cell_type": "code",
   "execution_count": 12,
   "metadata": {},
   "outputs": [
    {
     "data": {
      "text/plain": [
       "[264, 51, 12, 284, 12, 1835, 119, 802, 137, 99, 242, 27]"
      ]
     },
     "execution_count": 12,
     "metadata": {},
     "output_type": "execute_result"
    }
   ],
   "source": [
    "lst = list(Z[\"식품군\"])\n",
    "x = [lst.count('곡류'),lst.count('과일'),lst.count('기타'),lst.count('김치'),lst.count('당류'),lst.count('어류'),lst.count('건어류'), lst.count('육류'),lst.count('음료'),lst.count('장류/조미료'),lst.count('주전부리'),lst.count('채소')]\n",
    "label = ['곡류','과일','기타','김치','당류','어류','건어류','육류','음료','장류/조미료','주전부리','채소']\n",
    "index = np.arange(len(label))\n",
    "x"
   ]
  },
  {
   "cell_type": "code",
   "execution_count": 13,
   "metadata": {},
   "outputs": [
    {
     "data": {
      "text/plain": [
       "([<matplotlib.axis.XTick at 0x2965eaf7c48>,\n",
       "  <matplotlib.axis.XTick at 0x2965e8814c8>,\n",
       "  <matplotlib.axis.XTick at 0x2965e878948>,\n",
       "  <matplotlib.axis.XTick at 0x2965eb56dc8>,\n",
       "  <matplotlib.axis.XTick at 0x2965eb61588>,\n",
       "  <matplotlib.axis.XTick at 0x2965eb61dc8>,\n",
       "  <matplotlib.axis.XTick at 0x2965eb65708>,\n",
       "  <matplotlib.axis.XTick at 0x2965eb6b0c8>,\n",
       "  <matplotlib.axis.XTick at 0x2965eb6b8c8>,\n",
       "  <matplotlib.axis.XTick at 0x2965eb6f388>,\n",
       "  <matplotlib.axis.XTick at 0x2965eb6fbc8>,\n",
       "  <matplotlib.axis.XTick at 0x2965eb61608>],\n",
       " <a list of 12 Text xticklabel objects>)"
      ]
     },
     "execution_count": 13,
     "metadata": {},
     "output_type": "execute_result"
    },
    {
     "data": {
      "image/png": "[encoded data removed]",
      "text/plain": [
       "<Figure size 432x288 with 1 Axes>"
      ]
     },
     "metadata": {
      "needs_background": "light"
     },
     "output_type": "display_data"
    }
   ],
   "source": [
    "plt.bar(index, x,width=0.1)\n",
    "plt.title('농수축 소분류별 빈도', fontsize=20)\n",
    "plt.xlabel('농수축 소분류', fontsize=15)\n",
    "plt.ylabel('빈도', fontsize=15)\n",
    "plt.xticks(index, label, fontsize=8)"
   ]
  },
  {
   "cell_type": "markdown",
   "metadata": {},
   "source": [
    "어류가 엄청 많고 그 다음에 육류, 곡류가 많다"
   ]
  },
  {
   "cell_type": "markdown",
   "metadata": {},
   "source": [
    "#### 분당 판매개수"
   ]
  },
  {
   "cell_type": "code",
   "execution_count": 14,
   "metadata": {},
   "outputs": [
    {
     "data": {
      "text/plain": [
       "식품군\n",
       "건어류       60.030674\n",
       "곡류        39.747084\n",
       "과일        34.782181\n",
       "기타        23.616738\n",
       "김치        49.056237\n",
       "당류        20.991514\n",
       "어류        56.145917\n",
       "육류        40.716903\n",
       "음료        81.873178\n",
       "장류/조미료    30.987249\n",
       "주전부리      40.792543\n",
       "채소        68.450124\n",
       "Name: 분당판매개수, dtype: float64"
      ]
     },
     "execution_count": 14,
     "metadata": {},
     "output_type": "execute_result"
    }
   ],
   "source": [
    "x = Z.groupby('식품군').분당판매개수.mean()\n",
    "label = ['곡류','과일','기타','김치','당류','어류','건어류','육류','음료','장류/조미료','주전부리','채소']\n",
    "index = np.arange(len(label))\n",
    "x"
   ]
  },
  {
   "cell_type": "code",
   "execution_count": 15,
   "metadata": {},
   "outputs": [
    {
     "data": {
      "text/plain": [
       "([<matplotlib.axis.XTick at 0x2965e6092c8>,\n",
       "  <matplotlib.axis.XTick at 0x2965ebe6c48>,\n",
       "  <matplotlib.axis.XTick at 0x2965ebe67c8>,\n",
       "  <matplotlib.axis.XTick at 0x2965ebe84c8>,\n",
       "  <matplotlib.axis.XTick at 0x2965ebe8c48>,\n",
       "  <matplotlib.axis.XTick at 0x2965e30b548>,\n",
       "  <matplotlib.axis.XTick at 0x2965e30bdc8>,\n",
       "  <matplotlib.axis.XTick at 0x2965e510848>,\n",
       "  <matplotlib.axis.XTick at 0x2965e4e4288>,\n",
       "  <matplotlib.axis.XTick at 0x2965e4e4d48>,\n",
       "  <matplotlib.axis.XTick at 0x2965e30bfc8>,\n",
       "  <matplotlib.axis.XTick at 0x2965ebe8588>],\n",
       " <a list of 12 Text xticklabel objects>)"
      ]
     },
     "execution_count": 15,
     "metadata": {},
     "output_type": "execute_result"
    },
    {
     "data": {
      "image/png": "[encoded data removed]",
      "text/plain": [
       "<Figure size 432x288 with 1 Axes>"
      ]
     },
     "metadata": {
      "needs_background": "light"
     },
     "output_type": "display_data"
    }
   ],
   "source": [
    "# 1분당 판매개수\n",
    "plt.bar(index, x,width=0.1)\n",
    "plt.title('농수축 소분류별 1분당 판매개수', fontsize=20)\n",
    "plt.xlabel('농수축 소분류', fontsize=15)\n",
    "plt.ylabel('1분당 판매개수', fontsize=15)\n",
    "plt.xticks(index, label, fontsize=8)"
   ]
  },
  {
   "cell_type": "markdown",
   "metadata": {},
   "source": [
    "의외로 음료가 1분당 가장 많이 팔린다. 혹시 다른 거에 비해 단가가 싸서 사람들이 비교적 구매 결정을 쉽게 내리는 것 아닐까...?"
   ]
  },
  {
   "cell_type": "markdown",
   "metadata": {},
   "source": [
    "#### 판매액 평균"
   ]
  },
  {
   "cell_type": "code",
   "execution_count": 16,
   "metadata": {},
   "outputs": [
    {
     "data": {
      "text/plain": [
       "식품군\n",
       "건어류       33076.470588\n",
       "곡류        60254.545455\n",
       "과일        41586.274510\n",
       "기타        45150.000000\n",
       "김치        39164.084507\n",
       "당류        59900.000000\n",
       "어류        44388.828338\n",
       "육류        53913.715711\n",
       "음료        32389.051095\n",
       "장류/조미료    74957.575758\n",
       "주전부리      35352.892562\n",
       "채소        31122.222222\n",
       "Name: 판매단가, dtype: float64"
      ]
     },
     "execution_count": 16,
     "metadata": {},
     "output_type": "execute_result"
    }
   ],
   "source": [
    "x = Z.groupby('식품군').판매단가.mean()\n",
    "label = ['곡류','과일','기타','김치','당류','어류','건어류','육류','음료','장류/조미료','주전부리','채소']\n",
    "index = np.arange(len(label))\n",
    "x"
   ]
  },
  {
   "cell_type": "code",
   "execution_count": 17,
   "metadata": {},
   "outputs": [
    {
     "data": {
      "text/plain": [
       "([<matplotlib.axis.XTick at 0x2965e4adb48>,\n",
       "  <matplotlib.axis.XTick at 0x2965e4ad208>,\n",
       "  <matplotlib.axis.XTick at 0x2965e4aed48>,\n",
       "  <matplotlib.axis.XTick at 0x2965e355b48>,\n",
       "  <matplotlib.axis.XTick at 0x2965e33d248>,\n",
       "  <matplotlib.axis.XTick at 0x2965e33d9c8>,\n",
       "  <matplotlib.axis.XTick at 0x2965e33f208>,\n",
       "  <matplotlib.axis.XTick at 0x2965e33f6c8>,\n",
       "  <matplotlib.axis.XTick at 0x2965e3221c8>,\n",
       "  <matplotlib.axis.XTick at 0x2965e3227c8>,\n",
       "  <matplotlib.axis.XTick at 0x2965e341388>,\n",
       "  <matplotlib.axis.XTick at 0x2965e341d88>],\n",
       " <a list of 12 Text xticklabel objects>)"
      ]
     },
     "execution_count": 17,
     "metadata": {},
     "output_type": "execute_result"
    },
    {
     "data": {
      "image/png": "[encoded data removed]",
      "text/plain": [
       "<Figure size 432x288 with 1 Axes>"
      ]
     },
     "metadata": {
      "needs_background": "light"
     },
     "output_type": "display_data"
    }
   ],
   "source": [
    "plt.bar(index, x,width=0.1)\n",
    "plt.title('농수축 소분류별 평균 판매단가', fontsize=20)\n",
    "plt.xlabel('농수축 소분류', fontsize=15)\n",
    "plt.ylabel('평균 판매단가', fontsize=15)\n",
    "plt.xticks(index, label, fontsize=8)"
   ]
  },
  {
   "cell_type": "markdown",
   "metadata": {},
   "source": [
    "장류는 메주, 고춧가루, 다시팩이 있다. 메주가 비싸다"
   ]
  },
  {
   "cell_type": "markdown",
   "metadata": {},
   "source": [
    "#### 분당 취급액 평균"
   ]
  },
  {
   "cell_type": "code",
   "execution_count": 18,
   "metadata": {},
   "outputs": [
    {
     "data": {
      "text/plain": [
       "식품군\n",
       "건어류       1.979554e+06\n",
       "곡류        2.394885e+06\n",
       "과일        1.422161e+06\n",
       "기타        9.077917e+05\n",
       "김치        1.916790e+06\n",
       "당류        1.257392e+06\n",
       "어류        2.354465e+06\n",
       "육류        2.168048e+06\n",
       "음료        2.560665e+06\n",
       "장류/조미료    2.043542e+06\n",
       "주전부리      1.394583e+06\n",
       "채소        2.128119e+06\n",
       "Name: 분당취급액, dtype: float64"
      ]
     },
     "execution_count": 18,
     "metadata": {},
     "output_type": "execute_result"
    }
   ],
   "source": [
    "x = Z.groupby('식품군').분당취급액.mean()\n",
    "label = ['곡류','과일','기타','김치','당류','어류','건어류','육류','음료','장류/조미료','주전부리','채소']\n",
    "index = np.arange(len(label))\n",
    "x"
   ]
  },
  {
   "cell_type": "code",
   "execution_count": 19,
   "metadata": {},
   "outputs": [
    {
     "data": {
      "text/plain": [
       "([<matplotlib.axis.XTick at 0x2965e393e88>,\n",
       "  <matplotlib.axis.XTick at 0x2965e393508>,\n",
       "  <matplotlib.axis.XTick at 0x2965e3930c8>,\n",
       "  <matplotlib.axis.XTick at 0x2965e3bb188>,\n",
       "  <matplotlib.axis.XTick at 0x2965e3bb508>,\n",
       "  <matplotlib.axis.XTick at 0x2965e3bbc88>,\n",
       "  <matplotlib.axis.XTick at 0x2965e3bb748>,\n",
       "  <matplotlib.axis.XTick at 0x2965e3e6808>,\n",
       "  <matplotlib.axis.XTick at 0x2965e3ea288>,\n",
       "  <matplotlib.axis.XTick at 0x2965e3ea908>,\n",
       "  <matplotlib.axis.XTick at 0x2965e3f12c8>,\n",
       "  <matplotlib.axis.XTick at 0x2965e3f30c8>],\n",
       " <a list of 12 Text xticklabel objects>)"
      ]
     },
     "execution_count": 19,
     "metadata": {},
     "output_type": "execute_result"
    },
    {
     "data": {
      "image/png": "[encoded data removed]",
      "text/plain": [
       "<Figure size 432x288 with 1 Axes>"
      ]
     },
     "metadata": {
      "needs_background": "light"
     },
     "output_type": "display_data"
    }
   ],
   "source": [
    "# 1분당 총 취급액\n",
    "plt.bar(index, x,width=0.1)\n",
    "plt.title('농수축 소분류별 1분당 취급액', fontsize=20)\n",
    "plt.xlabel('농수축 소분류', fontsize=15)\n",
    "plt.ylabel('1분당 취급액', fontsize=15)\n",
    "plt.xticks(index, label, fontsize=8)"
   ]
  },
  {
   "cell_type": "markdown",
   "metadata": {},
   "source": [
    "#### 분당 취급액 합"
   ]
  },
  {
   "cell_type": "code",
   "execution_count": 20,
   "metadata": {},
   "outputs": [
    {
     "data": {
      "text/plain": [
       "식품군\n",
       "건어류       2.355669e+08\n",
       "곡류        6.322498e+08\n",
       "과일        7.253023e+07\n",
       "기타        1.089350e+07\n",
       "김치        5.443682e+08\n",
       "당류        1.508870e+07\n",
       "어류        4.320443e+09\n",
       "육류        1.738774e+09\n",
       "음료        3.508111e+08\n",
       "장류/조미료    2.023107e+08\n",
       "주전부리      3.374891e+08\n",
       "채소        5.745920e+07\n",
       "Name: 분당취급액, dtype: float64"
      ]
     },
     "execution_count": 20,
     "metadata": {},
     "output_type": "execute_result"
    }
   ],
   "source": [
    "x = Z.groupby('식품군').분당취급액.sum()\n",
    "label = ['곡류','과일','기타','김치','당류','어류','건어류','육류','음료','장류/조미료','주전부리','채소']\n",
    "index = np.arange(len(label))\n",
    "x"
   ]
  },
  {
   "cell_type": "code",
   "execution_count": 21,
   "metadata": {},
   "outputs": [
    {
     "data": {
      "text/plain": [
       "([<matplotlib.axis.XTick at 0x2965e424c48>,\n",
       "  <matplotlib.axis.XTick at 0x2965e424348>,\n",
       "  <matplotlib.axis.XTick at 0x2965e429e88>,\n",
       "  <matplotlib.axis.XTick at 0x2965e46fb48>,\n",
       "  <matplotlib.axis.XTick at 0x2965e471248>,\n",
       "  <matplotlib.axis.XTick at 0x2965e4719c8>,\n",
       "  <matplotlib.axis.XTick at 0x2965e471888>,\n",
       "  <matplotlib.axis.XTick at 0x2965e477548>,\n",
       "  <matplotlib.axis.XTick at 0x2965e477ec8>,\n",
       "  <matplotlib.axis.XTick at 0x2965e47b648>,\n",
       "  <matplotlib.axis.XTick at 0x2965e4812c8>,\n",
       "  <matplotlib.axis.XTick at 0x2965e481c48>],\n",
       " <a list of 12 Text xticklabel objects>)"
      ]
     },
     "execution_count": 21,
     "metadata": {},
     "output_type": "execute_result"
    },
    {
     "data": {
      "image/png": "[encoded data removed]",
      "text/plain": [
       "<Figure size 432x288 with 1 Axes>"
      ]
     },
     "metadata": {
      "needs_background": "light"
     },
     "output_type": "display_data"
    }
   ],
   "source": [
    "# 1분당 총 취급액\n",
    "plt.bar(index, x,width=0.1)\n",
    "plt.title('농수축 소분류별 1분당 취급액 합', fontsize=20)\n",
    "plt.xlabel('농수축 소분류', fontsize=15)\n",
    "plt.ylabel('1분당 취급액 합', fontsize=15)\n",
    "plt.xticks(index, label, fontsize=8)"
   ]
  },
  {
   "cell_type": "markdown",
   "metadata": {},
   "source": [
    "쥐포가 진짜 잘나간다"
   ]
  }
 ],
 "metadata": {
  "kernelspec": {
   "display_name": "Python 3",
   "language": "python",
   "name": "python3"
  },
  "language_info": {
   "codemirror_mode": {
    "name": "ipython",
    "version": 3
   },
   "file_extension": ".py",
   "mimetype": "text/x-python",
   "name": "python",
   "nbconvert_exporter": "python",
   "pygments_lexer": "ipython3",
   "version": "3.7.4"
  }
 },
 "nbformat": 4,
 "nbformat_minor": 2
}
