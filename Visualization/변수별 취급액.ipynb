{
 "cells": [
  {
   "cell_type": "markdown",
   "metadata": {},
   "source": [
    "### 한글폰트 깨짐 방지"
   ]
  },
  {
   "cell_type": "code",
   "execution_count": 50,
   "metadata": {},
   "outputs": [],
   "source": [
    "%matplotlib inline\n",
    "import matplotlib as mpl\n",
    "import matplotlib.pyplot as plt\n",
    "import matplotlib.font_manager as fm\n",
    "mpl.rcParams['axes.unicode_minus'] = False"
   ]
  },
  {
   "cell_type": "code",
   "execution_count": 51,
   "metadata": {},
   "outputs": [
    {
     "name": "stdout",
     "output_type": "stream",
     "text": [
      "버전:  3.1.1\n",
      "설치 위치:  C:\\Users\\Rstudio\\Anaconda3\\lib\\site-packages\\matplotlib\\__init__.py\n",
      "설정 위치:  C:\\Users\\Rstudio\\.matplotlib\n",
      "캐시 위치:  C:\\Users\\Rstudio\\.matplotlib\n"
     ]
    }
   ],
   "source": [
    "print ('버전: ', mpl.__version__)\n",
    "print ('설치 위치: ', mpl.__file__)\n",
    "print ('설정 위치: ', mpl.get_configdir())\n",
    "print ('캐시 위치: ', mpl.get_cachedir())"
   ]
  },
  {
   "cell_type": "code",
   "execution_count": 52,
   "metadata": {},
   "outputs": [
    {
     "name": "stdout",
     "output_type": "stream",
     "text": [
      "설정파일 위치:  C:\\Users\\Rstudio\\Anaconda3\\lib\\site-packages\\matplotlib\\mpl-data\\matplotlibrc\n"
     ]
    }
   ],
   "source": [
    "print ('설정파일 위치: ', mpl.matplotlib_fname())"
   ]
  },
  {
   "cell_type": "code",
   "execution_count": 56,
   "metadata": {},
   "outputs": [],
   "source": [
    "import matplotlib\n",
    "from matplotlib import font_manager, rc\n",
    "import platform\n",
    "\n",
    "if platform.system() == 'Windows':\n",
    "# 윈도우인 경우\n",
    "    font_name = font_manager.FontProperties(fname=\"c:/Windows/Fonts/malgun.ttf\").get_name()\n",
    "    rc('font', family=font_name)\n",
    "else:    \n",
    "# Mac 인 경우\n",
    "    rc('font', family='AppleGothic')"
   ]
  },
  {
   "cell_type": "markdown",
   "metadata": {},
   "source": [
    "# 시작"
   ]
  },
  {
   "cell_type": "code",
   "execution_count": 1,
   "metadata": {},
   "outputs": [],
   "source": [
    "import pandas as pd\n",
    "import numpy as np\n",
    "import seaborn as sns\n",
    "import matplotlib.pyplot as plt\n",
    "import math"
   ]
  },
  {
   "cell_type": "code",
   "execution_count": 64,
   "metadata": {},
   "outputs": [],
   "source": [
    "directory = 'C:/Users/Rstudio/Desktop/Bigcon2020/20S_Bigcon'"
   ]
  },
  {
   "cell_type": "code",
   "execution_count": 62,
   "metadata": {},
   "outputs": [],
   "source": [
    "X_df=pd.read_excel(directory+'/X0820.xlsx') "
   ]
  },
  {
   "cell_type": "code",
   "execution_count": 45,
   "metadata": {},
   "outputs": [
    {
     "data": {
      "text/html": [
       "<div>\n",
       "<style scoped>\n",
       "    .dataframe tbody tr th:only-of-type {\n",
       "        vertical-align: middle;\n",
       "    }\n",
       "\n",
       "    .dataframe tbody tr th {\n",
       "        vertical-align: top;\n",
       "    }\n",
       "\n",
       "    .dataframe thead th {\n",
       "        text-align: right;\n",
       "    }\n",
       "</style>\n",
       "<table border=\"1\" class=\"dataframe\">\n",
       "  <thead>\n",
       "    <tr style=\"text-align: right;\">\n",
       "      <th></th>\n",
       "      <th>Unnamed: 0</th>\n",
       "      <th>방송일시</th>\n",
       "      <th>노출(분)</th>\n",
       "      <th>마더코드</th>\n",
       "      <th>상품코드</th>\n",
       "      <th>상품명</th>\n",
       "      <th>상품군</th>\n",
       "      <th>판매단가</th>\n",
       "      <th>취급액</th>\n",
       "      <th>평균방송분</th>\n",
       "      <th>...</th>\n",
       "      <th>상품군power</th>\n",
       "      <th>CPI</th>\n",
       "      <th>CSI</th>\n",
       "      <th>RS</th>\n",
       "      <th>PrimeTime</th>\n",
       "      <th>남성상품</th>\n",
       "      <th>여성상품</th>\n",
       "      <th>무이자</th>\n",
       "      <th>일시불</th>\n",
       "      <th>유명기업/브랜드</th>\n",
       "    </tr>\n",
       "  </thead>\n",
       "  <tbody>\n",
       "    <tr>\n",
       "      <td>0</td>\n",
       "      <td>0</td>\n",
       "      <td>2019-01-01 06:00:00</td>\n",
       "      <td>20.0</td>\n",
       "      <td>100346</td>\n",
       "      <td>201072</td>\n",
       "      <td>테이트 남성 셀린니트3종</td>\n",
       "      <td>의류</td>\n",
       "      <td>39900</td>\n",
       "      <td>2099000</td>\n",
       "      <td>10.0</td>\n",
       "      <td>...</td>\n",
       "      <td>26.41</td>\n",
       "      <td>0.8</td>\n",
       "      <td>97.5</td>\n",
       "      <td>139.3</td>\n",
       "      <td>0</td>\n",
       "      <td>1</td>\n",
       "      <td>0</td>\n",
       "      <td>0</td>\n",
       "      <td>0</td>\n",
       "      <td>0</td>\n",
       "    </tr>\n",
       "    <tr>\n",
       "      <td>1</td>\n",
       "      <td>1</td>\n",
       "      <td>2019-01-01 06:00:00</td>\n",
       "      <td>20.0</td>\n",
       "      <td>100346</td>\n",
       "      <td>201079</td>\n",
       "      <td>테이트 여성 셀린니트3종</td>\n",
       "      <td>의류</td>\n",
       "      <td>39900</td>\n",
       "      <td>4371000</td>\n",
       "      <td>10.0</td>\n",
       "      <td>...</td>\n",
       "      <td>26.41</td>\n",
       "      <td>0.8</td>\n",
       "      <td>97.5</td>\n",
       "      <td>139.3</td>\n",
       "      <td>0</td>\n",
       "      <td>0</td>\n",
       "      <td>1</td>\n",
       "      <td>0</td>\n",
       "      <td>0</td>\n",
       "      <td>0</td>\n",
       "    </tr>\n",
       "    <tr>\n",
       "      <td>2</td>\n",
       "      <td>2</td>\n",
       "      <td>2019-01-01 06:20:00</td>\n",
       "      <td>20.0</td>\n",
       "      <td>100346</td>\n",
       "      <td>201072</td>\n",
       "      <td>테이트 남성 셀린니트3종</td>\n",
       "      <td>의류</td>\n",
       "      <td>39900</td>\n",
       "      <td>3262000</td>\n",
       "      <td>10.0</td>\n",
       "      <td>...</td>\n",
       "      <td>26.41</td>\n",
       "      <td>0.8</td>\n",
       "      <td>97.5</td>\n",
       "      <td>139.3</td>\n",
       "      <td>0</td>\n",
       "      <td>1</td>\n",
       "      <td>0</td>\n",
       "      <td>0</td>\n",
       "      <td>0</td>\n",
       "      <td>0</td>\n",
       "    </tr>\n",
       "    <tr>\n",
       "      <td>3</td>\n",
       "      <td>3</td>\n",
       "      <td>2019-01-01 06:20:00</td>\n",
       "      <td>20.0</td>\n",
       "      <td>100346</td>\n",
       "      <td>201079</td>\n",
       "      <td>테이트 여성 셀린니트3종</td>\n",
       "      <td>의류</td>\n",
       "      <td>39900</td>\n",
       "      <td>6955000</td>\n",
       "      <td>10.0</td>\n",
       "      <td>...</td>\n",
       "      <td>26.41</td>\n",
       "      <td>0.8</td>\n",
       "      <td>97.5</td>\n",
       "      <td>139.3</td>\n",
       "      <td>0</td>\n",
       "      <td>0</td>\n",
       "      <td>1</td>\n",
       "      <td>0</td>\n",
       "      <td>0</td>\n",
       "      <td>0</td>\n",
       "    </tr>\n",
       "    <tr>\n",
       "      <td>4</td>\n",
       "      <td>4</td>\n",
       "      <td>2019-01-01 06:40:00</td>\n",
       "      <td>20.0</td>\n",
       "      <td>100346</td>\n",
       "      <td>201072</td>\n",
       "      <td>테이트 남성 셀린니트3종</td>\n",
       "      <td>의류</td>\n",
       "      <td>39900</td>\n",
       "      <td>6672000</td>\n",
       "      <td>10.0</td>\n",
       "      <td>...</td>\n",
       "      <td>26.41</td>\n",
       "      <td>0.8</td>\n",
       "      <td>97.5</td>\n",
       "      <td>139.3</td>\n",
       "      <td>0</td>\n",
       "      <td>1</td>\n",
       "      <td>0</td>\n",
       "      <td>0</td>\n",
       "      <td>0</td>\n",
       "      <td>0</td>\n",
       "    </tr>\n",
       "    <tr>\n",
       "      <td>...</td>\n",
       "      <td>...</td>\n",
       "      <td>...</td>\n",
       "      <td>...</td>\n",
       "      <td>...</td>\n",
       "      <td>...</td>\n",
       "      <td>...</td>\n",
       "      <td>...</td>\n",
       "      <td>...</td>\n",
       "      <td>...</td>\n",
       "      <td>...</td>\n",
       "      <td>...</td>\n",
       "      <td>...</td>\n",
       "      <td>...</td>\n",
       "      <td>...</td>\n",
       "      <td>...</td>\n",
       "      <td>...</td>\n",
       "      <td>...</td>\n",
       "      <td>...</td>\n",
       "      <td>...</td>\n",
       "      <td>...</td>\n",
       "      <td>...</td>\n",
       "    </tr>\n",
       "    <tr>\n",
       "      <td>35374</td>\n",
       "      <td>35374</td>\n",
       "      <td>2019-12-31 23:40:00</td>\n",
       "      <td>20.0</td>\n",
       "      <td>100448</td>\n",
       "      <td>201391</td>\n",
       "      <td>일시불쿠첸압력밥솥 6인용</td>\n",
       "      <td>주방</td>\n",
       "      <td>148000</td>\n",
       "      <td>10157000</td>\n",
       "      <td>5.0</td>\n",
       "      <td>...</td>\n",
       "      <td>19.40</td>\n",
       "      <td>0.7</td>\n",
       "      <td>100.5</td>\n",
       "      <td>138.0</td>\n",
       "      <td>0</td>\n",
       "      <td>0</td>\n",
       "      <td>0</td>\n",
       "      <td>0</td>\n",
       "      <td>1</td>\n",
       "      <td>1</td>\n",
       "    </tr>\n",
       "    <tr>\n",
       "      <td>35375</td>\n",
       "      <td>35375</td>\n",
       "      <td>2020-01-01 00:00:00</td>\n",
       "      <td>20.0</td>\n",
       "      <td>100448</td>\n",
       "      <td>201383</td>\n",
       "      <td>무이자쿠첸압력밥솥 10인용</td>\n",
       "      <td>주방</td>\n",
       "      <td>178000</td>\n",
       "      <td>50929000</td>\n",
       "      <td>5.0</td>\n",
       "      <td>...</td>\n",
       "      <td>19.40</td>\n",
       "      <td>1.5</td>\n",
       "      <td>104.2</td>\n",
       "      <td>131.7</td>\n",
       "      <td>0</td>\n",
       "      <td>0</td>\n",
       "      <td>0</td>\n",
       "      <td>1</td>\n",
       "      <td>0</td>\n",
       "      <td>1</td>\n",
       "    </tr>\n",
       "    <tr>\n",
       "      <td>35376</td>\n",
       "      <td>35376</td>\n",
       "      <td>2020-01-01 00:00:00</td>\n",
       "      <td>20.0</td>\n",
       "      <td>100448</td>\n",
       "      <td>201390</td>\n",
       "      <td>일시불쿠첸압력밥솥 10인용</td>\n",
       "      <td>주방</td>\n",
       "      <td>168000</td>\n",
       "      <td>104392000</td>\n",
       "      <td>5.0</td>\n",
       "      <td>...</td>\n",
       "      <td>19.40</td>\n",
       "      <td>1.5</td>\n",
       "      <td>104.2</td>\n",
       "      <td>131.7</td>\n",
       "      <td>0</td>\n",
       "      <td>0</td>\n",
       "      <td>0</td>\n",
       "      <td>0</td>\n",
       "      <td>1</td>\n",
       "      <td>1</td>\n",
       "    </tr>\n",
       "    <tr>\n",
       "      <td>35377</td>\n",
       "      <td>35377</td>\n",
       "      <td>2020-01-01 00:00:00</td>\n",
       "      <td>20.0</td>\n",
       "      <td>100448</td>\n",
       "      <td>201384</td>\n",
       "      <td>무이자쿠첸압력밥솥 6인용</td>\n",
       "      <td>주방</td>\n",
       "      <td>158000</td>\n",
       "      <td>13765000</td>\n",
       "      <td>5.0</td>\n",
       "      <td>...</td>\n",
       "      <td>19.40</td>\n",
       "      <td>1.5</td>\n",
       "      <td>104.2</td>\n",
       "      <td>131.7</td>\n",
       "      <td>0</td>\n",
       "      <td>0</td>\n",
       "      <td>0</td>\n",
       "      <td>1</td>\n",
       "      <td>0</td>\n",
       "      <td>1</td>\n",
       "    </tr>\n",
       "    <tr>\n",
       "      <td>35378</td>\n",
       "      <td>35378</td>\n",
       "      <td>2020-01-01 00:00:00</td>\n",
       "      <td>20.0</td>\n",
       "      <td>100448</td>\n",
       "      <td>201391</td>\n",
       "      <td>일시불쿠첸압력밥솥 6인용</td>\n",
       "      <td>주방</td>\n",
       "      <td>148000</td>\n",
       "      <td>46608000</td>\n",
       "      <td>5.0</td>\n",
       "      <td>...</td>\n",
       "      <td>19.40</td>\n",
       "      <td>1.5</td>\n",
       "      <td>104.2</td>\n",
       "      <td>131.7</td>\n",
       "      <td>0</td>\n",
       "      <td>0</td>\n",
       "      <td>0</td>\n",
       "      <td>0</td>\n",
       "      <td>1</td>\n",
       "      <td>1</td>\n",
       "    </tr>\n",
       "  </tbody>\n",
       "</table>\n",
       "<p>35379 rows × 41 columns</p>\n",
       "</div>"
      ],
      "text/plain": [
       "       Unnamed: 0                 방송일시  노출(분)    마더코드    상품코드             상품명  \\\n",
       "0               0  2019-01-01 06:00:00   20.0  100346  201072   테이트 남성 셀린니트3종   \n",
       "1               1  2019-01-01 06:00:00   20.0  100346  201079   테이트 여성 셀린니트3종   \n",
       "2               2  2019-01-01 06:20:00   20.0  100346  201072   테이트 남성 셀린니트3종   \n",
       "3               3  2019-01-01 06:20:00   20.0  100346  201079   테이트 여성 셀린니트3종   \n",
       "4               4  2019-01-01 06:40:00   20.0  100346  201072   테이트 남성 셀린니트3종   \n",
       "...           ...                  ...    ...     ...     ...             ...   \n",
       "35374       35374  2019-12-31 23:40:00   20.0  100448  201391   일시불쿠첸압력밥솥 6인용   \n",
       "35375       35375  2020-01-01 00:00:00   20.0  100448  201383  무이자쿠첸압력밥솥 10인용   \n",
       "35376       35376  2020-01-01 00:00:00   20.0  100448  201390  일시불쿠첸압력밥솥 10인용   \n",
       "35377       35377  2020-01-01 00:00:00   20.0  100448  201384   무이자쿠첸압력밥솥 6인용   \n",
       "35378       35378  2020-01-01 00:00:00   20.0  100448  201391   일시불쿠첸압력밥솥 6인용   \n",
       "\n",
       "      상품군    판매단가        취급액  평균방송분  ...  상품군power  CPI    CSI     RS  \\\n",
       "0      의류   39900    2099000   10.0  ...     26.41  0.8   97.5  139.3   \n",
       "1      의류   39900    4371000   10.0  ...     26.41  0.8   97.5  139.3   \n",
       "2      의류   39900    3262000   10.0  ...     26.41  0.8   97.5  139.3   \n",
       "3      의류   39900    6955000   10.0  ...     26.41  0.8   97.5  139.3   \n",
       "4      의류   39900    6672000   10.0  ...     26.41  0.8   97.5  139.3   \n",
       "...    ..     ...        ...    ...  ...       ...  ...    ...    ...   \n",
       "35374  주방  148000   10157000    5.0  ...     19.40  0.7  100.5  138.0   \n",
       "35375  주방  178000   50929000    5.0  ...     19.40  1.5  104.2  131.7   \n",
       "35376  주방  168000  104392000    5.0  ...     19.40  1.5  104.2  131.7   \n",
       "35377  주방  158000   13765000    5.0  ...     19.40  1.5  104.2  131.7   \n",
       "35378  주방  148000   46608000    5.0  ...     19.40  1.5  104.2  131.7   \n",
       "\n",
       "       PrimeTime  남성상품 여성상품  무이자  일시불  유명기업/브랜드  \n",
       "0              0     1    0    0    0         0  \n",
       "1              0     0    1    0    0         0  \n",
       "2              0     1    0    0    0         0  \n",
       "3              0     0    1    0    0         0  \n",
       "4              0     1    0    0    0         0  \n",
       "...          ...   ...  ...  ...  ...       ...  \n",
       "35374          0     0    0    0    1         1  \n",
       "35375          0     0    0    1    0         1  \n",
       "35376          0     0    0    0    1         1  \n",
       "35377          0     0    0    1    0         1  \n",
       "35378          0     0    0    0    1         1  \n",
       "\n",
       "[35379 rows x 41 columns]"
      ]
     },
     "execution_count": 45,
     "metadata": {},
     "output_type": "execute_result"
    }
   ],
   "source": [
    "X = X_df.copy() ; X"
   ]
  },
  {
   "cell_type": "code",
   "execution_count": 6,
   "metadata": {},
   "outputs": [
    {
     "data": {
      "text/html": [
       "<div>\n",
       "<style scoped>\n",
       "    .dataframe tbody tr th:only-of-type {\n",
       "        vertical-align: middle;\n",
       "    }\n",
       "\n",
       "    .dataframe tbody tr th {\n",
       "        vertical-align: top;\n",
       "    }\n",
       "\n",
       "    .dataframe thead th {\n",
       "        text-align: right;\n",
       "    }\n",
       "</style>\n",
       "<table border=\"1\" class=\"dataframe\">\n",
       "  <thead>\n",
       "    <tr style=\"text-align: right;\">\n",
       "      <th></th>\n",
       "      <th>방송일시</th>\n",
       "      <th>노출(분)</th>\n",
       "      <th>마더코드</th>\n",
       "      <th>상품코드</th>\n",
       "      <th>상품명</th>\n",
       "      <th>상품군</th>\n",
       "      <th>판매단가</th>\n",
       "      <th>취급액</th>\n",
       "      <th>평균방송분</th>\n",
       "      <th>겹치는수</th>\n",
       "      <th>...</th>\n",
       "      <th>상품군power</th>\n",
       "      <th>CPI</th>\n",
       "      <th>CSI</th>\n",
       "      <th>RS</th>\n",
       "      <th>PrimeTime</th>\n",
       "      <th>남성상품</th>\n",
       "      <th>여성상품</th>\n",
       "      <th>무이자</th>\n",
       "      <th>일시불</th>\n",
       "      <th>유명기업/브랜드</th>\n",
       "    </tr>\n",
       "  </thead>\n",
       "  <tbody>\n",
       "    <tr>\n",
       "      <td>0</td>\n",
       "      <td>2019-01-01 06:00:00</td>\n",
       "      <td>20.0</td>\n",
       "      <td>100346</td>\n",
       "      <td>201072</td>\n",
       "      <td>테이트 남성 셀린니트3종</td>\n",
       "      <td>의류</td>\n",
       "      <td>39900</td>\n",
       "      <td>2099000</td>\n",
       "      <td>10.0</td>\n",
       "      <td>1</td>\n",
       "      <td>...</td>\n",
       "      <td>26.41</td>\n",
       "      <td>0.8</td>\n",
       "      <td>97.5</td>\n",
       "      <td>139.3</td>\n",
       "      <td>0</td>\n",
       "      <td>1</td>\n",
       "      <td>0</td>\n",
       "      <td>0</td>\n",
       "      <td>0</td>\n",
       "      <td>0</td>\n",
       "    </tr>\n",
       "    <tr>\n",
       "      <td>1</td>\n",
       "      <td>2019-01-01 06:00:00</td>\n",
       "      <td>20.0</td>\n",
       "      <td>100346</td>\n",
       "      <td>201079</td>\n",
       "      <td>테이트 여성 셀린니트3종</td>\n",
       "      <td>의류</td>\n",
       "      <td>39900</td>\n",
       "      <td>4371000</td>\n",
       "      <td>10.0</td>\n",
       "      <td>1</td>\n",
       "      <td>...</td>\n",
       "      <td>26.41</td>\n",
       "      <td>0.8</td>\n",
       "      <td>97.5</td>\n",
       "      <td>139.3</td>\n",
       "      <td>0</td>\n",
       "      <td>0</td>\n",
       "      <td>1</td>\n",
       "      <td>0</td>\n",
       "      <td>0</td>\n",
       "      <td>0</td>\n",
       "    </tr>\n",
       "    <tr>\n",
       "      <td>2</td>\n",
       "      <td>2019-01-01 06:20:00</td>\n",
       "      <td>20.0</td>\n",
       "      <td>100346</td>\n",
       "      <td>201072</td>\n",
       "      <td>테이트 남성 셀린니트3종</td>\n",
       "      <td>의류</td>\n",
       "      <td>39900</td>\n",
       "      <td>3262000</td>\n",
       "      <td>10.0</td>\n",
       "      <td>2</td>\n",
       "      <td>...</td>\n",
       "      <td>26.41</td>\n",
       "      <td>0.8</td>\n",
       "      <td>97.5</td>\n",
       "      <td>139.3</td>\n",
       "      <td>0</td>\n",
       "      <td>1</td>\n",
       "      <td>0</td>\n",
       "      <td>0</td>\n",
       "      <td>0</td>\n",
       "      <td>0</td>\n",
       "    </tr>\n",
       "    <tr>\n",
       "      <td>3</td>\n",
       "      <td>2019-01-01 06:20:00</td>\n",
       "      <td>20.0</td>\n",
       "      <td>100346</td>\n",
       "      <td>201079</td>\n",
       "      <td>테이트 여성 셀린니트3종</td>\n",
       "      <td>의류</td>\n",
       "      <td>39900</td>\n",
       "      <td>6955000</td>\n",
       "      <td>10.0</td>\n",
       "      <td>2</td>\n",
       "      <td>...</td>\n",
       "      <td>26.41</td>\n",
       "      <td>0.8</td>\n",
       "      <td>97.5</td>\n",
       "      <td>139.3</td>\n",
       "      <td>0</td>\n",
       "      <td>0</td>\n",
       "      <td>1</td>\n",
       "      <td>0</td>\n",
       "      <td>0</td>\n",
       "      <td>0</td>\n",
       "    </tr>\n",
       "    <tr>\n",
       "      <td>4</td>\n",
       "      <td>2019-01-01 06:40:00</td>\n",
       "      <td>20.0</td>\n",
       "      <td>100346</td>\n",
       "      <td>201072</td>\n",
       "      <td>테이트 남성 셀린니트3종</td>\n",
       "      <td>의류</td>\n",
       "      <td>39900</td>\n",
       "      <td>6672000</td>\n",
       "      <td>10.0</td>\n",
       "      <td>3</td>\n",
       "      <td>...</td>\n",
       "      <td>26.41</td>\n",
       "      <td>0.8</td>\n",
       "      <td>97.5</td>\n",
       "      <td>139.3</td>\n",
       "      <td>0</td>\n",
       "      <td>1</td>\n",
       "      <td>0</td>\n",
       "      <td>0</td>\n",
       "      <td>0</td>\n",
       "      <td>0</td>\n",
       "    </tr>\n",
       "  </tbody>\n",
       "</table>\n",
       "<p>5 rows × 40 columns</p>\n",
       "</div>"
      ],
      "text/plain": [
       "                  방송일시  노출(분)    마더코드    상품코드            상품명 상품군   판매단가  \\\n",
       "0  2019-01-01 06:00:00   20.0  100346  201072  테이트 남성 셀린니트3종  의류  39900   \n",
       "1  2019-01-01 06:00:00   20.0  100346  201079  테이트 여성 셀린니트3종  의류  39900   \n",
       "2  2019-01-01 06:20:00   20.0  100346  201072  테이트 남성 셀린니트3종  의류  39900   \n",
       "3  2019-01-01 06:20:00   20.0  100346  201079  테이트 여성 셀린니트3종  의류  39900   \n",
       "4  2019-01-01 06:40:00   20.0  100346  201072  테이트 남성 셀린니트3종  의류  39900   \n",
       "\n",
       "       취급액  평균방송분  겹치는수  ... 상품군power  CPI   CSI     RS  PrimeTime 남성상품  여성상품  \\\n",
       "0  2099000   10.0     1  ...    26.41  0.8  97.5  139.3          0    1     0   \n",
       "1  4371000   10.0     1  ...    26.41  0.8  97.5  139.3          0    0     1   \n",
       "2  3262000   10.0     2  ...    26.41  0.8  97.5  139.3          0    1     0   \n",
       "3  6955000   10.0     2  ...    26.41  0.8  97.5  139.3          0    0     1   \n",
       "4  6672000   10.0     3  ...    26.41  0.8  97.5  139.3          0    1     0   \n",
       "\n",
       "   무이자  일시불  유명기업/브랜드  \n",
       "0    0    0         0  \n",
       "1    0    0         0  \n",
       "2    0    0         0  \n",
       "3    0    0         0  \n",
       "4    0    0         0  \n",
       "\n",
       "[5 rows x 40 columns]"
      ]
     },
     "execution_count": 6,
     "metadata": {},
     "output_type": "execute_result"
    }
   ],
   "source": [
    "X.drop(columns=['Unnamed: 0'],inplace=True)\n",
    "X.head()"
   ]
  },
  {
   "cell_type": "markdown",
   "metadata": {},
   "source": [
    "### 노출(분)"
   ]
  },
  {
   "cell_type": "code",
   "execution_count": 11,
   "metadata": {},
   "outputs": [
    {
     "data": {
      "text/plain": [
       "0    20.0\n",
       "1    20.0\n",
       "2    20.0\n",
       "3    20.0\n",
       "4    20.0\n",
       "Name: 노출(분), dtype: float64"
      ]
     },
     "execution_count": 11,
     "metadata": {},
     "output_type": "execute_result"
    }
   ],
   "source": [
    "x1 = X.iloc[:,1]\n",
    "y = X.iloc[:,7]\n",
    "x1.head()"
   ]
  },
  {
   "cell_type": "code",
   "execution_count": 57,
   "metadata": {},
   "outputs": [
    {
     "data": {
      "text/plain": [
       "<matplotlib.axes._subplots.AxesSubplot at 0x2273e3eb348>"
      ]
     },
     "execution_count": 57,
     "metadata": {},
     "output_type": "execute_result"
    },
    {
     "data": {
      "image/png": "[encoded data removed]",
      "text/plain": [
       "<Figure size 432x288 with 1 Axes>"
      ]
     },
     "metadata": {
      "needs_background": "light"
     },
     "output_type": "display_data"
    }
   ],
   "source": [
    "# 노출(분) 분포\n",
    "sns.distplot(x1)"
   ]
  },
  {
   "cell_type": "code",
   "execution_count": 58,
   "metadata": {},
   "outputs": [
    {
     "data": {
      "text/plain": [
       "Text(0, 0.5, '취급액')"
      ]
     },
     "execution_count": 58,
     "metadata": {},
     "output_type": "execute_result"
    },
    {
     "data": {
      "image/png": "[encoded data removed]",
      "text/plain": [
       "<Figure size 432x288 with 1 Axes>"
      ]
     },
     "metadata": {
      "needs_background": "light"
     },
     "output_type": "display_data"
    }
   ],
   "source": [
    "# 취급액과의 분포\n",
    "plt.plot(x1,y,linestyle='none', marker='o')\n",
    "plt.title('취급액과 노출(분)', fontsize=20)\n",
    "plt.xlabel('노출(분)', fontsize=14)\n",
    "plt.ylabel('취급액', fontsize=14)"
   ]
  },
  {
   "cell_type": "markdown",
   "metadata": {},
   "source": [
    "### 농수축 소분류"
   ]
  },
  {
   "cell_type": "code",
   "execution_count": 105,
   "metadata": {},
   "outputs": [],
   "source": [
    "Z_df=pd.read_excel(directory+'/농수축소분류.xlsx') "
   ]
  },
  {
   "cell_type": "code",
   "execution_count": 106,
   "metadata": {},
   "outputs": [
    {
     "data": {
      "text/html": [
       "<div>\n",
       "<style scoped>\n",
       "    .dataframe tbody tr th:only-of-type {\n",
       "        vertical-align: middle;\n",
       "    }\n",
       "\n",
       "    .dataframe tbody tr th {\n",
       "        vertical-align: top;\n",
       "    }\n",
       "\n",
       "    .dataframe thead th {\n",
       "        text-align: right;\n",
       "    }\n",
       "</style>\n",
       "<table border=\"1\" class=\"dataframe\">\n",
       "  <thead>\n",
       "    <tr style=\"text-align: right;\">\n",
       "      <th></th>\n",
       "      <th>상품명</th>\n",
       "      <th>식품군</th>\n",
       "      <th>판매단가</th>\n",
       "      <th>취급액</th>\n",
       "      <th>노출(분)</th>\n",
       "      <th>판매개수</th>\n",
       "      <th>분당판매개수</th>\n",
       "      <th>분당취급액</th>\n",
       "    </tr>\n",
       "  </thead>\n",
       "  <tbody>\n",
       "    <tr>\n",
       "      <td>0</td>\n",
       "      <td>뽕셰프 이봉원 특갈비탕 12팩</td>\n",
       "      <td>육류</td>\n",
       "      <td>60900</td>\n",
       "      <td>14113000</td>\n",
       "      <td>20.0</td>\n",
       "      <td>231.740558</td>\n",
       "      <td>11.587028</td>\n",
       "      <td>705650.0</td>\n",
       "    </tr>\n",
       "    <tr>\n",
       "      <td>1</td>\n",
       "      <td>뽕셰프 이봉원 특갈비탕 12팩</td>\n",
       "      <td>육류</td>\n",
       "      <td>60900</td>\n",
       "      <td>32395000</td>\n",
       "      <td>20.0</td>\n",
       "      <td>531.937603</td>\n",
       "      <td>26.596880</td>\n",
       "      <td>1619750.0</td>\n",
       "    </tr>\n",
       "    <tr>\n",
       "      <td>2</td>\n",
       "      <td>뽕셰프 이봉원 특갈비탕 12팩</td>\n",
       "      <td>육류</td>\n",
       "      <td>60900</td>\n",
       "      <td>39669000</td>\n",
       "      <td>20.0</td>\n",
       "      <td>651.379310</td>\n",
       "      <td>32.568966</td>\n",
       "      <td>1983450.0</td>\n",
       "    </tr>\n",
       "    <tr>\n",
       "      <td>3</td>\n",
       "      <td>국내산 손질갑오징어 8팩</td>\n",
       "      <td>어류</td>\n",
       "      <td>49900</td>\n",
       "      <td>60787000</td>\n",
       "      <td>20.0</td>\n",
       "      <td>1218.176353</td>\n",
       "      <td>60.908818</td>\n",
       "      <td>3039350.0</td>\n",
       "    </tr>\n",
       "    <tr>\n",
       "      <td>4</td>\n",
       "      <td>국내산 손질갑오징어 8팩</td>\n",
       "      <td>어류</td>\n",
       "      <td>49900</td>\n",
       "      <td>115457000</td>\n",
       "      <td>20.0</td>\n",
       "      <td>2313.767535</td>\n",
       "      <td>115.688377</td>\n",
       "      <td>5772850.0</td>\n",
       "    </tr>\n",
       "    <tr>\n",
       "      <td>...</td>\n",
       "      <td>...</td>\n",
       "      <td>...</td>\n",
       "      <td>...</td>\n",
       "      <td>...</td>\n",
       "      <td>...</td>\n",
       "      <td>...</td>\n",
       "      <td>...</td>\n",
       "      <td>...</td>\n",
       "    </tr>\n",
       "    <tr>\n",
       "      <td>3879</td>\n",
       "      <td>안동간고등어 20팩</td>\n",
       "      <td>어류</td>\n",
       "      <td>30900</td>\n",
       "      <td>54879000</td>\n",
       "      <td>20.0</td>\n",
       "      <td>1776.019417</td>\n",
       "      <td>88.800971</td>\n",
       "      <td>2743950.0</td>\n",
       "    </tr>\n",
       "    <tr>\n",
       "      <td>3880</td>\n",
       "      <td>안동간고등어 20팩</td>\n",
       "      <td>어류</td>\n",
       "      <td>30900</td>\n",
       "      <td>63460000</td>\n",
       "      <td>20.0</td>\n",
       "      <td>2053.721683</td>\n",
       "      <td>102.686084</td>\n",
       "      <td>3173000.0</td>\n",
       "    </tr>\n",
       "    <tr>\n",
       "      <td>3881</td>\n",
       "      <td>제주갈치+참조기세트</td>\n",
       "      <td>어류</td>\n",
       "      <td>49900</td>\n",
       "      <td>34001000</td>\n",
       "      <td>20.0</td>\n",
       "      <td>681.382766</td>\n",
       "      <td>34.069138</td>\n",
       "      <td>1700050.0</td>\n",
       "    </tr>\n",
       "    <tr>\n",
       "      <td>3882</td>\n",
       "      <td>제주갈치+참조기세트</td>\n",
       "      <td>어류</td>\n",
       "      <td>49900</td>\n",
       "      <td>54234000</td>\n",
       "      <td>20.0</td>\n",
       "      <td>1086.853707</td>\n",
       "      <td>54.342685</td>\n",
       "      <td>2711700.0</td>\n",
       "    </tr>\n",
       "    <tr>\n",
       "      <td>3883</td>\n",
       "      <td>제주갈치+참조기세트</td>\n",
       "      <td>어류</td>\n",
       "      <td>49900</td>\n",
       "      <td>52313000</td>\n",
       "      <td>20.0</td>\n",
       "      <td>1048.356713</td>\n",
       "      <td>52.417836</td>\n",
       "      <td>2615650.0</td>\n",
       "    </tr>\n",
       "  </tbody>\n",
       "</table>\n",
       "<p>3884 rows × 8 columns</p>\n",
       "</div>"
      ],
      "text/plain": [
       "                   상품명 식품군   판매단가        취급액  노출(분)         판매개수      분당판매개수  \\\n",
       "0     뽕셰프 이봉원 특갈비탕 12팩  육류  60900   14113000   20.0   231.740558   11.587028   \n",
       "1     뽕셰프 이봉원 특갈비탕 12팩  육류  60900   32395000   20.0   531.937603   26.596880   \n",
       "2     뽕셰프 이봉원 특갈비탕 12팩  육류  60900   39669000   20.0   651.379310   32.568966   \n",
       "3        국내산 손질갑오징어 8팩  어류  49900   60787000   20.0  1218.176353   60.908818   \n",
       "4        국내산 손질갑오징어 8팩  어류  49900  115457000   20.0  2313.767535  115.688377   \n",
       "...                ...  ..    ...        ...    ...          ...         ...   \n",
       "3879        안동간고등어 20팩  어류  30900   54879000   20.0  1776.019417   88.800971   \n",
       "3880        안동간고등어 20팩  어류  30900   63460000   20.0  2053.721683  102.686084   \n",
       "3881        제주갈치+참조기세트  어류  49900   34001000   20.0   681.382766   34.069138   \n",
       "3882        제주갈치+참조기세트  어류  49900   54234000   20.0  1086.853707   54.342685   \n",
       "3883        제주갈치+참조기세트  어류  49900   52313000   20.0  1048.356713   52.417836   \n",
       "\n",
       "          분당취급액  \n",
       "0      705650.0  \n",
       "1     1619750.0  \n",
       "2     1983450.0  \n",
       "3     3039350.0  \n",
       "4     5772850.0  \n",
       "...         ...  \n",
       "3879  2743950.0  \n",
       "3880  3173000.0  \n",
       "3881  1700050.0  \n",
       "3882  2711700.0  \n",
       "3883  2615650.0  \n",
       "\n",
       "[3884 rows x 8 columns]"
      ]
     },
     "execution_count": 106,
     "metadata": {},
     "output_type": "execute_result"
    }
   ],
   "source": [
    "Z = Z_df.copy() ; Z"
   ]
  },
  {
   "cell_type": "markdown",
   "metadata": {},
   "source": [
    "#### 소분류별 빈도"
   ]
  },
  {
   "cell_type": "code",
   "execution_count": 115,
   "metadata": {},
   "outputs": [
    {
     "data": {
      "text/plain": [
       "822"
      ]
     },
     "execution_count": 115,
     "metadata": {},
     "output_type": "execute_result"
    }
   ],
   "source": [
    "lst = list(Z[\"식품군\"])\n",
    "lst.count('육류')"
   ]
  },
  {
   "cell_type": "code",
   "execution_count": 118,
   "metadata": {},
   "outputs": [
    {
     "data": {
      "text/plain": [
       "[262, 51, 12, 285, 36, 13, 1934, 822, 137, 57, 6, 242, 27]"
      ]
     },
     "execution_count": 118,
     "metadata": {},
     "output_type": "execute_result"
    }
   ],
   "source": [
    "lst = list(Z[\"식품군\"])\n",
    "x = [lst.count('곡류'),lst.count('과일'),lst.count('기타'),lst.count('김치'),lst.count('다시팩'),lst.count('당류'),lst.count('어류'),lst.count('육류'),lst.count('음료'),lst.count('장류'),lst.count('조미료'),lst.count('주전부리'),lst.count('채소')]\n",
    "label = ['곡류','과일','기타','김치','다시팩','당류','어류','육류','음료','장류','조미료','주전부리','채소']\n",
    "index = np.arange(len(label))\n",
    "x"
   ]
  },
  {
   "cell_type": "code",
   "execution_count": 119,
   "metadata": {},
   "outputs": [
    {
     "data": {
      "text/plain": [
       "([<matplotlib.axis.XTick at 0x22742df2808>,\n",
       "  <matplotlib.axis.XTick at 0x227425a6d48>,\n",
       "  <matplotlib.axis.XTick at 0x22742a7e6c8>,\n",
       "  <matplotlib.axis.XTick at 0x22742e08a48>,\n",
       "  <matplotlib.axis.XTick at 0x22742e110c8>,\n",
       "  <matplotlib.axis.XTick at 0x22742e11688>,\n",
       "  <matplotlib.axis.XTick at 0x22742e11088>,\n",
       "  <matplotlib.axis.XTick at 0x22742e14588>,\n",
       "  <matplotlib.axis.XTick at 0x22742e14cc8>,\n",
       "  <matplotlib.axis.XTick at 0x22742e1f4c8>,\n",
       "  <matplotlib.axis.XTick at 0x22742e1f288>,\n",
       "  <matplotlib.axis.XTick at 0x22742e2aa08>,\n",
       "  <matplotlib.axis.XTick at 0x22742e2d508>],\n",
       " <a list of 13 Text xticklabel objects>)"
      ]
     },
     "execution_count": 119,
     "metadata": {},
     "output_type": "execute_result"
    },
    {
     "data": {
      "image/png": "[encoded data removed]",
      "text/plain": [
       "<Figure size 432x288 with 1 Axes>"
      ]
     },
     "metadata": {
      "needs_background": "light"
     },
     "output_type": "display_data"
    }
   ],
   "source": [
    "plt.bar(index, x,width=0.1)\n",
    "plt.title('농수축 소분류별 빈도', fontsize=20)\n",
    "plt.xlabel('농수축 소분류', fontsize=15)\n",
    "plt.ylabel('빈도', fontsize=15)\n",
    "plt.xticks(index, label, fontsize=8)"
   ]
  },
  {
   "cell_type": "markdown",
   "metadata": {},
   "source": [
    "어류가 엄청 많고 그 다음에 육류, 곡류가 많다"
   ]
  },
  {
   "cell_type": "markdown",
   "metadata": {},
   "source": [
    "#### 분당 판매개수"
   ]
  },
  {
   "cell_type": "code",
   "execution_count": 107,
   "metadata": {},
   "outputs": [
    {
     "data": {
      "text/plain": [
       "식품군\n",
       "곡류      39.751000\n",
       "과일      34.782181\n",
       "기타      23.616738\n",
       "김치      49.074543\n",
       "다시팩     45.622523\n",
       "당류      22.624952\n",
       "어류      56.418888\n",
       "육류      41.110194\n",
       "음료      81.873178\n",
       "장류      23.120824\n",
       "조미료     17.906646\n",
       "주전부리    40.792543\n",
       "채소      64.806557\n",
       "Name: 분당판매개수, dtype: float64"
      ]
     },
     "execution_count": 107,
     "metadata": {},
     "output_type": "execute_result"
    }
   ],
   "source": [
    "x = Z.groupby('식품군').분당판매개수.mean()\n",
    "label = ['곡류','과일','기타','김치','다시팩','당류','어류','육류','음료','장류','조미료','주전부리','채소']\n",
    "index = np.arange(len(label))\n",
    "x"
   ]
  },
  {
   "cell_type": "code",
   "execution_count": 108,
   "metadata": {},
   "outputs": [
    {
     "data": {
      "text/plain": [
       "([<matplotlib.axis.XTick at 0x227415e15c8>,\n",
       "  <matplotlib.axis.XTick at 0x227415e14c8>,\n",
       "  <matplotlib.axis.XTick at 0x227415e0488>,\n",
       "  <matplotlib.axis.XTick at 0x22741e7da88>,\n",
       "  <matplotlib.axis.XTick at 0x22741a040c8>,\n",
       "  <matplotlib.axis.XTick at 0x2274170d908>,\n",
       "  <matplotlib.axis.XTick at 0x2274173dc88>,\n",
       "  <matplotlib.axis.XTick at 0x22741a35e88>,\n",
       "  <matplotlib.axis.XTick at 0x22741b08c48>,\n",
       "  <matplotlib.axis.XTick at 0x22741b2dcc8>,\n",
       "  <matplotlib.axis.XTick at 0x22741e50b88>,\n",
       "  <matplotlib.axis.XTick at 0x22741b08848>,\n",
       "  <matplotlib.axis.XTick at 0x227415c9448>],\n",
       " <a list of 13 Text xticklabel objects>)"
      ]
     },
     "execution_count": 108,
     "metadata": {},
     "output_type": "execute_result"
    },
    {
     "data": {
      "image/png": "[encoded data removed]",
      "text/plain": [
       "<Figure size 432x288 with 1 Axes>"
      ]
     },
     "metadata": {
      "needs_background": "light"
     },
     "output_type": "display_data"
    }
   ],
   "source": [
    "# 1분당 판매개수\n",
    "plt.bar(index, x,width=0.1)\n",
    "plt.title('농수축 소분류별 1분당 판매개수', fontsize=20)\n",
    "plt.xlabel('농수축 소분류', fontsize=15)\n",
    "plt.ylabel('1분당 판매개수', fontsize=15)\n",
    "plt.xticks(index, label, fontsize=8)"
   ]
  },
  {
   "cell_type": "markdown",
   "metadata": {},
   "source": [
    "의외로 음료가 1분당 가장 많이 팔린다. 혹시 다른 거에 비해 단가가 싸서 사람들이 비교적 구매 결정을 쉽게 내리는 것 아닐까...?"
   ]
  },
  {
   "cell_type": "markdown",
   "metadata": {},
   "source": [
    "#### 판매액 평균"
   ]
  },
  {
   "cell_type": "code",
   "execution_count": 120,
   "metadata": {},
   "outputs": [
    {
     "data": {
      "text/plain": [
       "식품군\n",
       "곡류      60257.251908\n",
       "과일      41586.274510\n",
       "기타      45150.000000\n",
       "김치      39135.087719\n",
       "다시팩     42233.333333\n",
       "당류      59900.000000\n",
       "어류      43753.671148\n",
       "육류      53548.418491\n",
       "음료      32389.051095\n",
       "장류      96157.894737\n",
       "조미료     69900.000000\n",
       "주전부리    35352.892562\n",
       "채소      31900.000000\n",
       "Name: 판매단가, dtype: float64"
      ]
     },
     "execution_count": 120,
     "metadata": {},
     "output_type": "execute_result"
    }
   ],
   "source": [
    "x = Z.groupby('식품군').판매단가.mean()\n",
    "label = ['곡류','과일','기타','김치','다시팩','당류','어류','육류','음료','장류','조미료','주전부리','채소']\n",
    "index = np.arange(len(label))\n",
    "x"
   ]
  },
  {
   "cell_type": "code",
   "execution_count": 121,
   "metadata": {},
   "outputs": [
    {
     "data": {
      "text/plain": [
       "([<matplotlib.axis.XTick at 0x22742eebc88>,\n",
       "  <matplotlib.axis.XTick at 0x22742eeb388>,\n",
       "  <matplotlib.axis.XTick at 0x22742ee0d88>,\n",
       "  <matplotlib.axis.XTick at 0x2274300c588>,\n",
       "  <matplotlib.axis.XTick at 0x2274300cbc8>,\n",
       "  <matplotlib.axis.XTick at 0x22743027348>,\n",
       "  <matplotlib.axis.XTick at 0x22743027ac8>,\n",
       "  <matplotlib.axis.XTick at 0x2274300b408>,\n",
       "  <matplotlib.axis.XTick at 0x2274300bc48>,\n",
       "  <matplotlib.axis.XTick at 0x22743027b88>,\n",
       "  <matplotlib.axis.XTick at 0x2274303e488>,\n",
       "  <matplotlib.axis.XTick at 0x2274303e1c8>,\n",
       "  <matplotlib.axis.XTick at 0x227430049c8>],\n",
       " <a list of 13 Text xticklabel objects>)"
      ]
     },
     "execution_count": 121,
     "metadata": {},
     "output_type": "execute_result"
    },
    {
     "data": {
      "image/png": "[encoded data removed]",
      "text/plain": [
       "<Figure size 432x288 with 1 Axes>"
      ]
     },
     "metadata": {
      "needs_background": "light"
     },
     "output_type": "display_data"
    }
   ],
   "source": [
    "plt.bar(index, x,width=0.1)\n",
    "plt.title('농수축 소분류별 평균 판매단가', fontsize=20)\n",
    "plt.xlabel('농수축 소분류', fontsize=15)\n",
    "plt.ylabel('평균 판매단가', fontsize=15)\n",
    "plt.xticks(index, label, fontsize=8)"
   ]
  },
  {
   "cell_type": "markdown",
   "metadata": {},
   "source": [
    "장류는 메주가 다다. 메주 비싸다"
   ]
  },
  {
   "cell_type": "markdown",
   "metadata": {},
   "source": [
    "#### 분당 취급액 평균"
   ]
  },
  {
   "cell_type": "code",
   "execution_count": 109,
   "metadata": {},
   "outputs": [
    {
     "data": {
      "text/plain": [
       "식품군\n",
       "곡류      2.395227e+06\n",
       "과일      1.422161e+06\n",
       "기타      9.077917e+05\n",
       "김치      1.915948e+06\n",
       "다시팩     1.889410e+06\n",
       "당류      1.355235e+06\n",
       "어류      2.334360e+06\n",
       "육류      2.169490e+06\n",
       "음료      2.560665e+06\n",
       "장류      2.223729e+06\n",
       "조미료     1.256567e+06\n",
       "주전부리    1.394583e+06\n",
       "채소      2.028274e+06\n",
       "Name: 분당취급액, dtype: float64"
      ]
     },
     "execution_count": 109,
     "metadata": {},
     "output_type": "execute_result"
    }
   ],
   "source": [
    "x = Z.groupby('식품군').분당취급액.mean()\n",
    "label = ['곡류','과일','기타','김치','다시팩','당류','어류','육류','음료','장류','조미료','주전부리','채소']\n",
    "index = np.arange(len(label))\n",
    "x"
   ]
  },
  {
   "cell_type": "code",
   "execution_count": 110,
   "metadata": {},
   "outputs": [
    {
     "data": {
      "text/plain": [
       "([<matplotlib.axis.XTick at 0x22742547ec8>,\n",
       "  <matplotlib.axis.XTick at 0x22742547648>,\n",
       "  <matplotlib.axis.XTick at 0x22742547208>,\n",
       "  <matplotlib.axis.XTick at 0x227425dd808>,\n",
       "  <matplotlib.axis.XTick at 0x227425f3188>,\n",
       "  <matplotlib.axis.XTick at 0x227425f35c8>,\n",
       "  <matplotlib.axis.XTick at 0x227425f3e48>,\n",
       "  <matplotlib.axis.XTick at 0x227425ff788>,\n",
       "  <matplotlib.axis.XTick at 0x227425f3e88>,\n",
       "  <matplotlib.axis.XTick at 0x22742595348>,\n",
       "  <matplotlib.axis.XTick at 0x22742595908>,\n",
       "  <matplotlib.axis.XTick at 0x227425a7508>,\n",
       "  <matplotlib.axis.XTick at 0x2274259b0c8>],\n",
       " <a list of 13 Text xticklabel objects>)"
      ]
     },
     "execution_count": 110,
     "metadata": {},
     "output_type": "execute_result"
    },
    {
     "data": {
      "image/png": "[encoded data removed]",
      "text/plain": [
       "<Figure size 432x288 with 1 Axes>"
      ]
     },
     "metadata": {
      "needs_background": "light"
     },
     "output_type": "display_data"
    }
   ],
   "source": [
    "# 1분당 총 취급액\n",
    "plt.bar(index, x,width=0.1)\n",
    "plt.title('농수축 소분류별 1분당 취급액', fontsize=20)\n",
    "plt.xlabel('농수축 소분류', fontsize=15)\n",
    "plt.ylabel('1분당 취급액', fontsize=15)\n",
    "plt.xticks(index, label, fontsize=8)"
   ]
  },
  {
   "cell_type": "markdown",
   "metadata": {},
   "source": [
    "#### 분당 취급액 합"
   ]
  },
  {
   "cell_type": "code",
   "execution_count": 111,
   "metadata": {},
   "outputs": [
    {
     "data": {
      "text/plain": [
       "식품군\n",
       "곡류      6.275495e+08\n",
       "과일      7.253023e+07\n",
       "기타      1.089350e+07\n",
       "김치      5.460453e+08\n",
       "다시팩     6.801875e+07\n",
       "당류      1.761805e+07\n",
       "어류      4.514653e+09\n",
       "육류      1.783321e+09\n",
       "음료      3.508111e+08\n",
       "장류      1.267526e+08\n",
       "조미료     7.539400e+06\n",
       "주전부리    3.374891e+08\n",
       "채소      5.476340e+07\n",
       "Name: 분당취급액, dtype: float64"
      ]
     },
     "execution_count": 111,
     "metadata": {},
     "output_type": "execute_result"
    }
   ],
   "source": [
    "x = Z.groupby('식품군').분당취급액.sum()\n",
    "label = ['곡류','과일','기타','김치','다시팩','당류','어류','육류','음료','장류','조미료','주전부리','채소']\n",
    "index = np.arange(len(label))\n",
    "x"
   ]
  },
  {
   "cell_type": "code",
   "execution_count": 112,
   "metadata": {},
   "outputs": [
    {
     "data": {
      "text/plain": [
       "([<matplotlib.axis.XTick at 0x22742711608>,\n",
       "  <matplotlib.axis.XTick at 0x22742708cc8>,\n",
       "  <matplotlib.axis.XTick at 0x22742708888>,\n",
       "  <matplotlib.axis.XTick at 0x2274294b988>,\n",
       "  <matplotlib.axis.XTick at 0x2274294d288>,\n",
       "  <matplotlib.axis.XTick at 0x2274294d788>,\n",
       "  <matplotlib.axis.XTick at 0x2274294bd08>,\n",
       "  <matplotlib.axis.XTick at 0x2274295a048>,\n",
       "  <matplotlib.axis.XTick at 0x2274295aac8>,\n",
       "  <matplotlib.axis.XTick at 0x22742957588>,\n",
       "  <matplotlib.axis.XTick at 0x22742955148>,\n",
       "  <matplotlib.axis.XTick at 0x22742955c08>,\n",
       "  <matplotlib.axis.XTick at 0x22742965788>],\n",
       " <a list of 13 Text xticklabel objects>)"
      ]
     },
     "execution_count": 112,
     "metadata": {},
     "output_type": "execute_result"
    },
    {
     "data": {
      "image/png": "[encoded data removed]",
      "text/plain": [
       "<Figure size 432x288 with 1 Axes>"
      ]
     },
     "metadata": {
      "needs_background": "light"
     },
     "output_type": "display_data"
    }
   ],
   "source": [
    "# 1분당 총 취급액\n",
    "plt.bar(index, x,width=0.1)\n",
    "plt.title('농수축 소분류별 1분당 취급액 합', fontsize=20)\n",
    "plt.xlabel('농수축 소분류', fontsize=15)\n",
    "plt.ylabel('1분당 취급액 합', fontsize=15)\n",
    "plt.xticks(index, label, fontsize=8)"
   ]
  }
 ],
 "metadata": {
  "kernelspec": {
   "display_name": "Python 3",
   "language": "python",
   "name": "python3"
  },
  "language_info": {
   "codemirror_mode": {
    "name": "ipython",
    "version": 3
   },
   "file_extension": ".py",
   "mimetype": "text/x-python",
   "name": "python",
   "nbconvert_exporter": "python",
   "pygments_lexer": "ipython3",
   "version": "3.7.4"
  }
 },
 "nbformat": 4,
 "nbformat_minor": 2
}
