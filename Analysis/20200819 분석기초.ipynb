{
 "cells": [
  {
   "cell_type": "markdown",
   "metadata": {},
   "source": [
    "# 데이터 읽기"
   ]
  },
  {
   "cell_type": "code",
   "execution_count": 1,
   "metadata": {},
   "outputs": [],
   "source": [
    "import pandas as pd"
   ]
  },
  {
   "cell_type": "code",
   "execution_count": 10,
   "metadata": {},
   "outputs": [],
   "source": [
    "import numpy as np"
   ]
  },
  {
   "cell_type": "code",
   "execution_count": 2,
   "metadata": {},
   "outputs": [],
   "source": [
    "# 여러분의 폴더가 저장되어있는 위치 경로를 써 주세요\n",
    "# 그리고 데이터파일(주최측에서 제공한) 의 이름을 Train set 으로 변셩해 주세요\n",
    "# 한인욱 directory = 'C:/Users/goran/Desktop/Git_Hub/Project/20S_Bigcon'\n",
    "# 김정현 directory = 'C:/Users/Coby/Desktop/20S_Bigcon/20S_Bigcon'\n",
    "# 신예진 directory = 'C:/Users/Rstudio/Desktop/Bigcon2020/20S_Bigcon'\n",
    "# 이규민 directory = 'C:/Statistics/20S_Bigcon'\n",
    "# 최정욱 directory = 'C:/Users/lg/Desktop/Bigcon2020'\n",
    "directory = 'C:/Users/goran/Desktop/Git_Hub/Project/20S_Bigcon/Analysis'"
   ]
  },
  {
   "cell_type": "code",
   "execution_count": 58,
   "metadata": {},
   "outputs": [],
   "source": [
    "X_df=pd.read_excel(directory+'/X0819.xlsx') "
   ]
  },
  {
   "cell_type": "code",
   "execution_count": 60,
   "metadata": {},
   "outputs": [
    {
     "data": {
      "text/html": [
       "<div>\n",
       "<style scoped>\n",
       "    .dataframe tbody tr th:only-of-type {\n",
       "        vertical-align: middle;\n",
       "    }\n",
       "\n",
       "    .dataframe tbody tr th {\n",
       "        vertical-align: top;\n",
       "    }\n",
       "\n",
       "    .dataframe thead th {\n",
       "        text-align: right;\n",
       "    }\n",
       "</style>\n",
       "<table border=\"1\" class=\"dataframe\">\n",
       "  <thead>\n",
       "    <tr style=\"text-align: right;\">\n",
       "      <th></th>\n",
       "      <th>Unnamed: 0</th>\n",
       "      <th>방송일시</th>\n",
       "      <th>노출(분)</th>\n",
       "      <th>마더코드</th>\n",
       "      <th>상품코드</th>\n",
       "      <th>상품명</th>\n",
       "      <th>상품군</th>\n",
       "      <th>판매단가</th>\n",
       "      <th>취급액</th>\n",
       "      <th>평균방송분</th>\n",
       "      <th>...</th>\n",
       "      <th>상품군power</th>\n",
       "      <th>CPI</th>\n",
       "      <th>CSI</th>\n",
       "      <th>RS</th>\n",
       "      <th>PrimeTime</th>\n",
       "      <th>남성상품</th>\n",
       "      <th>여성상품</th>\n",
       "      <th>무이자</th>\n",
       "      <th>일시불</th>\n",
       "      <th>유명기업/브랜드</th>\n",
       "    </tr>\n",
       "  </thead>\n",
       "  <tbody>\n",
       "    <tr>\n",
       "      <th>0</th>\n",
       "      <td>0</td>\n",
       "      <td>2019-01-01 06:00:00</td>\n",
       "      <td>20.0</td>\n",
       "      <td>100346</td>\n",
       "      <td>201072</td>\n",
       "      <td>테이트 남성 셀린니트3종</td>\n",
       "      <td>의류</td>\n",
       "      <td>39900</td>\n",
       "      <td>2099000</td>\n",
       "      <td>10.0</td>\n",
       "      <td>...</td>\n",
       "      <td>26.41</td>\n",
       "      <td>0.8</td>\n",
       "      <td>97.5</td>\n",
       "      <td>139.3</td>\n",
       "      <td>0</td>\n",
       "      <td>1</td>\n",
       "      <td>0</td>\n",
       "      <td>0</td>\n",
       "      <td>0</td>\n",
       "      <td>0</td>\n",
       "    </tr>\n",
       "    <tr>\n",
       "      <th>1</th>\n",
       "      <td>1</td>\n",
       "      <td>2019-01-01 06:00:00</td>\n",
       "      <td>20.0</td>\n",
       "      <td>100346</td>\n",
       "      <td>201079</td>\n",
       "      <td>테이트 여성 셀린니트3종</td>\n",
       "      <td>의류</td>\n",
       "      <td>39900</td>\n",
       "      <td>4371000</td>\n",
       "      <td>10.0</td>\n",
       "      <td>...</td>\n",
       "      <td>26.41</td>\n",
       "      <td>0.8</td>\n",
       "      <td>97.5</td>\n",
       "      <td>139.3</td>\n",
       "      <td>0</td>\n",
       "      <td>0</td>\n",
       "      <td>1</td>\n",
       "      <td>0</td>\n",
       "      <td>0</td>\n",
       "      <td>0</td>\n",
       "    </tr>\n",
       "    <tr>\n",
       "      <th>2</th>\n",
       "      <td>2</td>\n",
       "      <td>2019-01-01 06:20:00</td>\n",
       "      <td>20.0</td>\n",
       "      <td>100346</td>\n",
       "      <td>201072</td>\n",
       "      <td>테이트 남성 셀린니트3종</td>\n",
       "      <td>의류</td>\n",
       "      <td>39900</td>\n",
       "      <td>3262000</td>\n",
       "      <td>10.0</td>\n",
       "      <td>...</td>\n",
       "      <td>26.41</td>\n",
       "      <td>0.8</td>\n",
       "      <td>97.5</td>\n",
       "      <td>139.3</td>\n",
       "      <td>0</td>\n",
       "      <td>1</td>\n",
       "      <td>0</td>\n",
       "      <td>0</td>\n",
       "      <td>0</td>\n",
       "      <td>0</td>\n",
       "    </tr>\n",
       "    <tr>\n",
       "      <th>3</th>\n",
       "      <td>3</td>\n",
       "      <td>2019-01-01 06:20:00</td>\n",
       "      <td>20.0</td>\n",
       "      <td>100346</td>\n",
       "      <td>201079</td>\n",
       "      <td>테이트 여성 셀린니트3종</td>\n",
       "      <td>의류</td>\n",
       "      <td>39900</td>\n",
       "      <td>6955000</td>\n",
       "      <td>10.0</td>\n",
       "      <td>...</td>\n",
       "      <td>26.41</td>\n",
       "      <td>0.8</td>\n",
       "      <td>97.5</td>\n",
       "      <td>139.3</td>\n",
       "      <td>0</td>\n",
       "      <td>0</td>\n",
       "      <td>1</td>\n",
       "      <td>0</td>\n",
       "      <td>0</td>\n",
       "      <td>0</td>\n",
       "    </tr>\n",
       "    <tr>\n",
       "      <th>4</th>\n",
       "      <td>4</td>\n",
       "      <td>2019-01-01 06:40:00</td>\n",
       "      <td>20.0</td>\n",
       "      <td>100346</td>\n",
       "      <td>201072</td>\n",
       "      <td>테이트 남성 셀린니트3종</td>\n",
       "      <td>의류</td>\n",
       "      <td>39900</td>\n",
       "      <td>6672000</td>\n",
       "      <td>10.0</td>\n",
       "      <td>...</td>\n",
       "      <td>26.41</td>\n",
       "      <td>0.8</td>\n",
       "      <td>97.5</td>\n",
       "      <td>139.3</td>\n",
       "      <td>0</td>\n",
       "      <td>1</td>\n",
       "      <td>0</td>\n",
       "      <td>0</td>\n",
       "      <td>0</td>\n",
       "      <td>0</td>\n",
       "    </tr>\n",
       "    <tr>\n",
       "      <th>...</th>\n",
       "      <td>...</td>\n",
       "      <td>...</td>\n",
       "      <td>...</td>\n",
       "      <td>...</td>\n",
       "      <td>...</td>\n",
       "      <td>...</td>\n",
       "      <td>...</td>\n",
       "      <td>...</td>\n",
       "      <td>...</td>\n",
       "      <td>...</td>\n",
       "      <td>...</td>\n",
       "      <td>...</td>\n",
       "      <td>...</td>\n",
       "      <td>...</td>\n",
       "      <td>...</td>\n",
       "      <td>...</td>\n",
       "      <td>...</td>\n",
       "      <td>...</td>\n",
       "      <td>...</td>\n",
       "      <td>...</td>\n",
       "      <td>...</td>\n",
       "    </tr>\n",
       "    <tr>\n",
       "      <th>35374</th>\n",
       "      <td>35374</td>\n",
       "      <td>2019-12-31 23:40:00</td>\n",
       "      <td>20.0</td>\n",
       "      <td>100448</td>\n",
       "      <td>201391</td>\n",
       "      <td>일시불쿠첸압력밥솥 6인용</td>\n",
       "      <td>주방</td>\n",
       "      <td>148000</td>\n",
       "      <td>10157000</td>\n",
       "      <td>5.0</td>\n",
       "      <td>...</td>\n",
       "      <td>19.40</td>\n",
       "      <td>0.7</td>\n",
       "      <td>100.5</td>\n",
       "      <td>138.0</td>\n",
       "      <td>0</td>\n",
       "      <td>0</td>\n",
       "      <td>0</td>\n",
       "      <td>0</td>\n",
       "      <td>1</td>\n",
       "      <td>1</td>\n",
       "    </tr>\n",
       "    <tr>\n",
       "      <th>35375</th>\n",
       "      <td>35375</td>\n",
       "      <td>2020-01-01 00:00:00</td>\n",
       "      <td>20.0</td>\n",
       "      <td>100448</td>\n",
       "      <td>201383</td>\n",
       "      <td>무이자쿠첸압력밥솥 10인용</td>\n",
       "      <td>주방</td>\n",
       "      <td>178000</td>\n",
       "      <td>50929000</td>\n",
       "      <td>5.0</td>\n",
       "      <td>...</td>\n",
       "      <td>19.40</td>\n",
       "      <td>1.5</td>\n",
       "      <td>104.2</td>\n",
       "      <td>131.7</td>\n",
       "      <td>0</td>\n",
       "      <td>0</td>\n",
       "      <td>0</td>\n",
       "      <td>1</td>\n",
       "      <td>0</td>\n",
       "      <td>1</td>\n",
       "    </tr>\n",
       "    <tr>\n",
       "      <th>35376</th>\n",
       "      <td>35376</td>\n",
       "      <td>2020-01-01 00:00:00</td>\n",
       "      <td>20.0</td>\n",
       "      <td>100448</td>\n",
       "      <td>201390</td>\n",
       "      <td>일시불쿠첸압력밥솥 10인용</td>\n",
       "      <td>주방</td>\n",
       "      <td>168000</td>\n",
       "      <td>104392000</td>\n",
       "      <td>5.0</td>\n",
       "      <td>...</td>\n",
       "      <td>19.40</td>\n",
       "      <td>1.5</td>\n",
       "      <td>104.2</td>\n",
       "      <td>131.7</td>\n",
       "      <td>0</td>\n",
       "      <td>0</td>\n",
       "      <td>0</td>\n",
       "      <td>0</td>\n",
       "      <td>1</td>\n",
       "      <td>1</td>\n",
       "    </tr>\n",
       "    <tr>\n",
       "      <th>35377</th>\n",
       "      <td>35377</td>\n",
       "      <td>2020-01-01 00:00:00</td>\n",
       "      <td>20.0</td>\n",
       "      <td>100448</td>\n",
       "      <td>201384</td>\n",
       "      <td>무이자쿠첸압력밥솥 6인용</td>\n",
       "      <td>주방</td>\n",
       "      <td>158000</td>\n",
       "      <td>13765000</td>\n",
       "      <td>5.0</td>\n",
       "      <td>...</td>\n",
       "      <td>19.40</td>\n",
       "      <td>1.5</td>\n",
       "      <td>104.2</td>\n",
       "      <td>131.7</td>\n",
       "      <td>0</td>\n",
       "      <td>0</td>\n",
       "      <td>0</td>\n",
       "      <td>1</td>\n",
       "      <td>0</td>\n",
       "      <td>1</td>\n",
       "    </tr>\n",
       "    <tr>\n",
       "      <th>35378</th>\n",
       "      <td>35378</td>\n",
       "      <td>2020-01-01 00:00:00</td>\n",
       "      <td>20.0</td>\n",
       "      <td>100448</td>\n",
       "      <td>201391</td>\n",
       "      <td>일시불쿠첸압력밥솥 6인용</td>\n",
       "      <td>주방</td>\n",
       "      <td>148000</td>\n",
       "      <td>46608000</td>\n",
       "      <td>5.0</td>\n",
       "      <td>...</td>\n",
       "      <td>19.40</td>\n",
       "      <td>1.5</td>\n",
       "      <td>104.2</td>\n",
       "      <td>131.7</td>\n",
       "      <td>0</td>\n",
       "      <td>0</td>\n",
       "      <td>0</td>\n",
       "      <td>0</td>\n",
       "      <td>1</td>\n",
       "      <td>1</td>\n",
       "    </tr>\n",
       "  </tbody>\n",
       "</table>\n",
       "<p>35379 rows × 41 columns</p>\n",
       "</div>"
      ],
      "text/plain": [
       "       Unnamed: 0                 방송일시  노출(분)    마더코드    상품코드             상품명  \\\n",
       "0               0  2019-01-01 06:00:00   20.0  100346  201072   테이트 남성 셀린니트3종   \n",
       "1               1  2019-01-01 06:00:00   20.0  100346  201079   테이트 여성 셀린니트3종   \n",
       "2               2  2019-01-01 06:20:00   20.0  100346  201072   테이트 남성 셀린니트3종   \n",
       "3               3  2019-01-01 06:20:00   20.0  100346  201079   테이트 여성 셀린니트3종   \n",
       "4               4  2019-01-01 06:40:00   20.0  100346  201072   테이트 남성 셀린니트3종   \n",
       "...           ...                  ...    ...     ...     ...             ...   \n",
       "35374       35374  2019-12-31 23:40:00   20.0  100448  201391   일시불쿠첸압력밥솥 6인용   \n",
       "35375       35375  2020-01-01 00:00:00   20.0  100448  201383  무이자쿠첸압력밥솥 10인용   \n",
       "35376       35376  2020-01-01 00:00:00   20.0  100448  201390  일시불쿠첸압력밥솥 10인용   \n",
       "35377       35377  2020-01-01 00:00:00   20.0  100448  201384   무이자쿠첸압력밥솥 6인용   \n",
       "35378       35378  2020-01-01 00:00:00   20.0  100448  201391   일시불쿠첸압력밥솥 6인용   \n",
       "\n",
       "      상품군    판매단가        취급액  평균방송분  ...  상품군power  CPI    CSI     RS  \\\n",
       "0      의류   39900    2099000   10.0  ...     26.41  0.8   97.5  139.3   \n",
       "1      의류   39900    4371000   10.0  ...     26.41  0.8   97.5  139.3   \n",
       "2      의류   39900    3262000   10.0  ...     26.41  0.8   97.5  139.3   \n",
       "3      의류   39900    6955000   10.0  ...     26.41  0.8   97.5  139.3   \n",
       "4      의류   39900    6672000   10.0  ...     26.41  0.8   97.5  139.3   \n",
       "...    ..     ...        ...    ...  ...       ...  ...    ...    ...   \n",
       "35374  주방  148000   10157000    5.0  ...     19.40  0.7  100.5  138.0   \n",
       "35375  주방  178000   50929000    5.0  ...     19.40  1.5  104.2  131.7   \n",
       "35376  주방  168000  104392000    5.0  ...     19.40  1.5  104.2  131.7   \n",
       "35377  주방  158000   13765000    5.0  ...     19.40  1.5  104.2  131.7   \n",
       "35378  주방  148000   46608000    5.0  ...     19.40  1.5  104.2  131.7   \n",
       "\n",
       "       PrimeTime  남성상품 여성상품  무이자  일시불  유명기업/브랜드  \n",
       "0              0     1    0    0    0         0  \n",
       "1              0     0    1    0    0         0  \n",
       "2              0     1    0    0    0         0  \n",
       "3              0     0    1    0    0         0  \n",
       "4              0     1    0    0    0         0  \n",
       "...          ...   ...  ...  ...  ...       ...  \n",
       "35374          0     0    0    0    1         1  \n",
       "35375          0     0    0    1    0         1  \n",
       "35376          0     0    0    0    1         1  \n",
       "35377          0     0    0    1    0         1  \n",
       "35378          0     0    0    0    1         1  \n",
       "\n",
       "[35379 rows x 41 columns]"
      ]
     },
     "execution_count": 60,
     "metadata": {},
     "output_type": "execute_result"
    }
   ],
   "source": [
    "X = X_df.copy() ; X"
   ]
  },
  {
   "cell_type": "code",
   "execution_count": 61,
   "metadata": {},
   "outputs": [],
   "source": [
    "X.drop(columns=['Unnamed: 0'],inplace=True)"
   ]
  },
  {
   "cell_type": "code",
   "execution_count": 62,
   "metadata": {},
   "outputs": [],
   "source": [
    "# target data\n",
    "y=X['취급액']"
   ]
  },
  {
   "cell_type": "code",
   "execution_count": 63,
   "metadata": {},
   "outputs": [],
   "source": [
    "# X_train data\n",
    "X.drop(columns = ['취급액'],inplace=True)"
   ]
  },
  {
   "cell_type": "code",
   "execution_count": 64,
   "metadata": {},
   "outputs": [],
   "source": [
    "X.drop(columns = ['방송일시','마더코드','상품코드','상품명','년','월','일','시분','월일','시간열','정수노출(분)','요일/시간','날짜'],inplace = True)"
   ]
  },
  {
   "cell_type": "code",
   "execution_count": 65,
   "metadata": {},
   "outputs": [
    {
     "data": {
      "text/plain": [
       "Index(['노출(분)', '상품군', '판매단가', '평균방송분', '겹치는수', '시각', '시청률평균', '점심', '저녁',\n",
       "       '강수량(mm)', '평균기온(℃)', '최저기온(℃)', '최고기온(℃)', '연예인', '월급날', '휴일',\n",
       "       '상품군power', 'CPI', 'CSI', 'RS', 'PrimeTime', '남성상품', '여성상품', '무이자',\n",
       "       '일시불', '유명기업/브랜드'],\n",
       "      dtype='object')"
      ]
     },
     "execution_count": 65,
     "metadata": {},
     "output_type": "execute_result"
    }
   ],
   "source": [
    "X.columns"
   ]
  },
  {
   "cell_type": "markdown",
   "metadata": {},
   "source": [
    "# 더미화"
   ]
  },
  {
   "cell_type": "code",
   "execution_count": 66,
   "metadata": {
    "scrolled": true
   },
   "outputs": [
    {
     "data": {
      "text/html": [
       "<div>\n",
       "<style scoped>\n",
       "    .dataframe tbody tr th:only-of-type {\n",
       "        vertical-align: middle;\n",
       "    }\n",
       "\n",
       "    .dataframe tbody tr th {\n",
       "        vertical-align: top;\n",
       "    }\n",
       "\n",
       "    .dataframe thead th {\n",
       "        text-align: right;\n",
       "    }\n",
       "</style>\n",
       "<table border=\"1\" class=\"dataframe\">\n",
       "  <thead>\n",
       "    <tr style=\"text-align: right;\">\n",
       "      <th></th>\n",
       "      <th>노출(분)</th>\n",
       "      <th>상품군</th>\n",
       "      <th>판매단가</th>\n",
       "      <th>평균방송분</th>\n",
       "      <th>겹치는수</th>\n",
       "      <th>시각</th>\n",
       "      <th>시청률평균</th>\n",
       "      <th>점심</th>\n",
       "      <th>저녁</th>\n",
       "      <th>강수량(mm)</th>\n",
       "      <th>...</th>\n",
       "      <th>상품군power</th>\n",
       "      <th>CPI</th>\n",
       "      <th>CSI</th>\n",
       "      <th>RS</th>\n",
       "      <th>PrimeTime</th>\n",
       "      <th>남성상품</th>\n",
       "      <th>여성상품</th>\n",
       "      <th>무이자</th>\n",
       "      <th>일시불</th>\n",
       "      <th>유명기업/브랜드</th>\n",
       "    </tr>\n",
       "  </thead>\n",
       "  <tbody>\n",
       "    <tr>\n",
       "      <th>0</th>\n",
       "      <td>20.0</td>\n",
       "      <td>의류</td>\n",
       "      <td>39900</td>\n",
       "      <td>10.0</td>\n",
       "      <td>1</td>\n",
       "      <td>6.000000</td>\n",
       "      <td>0.002632</td>\n",
       "      <td>0</td>\n",
       "      <td>0</td>\n",
       "      <td>0.1</td>\n",
       "      <td>...</td>\n",
       "      <td>26.41</td>\n",
       "      <td>0.8</td>\n",
       "      <td>97.5</td>\n",
       "      <td>139.3</td>\n",
       "      <td>0</td>\n",
       "      <td>1</td>\n",
       "      <td>0</td>\n",
       "      <td>0</td>\n",
       "      <td>0</td>\n",
       "      <td>0</td>\n",
       "    </tr>\n",
       "    <tr>\n",
       "      <th>1</th>\n",
       "      <td>20.0</td>\n",
       "      <td>의류</td>\n",
       "      <td>39900</td>\n",
       "      <td>10.0</td>\n",
       "      <td>1</td>\n",
       "      <td>6.000000</td>\n",
       "      <td>0.002632</td>\n",
       "      <td>0</td>\n",
       "      <td>0</td>\n",
       "      <td>0.1</td>\n",
       "      <td>...</td>\n",
       "      <td>26.41</td>\n",
       "      <td>0.8</td>\n",
       "      <td>97.5</td>\n",
       "      <td>139.3</td>\n",
       "      <td>0</td>\n",
       "      <td>0</td>\n",
       "      <td>1</td>\n",
       "      <td>0</td>\n",
       "      <td>0</td>\n",
       "      <td>0</td>\n",
       "    </tr>\n",
       "    <tr>\n",
       "      <th>2</th>\n",
       "      <td>20.0</td>\n",
       "      <td>의류</td>\n",
       "      <td>39900</td>\n",
       "      <td>10.0</td>\n",
       "      <td>2</td>\n",
       "      <td>6.333333</td>\n",
       "      <td>0.002434</td>\n",
       "      <td>0</td>\n",
       "      <td>0</td>\n",
       "      <td>0.1</td>\n",
       "      <td>...</td>\n",
       "      <td>26.41</td>\n",
       "      <td>0.8</td>\n",
       "      <td>97.5</td>\n",
       "      <td>139.3</td>\n",
       "      <td>0</td>\n",
       "      <td>1</td>\n",
       "      <td>0</td>\n",
       "      <td>0</td>\n",
       "      <td>0</td>\n",
       "      <td>0</td>\n",
       "    </tr>\n",
       "    <tr>\n",
       "      <th>3</th>\n",
       "      <td>20.0</td>\n",
       "      <td>의류</td>\n",
       "      <td>39900</td>\n",
       "      <td>10.0</td>\n",
       "      <td>2</td>\n",
       "      <td>6.333333</td>\n",
       "      <td>0.002434</td>\n",
       "      <td>0</td>\n",
       "      <td>0</td>\n",
       "      <td>0.1</td>\n",
       "      <td>...</td>\n",
       "      <td>26.41</td>\n",
       "      <td>0.8</td>\n",
       "      <td>97.5</td>\n",
       "      <td>139.3</td>\n",
       "      <td>0</td>\n",
       "      <td>0</td>\n",
       "      <td>1</td>\n",
       "      <td>0</td>\n",
       "      <td>0</td>\n",
       "      <td>0</td>\n",
       "    </tr>\n",
       "    <tr>\n",
       "      <th>4</th>\n",
       "      <td>20.0</td>\n",
       "      <td>의류</td>\n",
       "      <td>39900</td>\n",
       "      <td>10.0</td>\n",
       "      <td>3</td>\n",
       "      <td>6.666667</td>\n",
       "      <td>0.003162</td>\n",
       "      <td>0</td>\n",
       "      <td>0</td>\n",
       "      <td>0.1</td>\n",
       "      <td>...</td>\n",
       "      <td>26.41</td>\n",
       "      <td>0.8</td>\n",
       "      <td>97.5</td>\n",
       "      <td>139.3</td>\n",
       "      <td>0</td>\n",
       "      <td>1</td>\n",
       "      <td>0</td>\n",
       "      <td>0</td>\n",
       "      <td>0</td>\n",
       "      <td>0</td>\n",
       "    </tr>\n",
       "    <tr>\n",
       "      <th>...</th>\n",
       "      <td>...</td>\n",
       "      <td>...</td>\n",
       "      <td>...</td>\n",
       "      <td>...</td>\n",
       "      <td>...</td>\n",
       "      <td>...</td>\n",
       "      <td>...</td>\n",
       "      <td>...</td>\n",
       "      <td>...</td>\n",
       "      <td>...</td>\n",
       "      <td>...</td>\n",
       "      <td>...</td>\n",
       "      <td>...</td>\n",
       "      <td>...</td>\n",
       "      <td>...</td>\n",
       "      <td>...</td>\n",
       "      <td>...</td>\n",
       "      <td>...</td>\n",
       "      <td>...</td>\n",
       "      <td>...</td>\n",
       "      <td>...</td>\n",
       "    </tr>\n",
       "    <tr>\n",
       "      <th>35374</th>\n",
       "      <td>20.0</td>\n",
       "      <td>주방</td>\n",
       "      <td>148000</td>\n",
       "      <td>5.0</td>\n",
       "      <td>2</td>\n",
       "      <td>23.666666</td>\n",
       "      <td>0.004741</td>\n",
       "      <td>0</td>\n",
       "      <td>0</td>\n",
       "      <td>0.1</td>\n",
       "      <td>...</td>\n",
       "      <td>19.40</td>\n",
       "      <td>0.7</td>\n",
       "      <td>100.5</td>\n",
       "      <td>138.0</td>\n",
       "      <td>0</td>\n",
       "      <td>0</td>\n",
       "      <td>0</td>\n",
       "      <td>0</td>\n",
       "      <td>1</td>\n",
       "      <td>1</td>\n",
       "    </tr>\n",
       "    <tr>\n",
       "      <th>35375</th>\n",
       "      <td>20.0</td>\n",
       "      <td>주방</td>\n",
       "      <td>178000</td>\n",
       "      <td>5.0</td>\n",
       "      <td>3</td>\n",
       "      <td>24.000000</td>\n",
       "      <td>0.004069</td>\n",
       "      <td>0</td>\n",
       "      <td>0</td>\n",
       "      <td>0.0</td>\n",
       "      <td>...</td>\n",
       "      <td>19.40</td>\n",
       "      <td>1.5</td>\n",
       "      <td>104.2</td>\n",
       "      <td>131.7</td>\n",
       "      <td>0</td>\n",
       "      <td>0</td>\n",
       "      <td>0</td>\n",
       "      <td>1</td>\n",
       "      <td>0</td>\n",
       "      <td>1</td>\n",
       "    </tr>\n",
       "    <tr>\n",
       "      <th>35376</th>\n",
       "      <td>20.0</td>\n",
       "      <td>주방</td>\n",
       "      <td>168000</td>\n",
       "      <td>5.0</td>\n",
       "      <td>3</td>\n",
       "      <td>24.000000</td>\n",
       "      <td>0.004069</td>\n",
       "      <td>0</td>\n",
       "      <td>0</td>\n",
       "      <td>0.0</td>\n",
       "      <td>...</td>\n",
       "      <td>19.40</td>\n",
       "      <td>1.5</td>\n",
       "      <td>104.2</td>\n",
       "      <td>131.7</td>\n",
       "      <td>0</td>\n",
       "      <td>0</td>\n",
       "      <td>0</td>\n",
       "      <td>0</td>\n",
       "      <td>1</td>\n",
       "      <td>1</td>\n",
       "    </tr>\n",
       "    <tr>\n",
       "      <th>35377</th>\n",
       "      <td>20.0</td>\n",
       "      <td>주방</td>\n",
       "      <td>158000</td>\n",
       "      <td>5.0</td>\n",
       "      <td>3</td>\n",
       "      <td>24.000000</td>\n",
       "      <td>0.004069</td>\n",
       "      <td>0</td>\n",
       "      <td>0</td>\n",
       "      <td>0.0</td>\n",
       "      <td>...</td>\n",
       "      <td>19.40</td>\n",
       "      <td>1.5</td>\n",
       "      <td>104.2</td>\n",
       "      <td>131.7</td>\n",
       "      <td>0</td>\n",
       "      <td>0</td>\n",
       "      <td>0</td>\n",
       "      <td>1</td>\n",
       "      <td>0</td>\n",
       "      <td>1</td>\n",
       "    </tr>\n",
       "    <tr>\n",
       "      <th>35378</th>\n",
       "      <td>20.0</td>\n",
       "      <td>주방</td>\n",
       "      <td>148000</td>\n",
       "      <td>5.0</td>\n",
       "      <td>3</td>\n",
       "      <td>24.000000</td>\n",
       "      <td>0.004069</td>\n",
       "      <td>0</td>\n",
       "      <td>0</td>\n",
       "      <td>0.0</td>\n",
       "      <td>...</td>\n",
       "      <td>19.40</td>\n",
       "      <td>1.5</td>\n",
       "      <td>104.2</td>\n",
       "      <td>131.7</td>\n",
       "      <td>0</td>\n",
       "      <td>0</td>\n",
       "      <td>0</td>\n",
       "      <td>0</td>\n",
       "      <td>1</td>\n",
       "      <td>1</td>\n",
       "    </tr>\n",
       "  </tbody>\n",
       "</table>\n",
       "<p>35379 rows × 26 columns</p>\n",
       "</div>"
      ],
      "text/plain": [
       "       노출(분) 상품군    판매단가  평균방송분  겹치는수         시각     시청률평균  점심  저녁  강수량(mm)  \\\n",
       "0       20.0  의류   39900   10.0     1   6.000000  0.002632   0   0      0.1   \n",
       "1       20.0  의류   39900   10.0     1   6.000000  0.002632   0   0      0.1   \n",
       "2       20.0  의류   39900   10.0     2   6.333333  0.002434   0   0      0.1   \n",
       "3       20.0  의류   39900   10.0     2   6.333333  0.002434   0   0      0.1   \n",
       "4       20.0  의류   39900   10.0     3   6.666667  0.003162   0   0      0.1   \n",
       "...      ...  ..     ...    ...   ...        ...       ...  ..  ..      ...   \n",
       "35374   20.0  주방  148000    5.0     2  23.666666  0.004741   0   0      0.1   \n",
       "35375   20.0  주방  178000    5.0     3  24.000000  0.004069   0   0      0.0   \n",
       "35376   20.0  주방  168000    5.0     3  24.000000  0.004069   0   0      0.0   \n",
       "35377   20.0  주방  158000    5.0     3  24.000000  0.004069   0   0      0.0   \n",
       "35378   20.0  주방  148000    5.0     3  24.000000  0.004069   0   0      0.0   \n",
       "\n",
       "       ...  상품군power  CPI    CSI     RS  PrimeTime  남성상품  여성상품  무이자  일시불  \\\n",
       "0      ...     26.41  0.8   97.5  139.3          0     1     0    0    0   \n",
       "1      ...     26.41  0.8   97.5  139.3          0     0     1    0    0   \n",
       "2      ...     26.41  0.8   97.5  139.3          0     1     0    0    0   \n",
       "3      ...     26.41  0.8   97.5  139.3          0     0     1    0    0   \n",
       "4      ...     26.41  0.8   97.5  139.3          0     1     0    0    0   \n",
       "...    ...       ...  ...    ...    ...        ...   ...   ...  ...  ...   \n",
       "35374  ...     19.40  0.7  100.5  138.0          0     0     0    0    1   \n",
       "35375  ...     19.40  1.5  104.2  131.7          0     0     0    1    0   \n",
       "35376  ...     19.40  1.5  104.2  131.7          0     0     0    0    1   \n",
       "35377  ...     19.40  1.5  104.2  131.7          0     0     0    1    0   \n",
       "35378  ...     19.40  1.5  104.2  131.7          0     0     0    0    1   \n",
       "\n",
       "       유명기업/브랜드  \n",
       "0             0  \n",
       "1             0  \n",
       "2             0  \n",
       "3             0  \n",
       "4             0  \n",
       "...         ...  \n",
       "35374         1  \n",
       "35375         1  \n",
       "35376         1  \n",
       "35377         1  \n",
       "35378         1  \n",
       "\n",
       "[35379 rows x 26 columns]"
      ]
     },
     "execution_count": 66,
     "metadata": {},
     "output_type": "execute_result"
    }
   ],
   "source": [
    "X"
   ]
  },
  {
   "cell_type": "code",
   "execution_count": 67,
   "metadata": {},
   "outputs": [],
   "source": [
    "col=['노출(분)', '판매단가','평균방송분','겹치는수','시각','시청률평균','강수량(mm)','평균기온(℃)',\n",
    " '최저기온(℃)', '최고기온(℃)' ,'상품군power', 'CPI','CSI', 'RS']"
   ]
  },
  {
   "cell_type": "code",
   "execution_count": 68,
   "metadata": {},
   "outputs": [],
   "source": [
    "df = X.copy()"
   ]
  },
  {
   "cell_type": "code",
   "execution_count": 69,
   "metadata": {
    "scrolled": true
   },
   "outputs": [
    {
     "name": "stdout",
     "output_type": "stream",
     "text": [
      "<class 'pandas.core.frame.DataFrame'>\n",
      "RangeIndex: 35379 entries, 0 to 35378\n",
      "Data columns (total 26 columns):\n",
      " #   Column     Non-Null Count  Dtype  \n",
      "---  ------     --------------  -----  \n",
      " 0   노출(분)      35379 non-null  float64\n",
      " 1   상품군        35379 non-null  object \n",
      " 2   판매단가       35379 non-null  int64  \n",
      " 3   평균방송분      35379 non-null  float64\n",
      " 4   겹치는수       35379 non-null  int64  \n",
      " 5   시각         35379 non-null  float64\n",
      " 6   시청률평균      35379 non-null  float64\n",
      " 7   점심         35379 non-null  int64  \n",
      " 8   저녁         35379 non-null  int64  \n",
      " 9   강수량(mm)    35379 non-null  float64\n",
      " 10  평균기온(℃)    35379 non-null  float64\n",
      " 11  최저기온(℃)    35379 non-null  float64\n",
      " 12  최고기온(℃)    35379 non-null  float64\n",
      " 13  연예인        35379 non-null  int64  \n",
      " 14  월급날        35379 non-null  int64  \n",
      " 15  휴일         35379 non-null  int64  \n",
      " 16  상품군power   35379 non-null  float64\n",
      " 17  CPI        35379 non-null  float64\n",
      " 18  CSI        35379 non-null  float64\n",
      " 19  RS         35379 non-null  float64\n",
      " 20  PrimeTime  35379 non-null  int64  \n",
      " 21  남성상품       35379 non-null  int64  \n",
      " 22  여성상품       35379 non-null  int64  \n",
      " 23  무이자        35379 non-null  int64  \n",
      " 24  일시불        35379 non-null  int64  \n",
      " 25  유명기업/브랜드   35379 non-null  int64  \n",
      "dtypes: float64(12), int64(13), object(1)\n",
      "memory usage: 7.0+ MB\n"
     ]
    }
   ],
   "source": [
    "df.info()"
   ]
  },
  {
   "cell_type": "code",
   "execution_count": 70,
   "metadata": {},
   "outputs": [],
   "source": [
    "from sklearn.preprocessing import StandardScaler\n",
    "scaler = StandardScaler()"
   ]
  },
  {
   "cell_type": "code",
   "execution_count": 71,
   "metadata": {},
   "outputs": [],
   "source": [
    "k=scaler.fit_transform(X.loc[:,col])"
   ]
  },
  {
   "cell_type": "code",
   "execution_count": 72,
   "metadata": {},
   "outputs": [],
   "source": [
    "p=pd.DataFrame(k,columns=col)"
   ]
  },
  {
   "cell_type": "code",
   "execution_count": 73,
   "metadata": {},
   "outputs": [],
   "source": [
    "X.loc[:,col] = p"
   ]
  },
  {
   "cell_type": "code",
   "execution_count": 74,
   "metadata": {
    "scrolled": true
   },
   "outputs": [
    {
     "data": {
      "text/html": [
       "<div>\n",
       "<style scoped>\n",
       "    .dataframe tbody tr th:only-of-type {\n",
       "        vertical-align: middle;\n",
       "    }\n",
       "\n",
       "    .dataframe tbody tr th {\n",
       "        vertical-align: top;\n",
       "    }\n",
       "\n",
       "    .dataframe thead th {\n",
       "        text-align: right;\n",
       "    }\n",
       "</style>\n",
       "<table border=\"1\" class=\"dataframe\">\n",
       "  <thead>\n",
       "    <tr style=\"text-align: right;\">\n",
       "      <th></th>\n",
       "      <th>노출(분)</th>\n",
       "      <th>상품군</th>\n",
       "      <th>판매단가</th>\n",
       "      <th>평균방송분</th>\n",
       "      <th>겹치는수</th>\n",
       "      <th>시각</th>\n",
       "      <th>시청률평균</th>\n",
       "      <th>점심</th>\n",
       "      <th>저녁</th>\n",
       "      <th>강수량(mm)</th>\n",
       "      <th>...</th>\n",
       "      <th>상품군power</th>\n",
       "      <th>CPI</th>\n",
       "      <th>CSI</th>\n",
       "      <th>RS</th>\n",
       "      <th>PrimeTime</th>\n",
       "      <th>남성상품</th>\n",
       "      <th>여성상품</th>\n",
       "      <th>무이자</th>\n",
       "      <th>일시불</th>\n",
       "      <th>유명기업/브랜드</th>\n",
       "    </tr>\n",
       "  </thead>\n",
       "  <tbody>\n",
       "    <tr>\n",
       "      <th>0</th>\n",
       "      <td>-0.109679</td>\n",
       "      <td>의류</td>\n",
       "      <td>-0.555490</td>\n",
       "      <td>-0.208581</td>\n",
       "      <td>-1.154250</td>\n",
       "      <td>-1.826372</td>\n",
       "      <td>-1.804510</td>\n",
       "      <td>0</td>\n",
       "      <td>0</td>\n",
       "      <td>-0.347927</td>\n",
       "      <td>...</td>\n",
       "      <td>0.273575</td>\n",
       "      <td>1.117307</td>\n",
       "      <td>-0.314122</td>\n",
       "      <td>1.156173</td>\n",
       "      <td>0</td>\n",
       "      <td>1</td>\n",
       "      <td>0</td>\n",
       "      <td>0</td>\n",
       "      <td>0</td>\n",
       "      <td>0</td>\n",
       "    </tr>\n",
       "    <tr>\n",
       "      <th>1</th>\n",
       "      <td>-0.109679</td>\n",
       "      <td>의류</td>\n",
       "      <td>-0.555490</td>\n",
       "      <td>-0.208581</td>\n",
       "      <td>-1.154250</td>\n",
       "      <td>-1.826372</td>\n",
       "      <td>-1.804510</td>\n",
       "      <td>0</td>\n",
       "      <td>0</td>\n",
       "      <td>-0.347927</td>\n",
       "      <td>...</td>\n",
       "      <td>0.273575</td>\n",
       "      <td>1.117307</td>\n",
       "      <td>-0.314122</td>\n",
       "      <td>1.156173</td>\n",
       "      <td>0</td>\n",
       "      <td>0</td>\n",
       "      <td>1</td>\n",
       "      <td>0</td>\n",
       "      <td>0</td>\n",
       "      <td>0</td>\n",
       "    </tr>\n",
       "    <tr>\n",
       "      <th>2</th>\n",
       "      <td>-0.109679</td>\n",
       "      <td>의류</td>\n",
       "      <td>-0.555490</td>\n",
       "      <td>-0.208581</td>\n",
       "      <td>-0.014815</td>\n",
       "      <td>-1.768220</td>\n",
       "      <td>-1.976626</td>\n",
       "      <td>0</td>\n",
       "      <td>0</td>\n",
       "      <td>-0.347927</td>\n",
       "      <td>...</td>\n",
       "      <td>0.273575</td>\n",
       "      <td>1.117307</td>\n",
       "      <td>-0.314122</td>\n",
       "      <td>1.156173</td>\n",
       "      <td>0</td>\n",
       "      <td>1</td>\n",
       "      <td>0</td>\n",
       "      <td>0</td>\n",
       "      <td>0</td>\n",
       "      <td>0</td>\n",
       "    </tr>\n",
       "    <tr>\n",
       "      <th>3</th>\n",
       "      <td>-0.109679</td>\n",
       "      <td>의류</td>\n",
       "      <td>-0.555490</td>\n",
       "      <td>-0.208581</td>\n",
       "      <td>-0.014815</td>\n",
       "      <td>-1.768220</td>\n",
       "      <td>-1.976626</td>\n",
       "      <td>0</td>\n",
       "      <td>0</td>\n",
       "      <td>-0.347927</td>\n",
       "      <td>...</td>\n",
       "      <td>0.273575</td>\n",
       "      <td>1.117307</td>\n",
       "      <td>-0.314122</td>\n",
       "      <td>1.156173</td>\n",
       "      <td>0</td>\n",
       "      <td>0</td>\n",
       "      <td>1</td>\n",
       "      <td>0</td>\n",
       "      <td>0</td>\n",
       "      <td>0</td>\n",
       "    </tr>\n",
       "    <tr>\n",
       "      <th>4</th>\n",
       "      <td>-0.109679</td>\n",
       "      <td>의류</td>\n",
       "      <td>-0.555490</td>\n",
       "      <td>-0.208581</td>\n",
       "      <td>1.124620</td>\n",
       "      <td>-1.710068</td>\n",
       "      <td>-1.343825</td>\n",
       "      <td>0</td>\n",
       "      <td>0</td>\n",
       "      <td>-0.347927</td>\n",
       "      <td>...</td>\n",
       "      <td>0.273575</td>\n",
       "      <td>1.117307</td>\n",
       "      <td>-0.314122</td>\n",
       "      <td>1.156173</td>\n",
       "      <td>0</td>\n",
       "      <td>1</td>\n",
       "      <td>0</td>\n",
       "      <td>0</td>\n",
       "      <td>0</td>\n",
       "      <td>0</td>\n",
       "    </tr>\n",
       "    <tr>\n",
       "      <th>...</th>\n",
       "      <td>...</td>\n",
       "      <td>...</td>\n",
       "      <td>...</td>\n",
       "      <td>...</td>\n",
       "      <td>...</td>\n",
       "      <td>...</td>\n",
       "      <td>...</td>\n",
       "      <td>...</td>\n",
       "      <td>...</td>\n",
       "      <td>...</td>\n",
       "      <td>...</td>\n",
       "      <td>...</td>\n",
       "      <td>...</td>\n",
       "      <td>...</td>\n",
       "      <td>...</td>\n",
       "      <td>...</td>\n",
       "      <td>...</td>\n",
       "      <td>...</td>\n",
       "      <td>...</td>\n",
       "      <td>...</td>\n",
       "      <td>...</td>\n",
       "    </tr>\n",
       "    <tr>\n",
       "      <th>35374</th>\n",
       "      <td>-0.109679</td>\n",
       "      <td>주방</td>\n",
       "      <td>-0.382917</td>\n",
       "      <td>-0.922281</td>\n",
       "      <td>-0.014815</td>\n",
       "      <td>1.255686</td>\n",
       "      <td>0.029393</td>\n",
       "      <td>0</td>\n",
       "      <td>0</td>\n",
       "      <td>-0.347927</td>\n",
       "      <td>...</td>\n",
       "      <td>-0.232653</td>\n",
       "      <td>0.836731</td>\n",
       "      <td>0.933380</td>\n",
       "      <td>0.994927</td>\n",
       "      <td>0</td>\n",
       "      <td>0</td>\n",
       "      <td>0</td>\n",
       "      <td>0</td>\n",
       "      <td>1</td>\n",
       "      <td>1</td>\n",
       "    </tr>\n",
       "    <tr>\n",
       "      <th>35375</th>\n",
       "      <td>-0.109679</td>\n",
       "      <td>주방</td>\n",
       "      <td>-0.335024</td>\n",
       "      <td>-0.922281</td>\n",
       "      <td>1.124620</td>\n",
       "      <td>1.313839</td>\n",
       "      <td>-0.554547</td>\n",
       "      <td>0</td>\n",
       "      <td>0</td>\n",
       "      <td>-0.358480</td>\n",
       "      <td>...</td>\n",
       "      <td>-0.232653</td>\n",
       "      <td>3.081337</td>\n",
       "      <td>2.471967</td>\n",
       "      <td>0.213502</td>\n",
       "      <td>0</td>\n",
       "      <td>0</td>\n",
       "      <td>0</td>\n",
       "      <td>1</td>\n",
       "      <td>0</td>\n",
       "      <td>1</td>\n",
       "    </tr>\n",
       "    <tr>\n",
       "      <th>35376</th>\n",
       "      <td>-0.109679</td>\n",
       "      <td>주방</td>\n",
       "      <td>-0.350988</td>\n",
       "      <td>-0.922281</td>\n",
       "      <td>1.124620</td>\n",
       "      <td>1.313839</td>\n",
       "      <td>-0.554547</td>\n",
       "      <td>0</td>\n",
       "      <td>0</td>\n",
       "      <td>-0.358480</td>\n",
       "      <td>...</td>\n",
       "      <td>-0.232653</td>\n",
       "      <td>3.081337</td>\n",
       "      <td>2.471967</td>\n",
       "      <td>0.213502</td>\n",
       "      <td>0</td>\n",
       "      <td>0</td>\n",
       "      <td>0</td>\n",
       "      <td>0</td>\n",
       "      <td>1</td>\n",
       "      <td>1</td>\n",
       "    </tr>\n",
       "    <tr>\n",
       "      <th>35377</th>\n",
       "      <td>-0.109679</td>\n",
       "      <td>주방</td>\n",
       "      <td>-0.366952</td>\n",
       "      <td>-0.922281</td>\n",
       "      <td>1.124620</td>\n",
       "      <td>1.313839</td>\n",
       "      <td>-0.554547</td>\n",
       "      <td>0</td>\n",
       "      <td>0</td>\n",
       "      <td>-0.358480</td>\n",
       "      <td>...</td>\n",
       "      <td>-0.232653</td>\n",
       "      <td>3.081337</td>\n",
       "      <td>2.471967</td>\n",
       "      <td>0.213502</td>\n",
       "      <td>0</td>\n",
       "      <td>0</td>\n",
       "      <td>0</td>\n",
       "      <td>1</td>\n",
       "      <td>0</td>\n",
       "      <td>1</td>\n",
       "    </tr>\n",
       "    <tr>\n",
       "      <th>35378</th>\n",
       "      <td>-0.109679</td>\n",
       "      <td>주방</td>\n",
       "      <td>-0.382917</td>\n",
       "      <td>-0.922281</td>\n",
       "      <td>1.124620</td>\n",
       "      <td>1.313839</td>\n",
       "      <td>-0.554547</td>\n",
       "      <td>0</td>\n",
       "      <td>0</td>\n",
       "      <td>-0.358480</td>\n",
       "      <td>...</td>\n",
       "      <td>-0.232653</td>\n",
       "      <td>3.081337</td>\n",
       "      <td>2.471967</td>\n",
       "      <td>0.213502</td>\n",
       "      <td>0</td>\n",
       "      <td>0</td>\n",
       "      <td>0</td>\n",
       "      <td>0</td>\n",
       "      <td>1</td>\n",
       "      <td>1</td>\n",
       "    </tr>\n",
       "  </tbody>\n",
       "</table>\n",
       "<p>35379 rows × 26 columns</p>\n",
       "</div>"
      ],
      "text/plain": [
       "          노출(분) 상품군      판매단가     평균방송분      겹치는수        시각     시청률평균  점심  저녁  \\\n",
       "0     -0.109679  의류 -0.555490 -0.208581 -1.154250 -1.826372 -1.804510   0   0   \n",
       "1     -0.109679  의류 -0.555490 -0.208581 -1.154250 -1.826372 -1.804510   0   0   \n",
       "2     -0.109679  의류 -0.555490 -0.208581 -0.014815 -1.768220 -1.976626   0   0   \n",
       "3     -0.109679  의류 -0.555490 -0.208581 -0.014815 -1.768220 -1.976626   0   0   \n",
       "4     -0.109679  의류 -0.555490 -0.208581  1.124620 -1.710068 -1.343825   0   0   \n",
       "...         ...  ..       ...       ...       ...       ...       ...  ..  ..   \n",
       "35374 -0.109679  주방 -0.382917 -0.922281 -0.014815  1.255686  0.029393   0   0   \n",
       "35375 -0.109679  주방 -0.335024 -0.922281  1.124620  1.313839 -0.554547   0   0   \n",
       "35376 -0.109679  주방 -0.350988 -0.922281  1.124620  1.313839 -0.554547   0   0   \n",
       "35377 -0.109679  주방 -0.366952 -0.922281  1.124620  1.313839 -0.554547   0   0   \n",
       "35378 -0.109679  주방 -0.382917 -0.922281  1.124620  1.313839 -0.554547   0   0   \n",
       "\n",
       "        강수량(mm)  ...  상품군power       CPI       CSI        RS  PrimeTime  남성상품  \\\n",
       "0     -0.347927  ...  0.273575  1.117307 -0.314122  1.156173          0     1   \n",
       "1     -0.347927  ...  0.273575  1.117307 -0.314122  1.156173          0     0   \n",
       "2     -0.347927  ...  0.273575  1.117307 -0.314122  1.156173          0     1   \n",
       "3     -0.347927  ...  0.273575  1.117307 -0.314122  1.156173          0     0   \n",
       "4     -0.347927  ...  0.273575  1.117307 -0.314122  1.156173          0     1   \n",
       "...         ...  ...       ...       ...       ...       ...        ...   ...   \n",
       "35374 -0.347927  ... -0.232653  0.836731  0.933380  0.994927          0     0   \n",
       "35375 -0.358480  ... -0.232653  3.081337  2.471967  0.213502          0     0   \n",
       "35376 -0.358480  ... -0.232653  3.081337  2.471967  0.213502          0     0   \n",
       "35377 -0.358480  ... -0.232653  3.081337  2.471967  0.213502          0     0   \n",
       "35378 -0.358480  ... -0.232653  3.081337  2.471967  0.213502          0     0   \n",
       "\n",
       "       여성상품  무이자  일시불  유명기업/브랜드  \n",
       "0         0    0    0         0  \n",
       "1         1    0    0         0  \n",
       "2         0    0    0         0  \n",
       "3         1    0    0         0  \n",
       "4         0    0    0         0  \n",
       "...     ...  ...  ...       ...  \n",
       "35374     0    0    1         1  \n",
       "35375     0    1    0         1  \n",
       "35376     0    0    1         1  \n",
       "35377     0    1    0         1  \n",
       "35378     0    0    1         1  \n",
       "\n",
       "[35379 rows x 26 columns]"
      ]
     },
     "execution_count": 74,
     "metadata": {},
     "output_type": "execute_result"
    }
   ],
   "source": [
    "X"
   ]
  },
  {
   "cell_type": "code",
   "execution_count": 75,
   "metadata": {},
   "outputs": [],
   "source": [
    "X = pd.get_dummies(X,columns=['상품군'])"
   ]
  },
  {
   "cell_type": "code",
   "execution_count": 76,
   "metadata": {},
   "outputs": [
    {
     "data": {
      "text/html": [
       "<div>\n",
       "<style scoped>\n",
       "    .dataframe tbody tr th:only-of-type {\n",
       "        vertical-align: middle;\n",
       "    }\n",
       "\n",
       "    .dataframe tbody tr th {\n",
       "        vertical-align: top;\n",
       "    }\n",
       "\n",
       "    .dataframe thead th {\n",
       "        text-align: right;\n",
       "    }\n",
       "</style>\n",
       "<table border=\"1\" class=\"dataframe\">\n",
       "  <thead>\n",
       "    <tr style=\"text-align: right;\">\n",
       "      <th></th>\n",
       "      <th>노출(분)</th>\n",
       "      <th>판매단가</th>\n",
       "      <th>평균방송분</th>\n",
       "      <th>겹치는수</th>\n",
       "      <th>시각</th>\n",
       "      <th>시청률평균</th>\n",
       "      <th>점심</th>\n",
       "      <th>저녁</th>\n",
       "      <th>강수량(mm)</th>\n",
       "      <th>평균기온(℃)</th>\n",
       "      <th>...</th>\n",
       "      <th>상품군_가전</th>\n",
       "      <th>상품군_건강기능</th>\n",
       "      <th>상품군_농수축</th>\n",
       "      <th>상품군_생활용품</th>\n",
       "      <th>상품군_속옷</th>\n",
       "      <th>상품군_의류</th>\n",
       "      <th>상품군_이미용</th>\n",
       "      <th>상품군_잡화</th>\n",
       "      <th>상품군_주방</th>\n",
       "      <th>상품군_침구</th>\n",
       "    </tr>\n",
       "  </thead>\n",
       "  <tbody>\n",
       "    <tr>\n",
       "      <th>0</th>\n",
       "      <td>-0.109679</td>\n",
       "      <td>-0.555490</td>\n",
       "      <td>-0.208581</td>\n",
       "      <td>-1.154250</td>\n",
       "      <td>-1.826372</td>\n",
       "      <td>-1.804510</td>\n",
       "      <td>0</td>\n",
       "      <td>0</td>\n",
       "      <td>-0.347927</td>\n",
       "      <td>-1.760509</td>\n",
       "      <td>...</td>\n",
       "      <td>0</td>\n",
       "      <td>0</td>\n",
       "      <td>0</td>\n",
       "      <td>0</td>\n",
       "      <td>0</td>\n",
       "      <td>1</td>\n",
       "      <td>0</td>\n",
       "      <td>0</td>\n",
       "      <td>0</td>\n",
       "      <td>0</td>\n",
       "    </tr>\n",
       "    <tr>\n",
       "      <th>1</th>\n",
       "      <td>-0.109679</td>\n",
       "      <td>-0.555490</td>\n",
       "      <td>-0.208581</td>\n",
       "      <td>-1.154250</td>\n",
       "      <td>-1.826372</td>\n",
       "      <td>-1.804510</td>\n",
       "      <td>0</td>\n",
       "      <td>0</td>\n",
       "      <td>-0.347927</td>\n",
       "      <td>-1.760509</td>\n",
       "      <td>...</td>\n",
       "      <td>0</td>\n",
       "      <td>0</td>\n",
       "      <td>0</td>\n",
       "      <td>0</td>\n",
       "      <td>0</td>\n",
       "      <td>1</td>\n",
       "      <td>0</td>\n",
       "      <td>0</td>\n",
       "      <td>0</td>\n",
       "      <td>0</td>\n",
       "    </tr>\n",
       "    <tr>\n",
       "      <th>2</th>\n",
       "      <td>-0.109679</td>\n",
       "      <td>-0.555490</td>\n",
       "      <td>-0.208581</td>\n",
       "      <td>-0.014815</td>\n",
       "      <td>-1.768220</td>\n",
       "      <td>-1.976626</td>\n",
       "      <td>0</td>\n",
       "      <td>0</td>\n",
       "      <td>-0.347927</td>\n",
       "      <td>-1.760509</td>\n",
       "      <td>...</td>\n",
       "      <td>0</td>\n",
       "      <td>0</td>\n",
       "      <td>0</td>\n",
       "      <td>0</td>\n",
       "      <td>0</td>\n",
       "      <td>1</td>\n",
       "      <td>0</td>\n",
       "      <td>0</td>\n",
       "      <td>0</td>\n",
       "      <td>0</td>\n",
       "    </tr>\n",
       "    <tr>\n",
       "      <th>3</th>\n",
       "      <td>-0.109679</td>\n",
       "      <td>-0.555490</td>\n",
       "      <td>-0.208581</td>\n",
       "      <td>-0.014815</td>\n",
       "      <td>-1.768220</td>\n",
       "      <td>-1.976626</td>\n",
       "      <td>0</td>\n",
       "      <td>0</td>\n",
       "      <td>-0.347927</td>\n",
       "      <td>-1.760509</td>\n",
       "      <td>...</td>\n",
       "      <td>0</td>\n",
       "      <td>0</td>\n",
       "      <td>0</td>\n",
       "      <td>0</td>\n",
       "      <td>0</td>\n",
       "      <td>1</td>\n",
       "      <td>0</td>\n",
       "      <td>0</td>\n",
       "      <td>0</td>\n",
       "      <td>0</td>\n",
       "    </tr>\n",
       "    <tr>\n",
       "      <th>4</th>\n",
       "      <td>-0.109679</td>\n",
       "      <td>-0.555490</td>\n",
       "      <td>-0.208581</td>\n",
       "      <td>1.124620</td>\n",
       "      <td>-1.710068</td>\n",
       "      <td>-1.343825</td>\n",
       "      <td>0</td>\n",
       "      <td>0</td>\n",
       "      <td>-0.347927</td>\n",
       "      <td>-1.760509</td>\n",
       "      <td>...</td>\n",
       "      <td>0</td>\n",
       "      <td>0</td>\n",
       "      <td>0</td>\n",
       "      <td>0</td>\n",
       "      <td>0</td>\n",
       "      <td>1</td>\n",
       "      <td>0</td>\n",
       "      <td>0</td>\n",
       "      <td>0</td>\n",
       "      <td>0</td>\n",
       "    </tr>\n",
       "    <tr>\n",
       "      <th>...</th>\n",
       "      <td>...</td>\n",
       "      <td>...</td>\n",
       "      <td>...</td>\n",
       "      <td>...</td>\n",
       "      <td>...</td>\n",
       "      <td>...</td>\n",
       "      <td>...</td>\n",
       "      <td>...</td>\n",
       "      <td>...</td>\n",
       "      <td>...</td>\n",
       "      <td>...</td>\n",
       "      <td>...</td>\n",
       "      <td>...</td>\n",
       "      <td>...</td>\n",
       "      <td>...</td>\n",
       "      <td>...</td>\n",
       "      <td>...</td>\n",
       "      <td>...</td>\n",
       "      <td>...</td>\n",
       "      <td>...</td>\n",
       "      <td>...</td>\n",
       "    </tr>\n",
       "    <tr>\n",
       "      <th>35374</th>\n",
       "      <td>-0.109679</td>\n",
       "      <td>-0.382917</td>\n",
       "      <td>-0.922281</td>\n",
       "      <td>-0.014815</td>\n",
       "      <td>1.255686</td>\n",
       "      <td>0.029393</td>\n",
       "      <td>0</td>\n",
       "      <td>0</td>\n",
       "      <td>-0.347927</td>\n",
       "      <td>-1.948998</td>\n",
       "      <td>...</td>\n",
       "      <td>0</td>\n",
       "      <td>0</td>\n",
       "      <td>0</td>\n",
       "      <td>0</td>\n",
       "      <td>0</td>\n",
       "      <td>0</td>\n",
       "      <td>0</td>\n",
       "      <td>0</td>\n",
       "      <td>1</td>\n",
       "      <td>0</td>\n",
       "    </tr>\n",
       "    <tr>\n",
       "      <th>35375</th>\n",
       "      <td>-0.109679</td>\n",
       "      <td>-0.335024</td>\n",
       "      <td>-0.922281</td>\n",
       "      <td>1.124620</td>\n",
       "      <td>1.313839</td>\n",
       "      <td>-0.554547</td>\n",
       "      <td>0</td>\n",
       "      <td>0</td>\n",
       "      <td>-0.358480</td>\n",
       "      <td>-1.073076</td>\n",
       "      <td>...</td>\n",
       "      <td>0</td>\n",
       "      <td>0</td>\n",
       "      <td>0</td>\n",
       "      <td>0</td>\n",
       "      <td>0</td>\n",
       "      <td>0</td>\n",
       "      <td>0</td>\n",
       "      <td>0</td>\n",
       "      <td>1</td>\n",
       "      <td>0</td>\n",
       "    </tr>\n",
       "    <tr>\n",
       "      <th>35376</th>\n",
       "      <td>-0.109679</td>\n",
       "      <td>-0.350988</td>\n",
       "      <td>-0.922281</td>\n",
       "      <td>1.124620</td>\n",
       "      <td>1.313839</td>\n",
       "      <td>-0.554547</td>\n",
       "      <td>0</td>\n",
       "      <td>0</td>\n",
       "      <td>-0.358480</td>\n",
       "      <td>-1.073076</td>\n",
       "      <td>...</td>\n",
       "      <td>0</td>\n",
       "      <td>0</td>\n",
       "      <td>0</td>\n",
       "      <td>0</td>\n",
       "      <td>0</td>\n",
       "      <td>0</td>\n",
       "      <td>0</td>\n",
       "      <td>0</td>\n",
       "      <td>1</td>\n",
       "      <td>0</td>\n",
       "    </tr>\n",
       "    <tr>\n",
       "      <th>35377</th>\n",
       "      <td>-0.109679</td>\n",
       "      <td>-0.366952</td>\n",
       "      <td>-0.922281</td>\n",
       "      <td>1.124620</td>\n",
       "      <td>1.313839</td>\n",
       "      <td>-0.554547</td>\n",
       "      <td>0</td>\n",
       "      <td>0</td>\n",
       "      <td>-0.358480</td>\n",
       "      <td>-1.073076</td>\n",
       "      <td>...</td>\n",
       "      <td>0</td>\n",
       "      <td>0</td>\n",
       "      <td>0</td>\n",
       "      <td>0</td>\n",
       "      <td>0</td>\n",
       "      <td>0</td>\n",
       "      <td>0</td>\n",
       "      <td>0</td>\n",
       "      <td>1</td>\n",
       "      <td>0</td>\n",
       "    </tr>\n",
       "    <tr>\n",
       "      <th>35378</th>\n",
       "      <td>-0.109679</td>\n",
       "      <td>-0.382917</td>\n",
       "      <td>-0.922281</td>\n",
       "      <td>1.124620</td>\n",
       "      <td>1.313839</td>\n",
       "      <td>-0.554547</td>\n",
       "      <td>0</td>\n",
       "      <td>0</td>\n",
       "      <td>-0.358480</td>\n",
       "      <td>-1.073076</td>\n",
       "      <td>...</td>\n",
       "      <td>0</td>\n",
       "      <td>0</td>\n",
       "      <td>0</td>\n",
       "      <td>0</td>\n",
       "      <td>0</td>\n",
       "      <td>0</td>\n",
       "      <td>0</td>\n",
       "      <td>0</td>\n",
       "      <td>1</td>\n",
       "      <td>0</td>\n",
       "    </tr>\n",
       "  </tbody>\n",
       "</table>\n",
       "<p>35379 rows × 36 columns</p>\n",
       "</div>"
      ],
      "text/plain": [
       "          노출(분)      판매단가     평균방송분      겹치는수        시각     시청률평균  점심  저녁  \\\n",
       "0     -0.109679 -0.555490 -0.208581 -1.154250 -1.826372 -1.804510   0   0   \n",
       "1     -0.109679 -0.555490 -0.208581 -1.154250 -1.826372 -1.804510   0   0   \n",
       "2     -0.109679 -0.555490 -0.208581 -0.014815 -1.768220 -1.976626   0   0   \n",
       "3     -0.109679 -0.555490 -0.208581 -0.014815 -1.768220 -1.976626   0   0   \n",
       "4     -0.109679 -0.555490 -0.208581  1.124620 -1.710068 -1.343825   0   0   \n",
       "...         ...       ...       ...       ...       ...       ...  ..  ..   \n",
       "35374 -0.109679 -0.382917 -0.922281 -0.014815  1.255686  0.029393   0   0   \n",
       "35375 -0.109679 -0.335024 -0.922281  1.124620  1.313839 -0.554547   0   0   \n",
       "35376 -0.109679 -0.350988 -0.922281  1.124620  1.313839 -0.554547   0   0   \n",
       "35377 -0.109679 -0.366952 -0.922281  1.124620  1.313839 -0.554547   0   0   \n",
       "35378 -0.109679 -0.382917 -0.922281  1.124620  1.313839 -0.554547   0   0   \n",
       "\n",
       "        강수량(mm)   평균기온(℃)  ...  상품군_가전  상품군_건강기능  상품군_농수축  상품군_생활용품  상품군_속옷  \\\n",
       "0     -0.347927 -1.760509  ...       0         0        0         0       0   \n",
       "1     -0.347927 -1.760509  ...       0         0        0         0       0   \n",
       "2     -0.347927 -1.760509  ...       0         0        0         0       0   \n",
       "3     -0.347927 -1.760509  ...       0         0        0         0       0   \n",
       "4     -0.347927 -1.760509  ...       0         0        0         0       0   \n",
       "...         ...       ...  ...     ...       ...      ...       ...     ...   \n",
       "35374 -0.347927 -1.948998  ...       0         0        0         0       0   \n",
       "35375 -0.358480 -1.073076  ...       0         0        0         0       0   \n",
       "35376 -0.358480 -1.073076  ...       0         0        0         0       0   \n",
       "35377 -0.358480 -1.073076  ...       0         0        0         0       0   \n",
       "35378 -0.358480 -1.073076  ...       0         0        0         0       0   \n",
       "\n",
       "       상품군_의류  상품군_이미용  상품군_잡화  상품군_주방  상품군_침구  \n",
       "0           1        0       0       0       0  \n",
       "1           1        0       0       0       0  \n",
       "2           1        0       0       0       0  \n",
       "3           1        0       0       0       0  \n",
       "4           1        0       0       0       0  \n",
       "...       ...      ...     ...     ...     ...  \n",
       "35374       0        0       0       1       0  \n",
       "35375       0        0       0       1       0  \n",
       "35376       0        0       0       1       0  \n",
       "35377       0        0       0       1       0  \n",
       "35378       0        0       0       1       0  \n",
       "\n",
       "[35379 rows x 36 columns]"
      ]
     },
     "execution_count": 76,
     "metadata": {},
     "output_type": "execute_result"
    }
   ],
   "source": [
    "X=pd.get_dummies(X,columns=['PrimeTime']) ;X"
   ]
  },
  {
   "cell_type": "code",
   "execution_count": 77,
   "metadata": {
    "ExecuteTime": {
     "end_time": "2020-08-02T09:25:37.526835Z",
     "start_time": "2020-08-02T09:25:35.250127Z"
    }
   },
   "outputs": [],
   "source": [
    "import numpy as np\n",
    "import pandas as pd\n",
    "import seaborn as sns\n",
    "from sklearn.datasets import make_regression\n",
    "import matplotlib as mpl\n",
    "import matplotlib.pyplot as plt\n",
    "from sklearn import metrics # 모델평가시 이용"
   ]
  },
  {
   "cell_type": "code",
   "execution_count": 78,
   "metadata": {
    "ExecuteTime": {
     "end_time": "2020-08-02T09:25:37.637397Z",
     "start_time": "2020-08-02T09:25:37.607478Z"
    }
   },
   "outputs": [],
   "source": [
    "# dataset train/test set 으로 나누기\n",
    "from sklearn.model_selection import train_test_split\n",
    "X_train, X_test, y_train, y_test = train_test_split(X, y, test_size=0.20, random_state=0)"
   ]
  },
  {
   "cell_type": "markdown",
   "metadata": {},
   "source": [
    "# Multi Linear Regression"
   ]
  },
  {
   "cell_type": "markdown",
   "metadata": {},
   "source": [
    "## 모델 세우기"
   ]
  },
  {
   "cell_type": "code",
   "execution_count": 79,
   "metadata": {
    "ExecuteTime": {
     "end_time": "2020-08-02T09:25:40.053254Z",
     "start_time": "2020-08-02T09:25:39.966332Z"
    },
    "scrolled": true
   },
   "outputs": [
    {
     "data": {
      "text/plain": [
       "LinearRegression()"
      ]
     },
     "execution_count": 79,
     "metadata": {},
     "output_type": "execute_result"
    }
   ],
   "source": [
    "from sklearn.linear_model import LinearRegression\n",
    "model = LinearRegression()\n",
    "model.fit(X_train, y_train)"
   ]
  },
  {
   "cell_type": "code",
   "execution_count": 80,
   "metadata": {},
   "outputs": [],
   "source": [
    "def MAPE(y_true, y_pred): \n",
    "    return np.mean(np.abs((y_true - y_pred) / y_true)) * 100"
   ]
  },
  {
   "cell_type": "markdown",
   "metadata": {},
   "source": [
    "## 모델 평가"
   ]
  },
  {
   "cell_type": "code",
   "execution_count": 81,
   "metadata": {
    "ExecuteTime": {
     "end_time": "2020-08-02T09:25:40.663642Z",
     "start_time": "2020-08-02T09:25:40.641508Z"
    }
   },
   "outputs": [
    {
     "name": "stdout",
     "output_type": "stream",
     "text": [
      "Mape : 87.26772039760257\n"
     ]
    }
   ],
   "source": [
    "from sklearn import metrics\n",
    "y_pred = model.predict(X_test)\n",
    "\n",
    "# MAPE(y_test,y_pred)\n",
    "print (\"Mape :\", MAPE(y_test,y_pred))"
   ]
  },
  {
   "cell_type": "markdown",
   "metadata": {},
   "source": [
    "# Polynomial regression"
   ]
  },
  {
   "cell_type": "markdown",
   "metadata": {},
   "source": [
    "변수가 적다면, 데이터 분석시 부정확 할 수 있다. 그래서 polynomial 로 변수의 갯수를 늘려서 예측도를 높혀보자"
   ]
  },
  {
   "cell_type": "markdown",
   "metadata": {},
   "source": [
    "## 데이터 전처리"
   ]
  },
  {
   "cell_type": "markdown",
   "metadata": {},
   "source": [
    "다항회귀는, 데이터를 돌리기 전, x1 x2 -> x1^2 , x1x2, x2^2 처럼 데이터를 바꾸어야 한다.를 해주어야한다."
   ]
  },
  {
   "cell_type": "code",
   "execution_count": 82,
   "metadata": {
    "ExecuteTime": {
     "end_time": "2020-08-02T09:25:56.408589Z",
     "start_time": "2020-08-02T09:25:56.387953Z"
    }
   },
   "outputs": [],
   "source": [
    "from sklearn.preprocessing import PolynomialFeatures\n",
    "poly = PolynomialFeatures()  \n",
    "# degree : 몇 차수까진 늘릴지 결정\n",
    "#        : (default)=2\n",
    "# interaction_only : only 자기 자신의 거듭제곱만 넣을지 말지. (ex x1 x2 -> x1^2 , ^2)\n",
    "#                  : (default)=False (interaction 항 넣기) (EX x1 x2 -> x1^2 , x1x2, x2^2)\n",
    "X_train_poly = poly.fit_transform(X_train)\n",
    "X_test_poly = poly.fit_transform(X_test)"
   ]
  },
  {
   "cell_type": "markdown",
   "metadata": {},
   "source": [
    "## 모델 세우기"
   ]
  },
  {
   "cell_type": "code",
   "execution_count": 83,
   "metadata": {
    "ExecuteTime": {
     "end_time": "2020-08-02T09:25:57.344304Z",
     "start_time": "2020-08-02T09:25:57.294405Z"
    },
    "scrolled": true
   },
   "outputs": [
    {
     "data": {
      "text/plain": [
       "LinearRegression()"
      ]
     },
     "execution_count": 83,
     "metadata": {},
     "output_type": "execute_result"
    }
   ],
   "source": [
    "model = LinearRegression()\n",
    "model.fit(X_train_poly, y_train)"
   ]
  },
  {
   "cell_type": "markdown",
   "metadata": {},
   "source": [
    "## 모델 평가"
   ]
  },
  {
   "cell_type": "code",
   "execution_count": 85,
   "metadata": {
    "ExecuteTime": {
     "end_time": "2020-08-02T09:25:59.685585Z",
     "start_time": "2020-08-02T09:25:59.664616Z"
    }
   },
   "outputs": [
    {
     "name": "stdout",
     "output_type": "stream",
     "text": [
      "MAPE : 74.62339316849305\n"
     ]
    }
   ],
   "source": [
    "from sklearn import metrics\n",
    "y_pred = model.predict(X_test_poly)\n",
    "print (\"MAPE :\", MAPE(y_test,y_pred))"
   ]
  },
  {
   "cell_type": "markdown",
   "metadata": {},
   "source": [
    "# Ridge regression"
   ]
  },
  {
   "cell_type": "markdown",
   "metadata": {},
   "source": [
    "$w = \\text{arg}\\min_w \\left( \\sum_{i=1}^N e_i^2 + \\lambda \\sum_{j=1}^M w_j^2 \\right) $"
   ]
  },
  {
   "cell_type": "markdown",
   "metadata": {},
   "source": [
    "## 모델 세우기"
   ]
  },
  {
   "cell_type": "code",
   "execution_count": 86,
   "metadata": {
    "ExecuteTime": {
     "end_time": "2020-08-02T09:26:03.951055Z",
     "start_time": "2020-08-02T09:26:03.291571Z"
    }
   },
   "outputs": [],
   "source": [
    "from sklearn.linear_model import RidgeCV\n",
    "from sklearn.linear_model import Ridge\n",
    "\n",
    "para_range = np.logspace(-3, 3, num=50) # 10^-3 ~ 10^3 \n",
    "model = RidgeCV(alphas = para_range , cv=5)\n",
    "model.fit(X_train, y_train) ;"
   ]
  },
  {
   "cell_type": "markdown",
   "metadata": {},
   "source": [
    "## 모델 평가"
   ]
  },
  {
   "cell_type": "code",
   "execution_count": 87,
   "metadata": {
    "ExecuteTime": {
     "end_time": "2020-08-02T09:26:03.966012Z",
     "start_time": "2020-08-02T09:26:03.953048Z"
    },
    "scrolled": true
   },
   "outputs": [
    {
     "name": "stdout",
     "output_type": "stream",
     "text": [
      "MAPE : 87.15052149689576\n"
     ]
    }
   ],
   "source": [
    "from sklearn import metrics\n",
    "\n",
    "predicted = model.predict(X_test) \n",
    "\n",
    "print (\"MAPE :\",MAPE(y_test, predicted))"
   ]
  },
  {
   "cell_type": "markdown",
   "metadata": {},
   "source": [
    "# ElasticNet Regression"
   ]
  },
  {
   "cell_type": "code",
   "execution_count": 88,
   "metadata": {
    "ExecuteTime": {
     "end_time": "2020-08-02T10:27:45.206307Z",
     "start_time": "2020-08-02T10:27:45.202317Z"
    }
   },
   "outputs": [],
   "source": [
    "from sklearn.linear_model import ElasticNetCV\n",
    "from sklearn.linear_model import ElasticNet"
   ]
  },
  {
   "cell_type": "markdown",
   "metadata": {},
   "source": [
    "## 모델 세우기"
   ]
  },
  {
   "cell_type": "code",
   "execution_count": 89,
   "metadata": {
    "ExecuteTime": {
     "end_time": "2020-08-02T10:27:46.170184Z",
     "start_time": "2020-08-02T10:27:45.693415Z"
    },
    "scrolled": false
   },
   "outputs": [
    {
     "name": "stdout",
     "output_type": "stream",
     "text": [
      "11524.704161129726\n",
      "1.0\n"
     ]
    }
   ],
   "source": [
    "ElasticCV = ElasticNetCV(l1_ratio =[.1, .5, .7, .9, .95, .99,1], cv=5, random_state=0)\n",
    "# l1 Note that a good choice of list of values for l1_ratio is often to put more values close to 1 (i.e. Lasso) and less close to 0 (i.e. Ridge), as in  [.1, .5, .7, .9, .95, .99, 1] \n",
    "\n",
    "ElasticCV.fit(X_train, y_train)\n",
    "print(ElasticCV.alpha_) # alpha 값\n",
    "print(ElasticCV.l1_ratio_) #l1 ratio 1 이면 사실상 lasso 이다... 1 이 나오면 그냥 lasso 로 하라는 의미"
   ]
  },
  {
   "cell_type": "markdown",
   "metadata": {},
   "source": [
    "## 모델 평가"
   ]
  },
  {
   "cell_type": "code",
   "execution_count": 90,
   "metadata": {
    "ExecuteTime": {
     "end_time": "2020-08-02T10:27:47.113942Z",
     "start_time": "2020-08-02T10:27:47.107397Z"
    },
    "scrolled": true
   },
   "outputs": [
    {
     "name": "stdout",
     "output_type": "stream",
     "text": [
      "MAPE : 87.21893864351632\n"
     ]
    }
   ],
   "source": [
    "from sklearn import metrics\n",
    "\n",
    "predicted = ElasticCV.predict(X_test) \n",
    "\n",
    "print (\"MAPE :\",MAPE(y_test, predicted))"
   ]
  },
  {
   "cell_type": "markdown",
   "metadata": {},
   "source": [
    "# lasso regression"
   ]
  },
  {
   "cell_type": "markdown",
   "metadata": {},
   "source": [
    "## 모델 세우기"
   ]
  },
  {
   "cell_type": "code",
   "execution_count": 91,
   "metadata": {},
   "outputs": [],
   "source": [
    "from sklearn.linear_model import LassoCV\n",
    "from sklearn.linear_model import Lasso\n",
    "alphas = np.logspace(-3, 3, num=50) # 10^-3 ~ 10^3 \n",
    "lassocv = LassoCV(alphas = alphas, cv=5,tol=1)\n",
    "# 위 ridge 때와 동일\n",
    "lassocv.fit(X_train, y_train) ;"
   ]
  },
  {
   "cell_type": "markdown",
   "metadata": {},
   "source": [
    "## 모델 평가"
   ]
  },
  {
   "cell_type": "code",
   "execution_count": 92,
   "metadata": {},
   "outputs": [
    {
     "name": "stdout",
     "output_type": "stream",
     "text": [
      "MAPE : 92.11112679098062\n"
     ]
    }
   ],
   "source": [
    "from sklearn import metrics\n",
    "predicted = lassocv.predict(X_test) \n",
    "\n",
    "print (\"MAPE :\", MAPE(y_test, predicted))"
   ]
  },
  {
   "cell_type": "markdown",
   "metadata": {},
   "source": [
    "# K-Neighbors Regression"
   ]
  },
  {
   "cell_type": "markdown",
   "metadata": {},
   "source": [
    "## 모델 세우기"
   ]
  },
  {
   "cell_type": "code",
   "execution_count": 93,
   "metadata": {},
   "outputs": [
    {
     "data": {
      "text/plain": [
       "GridSearchCV(cv=2, estimator=KNeighborsRegressor(),\n",
       "             param_grid={'n_neighbors': array([1])})"
      ]
     },
     "execution_count": 93,
     "metadata": {},
     "output_type": "execute_result"
    }
   ],
   "source": [
    "from sklearn.neighbors import KNeighborsRegressor\n",
    "from sklearn.model_selection import GridSearchCV\n",
    "model = KNeighborsRegressor() \n",
    "param_grid ={'n_neighbors' : np.arange(1,2)}\n",
    "model = GridSearchCV(model,param_grid,cv=2)\n",
    "model.fit(X_train,y_train)"
   ]
  },
  {
   "cell_type": "code",
   "execution_count": 94,
   "metadata": {},
   "outputs": [
    {
     "name": "stdout",
     "output_type": "stream",
     "text": [
      "{'n_neighbors': 1}\n",
      "0.2972023080036589\n"
     ]
    }
   ],
   "source": [
    "print(model.best_params_) # 우리가 추정한 best parameter\n",
    "print(model.best_score_) # 우리가 지정한 scoring 에 기반한 제일 좋은 score"
   ]
  },
  {
   "cell_type": "markdown",
   "metadata": {},
   "source": [
    "## 모델 평가"
   ]
  },
  {
   "cell_type": "code",
   "execution_count": 96,
   "metadata": {},
   "outputs": [
    {
     "name": "stdout",
     "output_type": "stream",
     "text": [
      "MSE : 92.30884472982184\n"
     ]
    }
   ],
   "source": [
    "y_pred = model.predict(X_test)\n",
    "print (\"MSE :\",MAPE(y_test, y_pred))"
   ]
  },
  {
   "cell_type": "markdown",
   "metadata": {},
   "source": [
    "#  DecisionTree Regression"
   ]
  },
  {
   "cell_type": "markdown",
   "metadata": {},
   "source": [
    "## 모델 세우기"
   ]
  },
  {
   "cell_type": "code",
   "execution_count": 100,
   "metadata": {},
   "outputs": [
    {
     "data": {
      "text/plain": [
       "DecisionTreeRegressor()"
      ]
     },
     "execution_count": 100,
     "metadata": {},
     "output_type": "execute_result"
    }
   ],
   "source": [
    "# hyper parameter 추정하기\n",
    "from sklearn.tree import DecisionTreeRegressor\n",
    "\n",
    "model = DecisionTreeRegressor() \n",
    "# scoring 은 default 이므로 model 의 자체 scoring 으로 들어간다. \n",
    "model.fit(X_train,y_train)"
   ]
  },
  {
   "cell_type": "code",
   "execution_count": 101,
   "metadata": {},
   "outputs": [
    {
     "data": {
      "text/plain": [
       "DecisionTreeRegressor()"
      ]
     },
     "execution_count": 101,
     "metadata": {},
     "output_type": "execute_result"
    }
   ],
   "source": [
    "# 위에서 구한 최상의 parameter 로 추정하기\n",
    "model = DecisionTreeRegressor()\n",
    "model.fit(X_train, y_train)"
   ]
  },
  {
   "cell_type": "markdown",
   "metadata": {},
   "source": [
    "## 모델 평가"
   ]
  },
  {
   "cell_type": "code",
   "execution_count": 102,
   "metadata": {
    "scrolled": false
   },
   "outputs": [
    {
     "name": "stdout",
     "output_type": "stream",
     "text": [
      "MAPE : 67.16923996266677\n"
     ]
    }
   ],
   "source": [
    "y_pred = model.predict(X_test)\n",
    "print (\"MAPE :\",MAPE(y_test, y_pred))"
   ]
  },
  {
   "cell_type": "markdown",
   "metadata": {},
   "source": [
    "# RandomForest Regressoion"
   ]
  },
  {
   "cell_type": "markdown",
   "metadata": {},
   "source": [
    "## 모델 세우기"
   ]
  },
  {
   "cell_type": "code",
   "execution_count": 103,
   "metadata": {},
   "outputs": [
    {
     "data": {
      "text/plain": [
       "RandomForestRegressor()"
      ]
     },
     "execution_count": 103,
     "metadata": {},
     "output_type": "execute_result"
    }
   ],
   "source": [
    "from sklearn.ensemble import RandomForestRegressor\n",
    "model =  RandomForestRegressor()\n",
    "model.fit(X_train,y_train)"
   ]
  },
  {
   "cell_type": "markdown",
   "metadata": {},
   "source": [
    "## 모델 평가"
   ]
  },
  {
   "cell_type": "code",
   "execution_count": 105,
   "metadata": {
    "scrolled": true
   },
   "outputs": [
    {
     "name": "stdout",
     "output_type": "stream",
     "text": [
      "MAPE : 58.49307621200626\n"
     ]
    }
   ],
   "source": [
    "y_pred = model.predict(X_test)\n",
    "print (\"MAPE :\",MAPE(y_test, y_pred))"
   ]
  },
  {
   "cell_type": "markdown",
   "metadata": {},
   "source": [
    "# Gradient Boosting resgressoion"
   ]
  },
  {
   "cell_type": "markdown",
   "metadata": {},
   "source": [
    "## 모델 세우기"
   ]
  },
  {
   "cell_type": "code",
   "execution_count": 106,
   "metadata": {
    "scrolled": true
   },
   "outputs": [
    {
     "data": {
      "text/plain": [
       "GradientBoostingRegressor()"
      ]
     },
     "execution_count": 106,
     "metadata": {},
     "output_type": "execute_result"
    }
   ],
   "source": [
    "from sklearn.ensemble import GradientBoostingRegressor\n",
    "model = GradientBoostingRegressor()\n",
    "model.fit(X_train, y_train)"
   ]
  },
  {
   "cell_type": "markdown",
   "metadata": {},
   "source": [
    "## 모델 평가"
   ]
  },
  {
   "cell_type": "code",
   "execution_count": 108,
   "metadata": {
    "scrolled": true
   },
   "outputs": [
    {
     "name": "stdout",
     "output_type": "stream",
     "text": [
      "MAPE : 71.84197606224626\n"
     ]
    }
   ],
   "source": [
    "y_pred = model.predict(X_test)\n",
    "print (\"MAPE :\", MAPE(y_test, y_pred))"
   ]
  },
  {
   "cell_type": "markdown",
   "metadata": {},
   "source": [
    "# AdaBoosting Regression"
   ]
  },
  {
   "cell_type": "markdown",
   "metadata": {},
   "source": [
    "## 모델 세우기"
   ]
  },
  {
   "cell_type": "code",
   "execution_count": 109,
   "metadata": {},
   "outputs": [
    {
     "data": {
      "text/plain": [
       "AdaBoostRegressor()"
      ]
     },
     "execution_count": 109,
     "metadata": {},
     "output_type": "execute_result"
    }
   ],
   "source": [
    "from sklearn.ensemble import AdaBoostRegressor\n",
    "model =AdaBoostRegressor()\n",
    "model.fit(X_train, y_train)"
   ]
  },
  {
   "cell_type": "markdown",
   "metadata": {},
   "source": [
    "## 모델 평가"
   ]
  },
  {
   "cell_type": "code",
   "execution_count": 110,
   "metadata": {},
   "outputs": [
    {
     "name": "stdout",
     "output_type": "stream",
     "text": [
      "MSE : 177.61211535162164\n"
     ]
    }
   ],
   "source": [
    "y_pred = model.predict(X_test)\n",
    "print (\"MSE :\", MAPE(y_test, y_pred))"
   ]
  },
  {
   "cell_type": "markdown",
   "metadata": {},
   "source": [
    " # xgboost Regression"
   ]
  },
  {
   "cell_type": "markdown",
   "metadata": {},
   "source": [
    "## 모델 세우기"
   ]
  },
  {
   "cell_type": "code",
   "execution_count": 111,
   "metadata": {
    "scrolled": true
   },
   "outputs": [
    {
     "data": {
      "text/plain": [
       "XGBRegressor(base_score=0.5, booster='gbtree', colsample_bylevel=1,\n",
       "             colsample_bynode=1, colsample_bytree=1, gamma=0, gpu_id=-1,\n",
       "             importance_type='gain', interaction_constraints='',\n",
       "             learning_rate=0.300000012, max_delta_step=0, max_depth=6,\n",
       "             min_child_weight=1, missing=nan, monotone_constraints='()',\n",
       "             n_estimators=100, n_jobs=0, num_parallel_tree=1, random_state=0,\n",
       "             reg_alpha=0, reg_lambda=1, scale_pos_weight=1, subsample=1,\n",
       "             tree_method='exact', validate_parameters=1, verbosity=None)"
      ]
     },
     "execution_count": 111,
     "metadata": {},
     "output_type": "execute_result"
    }
   ],
   "source": [
    "import xgboost as xgb\n",
    "from xgboost.sklearn import XGBRegressor\n",
    "model = XGBRegressor()\n",
    "model.fit(X_train, y_train)"
   ]
  },
  {
   "cell_type": "markdown",
   "metadata": {},
   "source": [
    "## 모델 평가"
   ]
  },
  {
   "cell_type": "code",
   "execution_count": 112,
   "metadata": {
    "scrolled": true
   },
   "outputs": [
    {
     "name": "stdout",
     "output_type": "stream",
     "text": [
      "MAPE : 53.48165044418245\n"
     ]
    }
   ],
   "source": [
    "from sklearn import metrics\n",
    "y_pred = model.predict(X_test)\n",
    "print (\"MAPE :\", MAPE(y_test, y_pred))"
   ]
  },
  {
   "cell_type": "markdown",
   "metadata": {},
   "source": [
    "# SVR regression"
   ]
  },
  {
   "cell_type": "markdown",
   "metadata": {},
   "source": [
    "## 모델 세우기"
   ]
  },
  {
   "cell_type": "code",
   "execution_count": 117,
   "metadata": {},
   "outputs": [
    {
     "data": {
      "text/plain": [
       "SVR()"
      ]
     },
     "execution_count": 117,
     "metadata": {},
     "output_type": "execute_result"
    }
   ],
   "source": [
    "from sklearn.svm import SVR\n",
    "from sklearn.model_selection import GridSearchCV \n",
    "model = SVR()\n",
    "# fitting the model for grid search \n",
    "model.fit(X_train, y_train) "
   ]
  },
  {
   "cell_type": "markdown",
   "metadata": {},
   "source": [
    "## 모델 평가"
   ]
  },
  {
   "cell_type": "code",
   "execution_count": 119,
   "metadata": {},
   "outputs": [
    {
     "name": "stdout",
     "output_type": "stream",
     "text": [
      "MSE : 146.33650633682362\n"
     ]
    }
   ],
   "source": [
    "from sklearn import metrics\n",
    "y_pred = model.predict(X_test)\n",
    "print (\"MSE :\", MAPE(y_test, y_pred))"
   ]
  },
  {
   "cell_type": "code",
   "execution_count": null,
   "metadata": {},
   "outputs": [],
   "source": [
    "# 쓰레기다~"
   ]
  }
 ],
 "metadata": {
  "kernelspec": {
   "display_name": "Python 3",
   "language": "python",
   "name": "python3"
  },
  "language_info": {
   "codemirror_mode": {
    "name": "ipython",
    "version": 3
   },
   "file_extension": ".py",
   "mimetype": "text/x-python",
   "name": "python",
   "nbconvert_exporter": "python",
   "pygments_lexer": "ipython3",
   "version": "3.7.6"
  },
  "toc": {
   "base_numbering": 1,
   "nav_menu": {},
   "number_sections": true,
   "sideBar": true,
   "skip_h1_title": false,
   "title_cell": "Table of Contents",
   "title_sidebar": "Contents",
   "toc_cell": false,
   "toc_position": {
    "height": "calc(100% - 180px)",
    "left": "10px",
    "top": "150px",
    "width": "307.182px"
   },
   "toc_section_display": true,
   "toc_window_display": true
  },
  "varInspector": {
   "cols": {
    "lenName": 16,
    "lenType": 16,
    "lenVar": 40
   },
   "kernels_config": {
    "python": {
     "delete_cmd_postfix": "",
     "delete_cmd_prefix": "del ",
     "library": "var_list.py",
     "varRefreshCmd": "print(var_dic_list())"
    },
    "r": {
     "delete_cmd_postfix": ") ",
     "delete_cmd_prefix": "rm(",
     "library": "var_list.r",
     "varRefreshCmd": "cat(var_dic_list()) "
    }
   },
   "types_to_exclude": [
    "module",
    "function",
    "builtin_function_or_method",
    "instance",
    "_Feature"
   ],
   "window_display": false
  }
 },
 "nbformat": 4,
 "nbformat_minor": 2
}
