{
 "cells": [
  {
   "cell_type": "code",
   "execution_count": 1,
   "metadata": {
    "ExecuteTime": {
     "end_time": "2020-08-02T09:25:37.526835Z",
     "start_time": "2020-08-02T09:25:35.250127Z"
    }
   },
   "outputs": [],
   "source": [
    "import numpy as np\n",
    "import pandas as pd\n",
    "import seaborn as sns\n",
    "from sklearn.datasets import make_regression\n",
    "import matplotlib as mpl\n",
    "import matplotlib.pyplot as plt\n",
    "from sklearn import metrics # 모델평가시 이용"
   ]
  },
  {
   "cell_type": "code",
   "execution_count": 8,
   "metadata": {},
   "outputs": [],
   "source": [
    "X = pd.read_excel('연습.xlsx')"
   ]
  },
  {
   "cell_type": "code",
   "execution_count": 10,
   "metadata": {},
   "outputs": [],
   "source": [
    "X.drop(columns=['Unnamed: 0'],inplace=True)"
   ]
  },
  {
   "cell_type": "code",
   "execution_count": 12,
   "metadata": {},
   "outputs": [],
   "source": [
    "y = pd.read_excel('target.xlsx')"
   ]
  },
  {
   "cell_type": "code",
   "execution_count": 14,
   "metadata": {},
   "outputs": [],
   "source": [
    "y.drop(columns=['Unnamed: 0'],inplace=True)"
   ]
  },
  {
   "cell_type": "code",
   "execution_count": 18,
   "metadata": {},
   "outputs": [],
   "source": [
    "y = np.array(y)"
   ]
  },
  {
   "cell_type": "code",
   "execution_count": 19,
   "metadata": {
    "ExecuteTime": {
     "end_time": "2020-08-02T09:25:37.637397Z",
     "start_time": "2020-08-02T09:25:37.607478Z"
    }
   },
   "outputs": [],
   "source": [
    "# dataset train/test set 으로 나누기\n",
    "from sklearn.model_selection import train_test_split\n",
    "X_train, X_test, y_train, y_test = train_test_split(X, y, test_size=0.20, random_state=0)"
   ]
  },
  {
   "cell_type": "markdown",
   "metadata": {},
   "source": [
    "# Multi Linear Regression"
   ]
  },
  {
   "cell_type": "markdown",
   "metadata": {},
   "source": [
    "## 모델 세우기"
   ]
  },
  {
   "cell_type": "code",
   "execution_count": 20,
   "metadata": {
    "ExecuteTime": {
     "end_time": "2020-08-02T09:25:40.053254Z",
     "start_time": "2020-08-02T09:25:39.966332Z"
    },
    "scrolled": true
   },
   "outputs": [
    {
     "data": {
      "text/plain": [
       "LinearRegression()"
      ]
     },
     "execution_count": 20,
     "metadata": {},
     "output_type": "execute_result"
    }
   ],
   "source": [
    "from sklearn.linear_model import LinearRegression\n",
    "model = LinearRegression()\n",
    "model.fit(X_train, y_train)"
   ]
  },
  {
   "cell_type": "markdown",
   "metadata": {},
   "source": [
    "## 모델 평가"
   ]
  },
  {
   "cell_type": "code",
   "execution_count": 21,
   "metadata": {
    "ExecuteTime": {
     "end_time": "2020-08-02T09:25:40.663642Z",
     "start_time": "2020-08-02T09:25:40.641508Z"
    }
   },
   "outputs": [
    {
     "name": "stdout",
     "output_type": "stream",
     "text": [
      "MAE : 9559701.517849905\n"
     ]
    }
   ],
   "source": [
    "from sklearn import metrics\n",
    "y_pred = model.predict(X_test)\n",
    "print (\"MAE :\", metrics.mean_absolute_error(y_test,y_pred))"
   ]
  },
  {
   "cell_type": "markdown",
   "metadata": {},
   "source": [
    "# Polynomial regression"
   ]
  },
  {
   "cell_type": "markdown",
   "metadata": {},
   "source": [
    "변수가 적다면, 데이터 분석시 부정확 할 수 있다. 그래서 polynomial 로 변수의 갯수를 늘려서 예측도를 높혀보자"
   ]
  },
  {
   "cell_type": "markdown",
   "metadata": {},
   "source": [
    "## 데이터 전처리"
   ]
  },
  {
   "cell_type": "markdown",
   "metadata": {},
   "source": [
    "다항회귀는, 데이터를 돌리기 전, x1 x2 -> x1^2 , x1x2, x2^2 처럼 데이터를 바꾸어야 한다.를 해주어야한다."
   ]
  },
  {
   "cell_type": "code",
   "execution_count": 7,
   "metadata": {
    "ExecuteTime": {
     "end_time": "2020-08-02T09:25:56.408589Z",
     "start_time": "2020-08-02T09:25:56.387953Z"
    }
   },
   "outputs": [],
   "source": [
    "from sklearn.preprocessing import PolynomialFeatures\n",
    "poly = PolynomialFeatures()  \n",
    "# degree : 몇 차수까진 늘릴지 결정\n",
    "#        : (default)=2\n",
    "# interaction_only : only 자기 자신의 거듭제곱만 넣을지 말지. (ex x1 x2 -> x1^2 , ^2)\n",
    "#                  : (default)=False (interaction 항 넣기) (EX x1 x2 -> x1^2 , x1x2, x2^2)\n",
    "X_train_poly = poly.fit_transform(X_train)\n",
    "X_test_poly = poly.fit_transform(X_test)"
   ]
  },
  {
   "cell_type": "markdown",
   "metadata": {},
   "source": [
    "## 모델 세우기"
   ]
  },
  {
   "cell_type": "code",
   "execution_count": 8,
   "metadata": {
    "ExecuteTime": {
     "end_time": "2020-08-02T09:25:57.344304Z",
     "start_time": "2020-08-02T09:25:57.294405Z"
    },
    "scrolled": true
   },
   "outputs": [
    {
     "data": {
      "text/plain": [
       "LinearRegression(copy_X=True, fit_intercept=True, n_jobs=None, normalize=False)"
      ]
     },
     "execution_count": 8,
     "metadata": {},
     "output_type": "execute_result"
    }
   ],
   "source": [
    "model = LinearRegression()\n",
    "model.fit(X_train_poly, y_train)"
   ]
  },
  {
   "cell_type": "markdown",
   "metadata": {},
   "source": [
    "## 모델 평가"
   ]
  },
  {
   "cell_type": "code",
   "execution_count": 22,
   "metadata": {
    "ExecuteTime": {
     "end_time": "2020-08-02T09:25:59.685585Z",
     "start_time": "2020-08-02T09:25:59.664616Z"
    }
   },
   "outputs": [
    {
     "ename": "NameError",
     "evalue": "name 'X_test_poly' is not defined",
     "output_type": "error",
     "traceback": [
      "\u001b[1;31m---------------------------------------------------------------------------\u001b[0m",
      "\u001b[1;31mNameError\u001b[0m                                 Traceback (most recent call last)",
      "\u001b[1;32m<ipython-input-22-e645b1811265>\u001b[0m in \u001b[0;36m<module>\u001b[1;34m\u001b[0m\n\u001b[0;32m      1\u001b[0m \u001b[1;32mfrom\u001b[0m \u001b[0msklearn\u001b[0m \u001b[1;32mimport\u001b[0m \u001b[0mmetrics\u001b[0m\u001b[1;33m\u001b[0m\u001b[1;33m\u001b[0m\u001b[0m\n\u001b[1;32m----> 2\u001b[1;33m \u001b[0my_pred\u001b[0m \u001b[1;33m=\u001b[0m \u001b[0mmodel\u001b[0m\u001b[1;33m.\u001b[0m\u001b[0mpredict\u001b[0m\u001b[1;33m(\u001b[0m\u001b[0mX_test_poly\u001b[0m\u001b[1;33m)\u001b[0m\u001b[1;33m\u001b[0m\u001b[1;33m\u001b[0m\u001b[0m\n\u001b[0m\u001b[0;32m      3\u001b[0m \u001b[0mprint\u001b[0m \u001b[1;33m(\u001b[0m\u001b[1;34m\"MAE :\"\u001b[0m\u001b[1;33m,\u001b[0m \u001b[0mmetrics\u001b[0m\u001b[1;33m.\u001b[0m\u001b[0mmean_squared_error\u001b[0m\u001b[1;33m(\u001b[0m\u001b[0my_test\u001b[0m\u001b[1;33m,\u001b[0m\u001b[0my_pred\u001b[0m\u001b[1;33m)\u001b[0m\u001b[1;33m)\u001b[0m\u001b[1;33m\u001b[0m\u001b[1;33m\u001b[0m\u001b[0m\n\u001b[0;32m      4\u001b[0m \u001b[0mprint\u001b[0m\u001b[1;33m(\u001b[0m\u001b[1;34m\"R squared :\"\u001b[0m\u001b[1;33m,\u001b[0m \u001b[0mmetrics\u001b[0m\u001b[1;33m.\u001b[0m\u001b[0mr2_score\u001b[0m\u001b[1;33m(\u001b[0m\u001b[0my_test\u001b[0m\u001b[1;33m,\u001b[0m\u001b[0my_pred\u001b[0m\u001b[1;33m)\u001b[0m\u001b[1;33m)\u001b[0m\u001b[1;33m\u001b[0m\u001b[1;33m\u001b[0m\u001b[0m\n",
      "\u001b[1;31mNameError\u001b[0m: name 'X_test_poly' is not defined"
     ]
    }
   ],
   "source": [
    "from sklearn import metrics\n",
    "y_pred = model.predict(X_test_poly)\n",
    "print (\"MAE :\", metrics.mean_squared_error(y_test,y_pred))\n",
    "print(\"R squared :\", metrics.r2_score(y_test,y_pred))"
   ]
  },
  {
   "cell_type": "markdown",
   "metadata": {},
   "source": [
    "# Ridge regression"
   ]
  },
  {
   "cell_type": "markdown",
   "metadata": {},
   "source": [
    "$w = \\text{arg}\\min_w \\left( \\sum_{i=1}^N e_i^2 + \\lambda \\sum_{j=1}^M w_j^2 \\right) $"
   ]
  },
  {
   "cell_type": "markdown",
   "metadata": {},
   "source": [
    "## 모델 세우기"
   ]
  },
  {
   "cell_type": "code",
   "execution_count": 23,
   "metadata": {
    "ExecuteTime": {
     "end_time": "2020-08-02T09:26:03.951055Z",
     "start_time": "2020-08-02T09:26:03.291571Z"
    }
   },
   "outputs": [],
   "source": [
    "from sklearn.linear_model import RidgeCV\n",
    "from sklearn.linear_model import Ridge\n",
    "\n",
    "para_range = np.logspace(-3, 3, num=50) # 10^-3 ~ 10^3 \n",
    "model = RidgeCV(alphas = para_range , cv=5)\n",
    "model.fit(X_train, y_train) ;\n"
   ]
  },
  {
   "cell_type": "markdown",
   "metadata": {},
   "source": [
    "## 모델 평가"
   ]
  },
  {
   "cell_type": "code",
   "execution_count": 26,
   "metadata": {
    "ExecuteTime": {
     "end_time": "2020-08-02T09:26:03.966012Z",
     "start_time": "2020-08-02T09:26:03.953048Z"
    },
    "scrolled": true
   },
   "outputs": [
    {
     "name": "stdout",
     "output_type": "stream",
     "text": [
      "MSE : 9558827.597443607\n"
     ]
    }
   ],
   "source": [
    "from sklearn import metrics\n",
    "\n",
    "predicted = model.predict(X_test) \n",
    "\n",
    "print (\"MSE :\",metrics.mean_absolute_error(y_test, predicted))"
   ]
  },
  {
   "cell_type": "markdown",
   "metadata": {},
   "source": [
    "# ElasticNet Regression"
   ]
  },
  {
   "cell_type": "code",
   "execution_count": 30,
   "metadata": {
    "ExecuteTime": {
     "end_time": "2020-08-02T10:27:45.206307Z",
     "start_time": "2020-08-02T10:27:45.202317Z"
    }
   },
   "outputs": [],
   "source": [
    "from sklearn.linear_model import ElasticNetCV\n",
    "from sklearn.linear_model import ElasticNet"
   ]
  },
  {
   "cell_type": "markdown",
   "metadata": {},
   "source": [
    "## 모델 세우기"
   ]
  },
  {
   "cell_type": "code",
   "execution_count": 31,
   "metadata": {
    "ExecuteTime": {
     "end_time": "2020-08-02T10:27:46.170184Z",
     "start_time": "2020-08-02T10:27:45.693415Z"
    },
    "scrolled": false
   },
   "outputs": [
    {
     "name": "stderr",
     "output_type": "stream",
     "text": [
      "C:\\Users\\goran\\Anaconda3\\envs\\tensor\\lib\\site-packages\\sklearn\\utils\\validation.py:72: DataConversionWarning: A column-vector y was passed when a 1d array was expected. Please change the shape of y to (n_samples, ), for example using ravel().\n",
      "  return f(**kwargs)\n"
     ]
    },
    {
     "name": "stdout",
     "output_type": "stream",
     "text": [
      "12205.5497780353\n",
      "1.0\n"
     ]
    }
   ],
   "source": [
    "ElasticCV = ElasticNetCV(l1_ratio =[.1, .5, .7, .9, .95, .99,1], cv=5, random_state=0)\n",
    "# l1 Note that a good choice of list of values for l1_ratio is often to put more values close to 1 (i.e. Lasso) and less close to 0 (i.e. Ridge), as in  [.1, .5, .7, .9, .95, .99, 1] \n",
    "\n",
    "ElasticCV.fit(X_train, y_train)\n",
    "print(ElasticCV.alpha_) # alpha 값\n",
    "print(ElasticCV.l1_ratio_) #l1 ratio 1 이면 사실상 lasso 이다... 1 이 나오면 그냥 lasso 로 하라는 의미"
   ]
  },
  {
   "cell_type": "markdown",
   "metadata": {},
   "source": [
    "## 모델 평가"
   ]
  },
  {
   "cell_type": "code",
   "execution_count": 32,
   "metadata": {
    "ExecuteTime": {
     "end_time": "2020-08-02T10:27:47.113942Z",
     "start_time": "2020-08-02T10:27:47.107397Z"
    },
    "scrolled": true
   },
   "outputs": [
    {
     "name": "stdout",
     "output_type": "stream",
     "text": [
      "MSE : 197154599174786.22\n",
      "R_squared : 0.5354178355010952\n"
     ]
    }
   ],
   "source": [
    "from sklearn import metrics\n",
    "\n",
    "predicted = ElasticCV.predict(X_test) \n",
    "\n",
    "print (\"MSE :\", metrics.mean_squared_error(y_test, predicted))\n",
    "print('R_squared :',model.score(X_test, y_test)) # C-V 로 찾은 최적의 ridge 로 계산한 R^2"
   ]
  },
  {
   "cell_type": "markdown",
   "metadata": {},
   "source": [
    "## 변수 중요도"
   ]
  },
  {
   "cell_type": "code",
   "execution_count": 33,
   "metadata": {
    "ExecuteTime": {
     "end_time": "2020-08-02T10:27:52.392414Z",
     "start_time": "2020-08-02T10:27:52.193433Z"
    }
   },
   "outputs": [
    {
     "data": {
      "text/plain": [
       "Text(0.5, 1.0, 'Coefficients in the Model')"
      ]
     },
     "execution_count": 33,
     "metadata": {},
     "output_type": "execute_result"
    },
    {
     "name": "stderr",
     "output_type": "stream",
     "text": [
      "C:\\Users\\goran\\Anaconda3\\envs\\tensor\\lib\\site-packages\\matplotlib\\backends\\backend_agg.py:238: RuntimeWarning: Glyph 49345 missing from current font.\n",
      "  font.set_text(s, 0.0, flags=flags)\n",
      "C:\\Users\\goran\\Anaconda3\\envs\\tensor\\lib\\site-packages\\matplotlib\\backends\\backend_agg.py:238: RuntimeWarning: Glyph 54408 missing from current font.\n",
      "  font.set_text(s, 0.0, flags=flags)\n",
      "C:\\Users\\goran\\Anaconda3\\envs\\tensor\\lib\\site-packages\\matplotlib\\backends\\backend_agg.py:238: RuntimeWarning: Glyph 44400 missing from current font.\n",
      "  font.set_text(s, 0.0, flags=flags)\n",
      "C:\\Users\\goran\\Anaconda3\\envs\\tensor\\lib\\site-packages\\matplotlib\\backends\\backend_agg.py:238: RuntimeWarning: Glyph 51032 missing from current font.\n",
      "  font.set_text(s, 0.0, flags=flags)\n",
      "C:\\Users\\goran\\Anaconda3\\envs\\tensor\\lib\\site-packages\\matplotlib\\backends\\backend_agg.py:238: RuntimeWarning: Glyph 47448 missing from current font.\n",
      "  font.set_text(s, 0.0, flags=flags)\n",
      "C:\\Users\\goran\\Anaconda3\\envs\\tensor\\lib\\site-packages\\matplotlib\\backends\\backend_agg.py:238: RuntimeWarning: Glyph 49549 missing from current font.\n",
      "  font.set_text(s, 0.0, flags=flags)\n",
      "C:\\Users\\goran\\Anaconda3\\envs\\tensor\\lib\\site-packages\\matplotlib\\backends\\backend_agg.py:238: RuntimeWarning: Glyph 50743 missing from current font.\n",
      "  font.set_text(s, 0.0, flags=flags)\n",
      "C:\\Users\\goran\\Anaconda3\\envs\\tensor\\lib\\site-packages\\matplotlib\\backends\\backend_agg.py:238: RuntimeWarning: Glyph 50672 missing from current font.\n",
      "  font.set_text(s, 0.0, flags=flags)\n",
      "C:\\Users\\goran\\Anaconda3\\envs\\tensor\\lib\\site-packages\\matplotlib\\backends\\backend_agg.py:238: RuntimeWarning: Glyph 50696 missing from current font.\n",
      "  font.set_text(s, 0.0, flags=flags)\n",
      "C:\\Users\\goran\\Anaconda3\\envs\\tensor\\lib\\site-packages\\matplotlib\\backends\\backend_agg.py:238: RuntimeWarning: Glyph 51064 missing from current font.\n",
      "  font.set_text(s, 0.0, flags=flags)\n",
      "C:\\Users\\goran\\Anaconda3\\envs\\tensor\\lib\\site-packages\\matplotlib\\backends\\backend_agg.py:238: RuntimeWarning: Glyph 44148 missing from current font.\n",
      "  font.set_text(s, 0.0, flags=flags)\n",
      "C:\\Users\\goran\\Anaconda3\\envs\\tensor\\lib\\site-packages\\matplotlib\\backends\\backend_agg.py:238: RuntimeWarning: Glyph 44053 missing from current font.\n",
      "  font.set_text(s, 0.0, flags=flags)\n",
      "C:\\Users\\goran\\Anaconda3\\envs\\tensor\\lib\\site-packages\\matplotlib\\backends\\backend_agg.py:238: RuntimeWarning: Glyph 44592 missing from current font.\n",
      "  font.set_text(s, 0.0, flags=flags)\n",
      "C:\\Users\\goran\\Anaconda3\\envs\\tensor\\lib\\site-packages\\matplotlib\\backends\\backend_agg.py:238: RuntimeWarning: Glyph 45733 missing from current font.\n",
      "  font.set_text(s, 0.0, flags=flags)\n",
      "C:\\Users\\goran\\Anaconda3\\envs\\tensor\\lib\\site-packages\\matplotlib\\backends\\backend_agg.py:238: RuntimeWarning: Glyph 47924 missing from current font.\n",
      "  font.set_text(s, 0.0, flags=flags)\n",
      "C:\\Users\\goran\\Anaconda3\\envs\\tensor\\lib\\site-packages\\matplotlib\\backends\\backend_agg.py:238: RuntimeWarning: Glyph 51060 missing from current font.\n",
      "  font.set_text(s, 0.0, flags=flags)\n",
      "C:\\Users\\goran\\Anaconda3\\envs\\tensor\\lib\\site-packages\\matplotlib\\backends\\backend_agg.py:238: RuntimeWarning: Glyph 51088 missing from current font.\n",
      "  font.set_text(s, 0.0, flags=flags)\n",
      "C:\\Users\\goran\\Anaconda3\\envs\\tensor\\lib\\site-packages\\matplotlib\\backends\\backend_agg.py:238: RuntimeWarning: Glyph 45224 missing from current font.\n",
      "  font.set_text(s, 0.0, flags=flags)\n",
      "C:\\Users\\goran\\Anaconda3\\envs\\tensor\\lib\\site-packages\\matplotlib\\backends\\backend_agg.py:238: RuntimeWarning: Glyph 49457 missing from current font.\n",
      "  font.set_text(s, 0.0, flags=flags)\n",
      "C:\\Users\\goran\\Anaconda3\\envs\\tensor\\lib\\site-packages\\matplotlib\\backends\\backend_agg.py:238: RuntimeWarning: Glyph 45453 missing from current font.\n",
      "  font.set_text(s, 0.0, flags=flags)\n",
      "C:\\Users\\goran\\Anaconda3\\envs\\tensor\\lib\\site-packages\\matplotlib\\backends\\backend_agg.py:238: RuntimeWarning: Glyph 49688 missing from current font.\n",
      "  font.set_text(s, 0.0, flags=flags)\n",
      "C:\\Users\\goran\\Anaconda3\\envs\\tensor\\lib\\site-packages\\matplotlib\\backends\\backend_agg.py:238: RuntimeWarning: Glyph 52629 missing from current font.\n",
      "  font.set_text(s, 0.0, flags=flags)\n",
      "C:\\Users\\goran\\Anaconda3\\envs\\tensor\\lib\\site-packages\\matplotlib\\backends\\backend_agg.py:238: RuntimeWarning: Glyph 44217 missing from current font.\n",
      "  font.set_text(s, 0.0, flags=flags)\n",
      "C:\\Users\\goran\\Anaconda3\\envs\\tensor\\lib\\site-packages\\matplotlib\\backends\\backend_agg.py:238: RuntimeWarning: Glyph 52824 missing from current font.\n",
      "  font.set_text(s, 0.0, flags=flags)\n",
      "C:\\Users\\goran\\Anaconda3\\envs\\tensor\\lib\\site-packages\\matplotlib\\backends\\backend_agg.py:238: RuntimeWarning: Glyph 45716 missing from current font.\n",
      "  font.set_text(s, 0.0, flags=flags)\n",
      "C:\\Users\\goran\\Anaconda3\\envs\\tensor\\lib\\site-packages\\matplotlib\\backends\\backend_agg.py:238: RuntimeWarning: Glyph 54217 missing from current font.\n",
      "  font.set_text(s, 0.0, flags=flags)\n",
      "C:\\Users\\goran\\Anaconda3\\envs\\tensor\\lib\\site-packages\\matplotlib\\backends\\backend_agg.py:238: RuntimeWarning: Glyph 44512 missing from current font.\n",
      "  font.set_text(s, 0.0, flags=flags)\n",
      "C:\\Users\\goran\\Anaconda3\\envs\\tensor\\lib\\site-packages\\matplotlib\\backends\\backend_agg.py:238: RuntimeWarning: Glyph 48169 missing from current font.\n",
      "  font.set_text(s, 0.0, flags=flags)\n",
      "C:\\Users\\goran\\Anaconda3\\envs\\tensor\\lib\\site-packages\\matplotlib\\backends\\backend_agg.py:238: RuntimeWarning: Glyph 49569 missing from current font.\n",
      "  font.set_text(s, 0.0, flags=flags)\n",
      "C:\\Users\\goran\\Anaconda3\\envs\\tensor\\lib\\site-packages\\matplotlib\\backends\\backend_agg.py:238: RuntimeWarning: Glyph 48516 missing from current font.\n",
      "  font.set_text(s, 0.0, flags=flags)\n",
      "C:\\Users\\goran\\Anaconda3\\envs\\tensor\\lib\\site-packages\\matplotlib\\backends\\backend_agg.py:201: RuntimeWarning: Glyph 49345 missing from current font.\n",
      "  font.set_text(s, 0, flags=flags)\n",
      "C:\\Users\\goran\\Anaconda3\\envs\\tensor\\lib\\site-packages\\matplotlib\\backends\\backend_agg.py:201: RuntimeWarning: Glyph 54408 missing from current font.\n",
      "  font.set_text(s, 0, flags=flags)\n",
      "C:\\Users\\goran\\Anaconda3\\envs\\tensor\\lib\\site-packages\\matplotlib\\backends\\backend_agg.py:201: RuntimeWarning: Glyph 44400 missing from current font.\n",
      "  font.set_text(s, 0, flags=flags)\n",
      "C:\\Users\\goran\\Anaconda3\\envs\\tensor\\lib\\site-packages\\matplotlib\\backends\\backend_agg.py:201: RuntimeWarning: Glyph 51032 missing from current font.\n",
      "  font.set_text(s, 0, flags=flags)\n",
      "C:\\Users\\goran\\Anaconda3\\envs\\tensor\\lib\\site-packages\\matplotlib\\backends\\backend_agg.py:201: RuntimeWarning: Glyph 47448 missing from current font.\n",
      "  font.set_text(s, 0, flags=flags)\n",
      "C:\\Users\\goran\\Anaconda3\\envs\\tensor\\lib\\site-packages\\matplotlib\\backends\\backend_agg.py:201: RuntimeWarning: Glyph 49549 missing from current font.\n",
      "  font.set_text(s, 0, flags=flags)\n",
      "C:\\Users\\goran\\Anaconda3\\envs\\tensor\\lib\\site-packages\\matplotlib\\backends\\backend_agg.py:201: RuntimeWarning: Glyph 50743 missing from current font.\n",
      "  font.set_text(s, 0, flags=flags)\n",
      "C:\\Users\\goran\\Anaconda3\\envs\\tensor\\lib\\site-packages\\matplotlib\\backends\\backend_agg.py:201: RuntimeWarning: Glyph 50672 missing from current font.\n",
      "  font.set_text(s, 0, flags=flags)\n",
      "C:\\Users\\goran\\Anaconda3\\envs\\tensor\\lib\\site-packages\\matplotlib\\backends\\backend_agg.py:201: RuntimeWarning: Glyph 50696 missing from current font.\n",
      "  font.set_text(s, 0, flags=flags)\n",
      "C:\\Users\\goran\\Anaconda3\\envs\\tensor\\lib\\site-packages\\matplotlib\\backends\\backend_agg.py:201: RuntimeWarning: Glyph 51064 missing from current font.\n",
      "  font.set_text(s, 0, flags=flags)\n",
      "C:\\Users\\goran\\Anaconda3\\envs\\tensor\\lib\\site-packages\\matplotlib\\backends\\backend_agg.py:201: RuntimeWarning: Glyph 44148 missing from current font.\n",
      "  font.set_text(s, 0, flags=flags)\n",
      "C:\\Users\\goran\\Anaconda3\\envs\\tensor\\lib\\site-packages\\matplotlib\\backends\\backend_agg.py:201: RuntimeWarning: Glyph 44053 missing from current font.\n",
      "  font.set_text(s, 0, flags=flags)\n",
      "C:\\Users\\goran\\Anaconda3\\envs\\tensor\\lib\\site-packages\\matplotlib\\backends\\backend_agg.py:201: RuntimeWarning: Glyph 44592 missing from current font.\n",
      "  font.set_text(s, 0, flags=flags)\n",
      "C:\\Users\\goran\\Anaconda3\\envs\\tensor\\lib\\site-packages\\matplotlib\\backends\\backend_agg.py:201: RuntimeWarning: Glyph 45733 missing from current font.\n",
      "  font.set_text(s, 0, flags=flags)\n",
      "C:\\Users\\goran\\Anaconda3\\envs\\tensor\\lib\\site-packages\\matplotlib\\backends\\backend_agg.py:201: RuntimeWarning: Glyph 47924 missing from current font.\n",
      "  font.set_text(s, 0, flags=flags)\n",
      "C:\\Users\\goran\\Anaconda3\\envs\\tensor\\lib\\site-packages\\matplotlib\\backends\\backend_agg.py:201: RuntimeWarning: Glyph 51060 missing from current font.\n",
      "  font.set_text(s, 0, flags=flags)\n",
      "C:\\Users\\goran\\Anaconda3\\envs\\tensor\\lib\\site-packages\\matplotlib\\backends\\backend_agg.py:201: RuntimeWarning: Glyph 51088 missing from current font.\n",
      "  font.set_text(s, 0, flags=flags)\n",
      "C:\\Users\\goran\\Anaconda3\\envs\\tensor\\lib\\site-packages\\matplotlib\\backends\\backend_agg.py:201: RuntimeWarning: Glyph 45224 missing from current font.\n",
      "  font.set_text(s, 0, flags=flags)\n",
      "C:\\Users\\goran\\Anaconda3\\envs\\tensor\\lib\\site-packages\\matplotlib\\backends\\backend_agg.py:201: RuntimeWarning: Glyph 49457 missing from current font.\n",
      "  font.set_text(s, 0, flags=flags)\n",
      "C:\\Users\\goran\\Anaconda3\\envs\\tensor\\lib\\site-packages\\matplotlib\\backends\\backend_agg.py:201: RuntimeWarning: Glyph 45453 missing from current font.\n",
      "  font.set_text(s, 0, flags=flags)\n",
      "C:\\Users\\goran\\Anaconda3\\envs\\tensor\\lib\\site-packages\\matplotlib\\backends\\backend_agg.py:201: RuntimeWarning: Glyph 49688 missing from current font.\n",
      "  font.set_text(s, 0, flags=flags)\n",
      "C:\\Users\\goran\\Anaconda3\\envs\\tensor\\lib\\site-packages\\matplotlib\\backends\\backend_agg.py:201: RuntimeWarning: Glyph 52629 missing from current font.\n",
      "  font.set_text(s, 0, flags=flags)\n",
      "C:\\Users\\goran\\Anaconda3\\envs\\tensor\\lib\\site-packages\\matplotlib\\backends\\backend_agg.py:201: RuntimeWarning: Glyph 44217 missing from current font.\n",
      "  font.set_text(s, 0, flags=flags)\n",
      "C:\\Users\\goran\\Anaconda3\\envs\\tensor\\lib\\site-packages\\matplotlib\\backends\\backend_agg.py:201: RuntimeWarning: Glyph 52824 missing from current font.\n",
      "  font.set_text(s, 0, flags=flags)\n",
      "C:\\Users\\goran\\Anaconda3\\envs\\tensor\\lib\\site-packages\\matplotlib\\backends\\backend_agg.py:201: RuntimeWarning: Glyph 45716 missing from current font.\n",
      "  font.set_text(s, 0, flags=flags)\n",
      "C:\\Users\\goran\\Anaconda3\\envs\\tensor\\lib\\site-packages\\matplotlib\\backends\\backend_agg.py:201: RuntimeWarning: Glyph 54217 missing from current font.\n",
      "  font.set_text(s, 0, flags=flags)\n",
      "C:\\Users\\goran\\Anaconda3\\envs\\tensor\\lib\\site-packages\\matplotlib\\backends\\backend_agg.py:201: RuntimeWarning: Glyph 44512 missing from current font.\n",
      "  font.set_text(s, 0, flags=flags)\n",
      "C:\\Users\\goran\\Anaconda3\\envs\\tensor\\lib\\site-packages\\matplotlib\\backends\\backend_agg.py:201: RuntimeWarning: Glyph 48169 missing from current font.\n",
      "  font.set_text(s, 0, flags=flags)\n",
      "C:\\Users\\goran\\Anaconda3\\envs\\tensor\\lib\\site-packages\\matplotlib\\backends\\backend_agg.py:201: RuntimeWarning: Glyph 49569 missing from current font.\n",
      "  font.set_text(s, 0, flags=flags)\n",
      "C:\\Users\\goran\\Anaconda3\\envs\\tensor\\lib\\site-packages\\matplotlib\\backends\\backend_agg.py:201: RuntimeWarning: Glyph 48516 missing from current font.\n",
      "  font.set_text(s, 0, flags=flags)\n"
     ]
    },
    {
     "data": {
      "image/png": "[encoded data removed]",
      "text/plain": [
       "<Figure size 432x288 with 1 Axes>"
      ]
     },
     "metadata": {
      "needs_background": "light"
     },
     "output_type": "display_data"
    }
   ],
   "source": [
    "coef = pd.Series(ElasticCV.coef_, index = X_train.columns).sort_values()\n",
    "imp_coef = pd.concat([coef.head(5), coef.tail(5)])\n",
    "imp_coef.plot(kind = \"barh\")\n",
    "plt.title(\"Coefficients in the Model\")"
   ]
  },
  {
   "cell_type": "markdown",
   "metadata": {},
   "source": [
    "# lasso regression"
   ]
  },
  {
   "cell_type": "markdown",
   "metadata": {},
   "source": [
    "## 모델 세우기"
   ]
  },
  {
   "cell_type": "code",
   "execution_count": 34,
   "metadata": {},
   "outputs": [
    {
     "name": "stderr",
     "output_type": "stream",
     "text": [
      "C:\\Users\\goran\\Anaconda3\\envs\\tensor\\lib\\site-packages\\sklearn\\utils\\validation.py:72: DataConversionWarning: A column-vector y was passed when a 1d array was expected. Please change the shape of y to (n_samples, ), for example using ravel().\n",
      "  return f(**kwargs)\n",
      "C:\\Users\\goran\\Anaconda3\\envs\\tensor\\lib\\site-packages\\sklearn\\linear_model\\_coordinate_descent.py:527: ConvergenceWarning: Objective did not converge. You might want to increase the number of iterations. Duality gap: 2227320424347648.0, tolerance: 968156428896909.0\n",
      "  tol, rng, random, positive)\n",
      "C:\\Users\\goran\\Anaconda3\\envs\\tensor\\lib\\site-packages\\sklearn\\linear_model\\_coordinate_descent.py:527: ConvergenceWarning: Objective did not converge. You might want to increase the number of iterations. Duality gap: 6558555048090112.0, tolerance: 968156428896909.0\n",
      "  tol, rng, random, positive)\n",
      "C:\\Users\\goran\\Anaconda3\\envs\\tensor\\lib\\site-packages\\sklearn\\linear_model\\_coordinate_descent.py:527: ConvergenceWarning: Objective did not converge. You might want to increase the number of iterations. Duality gap: 7457609816714240.0, tolerance: 968156428896909.0\n",
      "  tol, rng, random, positive)\n",
      "C:\\Users\\goran\\Anaconda3\\envs\\tensor\\lib\\site-packages\\sklearn\\linear_model\\_coordinate_descent.py:527: ConvergenceWarning: Objective did not converge. You might want to increase the number of iterations. Duality gap: 7606084632193024.0, tolerance: 968156428896909.0\n",
      "  tol, rng, random, positive)\n",
      "C:\\Users\\goran\\Anaconda3\\envs\\tensor\\lib\\site-packages\\sklearn\\linear_model\\_coordinate_descent.py:527: ConvergenceWarning: Objective did not converge. You might want to increase the number of iterations. Duality gap: 7627418114322944.0, tolerance: 968156428896909.0\n",
      "  tol, rng, random, positive)\n",
      "C:\\Users\\goran\\Anaconda3\\envs\\tensor\\lib\\site-packages\\sklearn\\linear_model\\_coordinate_descent.py:527: ConvergenceWarning: Objective did not converge. You might want to increase the number of iterations. Duality gap: 7628504521856512.0, tolerance: 968156428896909.0\n",
      "  tol, rng, random, positive)\n",
      "C:\\Users\\goran\\Anaconda3\\envs\\tensor\\lib\\site-packages\\sklearn\\linear_model\\_coordinate_descent.py:527: ConvergenceWarning: Objective did not converge. You might want to increase the number of iterations. Duality gap: 7626852895936512.0, tolerance: 968156428896909.0\n",
      "  tol, rng, random, positive)\n",
      "C:\\Users\\goran\\Anaconda3\\envs\\tensor\\lib\\site-packages\\sklearn\\linear_model\\_coordinate_descent.py:527: ConvergenceWarning: Objective did not converge. You might want to increase the number of iterations. Duality gap: 7625200142586880.0, tolerance: 968156428896909.0\n",
      "  tol, rng, random, positive)\n",
      "C:\\Users\\goran\\Anaconda3\\envs\\tensor\\lib\\site-packages\\sklearn\\linear_model\\_coordinate_descent.py:527: ConvergenceWarning: Objective did not converge. You might want to increase the number of iterations. Duality gap: 7623886304192512.0, tolerance: 968156428896909.0\n",
      "  tol, rng, random, positive)\n",
      "C:\\Users\\goran\\Anaconda3\\envs\\tensor\\lib\\site-packages\\sklearn\\linear_model\\_coordinate_descent.py:527: ConvergenceWarning: Objective did not converge. You might want to increase the number of iterations. Duality gap: 7622883981596672.0, tolerance: 968156428896909.0\n",
      "  tol, rng, random, positive)\n",
      "C:\\Users\\goran\\Anaconda3\\envs\\tensor\\lib\\site-packages\\sklearn\\linear_model\\_coordinate_descent.py:527: ConvergenceWarning: Objective did not converge. You might want to increase the number of iterations. Duality gap: 7622126037564928.0, tolerance: 968156428896909.0\n",
      "  tol, rng, random, positive)\n",
      "C:\\Users\\goran\\Anaconda3\\envs\\tensor\\lib\\site-packages\\sklearn\\linear_model\\_coordinate_descent.py:527: ConvergenceWarning: Objective did not converge. You might want to increase the number of iterations. Duality gap: 7621553913618944.0, tolerance: 968156428896909.0\n",
      "  tol, rng, random, positive)\n",
      "C:\\Users\\goran\\Anaconda3\\envs\\tensor\\lib\\site-packages\\sklearn\\linear_model\\_coordinate_descent.py:527: ConvergenceWarning: Objective did not converge. You might want to increase the number of iterations. Duality gap: 7621122420744704.0, tolerance: 968156428896909.0\n",
      "  tol, rng, random, positive)\n",
      "C:\\Users\\goran\\Anaconda3\\envs\\tensor\\lib\\site-packages\\sklearn\\linear_model\\_coordinate_descent.py:527: ConvergenceWarning: Objective did not converge. You might want to increase the number of iterations. Duality gap: 7620796476131328.0, tolerance: 968156428896909.0\n",
      "  tol, rng, random, positive)\n",
      "C:\\Users\\goran\\Anaconda3\\envs\\tensor\\lib\\site-packages\\sklearn\\linear_model\\_coordinate_descent.py:527: ConvergenceWarning: Objective did not converge. You might want to increase the number of iterations. Duality gap: 7620551063264256.0, tolerance: 968156428896909.0\n",
      "  tol, rng, random, positive)\n",
      "C:\\Users\\goran\\Anaconda3\\envs\\tensor\\lib\\site-packages\\sklearn\\linear_model\\_coordinate_descent.py:527: ConvergenceWarning: Objective did not converge. You might want to increase the number of iterations. Duality gap: 7620365926529024.0, tolerance: 968156428896909.0\n",
      "  tol, rng, random, positive)\n",
      "C:\\Users\\goran\\Anaconda3\\envs\\tensor\\lib\\site-packages\\sklearn\\linear_model\\_coordinate_descent.py:527: ConvergenceWarning: Objective did not converge. You might want to increase the number of iterations. Duality gap: 7620226484156416.0, tolerance: 968156428896909.0\n",
      "  tol, rng, random, positive)\n",
      "C:\\Users\\goran\\Anaconda3\\envs\\tensor\\lib\\site-packages\\sklearn\\linear_model\\_coordinate_descent.py:527: ConvergenceWarning: Objective did not converge. You might want to increase the number of iterations. Duality gap: 7620120147760128.0, tolerance: 968156428896909.0\n",
      "  tol, rng, random, positive)\n",
      "C:\\Users\\goran\\Anaconda3\\envs\\tensor\\lib\\site-packages\\sklearn\\linear_model\\_coordinate_descent.py:527: ConvergenceWarning: Objective did not converge. You might want to increase the number of iterations. Duality gap: 7620041187998720.0, tolerance: 968156428896909.0\n",
      "  tol, rng, random, positive)\n",
      "C:\\Users\\goran\\Anaconda3\\envs\\tensor\\lib\\site-packages\\sklearn\\linear_model\\_coordinate_descent.py:527: ConvergenceWarning: Objective did not converge. You might want to increase the number of iterations. Duality gap: 7619981633633280.0, tolerance: 968156428896909.0\n",
      "  tol, rng, random, positive)\n",
      "C:\\Users\\goran\\Anaconda3\\envs\\tensor\\lib\\site-packages\\sklearn\\linear_model\\_coordinate_descent.py:527: ConvergenceWarning: Objective did not converge. You might want to increase the number of iterations. Duality gap: 7619936600657408.0, tolerance: 968156428896909.0\n",
      "  tol, rng, random, positive)\n",
      "C:\\Users\\goran\\Anaconda3\\envs\\tensor\\lib\\site-packages\\sklearn\\linear_model\\_coordinate_descent.py:527: ConvergenceWarning: Objective did not converge. You might want to increase the number of iterations. Duality gap: 7619903386350592.0, tolerance: 968156428896909.0\n",
      "  tol, rng, random, positive)\n",
      "C:\\Users\\goran\\Anaconda3\\envs\\tensor\\lib\\site-packages\\sklearn\\linear_model\\_coordinate_descent.py:527: ConvergenceWarning: Objective did not converge. You might want to increase the number of iterations. Duality gap: 7619874673043456.0, tolerance: 968156428896909.0\n",
      "  tol, rng, random, positive)\n",
      "C:\\Users\\goran\\Anaconda3\\envs\\tensor\\lib\\site-packages\\sklearn\\linear_model\\_coordinate_descent.py:527: ConvergenceWarning: Objective did not converge. You might want to increase the number of iterations. Duality gap: 7619857250063360.0, tolerance: 968156428896909.0\n",
      "  tol, rng, random, positive)\n",
      "C:\\Users\\goran\\Anaconda3\\envs\\tensor\\lib\\site-packages\\sklearn\\linear_model\\_coordinate_descent.py:527: ConvergenceWarning: Objective did not converge. You might want to increase the number of iterations. Duality gap: 7619841390188032.0, tolerance: 968156428896909.0\n",
      "  tol, rng, random, positive)\n",
      "C:\\Users\\goran\\Anaconda3\\envs\\tensor\\lib\\site-packages\\sklearn\\linear_model\\_coordinate_descent.py:527: ConvergenceWarning: Objective did not converge. You might want to increase the number of iterations. Duality gap: 7619832208288768.0, tolerance: 968156428896909.0\n",
      "  tol, rng, random, positive)\n",
      "C:\\Users\\goran\\Anaconda3\\envs\\tensor\\lib\\site-packages\\sklearn\\linear_model\\_coordinate_descent.py:527: ConvergenceWarning: Objective did not converge. You might want to increase the number of iterations. Duality gap: 7619823912829952.0, tolerance: 968156428896909.0\n",
      "  tol, rng, random, positive)\n",
      "C:\\Users\\goran\\Anaconda3\\envs\\tensor\\lib\\site-packages\\sklearn\\linear_model\\_coordinate_descent.py:527: ConvergenceWarning: Objective did not converge. You might want to increase the number of iterations. Duality gap: 7619818899491840.0, tolerance: 968156428896909.0\n",
      "  tol, rng, random, positive)\n",
      "C:\\Users\\goran\\Anaconda3\\envs\\tensor\\lib\\site-packages\\sklearn\\linear_model\\_coordinate_descent.py:527: ConvergenceWarning: Objective did not converge. You might want to increase the number of iterations. Duality gap: 7619822953747968.0, tolerance: 968156428896909.0\n",
      "  tol, rng, random, positive)\n",
      "C:\\Users\\goran\\Anaconda3\\envs\\tensor\\lib\\site-packages\\sklearn\\linear_model\\_coordinate_descent.py:527: ConvergenceWarning: Objective did not converge. You might want to increase the number of iterations. Duality gap: 7619787536888832.0, tolerance: 968156428896909.0\n",
      "  tol, rng, random, positive)\n",
      "C:\\Users\\goran\\Anaconda3\\envs\\tensor\\lib\\site-packages\\sklearn\\linear_model\\_coordinate_descent.py:527: ConvergenceWarning: Objective did not converge. You might want to increase the number of iterations. Duality gap: 7619811388138496.0, tolerance: 968156428896909.0\n",
      "  tol, rng, random, positive)\n",
      "C:\\Users\\goran\\Anaconda3\\envs\\tensor\\lib\\site-packages\\sklearn\\linear_model\\_coordinate_descent.py:527: ConvergenceWarning: Objective did not converge. You might want to increase the number of iterations. Duality gap: 7619798188426752.0, tolerance: 968156428896909.0\n",
      "  tol, rng, random, positive)\n",
      "C:\\Users\\goran\\Anaconda3\\envs\\tensor\\lib\\site-packages\\sklearn\\linear_model\\_coordinate_descent.py:527: ConvergenceWarning: Objective did not converge. You might want to increase the number of iterations. Duality gap: 7619793328808448.0, tolerance: 968156428896909.0\n",
      "  tol, rng, random, positive)\n",
      "C:\\Users\\goran\\Anaconda3\\envs\\tensor\\lib\\site-packages\\sklearn\\linear_model\\_coordinate_descent.py:527: ConvergenceWarning: Objective did not converge. You might want to increase the number of iterations. Duality gap: 7619782650411008.0, tolerance: 968156428896909.0\n",
      "  tol, rng, random, positive)\n",
      "C:\\Users\\goran\\Anaconda3\\envs\\tensor\\lib\\site-packages\\sklearn\\linear_model\\_coordinate_descent.py:527: ConvergenceWarning: Objective did not converge. You might want to increase the number of iterations. Duality gap: 7619788597141504.0, tolerance: 968156428896909.0\n",
      "  tol, rng, random, positive)\n",
      "C:\\Users\\goran\\Anaconda3\\envs\\tensor\\lib\\site-packages\\sklearn\\linear_model\\_coordinate_descent.py:527: ConvergenceWarning: Objective did not converge. You might want to increase the number of iterations. Duality gap: 7619898301548544.0, tolerance: 968156428896909.0\n",
      "  tol, rng, random, positive)\n",
      "C:\\Users\\goran\\Anaconda3\\envs\\tensor\\lib\\site-packages\\sklearn\\linear_model\\_coordinate_descent.py:527: ConvergenceWarning: Objective did not converge. You might want to increase the number of iterations. Duality gap: 7619725751299072.0, tolerance: 968156428896909.0\n",
      "  tol, rng, random, positive)\n",
      "C:\\Users\\goran\\Anaconda3\\envs\\tensor\\lib\\site-packages\\sklearn\\linear_model\\_coordinate_descent.py:527: ConvergenceWarning: Objective did not converge. You might want to increase the number of iterations. Duality gap: 7619751181589504.0, tolerance: 968156428896909.0\n",
      "  tol, rng, random, positive)\n",
      "C:\\Users\\goran\\Anaconda3\\envs\\tensor\\lib\\site-packages\\sklearn\\linear_model\\_coordinate_descent.py:527: ConvergenceWarning: Objective did not converge. You might want to increase the number of iterations. Duality gap: 7619602951056384.0, tolerance: 968156428896909.0\n",
      "  tol, rng, random, positive)\n",
      "C:\\Users\\goran\\Anaconda3\\envs\\tensor\\lib\\site-packages\\sklearn\\linear_model\\_coordinate_descent.py:527: ConvergenceWarning: Objective did not converge. You might want to increase the number of iterations. Duality gap: 7619964847882240.0, tolerance: 968156428896909.0\n",
      "  tol, rng, random, positive)\n",
      "C:\\Users\\goran\\Anaconda3\\envs\\tensor\\lib\\site-packages\\sklearn\\linear_model\\_coordinate_descent.py:527: ConvergenceWarning: Objective did not converge. You might want to increase the number of iterations. Duality gap: 7619513201091072.0, tolerance: 968156428896909.0\n",
      "  tol, rng, random, positive)\n",
      "C:\\Users\\goran\\Anaconda3\\envs\\tensor\\lib\\site-packages\\sklearn\\linear_model\\_coordinate_descent.py:527: ConvergenceWarning: Objective did not converge. You might want to increase the number of iterations. Duality gap: 7619464243055616.0, tolerance: 968156428896909.0\n",
      "  tol, rng, random, positive)\n",
      "C:\\Users\\goran\\Anaconda3\\envs\\tensor\\lib\\site-packages\\sklearn\\linear_model\\_coordinate_descent.py:527: ConvergenceWarning: Objective did not converge. You might want to increase the number of iterations. Duality gap: 7619160894398464.0, tolerance: 968156428896909.0\n",
      "  tol, rng, random, positive)\n",
      "C:\\Users\\goran\\Anaconda3\\envs\\tensor\\lib\\site-packages\\sklearn\\linear_model\\_coordinate_descent.py:527: ConvergenceWarning: Objective did not converge. You might want to increase the number of iterations. Duality gap: 7620559727261696.0, tolerance: 968156428896909.0\n",
      "  tol, rng, random, positive)\n",
      "C:\\Users\\goran\\Anaconda3\\envs\\tensor\\lib\\site-packages\\sklearn\\linear_model\\_coordinate_descent.py:527: ConvergenceWarning: Objective did not converge. You might want to increase the number of iterations. Duality gap: 7619752510819328.0, tolerance: 968156428896909.0\n",
      "  tol, rng, random, positive)\n",
      "C:\\Users\\goran\\Anaconda3\\envs\\tensor\\lib\\site-packages\\sklearn\\linear_model\\_coordinate_descent.py:527: ConvergenceWarning: Objective did not converge. You might want to increase the number of iterations. Duality gap: 7619910740206592.0, tolerance: 968156428896909.0\n",
      "  tol, rng, random, positive)\n",
      "C:\\Users\\goran\\Anaconda3\\envs\\tensor\\lib\\site-packages\\sklearn\\linear_model\\_coordinate_descent.py:527: ConvergenceWarning: Objective did not converge. You might want to increase the number of iterations. Duality gap: 2887510357435392.0, tolerance: 955873157373860.8\n",
      "  tol, rng, random, positive)\n",
      "C:\\Users\\goran\\Anaconda3\\envs\\tensor\\lib\\site-packages\\sklearn\\linear_model\\_coordinate_descent.py:527: ConvergenceWarning: Objective did not converge. You might want to increase the number of iterations. Duality gap: 6927334722704384.0, tolerance: 955873157373860.8\n",
      "  tol, rng, random, positive)\n",
      "C:\\Users\\goran\\Anaconda3\\envs\\tensor\\lib\\site-packages\\sklearn\\linear_model\\_coordinate_descent.py:527: ConvergenceWarning: Objective did not converge. You might want to increase the number of iterations. Duality gap: 7741263003004416.0, tolerance: 955873157373860.8\n",
      "  tol, rng, random, positive)\n",
      "C:\\Users\\goran\\Anaconda3\\envs\\tensor\\lib\\site-packages\\sklearn\\linear_model\\_coordinate_descent.py:527: ConvergenceWarning: Objective did not converge. You might want to increase the number of iterations. Duality gap: 7871593652230656.0, tolerance: 955873157373860.8\n",
      "  tol, rng, random, positive)\n",
      "C:\\Users\\goran\\Anaconda3\\envs\\tensor\\lib\\site-packages\\sklearn\\linear_model\\_coordinate_descent.py:527: ConvergenceWarning: Objective did not converge. You might want to increase the number of iterations. Duality gap: 7885875071319040.0, tolerance: 955873157373860.8\n",
      "  tol, rng, random, positive)\n",
      "C:\\Users\\goran\\Anaconda3\\envs\\tensor\\lib\\site-packages\\sklearn\\linear_model\\_coordinate_descent.py:527: ConvergenceWarning: Objective did not converge. You might want to increase the number of iterations. Duality gap: 7882463125585920.0, tolerance: 955873157373860.8\n",
      "  tol, rng, random, positive)\n",
      "C:\\Users\\goran\\Anaconda3\\envs\\tensor\\lib\\site-packages\\sklearn\\linear_model\\_coordinate_descent.py:527: ConvergenceWarning: Objective did not converge. You might want to increase the number of iterations. Duality gap: 7877502891234816.0, tolerance: 955873157373860.8\n",
      "  tol, rng, random, positive)\n"
     ]
    },
    {
     "name": "stderr",
     "output_type": "stream",
     "text": [
      "C:\\Users\\goran\\Anaconda3\\envs\\tensor\\lib\\site-packages\\sklearn\\linear_model\\_coordinate_descent.py:527: ConvergenceWarning: Objective did not converge. You might want to increase the number of iterations. Duality gap: 7873358362881536.0, tolerance: 955873157373860.8\n",
      "  tol, rng, random, positive)\n",
      "C:\\Users\\goran\\Anaconda3\\envs\\tensor\\lib\\site-packages\\sklearn\\linear_model\\_coordinate_descent.py:527: ConvergenceWarning: Objective did not converge. You might want to increase the number of iterations. Duality gap: 7870163011049472.0, tolerance: 955873157373860.8\n",
      "  tol, rng, random, positive)\n",
      "C:\\Users\\goran\\Anaconda3\\envs\\tensor\\lib\\site-packages\\sklearn\\linear_model\\_coordinate_descent.py:527: ConvergenceWarning: Objective did not converge. You might want to increase the number of iterations. Duality gap: 7867740387201536.0, tolerance: 955873157373860.8\n",
      "  tol, rng, random, positive)\n",
      "C:\\Users\\goran\\Anaconda3\\envs\\tensor\\lib\\site-packages\\sklearn\\linear_model\\_coordinate_descent.py:527: ConvergenceWarning: Objective did not converge. You might want to increase the number of iterations. Duality gap: 7865910502640640.0, tolerance: 955873157373860.8\n",
      "  tol, rng, random, positive)\n",
      "C:\\Users\\goran\\Anaconda3\\envs\\tensor\\lib\\site-packages\\sklearn\\linear_model\\_coordinate_descent.py:527: ConvergenceWarning: Objective did not converge. You might want to increase the number of iterations. Duality gap: 7864529479588864.0, tolerance: 955873157373860.8\n",
      "  tol, rng, random, positive)\n",
      "C:\\Users\\goran\\Anaconda3\\envs\\tensor\\lib\\site-packages\\sklearn\\linear_model\\_coordinate_descent.py:527: ConvergenceWarning: Objective did not converge. You might want to increase the number of iterations. Duality gap: 7863487601682944.0, tolerance: 955873157373860.8\n",
      "  tol, rng, random, positive)\n",
      "C:\\Users\\goran\\Anaconda3\\envs\\tensor\\lib\\site-packages\\sklearn\\linear_model\\_coordinate_descent.py:527: ConvergenceWarning: Objective did not converge. You might want to increase the number of iterations. Duality gap: 7862701319762944.0, tolerance: 955873157373860.8\n",
      "  tol, rng, random, positive)\n",
      "C:\\Users\\goran\\Anaconda3\\envs\\tensor\\lib\\site-packages\\sklearn\\linear_model\\_coordinate_descent.py:527: ConvergenceWarning: Objective did not converge. You might want to increase the number of iterations. Duality gap: 7862108394797056.0, tolerance: 955873157373860.8\n",
      "  tol, rng, random, positive)\n",
      "C:\\Users\\goran\\Anaconda3\\envs\\tensor\\lib\\site-packages\\sklearn\\linear_model\\_coordinate_descent.py:527: ConvergenceWarning: Objective did not converge. You might want to increase the number of iterations. Duality gap: 7861660963557376.0, tolerance: 955873157373860.8\n",
      "  tol, rng, random, positive)\n",
      "C:\\Users\\goran\\Anaconda3\\envs\\tensor\\lib\\site-packages\\sklearn\\linear_model\\_coordinate_descent.py:527: ConvergenceWarning: Objective did not converge. You might want to increase the number of iterations. Duality gap: 7861323307526144.0, tolerance: 955873157373860.8\n",
      "  tol, rng, random, positive)\n",
      "C:\\Users\\goran\\Anaconda3\\envs\\tensor\\lib\\site-packages\\sklearn\\linear_model\\_coordinate_descent.py:527: ConvergenceWarning: Objective did not converge. You might want to increase the number of iterations. Duality gap: 7861068689040384.0, tolerance: 955873157373860.8\n",
      "  tol, rng, random, positive)\n",
      "C:\\Users\\goran\\Anaconda3\\envs\\tensor\\lib\\site-packages\\sklearn\\linear_model\\_coordinate_descent.py:527: ConvergenceWarning: Objective did not converge. You might want to increase the number of iterations. Duality gap: 7860876463812608.0, tolerance: 955873157373860.8\n",
      "  tol, rng, random, positive)\n",
      "C:\\Users\\goran\\Anaconda3\\envs\\tensor\\lib\\site-packages\\sklearn\\linear_model\\_coordinate_descent.py:527: ConvergenceWarning: Objective did not converge. You might want to increase the number of iterations. Duality gap: 7860732052942848.0, tolerance: 955873157373860.8\n",
      "  tol, rng, random, positive)\n",
      "C:\\Users\\goran\\Anaconda3\\envs\\tensor\\lib\\site-packages\\sklearn\\linear_model\\_coordinate_descent.py:527: ConvergenceWarning: Objective did not converge. You might want to increase the number of iterations. Duality gap: 7860622414127104.0, tolerance: 955873157373860.8\n",
      "  tol, rng, random, positive)\n",
      "C:\\Users\\goran\\Anaconda3\\envs\\tensor\\lib\\site-packages\\sklearn\\linear_model\\_coordinate_descent.py:527: ConvergenceWarning: Objective did not converge. You might want to increase the number of iterations. Duality gap: 7860540299395072.0, tolerance: 955873157373860.8\n",
      "  tol, rng, random, positive)\n",
      "C:\\Users\\goran\\Anaconda3\\envs\\tensor\\lib\\site-packages\\sklearn\\linear_model\\_coordinate_descent.py:527: ConvergenceWarning: Objective did not converge. You might want to increase the number of iterations. Duality gap: 7860477143510528.0, tolerance: 955873157373860.8\n",
      "  tol, rng, random, positive)\n",
      "C:\\Users\\goran\\Anaconda3\\envs\\tensor\\lib\\site-packages\\sklearn\\linear_model\\_coordinate_descent.py:527: ConvergenceWarning: Objective did not converge. You might want to increase the number of iterations. Duality gap: 7860432844796928.0, tolerance: 955873157373860.8\n",
      "  tol, rng, random, positive)\n",
      "C:\\Users\\goran\\Anaconda3\\envs\\tensor\\lib\\site-packages\\sklearn\\linear_model\\_coordinate_descent.py:527: ConvergenceWarning: Objective did not converge. You might want to increase the number of iterations. Duality gap: 7860396999576064.0, tolerance: 955873157373860.8\n",
      "  tol, rng, random, positive)\n",
      "C:\\Users\\goran\\Anaconda3\\envs\\tensor\\lib\\site-packages\\sklearn\\linear_model\\_coordinate_descent.py:527: ConvergenceWarning: Objective did not converge. You might want to increase the number of iterations. Duality gap: 7860368186312192.0, tolerance: 955873157373860.8\n",
      "  tol, rng, random, positive)\n",
      "C:\\Users\\goran\\Anaconda3\\envs\\tensor\\lib\\site-packages\\sklearn\\linear_model\\_coordinate_descent.py:527: ConvergenceWarning: Objective did not converge. You might want to increase the number of iterations. Duality gap: 7860351647190016.0, tolerance: 955873157373860.8\n",
      "  tol, rng, random, positive)\n",
      "C:\\Users\\goran\\Anaconda3\\envs\\tensor\\lib\\site-packages\\sklearn\\linear_model\\_coordinate_descent.py:527: ConvergenceWarning: Objective did not converge. You might want to increase the number of iterations. Duality gap: 7860335849138688.0, tolerance: 955873157373860.8\n",
      "  tol, rng, random, positive)\n",
      "C:\\Users\\goran\\Anaconda3\\envs\\tensor\\lib\\site-packages\\sklearn\\linear_model\\_coordinate_descent.py:527: ConvergenceWarning: Objective did not converge. You might want to increase the number of iterations. Duality gap: 7860314623930368.0, tolerance: 955873157373860.8\n",
      "  tol, rng, random, positive)\n",
      "C:\\Users\\goran\\Anaconda3\\envs\\tensor\\lib\\site-packages\\sklearn\\linear_model\\_coordinate_descent.py:527: ConvergenceWarning: Objective did not converge. You might want to increase the number of iterations. Duality gap: 7860310570162176.0, tolerance: 955873157373860.8\n",
      "  tol, rng, random, positive)\n",
      "C:\\Users\\goran\\Anaconda3\\envs\\tensor\\lib\\site-packages\\sklearn\\linear_model\\_coordinate_descent.py:527: ConvergenceWarning: Objective did not converge. You might want to increase the number of iterations. Duality gap: 7860306725131264.0, tolerance: 955873157373860.8\n",
      "  tol, rng, random, positive)\n",
      "C:\\Users\\goran\\Anaconda3\\envs\\tensor\\lib\\site-packages\\sklearn\\linear_model\\_coordinate_descent.py:527: ConvergenceWarning: Objective did not converge. You might want to increase the number of iterations. Duality gap: 7860302632843264.0, tolerance: 955873157373860.8\n",
      "  tol, rng, random, positive)\n",
      "C:\\Users\\goran\\Anaconda3\\envs\\tensor\\lib\\site-packages\\sklearn\\linear_model\\_coordinate_descent.py:527: ConvergenceWarning: Objective did not converge. You might want to increase the number of iterations. Duality gap: 7860307840494080.0, tolerance: 955873157373860.8\n",
      "  tol, rng, random, positive)\n",
      "C:\\Users\\goran\\Anaconda3\\envs\\tensor\\lib\\site-packages\\sklearn\\linear_model\\_coordinate_descent.py:527: ConvergenceWarning: Objective did not converge. You might want to increase the number of iterations. Duality gap: 7860299820488192.0, tolerance: 955873157373860.8\n",
      "  tol, rng, random, positive)\n",
      "C:\\Users\\goran\\Anaconda3\\envs\\tensor\\lib\\site-packages\\sklearn\\linear_model\\_coordinate_descent.py:527: ConvergenceWarning: Objective did not converge. You might want to increase the number of iterations. Duality gap: 7860309749402624.0, tolerance: 955873157373860.8\n",
      "  tol, rng, random, positive)\n",
      "C:\\Users\\goran\\Anaconda3\\envs\\tensor\\lib\\site-packages\\sklearn\\linear_model\\_coordinate_descent.py:527: ConvergenceWarning: Objective did not converge. You might want to increase the number of iterations. Duality gap: 7860299678443520.0, tolerance: 955873157373860.8\n",
      "  tol, rng, random, positive)\n",
      "C:\\Users\\goran\\Anaconda3\\envs\\tensor\\lib\\site-packages\\sklearn\\linear_model\\_coordinate_descent.py:527: ConvergenceWarning: Objective did not converge. You might want to increase the number of iterations. Duality gap: 7860285737827328.0, tolerance: 955873157373860.8\n",
      "  tol, rng, random, positive)\n",
      "C:\\Users\\goran\\Anaconda3\\envs\\tensor\\lib\\site-packages\\sklearn\\linear_model\\_coordinate_descent.py:527: ConvergenceWarning: Objective did not converge. You might want to increase the number of iterations. Duality gap: 7860333960441856.0, tolerance: 955873157373860.8\n",
      "  tol, rng, random, positive)\n",
      "C:\\Users\\goran\\Anaconda3\\envs\\tensor\\lib\\site-packages\\sklearn\\linear_model\\_coordinate_descent.py:527: ConvergenceWarning: Objective did not converge. You might want to increase the number of iterations. Duality gap: 7860344712567808.0, tolerance: 955873157373860.8\n",
      "  tol, rng, random, positive)\n",
      "C:\\Users\\goran\\Anaconda3\\envs\\tensor\\lib\\site-packages\\sklearn\\linear_model\\_coordinate_descent.py:527: ConvergenceWarning: Objective did not converge. You might want to increase the number of iterations. Duality gap: 7860428913107456.0, tolerance: 955873157373860.8\n",
      "  tol, rng, random, positive)\n",
      "C:\\Users\\goran\\Anaconda3\\envs\\tensor\\lib\\site-packages\\sklearn\\linear_model\\_coordinate_descent.py:527: ConvergenceWarning: Objective did not converge. You might want to increase the number of iterations. Duality gap: 7860505075598336.0, tolerance: 955873157373860.8\n",
      "  tol, rng, random, positive)\n",
      "C:\\Users\\goran\\Anaconda3\\envs\\tensor\\lib\\site-packages\\sklearn\\linear_model\\_coordinate_descent.py:527: ConvergenceWarning: Objective did not converge. You might want to increase the number of iterations. Duality gap: 7860040370848768.0, tolerance: 955873157373860.8\n",
      "  tol, rng, random, positive)\n",
      "C:\\Users\\goran\\Anaconda3\\envs\\tensor\\lib\\site-packages\\sklearn\\linear_model\\_coordinate_descent.py:527: ConvergenceWarning: Objective did not converge. You might want to increase the number of iterations. Duality gap: 7860389591974400.0, tolerance: 955873157373860.8\n",
      "  tol, rng, random, positive)\n",
      "C:\\Users\\goran\\Anaconda3\\envs\\tensor\\lib\\site-packages\\sklearn\\linear_model\\_coordinate_descent.py:527: ConvergenceWarning: Objective did not converge. You might want to increase the number of iterations. Duality gap: 7860071321922560.0, tolerance: 955873157373860.8\n",
      "  tol, rng, random, positive)\n",
      "C:\\Users\\goran\\Anaconda3\\envs\\tensor\\lib\\site-packages\\sklearn\\linear_model\\_coordinate_descent.py:527: ConvergenceWarning: Objective did not converge. You might want to increase the number of iterations. Duality gap: 7860239342989312.0, tolerance: 955873157373860.8\n",
      "  tol, rng, random, positive)\n",
      "C:\\Users\\goran\\Anaconda3\\envs\\tensor\\lib\\site-packages\\sklearn\\linear_model\\_coordinate_descent.py:527: ConvergenceWarning: Objective did not converge. You might want to increase the number of iterations. Duality gap: 7860796874669056.0, tolerance: 955873157373860.8\n",
      "  tol, rng, random, positive)\n",
      "C:\\Users\\goran\\Anaconda3\\envs\\tensor\\lib\\site-packages\\sklearn\\linear_model\\_coordinate_descent.py:527: ConvergenceWarning: Objective did not converge. You might want to increase the number of iterations. Duality gap: 7859233043300352.0, tolerance: 955873157373860.8\n",
      "  tol, rng, random, positive)\n",
      "C:\\Users\\goran\\Anaconda3\\envs\\tensor\\lib\\site-packages\\sklearn\\linear_model\\_coordinate_descent.py:527: ConvergenceWarning: Objective did not converge. You might want to increase the number of iterations. Duality gap: 7860466352790016.0, tolerance: 955873157373860.8\n",
      "  tol, rng, random, positive)\n",
      "C:\\Users\\goran\\Anaconda3\\envs\\tensor\\lib\\site-packages\\sklearn\\linear_model\\_coordinate_descent.py:527: ConvergenceWarning: Objective did not converge. You might want to increase the number of iterations. Duality gap: 7860801006944256.0, tolerance: 955873157373860.8\n",
      "  tol, rng, random, positive)\n",
      "C:\\Users\\goran\\Anaconda3\\envs\\tensor\\lib\\site-packages\\sklearn\\linear_model\\_coordinate_descent.py:527: ConvergenceWarning: Objective did not converge. You might want to increase the number of iterations. Duality gap: 2398397479527424.0, tolerance: 968194175381952.5\n",
      "  tol, rng, random, positive)\n",
      "C:\\Users\\goran\\Anaconda3\\envs\\tensor\\lib\\site-packages\\sklearn\\linear_model\\_coordinate_descent.py:527: ConvergenceWarning: Objective did not converge. You might want to increase the number of iterations. Duality gap: 6818113374311424.0, tolerance: 968194175381952.5\n",
      "  tol, rng, random, positive)\n",
      "C:\\Users\\goran\\Anaconda3\\envs\\tensor\\lib\\site-packages\\sklearn\\linear_model\\_coordinate_descent.py:527: ConvergenceWarning: Objective did not converge. You might want to increase the number of iterations. Duality gap: 7749707781459968.0, tolerance: 968194175381952.5\n",
      "  tol, rng, random, positive)\n",
      "C:\\Users\\goran\\Anaconda3\\envs\\tensor\\lib\\site-packages\\sklearn\\linear_model\\_coordinate_descent.py:527: ConvergenceWarning: Objective did not converge. You might want to increase the number of iterations. Duality gap: 7907169987275264.0, tolerance: 968194175381952.5\n",
      "  tol, rng, random, positive)\n",
      "C:\\Users\\goran\\Anaconda3\\envs\\tensor\\lib\\site-packages\\sklearn\\linear_model\\_coordinate_descent.py:527: ConvergenceWarning: Objective did not converge. You might want to increase the number of iterations. Duality gap: 7930571346802688.0, tolerance: 968194175381952.5\n",
      "  tol, rng, random, positive)\n",
      "C:\\Users\\goran\\Anaconda3\\envs\\tensor\\lib\\site-packages\\sklearn\\linear_model\\_coordinate_descent.py:527: ConvergenceWarning: Objective did not converge. You might want to increase the number of iterations. Duality gap: 7932090222402048.0, tolerance: 968194175381952.5\n",
      "  tol, rng, random, positive)\n",
      "C:\\Users\\goran\\Anaconda3\\envs\\tensor\\lib\\site-packages\\sklearn\\linear_model\\_coordinate_descent.py:527: ConvergenceWarning: Objective did not converge. You might want to increase the number of iterations. Duality gap: 7930520948685312.0, tolerance: 968194175381952.5\n",
      "  tol, rng, random, positive)\n",
      "C:\\Users\\goran\\Anaconda3\\envs\\tensor\\lib\\site-packages\\sklearn\\linear_model\\_coordinate_descent.py:527: ConvergenceWarning: Objective did not converge. You might want to increase the number of iterations. Duality gap: 7928880389411840.0, tolerance: 968194175381952.5\n",
      "  tol, rng, random, positive)\n",
      "C:\\Users\\goran\\Anaconda3\\envs\\tensor\\lib\\site-packages\\sklearn\\linear_model\\_coordinate_descent.py:527: ConvergenceWarning: Objective did not converge. You might want to increase the number of iterations. Duality gap: 7927565890840576.0, tolerance: 968194175381952.5\n",
      "  tol, rng, random, positive)\n",
      "C:\\Users\\goran\\Anaconda3\\envs\\tensor\\lib\\site-packages\\sklearn\\linear_model\\_coordinate_descent.py:527: ConvergenceWarning: Objective did not converge. You might want to increase the number of iterations. Duality gap: 7926561338002432.0, tolerance: 968194175381952.5\n",
      "  tol, rng, random, positive)\n",
      "C:\\Users\\goran\\Anaconda3\\envs\\tensor\\lib\\site-packages\\sklearn\\linear_model\\_coordinate_descent.py:527: ConvergenceWarning: Objective did not converge. You might want to increase the number of iterations. Duality gap: 7925801159299072.0, tolerance: 968194175381952.5\n",
      "  tol, rng, random, positive)\n",
      "C:\\Users\\goran\\Anaconda3\\envs\\tensor\\lib\\site-packages\\sklearn\\linear_model\\_coordinate_descent.py:527: ConvergenceWarning: Objective did not converge. You might want to increase the number of iterations. Duality gap: 7925227409167360.0, tolerance: 968194175381952.5\n",
      "  tol, rng, random, positive)\n",
      "C:\\Users\\goran\\Anaconda3\\envs\\tensor\\lib\\site-packages\\sklearn\\linear_model\\_coordinate_descent.py:527: ConvergenceWarning: Objective did not converge. You might want to increase the number of iterations. Duality gap: 7924794528231424.0, tolerance: 968194175381952.5\n",
      "  tol, rng, random, positive)\n",
      "C:\\Users\\goran\\Anaconda3\\envs\\tensor\\lib\\site-packages\\sklearn\\linear_model\\_coordinate_descent.py:527: ConvergenceWarning: Objective did not converge. You might want to increase the number of iterations. Duality gap: 7924468078613504.0, tolerance: 968194175381952.5\n",
      "  tol, rng, random, positive)\n",
      "C:\\Users\\goran\\Anaconda3\\envs\\tensor\\lib\\site-packages\\sklearn\\linear_model\\_coordinate_descent.py:527: ConvergenceWarning: Objective did not converge. You might want to increase the number of iterations. Duality gap: 7924221695884288.0, tolerance: 968194175381952.5\n",
      "  tol, rng, random, positive)\n",
      "C:\\Users\\goran\\Anaconda3\\envs\\tensor\\lib\\site-packages\\sklearn\\linear_model\\_coordinate_descent.py:527: ConvergenceWarning: Objective did not converge. You might want to increase the number of iterations. Duality gap: 7924035506795520.0, tolerance: 968194175381952.5\n",
      "  tol, rng, random, positive)\n",
      "C:\\Users\\goran\\Anaconda3\\envs\\tensor\\lib\\site-packages\\sklearn\\linear_model\\_coordinate_descent.py:527: ConvergenceWarning: Objective did not converge. You might want to increase the number of iterations. Duality gap: 7923896227958784.0, tolerance: 968194175381952.5\n",
      "  tol, rng, random, positive)\n",
      "C:\\Users\\goran\\Anaconda3\\envs\\tensor\\lib\\site-packages\\sklearn\\linear_model\\_coordinate_descent.py:527: ConvergenceWarning: Objective did not converge. You might want to increase the number of iterations. Duality gap: 7923790123403264.0, tolerance: 968194175381952.5\n",
      "  tol, rng, random, positive)\n",
      "C:\\Users\\goran\\Anaconda3\\envs\\tensor\\lib\\site-packages\\sklearn\\linear_model\\_coordinate_descent.py:527: ConvergenceWarning: Objective did not converge. You might want to increase the number of iterations. Duality gap: 7923710195174400.0, tolerance: 968194175381952.5\n",
      "  tol, rng, random, positive)\n",
      "C:\\Users\\goran\\Anaconda3\\envs\\tensor\\lib\\site-packages\\sklearn\\linear_model\\_coordinate_descent.py:527: ConvergenceWarning: Objective did not converge. You might want to increase the number of iterations. Duality gap: 7923649544258048.0, tolerance: 968194175381952.5\n",
      "  tol, rng, random, positive)\n",
      "C:\\Users\\goran\\Anaconda3\\envs\\tensor\\lib\\site-packages\\sklearn\\linear_model\\_coordinate_descent.py:527: ConvergenceWarning: Objective did not converge. You might want to increase the number of iterations. Duality gap: 7923604228684288.0, tolerance: 968194175381952.5\n",
      "  tol, rng, random, positive)\n",
      "C:\\Users\\goran\\Anaconda3\\envs\\tensor\\lib\\site-packages\\sklearn\\linear_model\\_coordinate_descent.py:527: ConvergenceWarning: Objective did not converge. You might want to increase the number of iterations. Duality gap: 7923571613722112.0, tolerance: 968194175381952.5\n",
      "  tol, rng, random, positive)\n",
      "C:\\Users\\goran\\Anaconda3\\envs\\tensor\\lib\\site-packages\\sklearn\\linear_model\\_coordinate_descent.py:527: ConvergenceWarning: Objective did not converge. You might want to increase the number of iterations. Duality gap: 7923543475328000.0, tolerance: 968194175381952.5\n",
      "  tol, rng, random, positive)\n",
      "C:\\Users\\goran\\Anaconda3\\envs\\tensor\\lib\\site-packages\\sklearn\\linear_model\\_coordinate_descent.py:527: ConvergenceWarning: Objective did not converge. You might want to increase the number of iterations. Duality gap: 7923526161900544.0, tolerance: 968194175381952.5\n",
      "  tol, rng, random, positive)\n",
      "C:\\Users\\goran\\Anaconda3\\envs\\tensor\\lib\\site-packages\\sklearn\\linear_model\\_coordinate_descent.py:527: ConvergenceWarning: Objective did not converge. You might want to increase the number of iterations. Duality gap: 7923511546738688.0, tolerance: 968194175381952.5\n",
      "  tol, rng, random, positive)\n",
      "C:\\Users\\goran\\Anaconda3\\envs\\tensor\\lib\\site-packages\\sklearn\\linear_model\\_coordinate_descent.py:527: ConvergenceWarning: Objective did not converge. You might want to increase the number of iterations. Duality gap: 7923500181373440.0, tolerance: 968194175381952.5\n",
      "  tol, rng, random, positive)\n"
     ]
    },
    {
     "name": "stderr",
     "output_type": "stream",
     "text": [
      "C:\\Users\\goran\\Anaconda3\\envs\\tensor\\lib\\site-packages\\sklearn\\linear_model\\_coordinate_descent.py:527: ConvergenceWarning: Objective did not converge. You might want to increase the number of iterations. Duality gap: 7923498126692352.0, tolerance: 968194175381952.5\n",
      "  tol, rng, random, positive)\n",
      "C:\\Users\\goran\\Anaconda3\\envs\\tensor\\lib\\site-packages\\sklearn\\linear_model\\_coordinate_descent.py:527: ConvergenceWarning: Objective did not converge. You might want to increase the number of iterations. Duality gap: 7923488940479488.0, tolerance: 968194175381952.5\n",
      "  tol, rng, random, positive)\n",
      "C:\\Users\\goran\\Anaconda3\\envs\\tensor\\lib\\site-packages\\sklearn\\linear_model\\_coordinate_descent.py:527: ConvergenceWarning: Objective did not converge. You might want to increase the number of iterations. Duality gap: 7923474804218880.0, tolerance: 968194175381952.5\n",
      "  tol, rng, random, positive)\n",
      "C:\\Users\\goran\\Anaconda3\\envs\\tensor\\lib\\site-packages\\sklearn\\linear_model\\_coordinate_descent.py:527: ConvergenceWarning: Objective did not converge. You might want to increase the number of iterations. Duality gap: 7923477704249344.0, tolerance: 968194175381952.5\n",
      "  tol, rng, random, positive)\n",
      "C:\\Users\\goran\\Anaconda3\\envs\\tensor\\lib\\site-packages\\sklearn\\linear_model\\_coordinate_descent.py:527: ConvergenceWarning: Objective did not converge. You might want to increase the number of iterations. Duality gap: 7923465226704896.0, tolerance: 968194175381952.5\n",
      "  tol, rng, random, positive)\n",
      "C:\\Users\\goran\\Anaconda3\\envs\\tensor\\lib\\site-packages\\sklearn\\linear_model\\_coordinate_descent.py:527: ConvergenceWarning: Objective did not converge. You might want to increase the number of iterations. Duality gap: 7923469468386304.0, tolerance: 968194175381952.5\n",
      "  tol, rng, random, positive)\n",
      "C:\\Users\\goran\\Anaconda3\\envs\\tensor\\lib\\site-packages\\sklearn\\linear_model\\_coordinate_descent.py:527: ConvergenceWarning: Objective did not converge. You might want to increase the number of iterations. Duality gap: 7923447324843008.0, tolerance: 968194175381952.5\n",
      "  tol, rng, random, positive)\n",
      "C:\\Users\\goran\\Anaconda3\\envs\\tensor\\lib\\site-packages\\sklearn\\linear_model\\_coordinate_descent.py:527: ConvergenceWarning: Objective did not converge. You might want to increase the number of iterations. Duality gap: 7923454251207680.0, tolerance: 968194175381952.5\n",
      "  tol, rng, random, positive)\n",
      "C:\\Users\\goran\\Anaconda3\\envs\\tensor\\lib\\site-packages\\sklearn\\linear_model\\_coordinate_descent.py:527: ConvergenceWarning: Objective did not converge. You might want to increase the number of iterations. Duality gap: 7923393706438144.0, tolerance: 968194175381952.5\n",
      "  tol, rng, random, positive)\n",
      "C:\\Users\\goran\\Anaconda3\\envs\\tensor\\lib\\site-packages\\sklearn\\linear_model\\_coordinate_descent.py:527: ConvergenceWarning: Objective did not converge. You might want to increase the number of iterations. Duality gap: 7923514460546048.0, tolerance: 968194175381952.5\n",
      "  tol, rng, random, positive)\n",
      "C:\\Users\\goran\\Anaconda3\\envs\\tensor\\lib\\site-packages\\sklearn\\linear_model\\_coordinate_descent.py:527: ConvergenceWarning: Objective did not converge. You might want to increase the number of iterations. Duality gap: 7923478447225856.0, tolerance: 968194175381952.5\n",
      "  tol, rng, random, positive)\n",
      "C:\\Users\\goran\\Anaconda3\\envs\\tensor\\lib\\site-packages\\sklearn\\linear_model\\_coordinate_descent.py:527: ConvergenceWarning: Objective did not converge. You might want to increase the number of iterations. Duality gap: 7923548960740352.0, tolerance: 968194175381952.5\n",
      "  tol, rng, random, positive)\n",
      "C:\\Users\\goran\\Anaconda3\\envs\\tensor\\lib\\site-packages\\sklearn\\linear_model\\_coordinate_descent.py:527: ConvergenceWarning: Objective did not converge. You might want to increase the number of iterations. Duality gap: 7923470560542208.0, tolerance: 968194175381952.5\n",
      "  tol, rng, random, positive)\n",
      "C:\\Users\\goran\\Anaconda3\\envs\\tensor\\lib\\site-packages\\sklearn\\linear_model\\_coordinate_descent.py:527: ConvergenceWarning: Objective did not converge. You might want to increase the number of iterations. Duality gap: 7923540580868096.0, tolerance: 968194175381952.5\n",
      "  tol, rng, random, positive)\n",
      "C:\\Users\\goran\\Anaconda3\\envs\\tensor\\lib\\site-packages\\sklearn\\linear_model\\_coordinate_descent.py:527: ConvergenceWarning: Objective did not converge. You might want to increase the number of iterations. Duality gap: 7923234568557568.0, tolerance: 968194175381952.5\n",
      "  tol, rng, random, positive)\n",
      "C:\\Users\\goran\\Anaconda3\\envs\\tensor\\lib\\site-packages\\sklearn\\linear_model\\_coordinate_descent.py:527: ConvergenceWarning: Objective did not converge. You might want to increase the number of iterations. Duality gap: 7923259925513216.0, tolerance: 968194175381952.5\n",
      "  tol, rng, random, positive)\n",
      "C:\\Users\\goran\\Anaconda3\\envs\\tensor\\lib\\site-packages\\sklearn\\linear_model\\_coordinate_descent.py:527: ConvergenceWarning: Objective did not converge. You might want to increase the number of iterations. Duality gap: 7923550022348288.0, tolerance: 968194175381952.5\n",
      "  tol, rng, random, positive)\n",
      "C:\\Users\\goran\\Anaconda3\\envs\\tensor\\lib\\site-packages\\sklearn\\linear_model\\_coordinate_descent.py:527: ConvergenceWarning: Objective did not converge. You might want to increase the number of iterations. Duality gap: 7923483188573696.0, tolerance: 968194175381952.5\n",
      "  tol, rng, random, positive)\n",
      "C:\\Users\\goran\\Anaconda3\\envs\\tensor\\lib\\site-packages\\sklearn\\linear_model\\_coordinate_descent.py:527: ConvergenceWarning: Objective did not converge. You might want to increase the number of iterations. Duality gap: 7922661602041856.0, tolerance: 968194175381952.5\n",
      "  tol, rng, random, positive)\n",
      "C:\\Users\\goran\\Anaconda3\\envs\\tensor\\lib\\site-packages\\sklearn\\linear_model\\_coordinate_descent.py:527: ConvergenceWarning: Objective did not converge. You might want to increase the number of iterations. Duality gap: 7924650861370880.0, tolerance: 968194175381952.5\n",
      "  tol, rng, random, positive)\n",
      "C:\\Users\\goran\\Anaconda3\\envs\\tensor\\lib\\site-packages\\sklearn\\linear_model\\_coordinate_descent.py:527: ConvergenceWarning: Objective did not converge. You might want to increase the number of iterations. Duality gap: 6771380570795008.0, tolerance: 963581480250493.4\n",
      "  tol, rng, random, positive)\n",
      "C:\\Users\\goran\\Anaconda3\\envs\\tensor\\lib\\site-packages\\sklearn\\linear_model\\_coordinate_descent.py:527: ConvergenceWarning: Objective did not converge. You might want to increase the number of iterations. Duality gap: 8269079616209408.0, tolerance: 963581480250493.4\n",
      "  tol, rng, random, positive)\n",
      "C:\\Users\\goran\\Anaconda3\\envs\\tensor\\lib\\site-packages\\sklearn\\linear_model\\_coordinate_descent.py:527: ConvergenceWarning: Objective did not converge. You might want to increase the number of iterations. Duality gap: 8545264146161664.0, tolerance: 963581480250493.4\n",
      "  tol, rng, random, positive)\n",
      "C:\\Users\\goran\\Anaconda3\\envs\\tensor\\lib\\site-packages\\sklearn\\linear_model\\_coordinate_descent.py:527: ConvergenceWarning: Objective did not converge. You might want to increase the number of iterations. Duality gap: 8575069992994816.0, tolerance: 963581480250493.4\n",
      "  tol, rng, random, positive)\n",
      "C:\\Users\\goran\\Anaconda3\\envs\\tensor\\lib\\site-packages\\sklearn\\linear_model\\_coordinate_descent.py:527: ConvergenceWarning: Objective did not converge. You might want to increase the number of iterations. Duality gap: 8598625574100480.0, tolerance: 963581480250493.4\n",
      "  tol, rng, random, positive)\n",
      "C:\\Users\\goran\\Anaconda3\\envs\\tensor\\lib\\site-packages\\sklearn\\linear_model\\_coordinate_descent.py:527: ConvergenceWarning: Objective did not converge. You might want to increase the number of iterations. Duality gap: 8602303636339712.0, tolerance: 963581480250493.4\n",
      "  tol, rng, random, positive)\n",
      "C:\\Users\\goran\\Anaconda3\\envs\\tensor\\lib\\site-packages\\sklearn\\linear_model\\_coordinate_descent.py:527: ConvergenceWarning: Objective did not converge. You might want to increase the number of iterations. Duality gap: 8602592971067392.0, tolerance: 963581480250493.4\n",
      "  tol, rng, random, positive)\n",
      "C:\\Users\\goran\\Anaconda3\\envs\\tensor\\lib\\site-packages\\sklearn\\linear_model\\_coordinate_descent.py:527: ConvergenceWarning: Objective did not converge. You might want to increase the number of iterations. Duality gap: 8602373733696512.0, tolerance: 963581480250493.4\n",
      "  tol, rng, random, positive)\n",
      "C:\\Users\\goran\\Anaconda3\\envs\\tensor\\lib\\site-packages\\sklearn\\linear_model\\_coordinate_descent.py:527: ConvergenceWarning: Objective did not converge. You might want to increase the number of iterations. Duality gap: 8602130841468928.0, tolerance: 963581480250493.4\n",
      "  tol, rng, random, positive)\n",
      "C:\\Users\\goran\\Anaconda3\\envs\\tensor\\lib\\site-packages\\sklearn\\linear_model\\_coordinate_descent.py:527: ConvergenceWarning: Objective did not converge. You might want to increase the number of iterations. Duality gap: 8601933248841216.0, tolerance: 963581480250493.4\n",
      "  tol, rng, random, positive)\n",
      "C:\\Users\\goran\\Anaconda3\\envs\\tensor\\lib\\site-packages\\sklearn\\linear_model\\_coordinate_descent.py:527: ConvergenceWarning: Objective did not converge. You might want to increase the number of iterations. Duality gap: 8601782797072384.0, tolerance: 963581480250493.4\n",
      "  tol, rng, random, positive)\n",
      "C:\\Users\\goran\\Anaconda3\\envs\\tensor\\lib\\site-packages\\sklearn\\linear_model\\_coordinate_descent.py:527: ConvergenceWarning: Objective did not converge. You might want to increase the number of iterations. Duality gap: 8601669079649792.0, tolerance: 963581480250493.4\n",
      "  tol, rng, random, positive)\n",
      "C:\\Users\\goran\\Anaconda3\\envs\\tensor\\lib\\site-packages\\sklearn\\linear_model\\_coordinate_descent.py:527: ConvergenceWarning: Objective did not converge. You might want to increase the number of iterations. Duality gap: 8601581439086592.0, tolerance: 963581480250493.4\n",
      "  tol, rng, random, positive)\n",
      "C:\\Users\\goran\\Anaconda3\\envs\\tensor\\lib\\site-packages\\sklearn\\linear_model\\_coordinate_descent.py:527: ConvergenceWarning: Objective did not converge. You might want to increase the number of iterations. Duality gap: 8601516987917312.0, tolerance: 963581480250493.4\n",
      "  tol, rng, random, positive)\n",
      "C:\\Users\\goran\\Anaconda3\\envs\\tensor\\lib\\site-packages\\sklearn\\linear_model\\_coordinate_descent.py:527: ConvergenceWarning: Objective did not converge. You might want to increase the number of iterations. Duality gap: 8601469092510720.0, tolerance: 963581480250493.4\n",
      "  tol, rng, random, positive)\n",
      "C:\\Users\\goran\\Anaconda3\\envs\\tensor\\lib\\site-packages\\sklearn\\linear_model\\_coordinate_descent.py:527: ConvergenceWarning: Objective did not converge. You might want to increase the number of iterations. Duality gap: 8601429718269952.0, tolerance: 963581480250493.4\n",
      "  tol, rng, random, positive)\n",
      "C:\\Users\\goran\\Anaconda3\\envs\\tensor\\lib\\site-packages\\sklearn\\linear_model\\_coordinate_descent.py:527: ConvergenceWarning: Objective did not converge. You might want to increase the number of iterations. Duality gap: 8601404108311552.0, tolerance: 963581480250493.4\n",
      "  tol, rng, random, positive)\n",
      "C:\\Users\\goran\\Anaconda3\\envs\\tensor\\lib\\site-packages\\sklearn\\linear_model\\_coordinate_descent.py:527: ConvergenceWarning: Objective did not converge. You might want to increase the number of iterations. Duality gap: 8601384476699648.0, tolerance: 963581480250493.4\n",
      "  tol, rng, random, positive)\n",
      "C:\\Users\\goran\\Anaconda3\\envs\\tensor\\lib\\site-packages\\sklearn\\linear_model\\_coordinate_descent.py:527: ConvergenceWarning: Objective did not converge. You might want to increase the number of iterations. Duality gap: 8601369366367232.0, tolerance: 963581480250493.4\n",
      "  tol, rng, random, positive)\n",
      "C:\\Users\\goran\\Anaconda3\\envs\\tensor\\lib\\site-packages\\sklearn\\linear_model\\_coordinate_descent.py:527: ConvergenceWarning: Objective did not converge. You might want to increase the number of iterations. Duality gap: 8601353243001344.0, tolerance: 963581480250493.4\n",
      "  tol, rng, random, positive)\n",
      "C:\\Users\\goran\\Anaconda3\\envs\\tensor\\lib\\site-packages\\sklearn\\linear_model\\_coordinate_descent.py:527: ConvergenceWarning: Objective did not converge. You might want to increase the number of iterations. Duality gap: 8601346838224896.0, tolerance: 963581480250493.4\n",
      "  tol, rng, random, positive)\n",
      "C:\\Users\\goran\\Anaconda3\\envs\\tensor\\lib\\site-packages\\sklearn\\linear_model\\_coordinate_descent.py:527: ConvergenceWarning: Objective did not converge. You might want to increase the number of iterations. Duality gap: 8601324276553728.0, tolerance: 963581480250493.4\n",
      "  tol, rng, random, positive)\n",
      "C:\\Users\\goran\\Anaconda3\\envs\\tensor\\lib\\site-packages\\sklearn\\linear_model\\_coordinate_descent.py:527: ConvergenceWarning: Objective did not converge. You might want to increase the number of iterations. Duality gap: 8601323513874432.0, tolerance: 963581480250493.4\n",
      "  tol, rng, random, positive)\n",
      "C:\\Users\\goran\\Anaconda3\\envs\\tensor\\lib\\site-packages\\sklearn\\linear_model\\_coordinate_descent.py:527: ConvergenceWarning: Objective did not converge. You might want to increase the number of iterations. Duality gap: 8601321197237248.0, tolerance: 963581480250493.4\n",
      "  tol, rng, random, positive)\n",
      "C:\\Users\\goran\\Anaconda3\\envs\\tensor\\lib\\site-packages\\sklearn\\linear_model\\_coordinate_descent.py:527: ConvergenceWarning: Objective did not converge. You might want to increase the number of iterations. Duality gap: 8601341891379200.0, tolerance: 963581480250493.4\n",
      "  tol, rng, random, positive)\n",
      "C:\\Users\\goran\\Anaconda3\\envs\\tensor\\lib\\site-packages\\sklearn\\linear_model\\_coordinate_descent.py:527: ConvergenceWarning: Objective did not converge. You might want to increase the number of iterations. Duality gap: 8601342741128192.0, tolerance: 963581480250493.4\n",
      "  tol, rng, random, positive)\n",
      "C:\\Users\\goran\\Anaconda3\\envs\\tensor\\lib\\site-packages\\sklearn\\linear_model\\_coordinate_descent.py:527: ConvergenceWarning: Objective did not converge. You might want to increase the number of iterations. Duality gap: 8601311826514432.0, tolerance: 963581480250493.4\n",
      "  tol, rng, random, positive)\n",
      "C:\\Users\\goran\\Anaconda3\\envs\\tensor\\lib\\site-packages\\sklearn\\linear_model\\_coordinate_descent.py:527: ConvergenceWarning: Objective did not converge. You might want to increase the number of iterations. Duality gap: 8601363343724544.0, tolerance: 963581480250493.4\n",
      "  tol, rng, random, positive)\n",
      "C:\\Users\\goran\\Anaconda3\\envs\\tensor\\lib\\site-packages\\sklearn\\linear_model\\_coordinate_descent.py:527: ConvergenceWarning: Objective did not converge. You might want to increase the number of iterations. Duality gap: 8601352301923840.0, tolerance: 963581480250493.4\n",
      "  tol, rng, random, positive)\n",
      "C:\\Users\\goran\\Anaconda3\\envs\\tensor\\lib\\site-packages\\sklearn\\linear_model\\_coordinate_descent.py:527: ConvergenceWarning: Objective did not converge. You might want to increase the number of iterations. Duality gap: 8601300966935040.0, tolerance: 963581480250493.4\n",
      "  tol, rng, random, positive)\n",
      "C:\\Users\\goran\\Anaconda3\\envs\\tensor\\lib\\site-packages\\sklearn\\linear_model\\_coordinate_descent.py:527: ConvergenceWarning: Objective did not converge. You might want to increase the number of iterations. Duality gap: 8601402764121088.0, tolerance: 963581480250493.4\n",
      "  tol, rng, random, positive)\n",
      "C:\\Users\\goran\\Anaconda3\\envs\\tensor\\lib\\site-packages\\sklearn\\linear_model\\_coordinate_descent.py:527: ConvergenceWarning: Objective did not converge. You might want to increase the number of iterations. Duality gap: 8601624312079360.0, tolerance: 963581480250493.4\n",
      "  tol, rng, random, positive)\n",
      "C:\\Users\\goran\\Anaconda3\\envs\\tensor\\lib\\site-packages\\sklearn\\linear_model\\_coordinate_descent.py:527: ConvergenceWarning: Objective did not converge. You might want to increase the number of iterations. Duality gap: 8601250493202432.0, tolerance: 963581480250493.4\n",
      "  tol, rng, random, positive)\n",
      "C:\\Users\\goran\\Anaconda3\\envs\\tensor\\lib\\site-packages\\sklearn\\linear_model\\_coordinate_descent.py:527: ConvergenceWarning: Objective did not converge. You might want to increase the number of iterations. Duality gap: 8600780011959296.0, tolerance: 963581480250493.4\n",
      "  tol, rng, random, positive)\n",
      "C:\\Users\\goran\\Anaconda3\\envs\\tensor\\lib\\site-packages\\sklearn\\linear_model\\_coordinate_descent.py:527: ConvergenceWarning: Objective did not converge. You might want to increase the number of iterations. Duality gap: 8601293186989056.0, tolerance: 963581480250493.4\n",
      "  tol, rng, random, positive)\n",
      "C:\\Users\\goran\\Anaconda3\\envs\\tensor\\lib\\site-packages\\sklearn\\linear_model\\_coordinate_descent.py:527: ConvergenceWarning: Objective did not converge. You might want to increase the number of iterations. Duality gap: 8601191722108928.0, tolerance: 963581480250493.4\n",
      "  tol, rng, random, positive)\n",
      "C:\\Users\\goran\\Anaconda3\\envs\\tensor\\lib\\site-packages\\sklearn\\linear_model\\_coordinate_descent.py:527: ConvergenceWarning: Objective did not converge. You might want to increase the number of iterations. Duality gap: 8600541673555968.0, tolerance: 963581480250493.4\n",
      "  tol, rng, random, positive)\n",
      "C:\\Users\\goran\\Anaconda3\\envs\\tensor\\lib\\site-packages\\sklearn\\linear_model\\_coordinate_descent.py:527: ConvergenceWarning: Objective did not converge. You might want to increase the number of iterations. Duality gap: 8601513570383872.0, tolerance: 963581480250493.4\n",
      "  tol, rng, random, positive)\n",
      "C:\\Users\\goran\\Anaconda3\\envs\\tensor\\lib\\site-packages\\sklearn\\linear_model\\_coordinate_descent.py:527: ConvergenceWarning: Objective did not converge. You might want to increase the number of iterations. Duality gap: 8599550447753216.0, tolerance: 963581480250493.4\n",
      "  tol, rng, random, positive)\n",
      "C:\\Users\\goran\\Anaconda3\\envs\\tensor\\lib\\site-packages\\sklearn\\linear_model\\_coordinate_descent.py:527: ConvergenceWarning: Objective did not converge. You might want to increase the number of iterations. Duality gap: 8600129234663424.0, tolerance: 963581480250493.4\n",
      "  tol, rng, random, positive)\n",
      "C:\\Users\\goran\\Anaconda3\\envs\\tensor\\lib\\site-packages\\sklearn\\linear_model\\_coordinate_descent.py:527: ConvergenceWarning: Objective did not converge. You might want to increase the number of iterations. Duality gap: 1.2979935525289318e+17, tolerance: 971729983474725.4\n",
      "  tol, rng, random, positive)\n"
     ]
    },
    {
     "name": "stderr",
     "output_type": "stream",
     "text": [
      "C:\\Users\\goran\\Anaconda3\\envs\\tensor\\lib\\site-packages\\sklearn\\linear_model\\_coordinate_descent.py:527: ConvergenceWarning: Objective did not converge. You might want to increase the number of iterations. Duality gap: 2.2630313639364096e+16, tolerance: 971729983474725.4\n",
      "  tol, rng, random, positive)\n",
      "C:\\Users\\goran\\Anaconda3\\envs\\tensor\\lib\\site-packages\\sklearn\\linear_model\\_coordinate_descent.py:527: ConvergenceWarning: Objective did not converge. You might want to increase the number of iterations. Duality gap: 1.1260320365845504e+16, tolerance: 971729983474725.4\n",
      "  tol, rng, random, positive)\n",
      "C:\\Users\\goran\\Anaconda3\\envs\\tensor\\lib\\site-packages\\sklearn\\linear_model\\_coordinate_descent.py:527: ConvergenceWarning: Objective did not converge. You might want to increase the number of iterations. Duality gap: 9630411758983168.0, tolerance: 971729983474725.4\n",
      "  tol, rng, random, positive)\n",
      "C:\\Users\\goran\\Anaconda3\\envs\\tensor\\lib\\site-packages\\sklearn\\linear_model\\_coordinate_descent.py:527: ConvergenceWarning: Objective did not converge. You might want to increase the number of iterations. Duality gap: 9350662798231552.0, tolerance: 971729983474725.4\n",
      "  tol, rng, random, positive)\n",
      "C:\\Users\\goran\\Anaconda3\\envs\\tensor\\lib\\site-packages\\sklearn\\linear_model\\_coordinate_descent.py:527: ConvergenceWarning: Objective did not converge. You might want to increase the number of iterations. Duality gap: 9294675665086464.0, tolerance: 971729983474725.4\n",
      "  tol, rng, random, positive)\n",
      "C:\\Users\\goran\\Anaconda3\\envs\\tensor\\lib\\site-packages\\sklearn\\linear_model\\_coordinate_descent.py:527: ConvergenceWarning: Objective did not converge. You might want to increase the number of iterations. Duality gap: 9278786591170560.0, tolerance: 971729983474725.4\n",
      "  tol, rng, random, positive)\n",
      "C:\\Users\\goran\\Anaconda3\\envs\\tensor\\lib\\site-packages\\sklearn\\linear_model\\_coordinate_descent.py:527: ConvergenceWarning: Objective did not converge. You might want to increase the number of iterations. Duality gap: 9271307716845568.0, tolerance: 971729983474725.4\n",
      "  tol, rng, random, positive)\n",
      "C:\\Users\\goran\\Anaconda3\\envs\\tensor\\lib\\site-packages\\sklearn\\linear_model\\_coordinate_descent.py:527: ConvergenceWarning: Objective did not converge. You might want to increase the number of iterations. Duality gap: 9266436531381248.0, tolerance: 971729983474725.4\n",
      "  tol, rng, random, positive)\n",
      "C:\\Users\\goran\\Anaconda3\\envs\\tensor\\lib\\site-packages\\sklearn\\linear_model\\_coordinate_descent.py:527: ConvergenceWarning: Objective did not converge. You might want to increase the number of iterations. Duality gap: 9262892776612864.0, tolerance: 971729983474725.4\n",
      "  tol, rng, random, positive)\n",
      "C:\\Users\\goran\\Anaconda3\\envs\\tensor\\lib\\site-packages\\sklearn\\linear_model\\_coordinate_descent.py:527: ConvergenceWarning: Objective did not converge. You might want to increase the number of iterations. Duality gap: 9260241228164096.0, tolerance: 971729983474725.4\n",
      "  tol, rng, random, positive)\n",
      "C:\\Users\\goran\\Anaconda3\\envs\\tensor\\lib\\site-packages\\sklearn\\linear_model\\_coordinate_descent.py:527: ConvergenceWarning: Objective did not converge. You might want to increase the number of iterations. Duality gap: 9258244390517760.0, tolerance: 971729983474725.4\n",
      "  tol, rng, random, positive)\n",
      "C:\\Users\\goran\\Anaconda3\\envs\\tensor\\lib\\site-packages\\sklearn\\linear_model\\_coordinate_descent.py:527: ConvergenceWarning: Objective did not converge. You might want to increase the number of iterations. Duality gap: 9256738496463360.0, tolerance: 971729983474725.4\n",
      "  tol, rng, random, positive)\n",
      "C:\\Users\\goran\\Anaconda3\\envs\\tensor\\lib\\site-packages\\sklearn\\linear_model\\_coordinate_descent.py:527: ConvergenceWarning: Objective did not converge. You might want to increase the number of iterations. Duality gap: 9255602401454592.0, tolerance: 971729983474725.4\n",
      "  tol, rng, random, positive)\n",
      "C:\\Users\\goran\\Anaconda3\\envs\\tensor\\lib\\site-packages\\sklearn\\linear_model\\_coordinate_descent.py:527: ConvergenceWarning: Objective did not converge. You might want to increase the number of iterations. Duality gap: 9254745275532800.0, tolerance: 971729983474725.4\n",
      "  tol, rng, random, positive)\n",
      "C:\\Users\\goran\\Anaconda3\\envs\\tensor\\lib\\site-packages\\sklearn\\linear_model\\_coordinate_descent.py:527: ConvergenceWarning: Objective did not converge. You might want to increase the number of iterations. Duality gap: 9254098605147136.0, tolerance: 971729983474725.4\n",
      "  tol, rng, random, positive)\n",
      "C:\\Users\\goran\\Anaconda3\\envs\\tensor\\lib\\site-packages\\sklearn\\linear_model\\_coordinate_descent.py:527: ConvergenceWarning: Objective did not converge. You might want to increase the number of iterations. Duality gap: 9253611177348608.0, tolerance: 971729983474725.4\n",
      "  tol, rng, random, positive)\n",
      "C:\\Users\\goran\\Anaconda3\\envs\\tensor\\lib\\site-packages\\sklearn\\linear_model\\_coordinate_descent.py:527: ConvergenceWarning: Objective did not converge. You might want to increase the number of iterations. Duality gap: 9253242594484224.0, tolerance: 971729983474725.4\n",
      "  tol, rng, random, positive)\n",
      "C:\\Users\\goran\\Anaconda3\\envs\\tensor\\lib\\site-packages\\sklearn\\linear_model\\_coordinate_descent.py:527: ConvergenceWarning: Objective did not converge. You might want to increase the number of iterations. Duality gap: 9252965746570752.0, tolerance: 971729983474725.4\n",
      "  tol, rng, random, positive)\n",
      "C:\\Users\\goran\\Anaconda3\\envs\\tensor\\lib\\site-packages\\sklearn\\linear_model\\_coordinate_descent.py:527: ConvergenceWarning: Objective did not converge. You might want to increase the number of iterations. Duality gap: 9252756213425152.0, tolerance: 971729983474725.4\n",
      "  tol, rng, random, positive)\n",
      "C:\\Users\\goran\\Anaconda3\\envs\\tensor\\lib\\site-packages\\sklearn\\linear_model\\_coordinate_descent.py:527: ConvergenceWarning: Objective did not converge. You might want to increase the number of iterations. Duality gap: 9252597776979968.0, tolerance: 971729983474725.4\n",
      "  tol, rng, random, positive)\n",
      "C:\\Users\\goran\\Anaconda3\\envs\\tensor\\lib\\site-packages\\sklearn\\linear_model\\_coordinate_descent.py:527: ConvergenceWarning: Objective did not converge. You might want to increase the number of iterations. Duality gap: 9252479367033856.0, tolerance: 971729983474725.4\n",
      "  tol, rng, random, positive)\n",
      "C:\\Users\\goran\\Anaconda3\\envs\\tensor\\lib\\site-packages\\sklearn\\linear_model\\_coordinate_descent.py:527: ConvergenceWarning: Objective did not converge. You might want to increase the number of iterations. Duality gap: 9252389376089088.0, tolerance: 971729983474725.4\n",
      "  tol, rng, random, positive)\n",
      "C:\\Users\\goran\\Anaconda3\\envs\\tensor\\lib\\site-packages\\sklearn\\linear_model\\_coordinate_descent.py:527: ConvergenceWarning: Objective did not converge. You might want to increase the number of iterations. Duality gap: 9252321678106624.0, tolerance: 971729983474725.4\n",
      "  tol, rng, random, positive)\n",
      "C:\\Users\\goran\\Anaconda3\\envs\\tensor\\lib\\site-packages\\sklearn\\linear_model\\_coordinate_descent.py:527: ConvergenceWarning: Objective did not converge. You might want to increase the number of iterations. Duality gap: 9252270424372736.0, tolerance: 971729983474725.4\n",
      "  tol, rng, random, positive)\n",
      "C:\\Users\\goran\\Anaconda3\\envs\\tensor\\lib\\site-packages\\sklearn\\linear_model\\_coordinate_descent.py:527: ConvergenceWarning: Objective did not converge. You might want to increase the number of iterations. Duality gap: 9252230529075200.0, tolerance: 971729983474725.4\n",
      "  tol, rng, random, positive)\n",
      "C:\\Users\\goran\\Anaconda3\\envs\\tensor\\lib\\site-packages\\sklearn\\linear_model\\_coordinate_descent.py:527: ConvergenceWarning: Objective did not converge. You might want to increase the number of iterations. Duality gap: 9252197797499392.0, tolerance: 971729983474725.4\n",
      "  tol, rng, random, positive)\n",
      "C:\\Users\\goran\\Anaconda3\\envs\\tensor\\lib\\site-packages\\sklearn\\linear_model\\_coordinate_descent.py:527: ConvergenceWarning: Objective did not converge. You might want to increase the number of iterations. Duality gap: 9252181617870848.0, tolerance: 971729983474725.4\n",
      "  tol, rng, random, positive)\n",
      "C:\\Users\\goran\\Anaconda3\\envs\\tensor\\lib\\site-packages\\sklearn\\linear_model\\_coordinate_descent.py:527: ConvergenceWarning: Objective did not converge. You might want to increase the number of iterations. Duality gap: 9252168145248256.0, tolerance: 971729983474725.4\n",
      "  tol, rng, random, positive)\n",
      "C:\\Users\\goran\\Anaconda3\\envs\\tensor\\lib\\site-packages\\sklearn\\linear_model\\_coordinate_descent.py:527: ConvergenceWarning: Objective did not converge. You might want to increase the number of iterations. Duality gap: 9252155427176960.0, tolerance: 971729983474725.4\n",
      "  tol, rng, random, positive)\n",
      "C:\\Users\\goran\\Anaconda3\\envs\\tensor\\lib\\site-packages\\sklearn\\linear_model\\_coordinate_descent.py:527: ConvergenceWarning: Objective did not converge. You might want to increase the number of iterations. Duality gap: 9252152133041152.0, tolerance: 971729983474725.4\n",
      "  tol, rng, random, positive)\n",
      "C:\\Users\\goran\\Anaconda3\\envs\\tensor\\lib\\site-packages\\sklearn\\linear_model\\_coordinate_descent.py:527: ConvergenceWarning: Objective did not converge. You might want to increase the number of iterations. Duality gap: 9252131027858432.0, tolerance: 971729983474725.4\n",
      "  tol, rng, random, positive)\n",
      "C:\\Users\\goran\\Anaconda3\\envs\\tensor\\lib\\site-packages\\sklearn\\linear_model\\_coordinate_descent.py:527: ConvergenceWarning: Objective did not converge. You might want to increase the number of iterations. Duality gap: 9252122373061632.0, tolerance: 971729983474725.4\n",
      "  tol, rng, random, positive)\n",
      "C:\\Users\\goran\\Anaconda3\\envs\\tensor\\lib\\site-packages\\sklearn\\linear_model\\_coordinate_descent.py:527: ConvergenceWarning: Objective did not converge. You might want to increase the number of iterations. Duality gap: 9252129769036800.0, tolerance: 971729983474725.4\n",
      "  tol, rng, random, positive)\n",
      "C:\\Users\\goran\\Anaconda3\\envs\\tensor\\lib\\site-packages\\sklearn\\linear_model\\_coordinate_descent.py:527: ConvergenceWarning: Objective did not converge. You might want to increase the number of iterations. Duality gap: 9252105923405824.0, tolerance: 971729983474725.4\n",
      "  tol, rng, random, positive)\n",
      "C:\\Users\\goran\\Anaconda3\\envs\\tensor\\lib\\site-packages\\sklearn\\linear_model\\_coordinate_descent.py:527: ConvergenceWarning: Objective did not converge. You might want to increase the number of iterations. Duality gap: 9252112056384512.0, tolerance: 971729983474725.4\n",
      "  tol, rng, random, positive)\n",
      "C:\\Users\\goran\\Anaconda3\\envs\\tensor\\lib\\site-packages\\sklearn\\linear_model\\_coordinate_descent.py:527: ConvergenceWarning: Objective did not converge. You might want to increase the number of iterations. Duality gap: 9252077843868672.0, tolerance: 971729983474725.4\n",
      "  tol, rng, random, positive)\n",
      "C:\\Users\\goran\\Anaconda3\\envs\\tensor\\lib\\site-packages\\sklearn\\linear_model\\_coordinate_descent.py:527: ConvergenceWarning: Objective did not converge. You might want to increase the number of iterations. Duality gap: 9252014051059712.0, tolerance: 971729983474725.4\n",
      "  tol, rng, random, positive)\n",
      "C:\\Users\\goran\\Anaconda3\\envs\\tensor\\lib\\site-packages\\sklearn\\linear_model\\_coordinate_descent.py:527: ConvergenceWarning: Objective did not converge. You might want to increase the number of iterations. Duality gap: 9252007468355584.0, tolerance: 971729983474725.4\n",
      "  tol, rng, random, positive)\n",
      "C:\\Users\\goran\\Anaconda3\\envs\\tensor\\lib\\site-packages\\sklearn\\linear_model\\_coordinate_descent.py:527: ConvergenceWarning: Objective did not converge. You might want to increase the number of iterations. Duality gap: 9252101966574592.0, tolerance: 971729983474725.4\n",
      "  tol, rng, random, positive)\n",
      "C:\\Users\\goran\\Anaconda3\\envs\\tensor\\lib\\site-packages\\sklearn\\linear_model\\_coordinate_descent.py:527: ConvergenceWarning: Objective did not converge. You might want to increase the number of iterations. Duality gap: 9252306613850112.0, tolerance: 971729983474725.4\n",
      "  tol, rng, random, positive)\n",
      "C:\\Users\\goran\\Anaconda3\\envs\\tensor\\lib\\site-packages\\sklearn\\linear_model\\_coordinate_descent.py:527: ConvergenceWarning: Objective did not converge. You might want to increase the number of iterations. Duality gap: 9251842605999616.0, tolerance: 971729983474725.4\n",
      "  tol, rng, random, positive)\n",
      "C:\\Users\\goran\\Anaconda3\\envs\\tensor\\lib\\site-packages\\sklearn\\linear_model\\_coordinate_descent.py:527: ConvergenceWarning: Objective did not converge. You might want to increase the number of iterations. Duality gap: 9252049465680896.0, tolerance: 971729983474725.4\n",
      "  tol, rng, random, positive)\n",
      "C:\\Users\\goran\\Anaconda3\\envs\\tensor\\lib\\site-packages\\sklearn\\linear_model\\_coordinate_descent.py:527: ConvergenceWarning: Objective did not converge. You might want to increase the number of iterations. Duality gap: 9252556648749056.0, tolerance: 971729983474725.4\n",
      "  tol, rng, random, positive)\n",
      "C:\\Users\\goran\\Anaconda3\\envs\\tensor\\lib\\site-packages\\sklearn\\linear_model\\_coordinate_descent.py:527: ConvergenceWarning: Objective did not converge. You might want to increase the number of iterations. Duality gap: 9252516313359360.0, tolerance: 971729983474725.4\n",
      "  tol, rng, random, positive)\n",
      "C:\\Users\\goran\\Anaconda3\\envs\\tensor\\lib\\site-packages\\sklearn\\linear_model\\_coordinate_descent.py:527: ConvergenceWarning: Objective did not converge. You might want to increase the number of iterations. Duality gap: 9252110169232896.0, tolerance: 971729983474725.4\n",
      "  tol, rng, random, positive)\n",
      "C:\\Users\\goran\\Anaconda3\\envs\\tensor\\lib\\site-packages\\sklearn\\linear_model\\_coordinate_descent.py:527: ConvergenceWarning: Objective did not converge. You might want to increase the number of iterations. Duality gap: 9251749023290368.0, tolerance: 971729983474725.4\n",
      "  tol, rng, random, positive)\n",
      "C:\\Users\\goran\\Anaconda3\\envs\\tensor\\lib\\site-packages\\sklearn\\linear_model\\_coordinate_descent.py:527: ConvergenceWarning: Objective did not converge. You might want to increase the number of iterations. Duality gap: 9252120339221504.0, tolerance: 971729983474725.4\n",
      "  tol, rng, random, positive)\n",
      "C:\\Users\\goran\\Anaconda3\\envs\\tensor\\lib\\site-packages\\sklearn\\linear_model\\_coordinate_descent.py:527: ConvergenceWarning: Objective did not converge. You might want to increase the number of iterations. Duality gap: 9252195808039424.0, tolerance: 971729983474725.4\n",
      "  tol, rng, random, positive)\n",
      "C:\\Users\\goran\\Anaconda3\\envs\\tensor\\lib\\site-packages\\sklearn\\linear_model\\_coordinate_descent.py:527: ConvergenceWarning: Objective did not converge. You might want to increase the number of iterations. Duality gap: 9254880022927872.0, tolerance: 971729983474725.4\n",
      "  tol, rng, random, positive)\n"
     ]
    }
   ],
   "source": [
    "from sklearn.linear_model import LassoCV\n",
    "from sklearn.linear_model import Lasso\n",
    "alphas = np.logspace(-3, 3, num=50) # 10^-3 ~ 10^3 \n",
    "lassocv = LassoCV(alphas = alphas, cv=5)\n",
    "# 위 ridge 때와 동일\n",
    "lassocv.fit(X_train, y_train) ;"
   ]
  },
  {
   "cell_type": "markdown",
   "metadata": {},
   "source": [
    "## 모델 평가"
   ]
  },
  {
   "cell_type": "code",
   "execution_count": 35,
   "metadata": {},
   "outputs": [
    {
     "name": "stdout",
     "output_type": "stream",
     "text": [
      "MSE : (array([[ 5508000],\n",
      "       [26447000],\n",
      "       [16785000],\n",
      "       ...,\n",
      "       [ 8275000],\n",
      "       [28690000],\n",
      "       [51089000]], dtype=int64), array([ 5712565.19144358, 48616414.08755106, 20758448.09999381, ...,\n",
      "        4352701.199998  , 46885034.34653322, 45299512.54233735]))\n",
      "R_squared : 0.5354216741299076\n"
     ]
    }
   ],
   "source": [
    "from sklearn import metrics\n",
    "predicted = lassocv.predict(X_test) \n",
    "\n",
    "print (\"MSE :\", (y_test, predicted))\n",
    "print('R_squared :',lassocv.score(X_test, y_test)) # C-V 로 찾은 최적의 ridge 로 계산한 R^2"
   ]
  },
  {
   "cell_type": "markdown",
   "metadata": {},
   "source": [
    "## 변수 중요도"
   ]
  },
  {
   "cell_type": "code",
   "execution_count": 173,
   "metadata": {
    "scrolled": false
   },
   "outputs": [
    {
     "data": {
      "text/plain": [
       "Text(0.5, 1.0, 'Coefficients in the Model')"
      ]
     },
     "execution_count": 173,
     "metadata": {},
     "output_type": "execute_result"
    },
    {
     "data": {
      "image/png": "[encoded data removed]",
      "text/plain": [
       "<Figure size 432x288 with 1 Axes>"
      ]
     },
     "metadata": {
      "needs_background": "light"
     },
     "output_type": "display_data"
    }
   ],
   "source": [
    "coef = pd.Series(lassocv.coef_, index = X_train.columns).sort_values()\n",
    "imp_coef = pd.concat([coef.head(5), coef.tail(5)])\n",
    "imp_coef.plot(kind = \"barh\")\n",
    "plt.title(\"Coefficients in the Model\")"
   ]
  },
  {
   "cell_type": "markdown",
   "metadata": {},
   "source": [
    "# K-Neighbors Regression"
   ]
  },
  {
   "cell_type": "markdown",
   "metadata": {},
   "source": [
    "## 모델 세우기"
   ]
  },
  {
   "cell_type": "code",
   "execution_count": 10,
   "metadata": {},
   "outputs": [
    {
     "data": {
      "text/plain": [
       "GridSearchCV(cv=5, estimator=KNeighborsRegressor(),\n",
       "             param_grid={'n_neighbors': array([1, 2, 3, 4, 5, 6, 7, 8, 9])})"
      ]
     },
     "execution_count": 10,
     "metadata": {},
     "output_type": "execute_result"
    }
   ],
   "source": [
    "from sklearn.neighbors import KNeighborsRegressor\n",
    "from sklearn.model_selection import GridSearchCV\n",
    "model = KNeighborsRegressor() \n",
    "param_grid ={'n_neighbors' : np.arange(1,10)}\n",
    "model = GridSearchCV(model,param_grid,cv=5)\n",
    "model.fit(X_train,y_train)"
   ]
  },
  {
   "cell_type": "code",
   "execution_count": 12,
   "metadata": {},
   "outputs": [
    {
     "name": "stdout",
     "output_type": "stream",
     "text": [
      "{'n_neighbors': 9}\n",
      "0.07674181821732702\n"
     ]
    }
   ],
   "source": [
    "print(model.best_params_) # 우리가 추정한 best parameter\n",
    "print(model.best_score_) # 우리가 지정한 scoring 에 기반한 제일 좋은 score"
   ]
  },
  {
   "cell_type": "markdown",
   "metadata": {},
   "source": [
    "## 모델 평가"
   ]
  },
  {
   "cell_type": "code",
   "execution_count": 14,
   "metadata": {},
   "outputs": [
    {
     "name": "stdout",
     "output_type": "stream",
     "text": [
      "MSE : 10.361920123323124\n",
      "R squared : 0.03871893003945159\n"
     ]
    }
   ],
   "source": [
    "y_pred = model.predict(X_test)\n",
    "print (\"MSE :\", metrics.mean_squared_error(y_test, y_pred))\n",
    "print(\"R squared :\", metrics.r2_score(y_test, y_pred))"
   ]
  },
  {
   "cell_type": "markdown",
   "metadata": {},
   "source": [
    "#  DecisionTree Regression"
   ]
  },
  {
   "cell_type": "markdown",
   "metadata": {},
   "source": [
    "## 모델 세우기"
   ]
  },
  {
   "cell_type": "code",
   "execution_count": 28,
   "metadata": {},
   "outputs": [
    {
     "name": "stdout",
     "output_type": "stream",
     "text": [
      "{'max_depth': 3}\n",
      "0.1642263297785934\n"
     ]
    }
   ],
   "source": [
    "# hyper parameter 추정하기\n",
    "from sklearn.tree import DecisionTreeRegressor\n",
    "from sklearn.model_selection import GridSearchCV\n",
    "\n",
    "model = DecisionTreeRegressor(min_samples_split=50) \n",
    "param_grid ={'max_depth' : np.arange(1,10)}\n",
    "grid_search = GridSearchCV(model,param_grid,cv=5)\n",
    "# scoring 은 default 이므로 model 의 자체 scoring 으로 들어간다. \n",
    "grid_search.fit(X_train,y_train)\n",
    "print(grid_search.best_params_) # 우리가 추정한 best parameter\n",
    "print(grid_search.best_score_) # 우리가 지정한 scoring 에 기반한 제일 좋은 score"
   ]
  },
  {
   "cell_type": "code",
   "execution_count": 169,
   "metadata": {},
   "outputs": [
    {
     "data": {
      "text/plain": [
       "DecisionTreeRegressor(max_depth=3, min_samples_split=50)"
      ]
     },
     "execution_count": 169,
     "metadata": {},
     "output_type": "execute_result"
    }
   ],
   "source": [
    "# 위에서 구한 최상의 parameter 로 추정하기\n",
    "model = DecisionTreeRegressor(max_depth=3,min_samples_split=50)\n",
    "model.fit(X_train, y_train)"
   ]
  },
  {
   "cell_type": "markdown",
   "metadata": {},
   "source": [
    "## 모델 평가"
   ]
  },
  {
   "cell_type": "code",
   "execution_count": 171,
   "metadata": {
    "scrolled": false
   },
   "outputs": [
    {
     "name": "stdout",
     "output_type": "stream",
     "text": [
      "MSE : 10.167059541425553\n",
      "R squared : 0.05679625416763223\n"
     ]
    }
   ],
   "source": [
    "y_pred = model.predict(X_test)\n",
    "print (\"MSE :\", metrics.mean_squared_error(y_test, y_pred))\n",
    "print(\"R squared :\", metrics.r2_score(y_test, y_pred))"
   ]
  },
  {
   "cell_type": "markdown",
   "metadata": {},
   "source": [
    "## 변수 중요도"
   ]
  },
  {
   "cell_type": "code",
   "execution_count": 174,
   "metadata": {
    "scrolled": false
   },
   "outputs": [
    {
     "data": {
      "text/plain": [
       "<matplotlib.axes._subplots.AxesSubplot at 0x23a3ff44668>"
      ]
     },
     "execution_count": 174,
     "metadata": {},
     "output_type": "execute_result"
    },
    {
     "data": {
      "image/png": "[encoded data removed]",
      "text/plain": [
       "<Figure size 432x288 with 1 Axes>"
      ]
     },
     "metadata": {
      "needs_background": "light"
     },
     "output_type": "display_data"
    }
   ],
   "source": [
    "feat_importances = pd.Series(model.feature_importances_, index=X.columns)\n",
    "feat_importances.nlargest(10).plot(kind='barh')"
   ]
  },
  {
   "cell_type": "markdown",
   "metadata": {},
   "source": [
    "# RandomForest Regressoion"
   ]
  },
  {
   "cell_type": "markdown",
   "metadata": {},
   "source": [
    "## 모델 세우기"
   ]
  },
  {
   "cell_type": "code",
   "execution_count": 175,
   "metadata": {},
   "outputs": [
    {
     "data": {
      "text/plain": [
       "RandomForestRegressor(min_samples_split=50, oob_score=True)"
      ]
     },
     "execution_count": 175,
     "metadata": {},
     "output_type": "execute_result"
    }
   ],
   "source": [
    "from sklearn.ensemble import RandomForestRegressor\n",
    "model =  RandomForestRegressor(n_estimators=100,min_samples_split=50,oob_score = True)\n",
    "model.fit(X_train,y_train)"
   ]
  },
  {
   "cell_type": "markdown",
   "metadata": {},
   "source": [
    "## 모델 평가"
   ]
  },
  {
   "cell_type": "code",
   "execution_count": 176,
   "metadata": {
    "scrolled": true
   },
   "outputs": [
    {
     "name": "stdout",
     "output_type": "stream",
     "text": [
      "MSE : 9.122743345930665\n",
      "R_squared : 0.15367804613617586\n"
     ]
    }
   ],
   "source": [
    "y_pred = model.predict(X_test)\n",
    "print (\"MSE :\", metrics.mean_squared_error(y_test, y_pred))\n",
    "print('R_squared :',model.score(X_test, y_test)) "
   ]
  },
  {
   "cell_type": "markdown",
   "metadata": {},
   "source": [
    "## 변수 중요도"
   ]
  },
  {
   "cell_type": "code",
   "execution_count": 177,
   "metadata": {
    "scrolled": true
   },
   "outputs": [
    {
     "data": {
      "text/plain": [
       "<matplotlib.axes._subplots.AxesSubplot at 0x23a412d5a20>"
      ]
     },
     "execution_count": 177,
     "metadata": {},
     "output_type": "execute_result"
    },
    {
     "data": {
      "image/png": "[encoded data removed]",
      "text/plain": [
       "<Figure size 432x288 with 1 Axes>"
      ]
     },
     "metadata": {
      "needs_background": "light"
     },
     "output_type": "display_data"
    }
   ],
   "source": [
    "feat_importances = pd.Series(model.feature_importances_, index=X.columns)\n",
    "feat_importances.nlargest(10).plot(kind='barh')"
   ]
  },
  {
   "cell_type": "markdown",
   "metadata": {},
   "source": [
    "# Gradient Boosting resgressoion"
   ]
  },
  {
   "cell_type": "markdown",
   "metadata": {},
   "source": [
    "## 모델 세우기"
   ]
  },
  {
   "cell_type": "code",
   "execution_count": 185,
   "metadata": {
    "scrolled": true
   },
   "outputs": [
    {
     "data": {
      "text/plain": [
       "GradientBoostingRegressor(random_state=42)"
      ]
     },
     "execution_count": 185,
     "metadata": {},
     "output_type": "execute_result"
    }
   ],
   "source": [
    "from sklearn.ensemble import GradientBoostingRegressor\n",
    "model = GradientBoostingRegressor(n_estimators=100, learning_rate=0.1, random_state=42)\n",
    "model.fit(X_train, y_train)"
   ]
  },
  {
   "cell_type": "markdown",
   "metadata": {},
   "source": [
    "## 모델 평가"
   ]
  },
  {
   "cell_type": "code",
   "execution_count": 183,
   "metadata": {
    "scrolled": true
   },
   "outputs": [
    {
     "name": "stdout",
     "output_type": "stream",
     "text": [
      "MSE : 9.20309670520304\n",
      "R_squared : 0.14622362048369353\n"
     ]
    }
   ],
   "source": [
    "y_pred = model.predict(X_test)\n",
    "print (\"MSE :\", metrics.mean_squared_error(y_test, y_pred))\n",
    "print('R_squared :',model.score(X_test, y_test)) "
   ]
  },
  {
   "cell_type": "markdown",
   "metadata": {},
   "source": [
    "## 변수 중요도"
   ]
  },
  {
   "cell_type": "code",
   "execution_count": 184,
   "metadata": {
    "scrolled": true
   },
   "outputs": [
    {
     "data": {
      "text/plain": [
       "<matplotlib.axes._subplots.AxesSubplot at 0x23a413a5048>"
      ]
     },
     "execution_count": 184,
     "metadata": {},
     "output_type": "execute_result"
    },
    {
     "data": {
      "image/png": "[encoded data removed]",
      "text/plain": [
       "<Figure size 432x288 with 1 Axes>"
      ]
     },
     "metadata": {
      "needs_background": "light"
     },
     "output_type": "display_data"
    }
   ],
   "source": [
    "feat_importances = pd.Series(model.feature_importances_, index=X.columns)\n",
    "feat_importances.nlargest(10).plot(kind='barh')"
   ]
  },
  {
   "cell_type": "markdown",
   "metadata": {},
   "source": [
    "# AdaBoosting Regression"
   ]
  },
  {
   "cell_type": "markdown",
   "metadata": {},
   "source": [
    "## 모델 세우기"
   ]
  },
  {
   "cell_type": "code",
   "execution_count": 190,
   "metadata": {},
   "outputs": [
    {
     "data": {
      "text/plain": [
       "AdaBoostRegressor(learning_rate=0.1, n_estimators=100, random_state=42)"
      ]
     },
     "execution_count": 190,
     "metadata": {},
     "output_type": "execute_result"
    }
   ],
   "source": [
    "from sklearn.ensemble import AdaBoostRegressor\n",
    "model =AdaBoostRegressor(n_estimators=100, learning_rate=0.1, random_state=42)\n",
    "model.fit(X_train, y_train)"
   ]
  },
  {
   "cell_type": "markdown",
   "metadata": {},
   "source": [
    "## 모델 평가"
   ]
  },
  {
   "cell_type": "code",
   "execution_count": 191,
   "metadata": {},
   "outputs": [
    {
     "name": "stdout",
     "output_type": "stream",
     "text": [
      "MSE : 9.162934119354837\n",
      "R_squared : 0.14994952582141596\n"
     ]
    }
   ],
   "source": [
    "y_pred = model.predict(X_test)\n",
    "print (\"MSE :\", metrics.mean_squared_error(y_test, y_pred))\n",
    "print('R_squared :',model.score(X_test, y_test)) "
   ]
  },
  {
   "cell_type": "markdown",
   "metadata": {},
   "source": [
    "## 변수 중요도"
   ]
  },
  {
   "cell_type": "code",
   "execution_count": 192,
   "metadata": {
    "scrolled": false
   },
   "outputs": [
    {
     "data": {
      "text/plain": [
       "<matplotlib.axes._subplots.AxesSubplot at 0x23a41438128>"
      ]
     },
     "execution_count": 192,
     "metadata": {},
     "output_type": "execute_result"
    },
    {
     "data": {
      "image/png": "[encoded data removed]",
      "text/plain": [
       "<Figure size 432x288 with 1 Axes>"
      ]
     },
     "metadata": {
      "needs_background": "light"
     },
     "output_type": "display_data"
    }
   ],
   "source": [
    "feat_importances = pd.Series(model.feature_importances_, index=X.columns)\n",
    "feat_importances.nlargest(10).plot(kind='barh')"
   ]
  },
  {
   "cell_type": "markdown",
   "metadata": {},
   "source": [
    " # xgboost Regression"
   ]
  },
  {
   "cell_type": "markdown",
   "metadata": {},
   "source": [
    "## 모델 세우기"
   ]
  },
  {
   "cell_type": "code",
   "execution_count": 1,
   "metadata": {
    "scrolled": true
   },
   "outputs": [
    {
     "ename": "NameError",
     "evalue": "name 'X_train' is not defined",
     "output_type": "error",
     "traceback": [
      "\u001b[1;31m---------------------------------------------------------------------------\u001b[0m",
      "\u001b[1;31mNameError\u001b[0m                                 Traceback (most recent call last)",
      "\u001b[1;32m<ipython-input-1-cce5e3a8503d>\u001b[0m in \u001b[0;36m<module>\u001b[1;34m\u001b[0m\n\u001b[0;32m      2\u001b[0m \u001b[1;32mfrom\u001b[0m \u001b[0mxgboost\u001b[0m\u001b[1;33m.\u001b[0m\u001b[0msklearn\u001b[0m \u001b[1;32mimport\u001b[0m \u001b[0mXGBRegressor\u001b[0m\u001b[1;33m\u001b[0m\u001b[1;33m\u001b[0m\u001b[0m\n\u001b[0;32m      3\u001b[0m \u001b[0mmodel\u001b[0m \u001b[1;33m=\u001b[0m \u001b[0mXGBRegressor\u001b[0m\u001b[1;33m(\u001b[0m\u001b[0mn_estimators\u001b[0m\u001b[1;33m=\u001b[0m\u001b[1;36m100\u001b[0m\u001b[1;33m,\u001b[0m \u001b[0mlearning_rate\u001b[0m\u001b[1;33m=\u001b[0m\u001b[1;36m0.08\u001b[0m\u001b[1;33m,\u001b[0m\u001b[0mmax_depth\u001b[0m\u001b[1;33m=\u001b[0m\u001b[1;36m3\u001b[0m\u001b[1;33m,\u001b[0m\u001b[0mreg_alpha\u001b[0m\u001b[1;33m=\u001b[0m\u001b[1;36m1\u001b[0m\u001b[1;33m)\u001b[0m\u001b[1;33m\u001b[0m\u001b[1;33m\u001b[0m\u001b[0m\n\u001b[1;32m----> 4\u001b[1;33m \u001b[0mmodel\u001b[0m\u001b[1;33m.\u001b[0m\u001b[0mfit\u001b[0m\u001b[1;33m(\u001b[0m\u001b[0mX_train\u001b[0m\u001b[1;33m,\u001b[0m \u001b[0my_train\u001b[0m\u001b[1;33m)\u001b[0m\u001b[1;33m\u001b[0m\u001b[1;33m\u001b[0m\u001b[0m\n\u001b[0m",
      "\u001b[1;31mNameError\u001b[0m: name 'X_train' is not defined"
     ]
    }
   ],
   "source": [
    "import xgboost as xgb\n",
    "from xgboost.sklearn import XGBRegressor\n",
    "model = XGBRegressor(n_estimators=100, learning_rate=0.08,max_depth=3,reg_alpha=1)\n",
    "model.fit(X_train, y_train)"
   ]
  },
  {
   "cell_type": "markdown",
   "metadata": {},
   "source": [
    "## 모델 평가"
   ]
  },
  {
   "cell_type": "code",
   "execution_count": 47,
   "metadata": {
    "scrolled": true
   },
   "outputs": [
    {
     "name": "stdout",
     "output_type": "stream",
     "text": [
      "MSE : 9.123864862015253\n",
      "R_squared : 0.15357400246773023\n"
     ]
    }
   ],
   "source": [
    "from sklearn import metrics\n",
    "y_pred = model.predict(X_test)\n",
    "print (\"MSE :\", metrics.mean_squared_error(y_test, y_pred))\n",
    "print('R_squared :',model.score(X_test, y_test)) "
   ]
  },
  {
   "cell_type": "markdown",
   "metadata": {},
   "source": [
    "## 변수 중요도"
   ]
  },
  {
   "cell_type": "code",
   "execution_count": 48,
   "metadata": {
    "scrolled": false
   },
   "outputs": [
    {
     "data": {
      "text/plain": [
       "<matplotlib.axes._subplots.AxesSubplot at 0x1736184c6a0>"
      ]
     },
     "execution_count": 48,
     "metadata": {},
     "output_type": "execute_result"
    },
    {
     "data": {
      "image/png": "[encoded data removed]",
      "text/plain": [
       "<Figure size 432x288 with 1 Axes>"
      ]
     },
     "metadata": {
      "needs_background": "light"
     },
     "output_type": "display_data"
    }
   ],
   "source": [
    "feat_importances = pd.Series(model.feature_importances_, index=X.columns)\n",
    "feat_importances.nlargest(10).plot(kind='barh')"
   ]
  },
  {
   "cell_type": "markdown",
   "metadata": {},
   "source": [
    "# SVR regression"
   ]
  },
  {
   "cell_type": "markdown",
   "metadata": {},
   "source": [
    "## 모델 세우기"
   ]
  },
  {
   "cell_type": "code",
   "execution_count": null,
   "metadata": {},
   "outputs": [],
   "source": [
    "from sklearn.svm import SVR\n",
    "from sklearn.model_selection import GridSearchCV \n",
    "SVR = SVR()\n",
    "# gridsearch 로 최적의 parameter 를 고르자.\n",
    "param_grid = {'C': [0.1, 1, 10, 100, 1000],  \n",
    "              'gamma': [1, 0.1, 0.01, 0.001, 0.0001], \n",
    "              'kernel': ['rbf','linear','poly']}  \n",
    "model = GridSearchCV(SVR, param_grid) \n",
    "\n",
    "# fitting the model for grid search \n",
    "model.fit(X_train, y_train) "
   ]
  },
  {
   "cell_type": "code",
   "execution_count": 65,
   "metadata": {},
   "outputs": [
    {
     "data": {
      "text/plain": [
       "{'C': 100, 'gamma': 1, 'kernel': 'rbf'}"
      ]
     },
     "execution_count": 65,
     "metadata": {},
     "output_type": "execute_result"
    }
   ],
   "source": [
    "# 모델은 어떤 경우에 최고 좋았는가?\n",
    "model.best_params_"
   ]
  },
  {
   "cell_type": "markdown",
   "metadata": {},
   "source": [
    "## 모델 평가"
   ]
  },
  {
   "cell_type": "code",
   "execution_count": 66,
   "metadata": {},
   "outputs": [
    {
     "name": "stdout",
     "output_type": "stream",
     "text": [
      "MSE : 8.79871044038635\n",
      "R_squared : 0.2010870121689774\n"
     ]
    }
   ],
   "source": [
    "from sklearn import metrics\n",
    "y_pred = svr_rbf.predict(X_test)\n",
    "print (\"MSE :\", metrics.mean_squared_error(y_test, y_pred))\n",
    "print('R_squared :',model.score(X_test, y_test)) "
   ]
  }
 ],
 "metadata": {
  "kernelspec": {
   "display_name": "Python 3",
   "language": "python",
   "name": "python3"
  },
  "language_info": {
   "codemirror_mode": {
    "name": "ipython",
    "version": 3
   },
   "file_extension": ".py",
   "mimetype": "text/x-python",
   "name": "python",
   "nbconvert_exporter": "python",
   "pygments_lexer": "ipython3",
   "version": "3.7.4"
  },
  "toc": {
   "base_numbering": 1,
   "nav_menu": {},
   "number_sections": true,
   "sideBar": true,
   "skip_h1_title": false,
   "title_cell": "Table of Contents",
   "title_sidebar": "Contents",
   "toc_cell": false,
   "toc_position": {
    "height": "calc(100% - 180px)",
    "left": "10px",
    "top": "150px",
    "width": "307.182px"
   },
   "toc_section_display": true,
   "toc_window_display": true
  },
  "varInspector": {
   "cols": {
    "lenName": 16,
    "lenType": 16,
    "lenVar": 40
   },
   "kernels_config": {
    "python": {
     "delete_cmd_postfix": "",
     "delete_cmd_prefix": "del ",
     "library": "var_list.py",
     "varRefreshCmd": "print(var_dic_list())"
    },
    "r": {
     "delete_cmd_postfix": ") ",
     "delete_cmd_prefix": "rm(",
     "library": "var_list.r",
     "varRefreshCmd": "cat(var_dic_list()) "
    }
   },
   "types_to_exclude": [
    "module",
    "function",
    "builtin_function_or_method",
    "instance",
    "_Feature"
   ],
   "window_display": false
  }
 },
 "nbformat": 4,
 "nbformat_minor": 2
}
