{
 "cells": [
  {
   "cell_type": "code",
   "execution_count": 1,
   "metadata": {},
   "outputs": [],
   "source": [
    "import pandas as pd"
   ]
  },
  {
   "cell_type": "code",
   "execution_count": 2,
   "metadata": {},
   "outputs": [],
   "source": [
    "# 여러분의 폴더가 저장되어있는 위치 경로를 써 주세요\n",
    "# 그리고 데이터파일(주최측에서 제공한) 의 이름을 Train set 으로 변셩해 주세요\n",
    "# 한인욱 directory = 'C:/Users/goran/Desktop/Git_Hub/Project/20S_Bigcon'\n",
    "# 김정현 directory = 'C:/Users/Coby/Desktop/20S_Bigcon/20S_Bigcon'\n",
    "# 신예진 directory = 'C:/Users/Rstudio/Desktop/Bigcon2020/20S_Bigcon'\n",
    "# 이규민 directory = 'C:/Statistics/20S_Bigcon'\n",
    "# 최정욱 directory = 'C:/Users/lg/Desktop/Bigcon2020'\n",
    "directory = 'C:/Users/goran/Desktop/Python/Project/20S_Bigcon/Analysis'"
   ]
  },
  {
   "cell_type": "code",
   "execution_count": 32,
   "metadata": {},
   "outputs": [],
   "source": [
    "X_df=pd.read_excel(directory+'/X_processed.xlsx') "
   ]
  },
  {
   "cell_type": "code",
   "execution_count": 33,
   "metadata": {},
   "outputs": [],
   "source": [
    "X = X_df.copy()"
   ]
  },
  {
   "cell_type": "code",
   "execution_count": 34,
   "metadata": {},
   "outputs": [],
   "source": [
    "X.drop(columns=['Unnamed: 0'],inplace=True)"
   ]
  },
  {
   "cell_type": "code",
   "execution_count": 35,
   "metadata": {},
   "outputs": [],
   "source": [
    "# target data\n",
    "y=X['취급액']"
   ]
  },
  {
   "cell_type": "code",
   "execution_count": 36,
   "metadata": {},
   "outputs": [],
   "source": [
    "# X_train data\n",
    "X.drop(columns = ['취급액'],inplace=True)"
   ]
  },
  {
   "cell_type": "code",
   "execution_count": 37,
   "metadata": {},
   "outputs": [],
   "source": [
    "X.drop(columns = ['방송일시','마더코드','상품코드','상품명','요일/시간','년','월','일','시분','날짜'],inplace = True)"
   ]
  },
  {
   "cell_type": "code",
   "execution_count": 39,
   "metadata": {},
   "outputs": [
    {
     "data": {
      "text/plain": [
       "Index(['노출(분)', '상품군', '판매단가', '평균방송분', '겹치는수', '시각', '점심', '저녁', '강수량(mm)',\n",
       "       '평균기온(℃)', '최저기온(℃)', '최고기온(℃)', '연예인', '월급날', '휴일', '상품군power', 'CPI',\n",
       "       'CSI', 'RS', '20분당당일평균시청률', '일평균시청률', '20분당일년평균시청률', 'PrimeTime',\n",
       "       '남성상품', '여성상품', '무이자', '일시불', '유명기업/브랜드'],\n",
       "      dtype='object')"
      ]
     },
     "execution_count": 39,
     "metadata": {},
     "output_type": "execute_result"
    }
   ],
   "source": [
    "X.columns"
   ]
  },
  {
   "cell_type": "code",
   "execution_count": null,
   "metadata": {},
   "outputs": [],
   "source": []
  },
  {
   "cell_type": "code",
   "execution_count": null,
   "metadata": {},
   "outputs": [],
   "source": []
  }
 ],
 "metadata": {
  "kernelspec": {
   "display_name": "Python 3",
   "language": "python",
   "name": "python3"
  },
  "language_info": {
   "codemirror_mode": {
    "name": "ipython",
    "version": 3
   },
   "file_extension": ".py",
   "mimetype": "text/x-python",
   "name": "python",
   "nbconvert_exporter": "python",
   "pygments_lexer": "ipython3",
   "version": "3.7.4"
  },
  "toc": {
   "base_numbering": 1,
   "nav_menu": {},
   "number_sections": true,
   "sideBar": true,
   "skip_h1_title": false,
   "title_cell": "Table of Contents",
   "title_sidebar": "Contents",
   "toc_cell": false,
   "toc_position": {
    "height": "calc(100% - 180px)",
    "left": "10px",
    "top": "150px",
    "width": "256.563px"
   },
   "toc_section_display": true,
   "toc_window_display": true
  }
 },
 "nbformat": 4,
 "nbformat_minor": 4
}
