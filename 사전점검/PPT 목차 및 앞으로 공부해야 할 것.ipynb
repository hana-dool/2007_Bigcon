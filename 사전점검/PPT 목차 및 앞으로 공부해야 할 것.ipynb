{
 "cells": [
  {
   "cell_type": "markdown",
   "metadata": {},
   "source": [
    "### 알아봐야 할 것\n",
    "1. 상품군 별 상이한 모델 돌리고 합치는 방법 가능한지  \n",
    "2. 가능하지 않다면 주최측에 이것을 어떻게 해명?할 것인지\n",
    "    * ex) classificaiton을 통해 threshold를 다르게 줬다 등..\n",
    "3. 코로나 대체 어떻게 하면 좋을지..\n",
    "4. LIME함수 공부"
   ]
  },
  {
   "cell_type": "markdown",
   "metadata": {},
   "source": [
    "# PPT 순서 및 모델링 tip"
   ]
  },
  {
   "cell_type": "markdown",
   "metadata": {},
   "source": [
    "## 1. 분석목표"
   ]
  },
  {
   "cell_type": "markdown",
   "metadata": {},
   "source": [
    "분석 목표: 2019년 주어진 홈쇼핑 데이터로 2020년 6월 홈쇼핑의 취급액 예측"
   ]
  },
  {
   "cell_type": "markdown",
   "metadata": {},
   "source": [
    "## 2. EDA"
   ]
  },
  {
   "cell_type": "markdown",
   "metadata": {},
   "source": [
    "상품에 대한 정보(X feature)가 너무 적다고 판단되어 데이터를 전체적으로 살펴보기 전에 홈쇼핑 취급액과 관련이 있다고 판단되는 외부데이터들을 추가해주었다.  \n",
    "- 기존 변수들(EDA방법 및 만든 이유)\n",
    "- 외부 데이터 변수(EDA방법 및 만든 이유)"
   ]
  },
  {
   "cell_type": "markdown",
   "metadata": {},
   "source": [
    "## 3. 문제정의"
   ]
  },
  {
   "cell_type": "markdown",
   "metadata": {},
   "source": [
    "1. 11개(무형상품군 제외)의 상이한 상품군\n",
    "    * 각 상품군 간 차이 및 test와 train set의 차이 확인\n",
    "        * train set 내의 상품군의 빈도는 어떤가?\n",
    "        * test set 내의 상품군의 빈도는 어떤가?\n",
    "2. test set과 train set의 차이  \n",
    "    * 상품군 빈도 차이가 있는가? -> 있다면 이걸 어떻게 처리할까\n",
    "    * 판매상품이 상이한가(마더코드, 상품코드) -> 상이하다면 어떤 상품군에서 뭐가 몇 개 다른지\n",
    "    * trian과 test의 기간 상이\n",
    "        * 코로나 -> 어떻게 해결할 것인가?\n",
    "        * 1년 vs 한달 -> 어떻게 해결할 것인가?\n",
    "3. 각 상품군별 경향 확인\n",
    "     * 각 상품군의 경향에 차이가 있는가?\n",
    "         * 있다면 이들에 대해 각각 다른 모델링 필요하지 않을까? \n",
    "         * 다른 모델링이 가능하다면 모델링하기에 빈도가 너무 적은 상품군에 대해서는 어떻게 처리할 것인가?\n",
    "     * outlier가 있는가?\n",
    "         * 이 outlier들은 어떤 특성을 가지고 있는가? 어떤 변수에 의해 튀는 값이 되는 것인지 살펴보기"
   ]
  },
  {
   "cell_type": "markdown",
   "metadata": {},
   "source": [
    "## 4. Feature Engineering"
   ]
  },
  {
   "cell_type": "markdown",
   "metadata": {},
   "source": [
    "3번의 문제들을 어떻게 해결했는지 설명"
   ]
  },
  {
   "cell_type": "markdown",
   "metadata": {},
   "source": [
    "## 5. Modeling"
   ]
  },
  {
   "cell_type": "markdown",
   "metadata": {},
   "source": [
    "1. 여러 가지 시도들 중 의미있었던 것들만 뽑아, 최종 모델 포함해 2~3개 보여주기\n",
    "2. 최종 모델에 도달하기 전 모델들 설명\n",
    "    * 그 모델을 사용한 이유(ex. tree-base model: 정형 데이터 예측에서 성능 좋다, 변수 중요도 해석이 가능하다 등)\n",
    "    * 그 모델이 최종 모델에 도달하는 과정에서 시사한 점\n",
    "        * **y_test와 y_pred 비교해 무엇이 MAPE를 높였고 낮췄는지를 살펴보기, 이를 적극 반영 -> 이 과정에서 overfitting 어떻게 막을지 생각해보기**\n",
    "        * **classification의 결과를 참고해 threshold 주기 등**\n",
    "3. 최종 모델 설명"
   ]
  },
  {
   "cell_type": "markdown",
   "metadata": {},
   "source": [
    "## 6. 사후분석 및 시사점"
   ]
  },
  {
   "cell_type": "markdown",
   "metadata": {},
   "source": [
    "**LIME**모델 적극 활용  \n",
    "어떤 예측 모델에 대해 그 모델이 왜 그렇게 예측했는지 설명해주는 모델  \n",
    "* LIME의 결과를 이용해 시사점 및 분석 의의 도출"
   ]
  },
  {
   "cell_type": "code",
   "execution_count": null,
   "metadata": {},
   "outputs": [],
   "source": []
  }
 ],
 "metadata": {
  "kernelspec": {
   "display_name": "Python 3",
   "language": "python",
   "name": "python3"
  },
  "language_info": {
   "codemirror_mode": {
    "name": "ipython",
    "version": 3
   },
   "file_extension": ".py",
   "mimetype": "text/x-python",
   "name": "python",
   "nbconvert_exporter": "python",
   "pygments_lexer": "ipython3",
   "version": "3.7.4"
  }
 },
 "nbformat": 4,
 "nbformat_minor": 2
}
